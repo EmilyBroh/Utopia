{
 "cells": [
  {
   "cell_type": "code",
   "execution_count": 1,
   "id": "0deba4d7-638f-4ea8-8a61-79b3933457df",
   "metadata": {},
   "outputs": [],
   "source": [
    "import pandas as pd\n",
    "import numpy as np\n",
    "import country_converter as coco"
   ]
  },
  {
   "cell_type": "code",
   "execution_count": 2,
   "id": "1c1453c1-a123-4de5-8720-b8e86d21a305",
   "metadata": {},
   "outputs": [],
   "source": [
    "# Pol is avg from 2015 through 2019"
   ]
  },
  {
   "cell_type": "code",
   "execution_count": 153,
   "id": "8713071e-e5c2-4a6a-acd2-c1f22c800ffc",
   "metadata": {},
   "outputs": [],
   "source": [
    "san = pd.read_csv(r\"C:\\Users\\eabro\\Documents\\NSS\\Python\\Projects\\Utopia\\EmilyBroh_Capstone\\emilybroh_capstone\\data\\Category_A\\Basic_san20172022.csv\")\n",
    "water = pd.read_csv(r\"C:\\Users\\eabro\\Documents\\NSS\\Python\\Projects\\Utopia\\EmilyBroh_Capstone\\emilybroh_capstone\\data\\Category_A\\Basicwater_20162022.csv\")\n",
    "cal = pd.read_csv(r\"C:\\Users\\eabro\\Documents\\NSS\\Python\\Projects\\Utopia\\EmilyBroh_Capstone\\emilybroh_capstone\\data\\Category_A\\Calorie_20192023.csv\")\n",
    "life = pd.read_csv(r\"C:\\Users\\eabro\\Documents\\NSS\\Python\\Projects\\Utopia\\EmilyBroh_Capstone\\emilybroh_capstone\\data\\Category_A\\LifeExpect_2018.csv\")\n",
    "pol = pd.read_csv(r\"C:\\Users\\eabro\\Documents\\NSS\\Python\\Projects\\Utopia\\EmilyBroh_Capstone\\emilybroh_capstone\\data\\Category_A\\Pollution_20152019.csv\")"
   ]
  },
  {
   "cell_type": "code",
   "execution_count": 155,
   "id": "924e6da0-7a1f-4696-b933-3cf051ce5704",
   "metadata": {},
   "outputs": [],
   "source": [
    "sw = pd.merge(san, water, on = 'country_c', how = 'inner')"
   ]
  },
  {
   "cell_type": "code",
   "execution_count": 157,
   "id": "b2abcb75-705a-4b12-85a6-f95ca09c3afb",
   "metadata": {},
   "outputs": [
    {
     "data": {
      "text/html": [
       "<div>\n",
       "<style scoped>\n",
       "    .dataframe tbody tr th:only-of-type {\n",
       "        vertical-align: middle;\n",
       "    }\n",
       "\n",
       "    .dataframe tbody tr th {\n",
       "        vertical-align: top;\n",
       "    }\n",
       "\n",
       "    .dataframe thead th {\n",
       "        text-align: right;\n",
       "    }\n",
       "</style>\n",
       "<table border=\"1\" class=\"dataframe\">\n",
       "  <thead>\n",
       "    <tr style=\"text-align: right;\">\n",
       "      <th></th>\n",
       "      <th>country</th>\n",
       "      <th>year</th>\n",
       "      <th>calorie</th>\n",
       "      <th>norm_calorie</th>\n",
       "      <th>calorie_log32_n</th>\n",
       "    </tr>\n",
       "  </thead>\n",
       "  <tbody>\n",
       "    <tr>\n",
       "      <th>0</th>\n",
       "      <td>Albania</td>\n",
       "      <td>2021</td>\n",
       "      <td>3.4</td>\n",
       "      <td>0.956853</td>\n",
       "      <td>30.619289</td>\n",
       "    </tr>\n",
       "    <tr>\n",
       "      <th>1</th>\n",
       "      <td>Algeria</td>\n",
       "      <td>2021</td>\n",
       "      <td>0.7</td>\n",
       "      <td>0.991117</td>\n",
       "      <td>31.715736</td>\n",
       "    </tr>\n",
       "    <tr>\n",
       "      <th>2</th>\n",
       "      <td>Angola</td>\n",
       "      <td>2021</td>\n",
       "      <td>59.1</td>\n",
       "      <td>0.250000</td>\n",
       "      <td>8.000000</td>\n",
       "    </tr>\n",
       "    <tr>\n",
       "      <th>3</th>\n",
       "      <td>Armenia</td>\n",
       "      <td>2021</td>\n",
       "      <td>20.4</td>\n",
       "      <td>0.741117</td>\n",
       "      <td>23.715736</td>\n",
       "    </tr>\n",
       "    <tr>\n",
       "      <th>4</th>\n",
       "      <td>Australia</td>\n",
       "      <td>2021</td>\n",
       "      <td>2.5</td>\n",
       "      <td>0.968274</td>\n",
       "      <td>30.984772</td>\n",
       "    </tr>\n",
       "    <tr>\n",
       "      <th>...</th>\n",
       "      <td>...</td>\n",
       "      <td>...</td>\n",
       "      <td>...</td>\n",
       "      <td>...</td>\n",
       "      <td>...</td>\n",
       "    </tr>\n",
       "    <tr>\n",
       "      <th>140</th>\n",
       "      <td>United States</td>\n",
       "      <td>2021</td>\n",
       "      <td>2.2</td>\n",
       "      <td>0.972081</td>\n",
       "      <td>31.106599</td>\n",
       "    </tr>\n",
       "    <tr>\n",
       "      <th>141</th>\n",
       "      <td>Uruguay</td>\n",
       "      <td>2021</td>\n",
       "      <td>30.7</td>\n",
       "      <td>0.610406</td>\n",
       "      <td>19.532995</td>\n",
       "    </tr>\n",
       "    <tr>\n",
       "      <th>142</th>\n",
       "      <td>Uzbekistan</td>\n",
       "      <td>2021</td>\n",
       "      <td>5.6</td>\n",
       "      <td>0.928934</td>\n",
       "      <td>29.725888</td>\n",
       "    </tr>\n",
       "    <tr>\n",
       "      <th>143</th>\n",
       "      <td>Vietnam</td>\n",
       "      <td>2021</td>\n",
       "      <td>1.9</td>\n",
       "      <td>0.975888</td>\n",
       "      <td>31.228426</td>\n",
       "    </tr>\n",
       "    <tr>\n",
       "      <th>144</th>\n",
       "      <td>Zambia</td>\n",
       "      <td>2021</td>\n",
       "      <td>66.3</td>\n",
       "      <td>0.158629</td>\n",
       "      <td>5.076142</td>\n",
       "    </tr>\n",
       "  </tbody>\n",
       "</table>\n",
       "<p>145 rows × 5 columns</p>\n",
       "</div>"
      ],
      "text/plain": [
       "           country  year  calorie  norm_calorie  calorie_log32_n\n",
       "0          Albania  2021      3.4      0.956853        30.619289\n",
       "1          Algeria  2021      0.7      0.991117        31.715736\n",
       "2           Angola  2021     59.1      0.250000         8.000000\n",
       "3          Armenia  2021     20.4      0.741117        23.715736\n",
       "4        Australia  2021      2.5      0.968274        30.984772\n",
       "..             ...   ...      ...           ...              ...\n",
       "140  United States  2021      2.2      0.972081        31.106599\n",
       "141        Uruguay  2021     30.7      0.610406        19.532995\n",
       "142     Uzbekistan  2021      5.6      0.928934        29.725888\n",
       "143        Vietnam  2021      1.9      0.975888        31.228426\n",
       "144         Zambia  2021     66.3      0.158629         5.076142\n",
       "\n",
       "[145 rows x 5 columns]"
      ]
     },
     "execution_count": 157,
     "metadata": {},
     "output_type": "execute_result"
    }
   ],
   "source": [
    "cal"
   ]
  },
  {
   "cell_type": "code",
   "execution_count": 159,
   "id": "1f13e976-59f4-4eda-9bcb-5122f3977fa2",
   "metadata": {},
   "outputs": [],
   "source": [
    "swc = pd.merge(sw, cal, left_on = 'country_c', right_on = 'country', how = 'inner')"
   ]
  },
  {
   "cell_type": "code",
   "execution_count": 161,
   "id": "55d2c043-3dee-4f96-9a42-762fc818226e",
   "metadata": {},
   "outputs": [],
   "source": [
    "swc =  swc[['country_c','safe', 'basic_notshared', 'limited_shared',\n",
    "       'unimproved', 'open_def', 'atleast_basicsan',\n",
    "       'norm_basicsan', 'basicsan_log32_n', 'basicw',\n",
    "       'norm_water', 'water_log32_n', 'calorie',\n",
    "       'norm_calorie', 'calorie_log32_n']]"
   ]
  },
  {
   "cell_type": "code",
   "execution_count": 163,
   "id": "ef8145f3-8a6f-4db9-a9db-d81ede5f270e",
   "metadata": {},
   "outputs": [],
   "source": [
    "swcl = pd.merge(swc, life, on = 'country_c', how = 'inner')\n",
    "swclp = pd.merge(swcl, pol, on = 'country', how = 'inner')"
   ]
  },
  {
   "cell_type": "code",
   "execution_count": 165,
   "id": "9efe36d9-2ba0-4739-91f6-3a361a3c8669",
   "metadata": {},
   "outputs": [
    {
     "data": {
      "text/plain": [
       "(137, 28)"
      ]
     },
     "execution_count": 165,
     "metadata": {},
     "output_type": "execute_result"
    }
   ],
   "source": [
    "swclp.shape"
   ]
  },
  {
   "cell_type": "code",
   "execution_count": 167,
   "id": "536e00bd-c045-4fc9-9e07-64a629c0a6f6",
   "metadata": {},
   "outputs": [
    {
     "data": {
      "text/plain": [
       "Index(['country_c', 'safe', 'basic_notshared', 'limited_shared', 'unimproved',\n",
       "       'open_def', 'atleast_basicsan', 'norm_basicsan', 'basicsan_log32_n',\n",
       "       'basicw', 'norm_water', 'water_log32_n', 'calorie', 'norm_calorie',\n",
       "       'calorie_log32_n', 'country', 'year_x', 'avg_life', 'median_life',\n",
       "       'avg_med_life', 'norm_life_expect', 'norm_with_pts', 'norm_pts_log5',\n",
       "       'lifeexpect_log32_n', 'year_y', 'pm25', 'norm_pol2', 'pol_log32_n'],\n",
       "      dtype='object')"
      ]
     },
     "execution_count": 167,
     "metadata": {},
     "output_type": "execute_result"
    }
   ],
   "source": [
    "swclp.columns"
   ]
  },
  {
   "cell_type": "code",
   "execution_count": 193,
   "id": "2dda987d-4f16-4dae-b17b-ff9cebdcf5bf",
   "metadata": {},
   "outputs": [],
   "source": [
    "swclp['norm_basicsan'] = (swclp['atleast_basicsan']  -swclp['atleast_basicsan'].min()) / (swclp['atleast_basicsan'].max() - swclp['atleast_basicsan'].min())"
   ]
  },
  {
   "cell_type": "code",
   "execution_count": 195,
   "id": "492e5c26-e3a1-411c-8b64-35a47458fba7",
   "metadata": {},
   "outputs": [],
   "source": [
    "swclp['norm_water'] = (swclp['basicw']  -swclp['basicw'].min()) / (swclp['basicw'].max() - swclp['basicw'].min())"
   ]
  },
  {
   "cell_type": "code",
   "execution_count": 197,
   "id": "73b56a50-3f04-4fbf-9833-8fd70d8836c4",
   "metadata": {},
   "outputs": [],
   "source": [
    "swclp['norm_calorie'] = 1 - (swclp['calorie']  -swclp['calorie'].min()) / (swclp['calorie'].max() - swclp['calorie'].min())"
   ]
  },
  {
   "cell_type": "code",
   "execution_count": 199,
   "id": "42dc5df3-02c6-43f3-b833-79551c7515c3",
   "metadata": {},
   "outputs": [],
   "source": [
    "swclp['norm_life_expect'] = (swclp['avg_life']  -swclp['avg_life'].min()) / (swclp['avg_life'].max() - swclp['avg_life'].min())"
   ]
  },
  {
   "cell_type": "code",
   "execution_count": 201,
   "id": "13186de1-de0e-41f2-a182-3b2145e58803",
   "metadata": {
    "scrolled": true
   },
   "outputs": [],
   "source": [
    "swclp['norm_pol2'] = 1 - (swclp['pm25']  -swclp['pm25'].min()) / (swclp['pm25'].max() - swclp['pm25'].min())"
   ]
  },
  {
   "cell_type": "code",
   "execution_count": 203,
   "id": "22978bc5-cbce-46ea-bb5c-42b413d3114e",
   "metadata": {},
   "outputs": [],
   "source": [
    "swclp['lifeexpect_log32_n'] = swclp['norm_life_expect'] * 32\n",
    "swclp['pol_log32_n'] =  swclp['norm_pol2'] * 32\n",
    "swclp['calorie_log32_n'] =  swclp['norm_calorie'] * 32\n",
    "swclp['water_log32_n'] =  swclp['norm_water'] * 32\n",
    "swclp['basicsan_log32_n'] =  swclp['norm_basicsan'] * 32"
   ]
  },
  {
   "cell_type": "code",
   "execution_count": 205,
   "id": "0db44260-bb05-4dcc-b2a1-6f768dacda92",
   "metadata": {},
   "outputs": [],
   "source": [
    "swclp['cat_a_pts'] = swclp['basicsan_log32_n'] + swclp['water_log32_n'] + swclp['calorie_log32_n'] + swclp['lifeexpect_log32_n'] + swclp['pol_log32_n']"
   ]
  },
  {
   "cell_type": "code",
   "execution_count": 207,
   "id": "1faf71a5-a3d7-4d25-bcac-f84afa127c40",
   "metadata": {},
   "outputs": [],
   "source": [
    "swclp = swclp.sort_values('cat_a_pts', ascending = False)"
   ]
  },
  {
   "cell_type": "code",
   "execution_count": 211,
   "id": "60fe16e2-9bd8-4a74-9715-16fe68e177a3",
   "metadata": {},
   "outputs": [],
   "source": [
    "swclp.to_csv('Cat_A_newnorms_0420.csv', index=False, header=True)"
   ]
  },
  {
   "cell_type": "code",
   "execution_count": 215,
   "id": "10a2aec8-6b59-4b34-9834-c8d6dd7d2ce7",
   "metadata": {},
   "outputs": [],
   "source": [
    "swclp['rank'] = swclp['cat_a_pts'].rank(method='min', ascending=False).astype(int)"
   ]
  },
  {
   "cell_type": "code",
   "execution_count": 219,
   "id": "dd51beda-a9d1-411d-b20a-82acf8848d36",
   "metadata": {},
   "outputs": [],
   "source": [
    "swclp.to_csv('Cat_A_newnorms_0420.csv', index=False, header=True)"
   ]
  },
  {
   "cell_type": "code",
   "execution_count": 29,
   "id": "a74007ba-5056-447b-b5bc-eebb9777d267",
   "metadata": {},
   "outputs": [],
   "source": [
    "cal['country_c'] = coco.convert(names= cal['country'], to='name_short', not_found=None)"
   ]
  },
  {
   "cell_type": "code",
   "execution_count": 31,
   "id": "af1e5a82-c54b-41d4-adc2-27d8852dc804",
   "metadata": {},
   "outputs": [],
   "source": [
    "pl = pd.merge(pol, life, on = 'country_c', how = 'outer')\n",
    "pl = pl[['country_c', 'pm25', 'pol_log32_n', 'avg_life', 'lifeexpect_log32_n']]"
   ]
  },
  {
   "cell_type": "code",
   "execution_count": 33,
   "id": "327d85bf-d58e-4389-9373-ece1cae7de2c",
   "metadata": {},
   "outputs": [],
   "source": [
    "pls = pd.merge(pl, san , on = 'country_c', how = 'outer')"
   ]
  },
  {
   "cell_type": "code",
   "execution_count": 35,
   "id": "0c910c76-0966-4d49-af1b-0788dd1fce02",
   "metadata": {},
   "outputs": [],
   "source": [
    "plsw = pd.merge(pls, water , on = 'country_c', how = 'outer')"
   ]
  },
  {
   "cell_type": "code",
   "execution_count": 39,
   "id": "015e0de8-f294-4189-b3e4-6c9aed467fcc",
   "metadata": {},
   "outputs": [
    {
     "data": {
      "text/html": [
       "<div>\n",
       "<style scoped>\n",
       "    .dataframe tbody tr th:only-of-type {\n",
       "        vertical-align: middle;\n",
       "    }\n",
       "\n",
       "    .dataframe tbody tr th {\n",
       "        vertical-align: top;\n",
       "    }\n",
       "\n",
       "    .dataframe thead th {\n",
       "        text-align: right;\n",
       "    }\n",
       "</style>\n",
       "<table border=\"1\" class=\"dataframe\">\n",
       "  <thead>\n",
       "    <tr style=\"text-align: right;\">\n",
       "      <th></th>\n",
       "      <th>country_c</th>\n",
       "      <th>pm25</th>\n",
       "      <th>pol_log32_n</th>\n",
       "      <th>avg_life</th>\n",
       "      <th>lifeexpect_log32_n</th>\n",
       "      <th>country_x</th>\n",
       "      <th>year_x</th>\n",
       "      <th>safe</th>\n",
       "      <th>basic_notshared</th>\n",
       "      <th>limited_shared</th>\n",
       "      <th>unimproved</th>\n",
       "      <th>open_def</th>\n",
       "      <th>atleast_basicsan</th>\n",
       "      <th>norm_basicsan</th>\n",
       "      <th>basicsan_log32_n</th>\n",
       "      <th>country_y</th>\n",
       "      <th>year_y</th>\n",
       "      <th>basicw</th>\n",
       "      <th>norm_water</th>\n",
       "      <th>water_log32_n</th>\n",
       "    </tr>\n",
       "  </thead>\n",
       "  <tbody>\n",
       "    <tr>\n",
       "      <th>0</th>\n",
       "      <td>Afghanistan</td>\n",
       "      <td>65.144432</td>\n",
       "      <td>0.061231</td>\n",
       "      <td>62.79</td>\n",
       "      <td>14.235152</td>\n",
       "      <td>Afghanistan</td>\n",
       "      <td>2019.5</td>\n",
       "      <td>0.000000</td>\n",
       "      <td>0.000000</td>\n",
       "      <td>11.184420</td>\n",
       "      <td>2.639416e+01</td>\n",
       "      <td>10.652288</td>\n",
       "      <td>11.184420</td>\n",
       "      <td>0.111844</td>\n",
       "      <td>3.579014</td>\n",
       "      <td>Afghanistan</td>\n",
       "      <td>2019.0</td>\n",
       "      <td>73.776618</td>\n",
       "      <td>0.592423</td>\n",
       "      <td>18.957539</td>\n",
       "    </tr>\n",
       "    <tr>\n",
       "      <th>1</th>\n",
       "      <td>Albania</td>\n",
       "      <td>18.435358</td>\n",
       "      <td>25.072694</td>\n",
       "      <td>78.52</td>\n",
       "      <td>26.437818</td>\n",
       "      <td>Albania</td>\n",
       "      <td>2019.5</td>\n",
       "      <td>51.378289</td>\n",
       "      <td>47.721896</td>\n",
       "      <td>0.661423</td>\n",
       "      <td>2.233335e-01</td>\n",
       "      <td>0.015060</td>\n",
       "      <td>99.761608</td>\n",
       "      <td>0.997616</td>\n",
       "      <td>31.923714</td>\n",
       "      <td>Albania</td>\n",
       "      <td>2019.0</td>\n",
       "      <td>94.613673</td>\n",
       "      <td>0.916283</td>\n",
       "      <td>29.321056</td>\n",
       "    </tr>\n",
       "    <tr>\n",
       "      <th>2</th>\n",
       "      <td>Algeria</td>\n",
       "      <td>22.858182</td>\n",
       "      <td>22.704390</td>\n",
       "      <td>75.25</td>\n",
       "      <td>23.901091</td>\n",
       "      <td>Algeria</td>\n",
       "      <td>2019.5</td>\n",
       "      <td>62.406718</td>\n",
       "      <td>23.672696</td>\n",
       "      <td>10.297261</td>\n",
       "      <td>3.414088e+00</td>\n",
       "      <td>0.209238</td>\n",
       "      <td>96.376675</td>\n",
       "      <td>0.963767</td>\n",
       "      <td>30.840535</td>\n",
       "      <td>Algeria</td>\n",
       "      <td>2019.0</td>\n",
       "      <td>94.208876</td>\n",
       "      <td>0.909991</td>\n",
       "      <td>29.119727</td>\n",
       "    </tr>\n",
       "    <tr>\n",
       "      <th>3</th>\n",
       "      <td>American Samoa</td>\n",
       "      <td>NaN</td>\n",
       "      <td>NaN</td>\n",
       "      <td>72.73</td>\n",
       "      <td>21.946182</td>\n",
       "      <td>American Samoa</td>\n",
       "      <td>2019.5</td>\n",
       "      <td>37.009776</td>\n",
       "      <td>17.152774</td>\n",
       "      <td>44.336295</td>\n",
       "      <td>8.461956e-01</td>\n",
       "      <td>0.785951</td>\n",
       "      <td>98.498846</td>\n",
       "      <td>0.984988</td>\n",
       "      <td>31.519630</td>\n",
       "      <td>American Samoa</td>\n",
       "      <td>2018.5</td>\n",
       "      <td>99.202472</td>\n",
       "      <td>0.987604</td>\n",
       "      <td>31.603341</td>\n",
       "    </tr>\n",
       "    <tr>\n",
       "      <th>4</th>\n",
       "      <td>Andorra</td>\n",
       "      <td>9.209896</td>\n",
       "      <td>30.012683</td>\n",
       "      <td>83.67</td>\n",
       "      <td>30.432970</td>\n",
       "      <td>Andorra</td>\n",
       "      <td>2019.5</td>\n",
       "      <td>99.999998</td>\n",
       "      <td>0.000000</td>\n",
       "      <td>0.000000</td>\n",
       "      <td>1.518333e-06</td>\n",
       "      <td>0.000000</td>\n",
       "      <td>99.999998</td>\n",
       "      <td>1.000000</td>\n",
       "      <td>31.999999</td>\n",
       "      <td>Andorra</td>\n",
       "      <td>2019.0</td>\n",
       "      <td>99.999997</td>\n",
       "      <td>1.000000</td>\n",
       "      <td>31.999999</td>\n",
       "    </tr>\n",
       "    <tr>\n",
       "      <th>...</th>\n",
       "      <td>...</td>\n",
       "      <td>...</td>\n",
       "      <td>...</td>\n",
       "      <td>...</td>\n",
       "      <td>...</td>\n",
       "      <td>...</td>\n",
       "      <td>...</td>\n",
       "      <td>...</td>\n",
       "      <td>...</td>\n",
       "      <td>...</td>\n",
       "      <td>...</td>\n",
       "      <td>...</td>\n",
       "      <td>...</td>\n",
       "      <td>...</td>\n",
       "      <td>...</td>\n",
       "      <td>...</td>\n",
       "      <td>...</td>\n",
       "      <td>...</td>\n",
       "      <td>...</td>\n",
       "      <td>...</td>\n",
       "    </tr>\n",
       "    <tr>\n",
       "      <th>233</th>\n",
       "      <td>Wallis and Futuna Islands</td>\n",
       "      <td>NaN</td>\n",
       "      <td>NaN</td>\n",
       "      <td>77.78</td>\n",
       "      <td>25.863758</td>\n",
       "      <td>Wallis and Futuna</td>\n",
       "      <td>2019.5</td>\n",
       "      <td>0.000000</td>\n",
       "      <td>0.000000</td>\n",
       "      <td>0.000000</td>\n",
       "      <td>4.260000e-14</td>\n",
       "      <td>5.761823</td>\n",
       "      <td>0.000000</td>\n",
       "      <td>0.000000</td>\n",
       "      <td>0.000000</td>\n",
       "      <td>Wallis and Futuna</td>\n",
       "      <td>2019.0</td>\n",
       "      <td>99.297940</td>\n",
       "      <td>0.989088</td>\n",
       "      <td>31.650823</td>\n",
       "    </tr>\n",
       "    <tr>\n",
       "      <th>234</th>\n",
       "      <td>Western Sahara</td>\n",
       "      <td>NaN</td>\n",
       "      <td>NaN</td>\n",
       "      <td>70.08</td>\n",
       "      <td>19.890424</td>\n",
       "      <td>NaN</td>\n",
       "      <td>NaN</td>\n",
       "      <td>NaN</td>\n",
       "      <td>NaN</td>\n",
       "      <td>NaN</td>\n",
       "      <td>NaN</td>\n",
       "      <td>NaN</td>\n",
       "      <td>NaN</td>\n",
       "      <td>NaN</td>\n",
       "      <td>NaN</td>\n",
       "      <td>NaN</td>\n",
       "      <td>NaN</td>\n",
       "      <td>NaN</td>\n",
       "      <td>NaN</td>\n",
       "      <td>NaN</td>\n",
       "    </tr>\n",
       "    <tr>\n",
       "      <th>235</th>\n",
       "      <td>Yemen</td>\n",
       "      <td>41.104182</td>\n",
       "      <td>12.934144</td>\n",
       "      <td>67.19</td>\n",
       "      <td>17.648485</td>\n",
       "      <td>Yemen</td>\n",
       "      <td>2019.5</td>\n",
       "      <td>18.662888</td>\n",
       "      <td>35.158506</td>\n",
       "      <td>4.948552</td>\n",
       "      <td>3.076384e+01</td>\n",
       "      <td>10.466216</td>\n",
       "      <td>58.769946</td>\n",
       "      <td>0.587699</td>\n",
       "      <td>18.806382</td>\n",
       "      <td>Yemen</td>\n",
       "      <td>2019.0</td>\n",
       "      <td>59.578758</td>\n",
       "      <td>0.371753</td>\n",
       "      <td>11.896093</td>\n",
       "    </tr>\n",
       "    <tr>\n",
       "      <th>236</th>\n",
       "      <td>Zambia</td>\n",
       "      <td>17.124224</td>\n",
       "      <td>25.774771</td>\n",
       "      <td>62.31</td>\n",
       "      <td>13.862788</td>\n",
       "      <td>Zambia</td>\n",
       "      <td>2019.5</td>\n",
       "      <td>0.000000</td>\n",
       "      <td>0.000000</td>\n",
       "      <td>20.755097</td>\n",
       "      <td>3.624519e+01</td>\n",
       "      <td>7.519732</td>\n",
       "      <td>20.755097</td>\n",
       "      <td>0.207551</td>\n",
       "      <td>6.641631</td>\n",
       "      <td>Zambia</td>\n",
       "      <td>2019.0</td>\n",
       "      <td>66.516028</td>\n",
       "      <td>0.479575</td>\n",
       "      <td>15.346413</td>\n",
       "    </tr>\n",
       "    <tr>\n",
       "      <th>237</th>\n",
       "      <td>Zimbabwe</td>\n",
       "      <td>13.140362</td>\n",
       "      <td>27.908023</td>\n",
       "      <td>60.25</td>\n",
       "      <td>12.264727</td>\n",
       "      <td>Zimbabwe</td>\n",
       "      <td>2019.5</td>\n",
       "      <td>32.680408</td>\n",
       "      <td>2.901816</td>\n",
       "      <td>29.788788</td>\n",
       "      <td>1.611837e+01</td>\n",
       "      <td>18.510614</td>\n",
       "      <td>65.371011</td>\n",
       "      <td>0.653710</td>\n",
       "      <td>20.918723</td>\n",
       "      <td>Zimbabwe</td>\n",
       "      <td>2019.0</td>\n",
       "      <td>63.187546</td>\n",
       "      <td>0.427842</td>\n",
       "      <td>13.690959</td>\n",
       "    </tr>\n",
       "  </tbody>\n",
       "</table>\n",
       "<p>238 rows × 20 columns</p>\n",
       "</div>"
      ],
      "text/plain": [
       "                     country_c       pm25  pol_log32_n  avg_life  \\\n",
       "0                  Afghanistan  65.144432     0.061231     62.79   \n",
       "1                      Albania  18.435358    25.072694     78.52   \n",
       "2                      Algeria  22.858182    22.704390     75.25   \n",
       "3               American Samoa        NaN          NaN     72.73   \n",
       "4                      Andorra   9.209896    30.012683     83.67   \n",
       "..                         ...        ...          ...       ...   \n",
       "233  Wallis and Futuna Islands        NaN          NaN     77.78   \n",
       "234             Western Sahara        NaN          NaN     70.08   \n",
       "235                      Yemen  41.104182    12.934144     67.19   \n",
       "236                     Zambia  17.124224    25.774771     62.31   \n",
       "237                   Zimbabwe  13.140362    27.908023     60.25   \n",
       "\n",
       "     lifeexpect_log32_n          country_x  year_x       safe  \\\n",
       "0             14.235152        Afghanistan  2019.5   0.000000   \n",
       "1             26.437818            Albania  2019.5  51.378289   \n",
       "2             23.901091            Algeria  2019.5  62.406718   \n",
       "3             21.946182     American Samoa  2019.5  37.009776   \n",
       "4             30.432970            Andorra  2019.5  99.999998   \n",
       "..                  ...                ...     ...        ...   \n",
       "233           25.863758  Wallis and Futuna  2019.5   0.000000   \n",
       "234           19.890424                NaN     NaN        NaN   \n",
       "235           17.648485              Yemen  2019.5  18.662888   \n",
       "236           13.862788             Zambia  2019.5   0.000000   \n",
       "237           12.264727           Zimbabwe  2019.5  32.680408   \n",
       "\n",
       "     basic_notshared  limited_shared    unimproved   open_def  \\\n",
       "0           0.000000       11.184420  2.639416e+01  10.652288   \n",
       "1          47.721896        0.661423  2.233335e-01   0.015060   \n",
       "2          23.672696       10.297261  3.414088e+00   0.209238   \n",
       "3          17.152774       44.336295  8.461956e-01   0.785951   \n",
       "4           0.000000        0.000000  1.518333e-06   0.000000   \n",
       "..               ...             ...           ...        ...   \n",
       "233         0.000000        0.000000  4.260000e-14   5.761823   \n",
       "234              NaN             NaN           NaN        NaN   \n",
       "235        35.158506        4.948552  3.076384e+01  10.466216   \n",
       "236         0.000000       20.755097  3.624519e+01   7.519732   \n",
       "237         2.901816       29.788788  1.611837e+01  18.510614   \n",
       "\n",
       "     atleast_basicsan  norm_basicsan  basicsan_log32_n          country_y  \\\n",
       "0           11.184420       0.111844          3.579014        Afghanistan   \n",
       "1           99.761608       0.997616         31.923714            Albania   \n",
       "2           96.376675       0.963767         30.840535            Algeria   \n",
       "3           98.498846       0.984988         31.519630     American Samoa   \n",
       "4           99.999998       1.000000         31.999999            Andorra   \n",
       "..                ...            ...               ...                ...   \n",
       "233          0.000000       0.000000          0.000000  Wallis and Futuna   \n",
       "234               NaN            NaN               NaN                NaN   \n",
       "235         58.769946       0.587699         18.806382              Yemen   \n",
       "236         20.755097       0.207551          6.641631             Zambia   \n",
       "237         65.371011       0.653710         20.918723           Zimbabwe   \n",
       "\n",
       "     year_y     basicw  norm_water  water_log32_n  \n",
       "0    2019.0  73.776618    0.592423      18.957539  \n",
       "1    2019.0  94.613673    0.916283      29.321056  \n",
       "2    2019.0  94.208876    0.909991      29.119727  \n",
       "3    2018.5  99.202472    0.987604      31.603341  \n",
       "4    2019.0  99.999997    1.000000      31.999999  \n",
       "..      ...        ...         ...            ...  \n",
       "233  2019.0  99.297940    0.989088      31.650823  \n",
       "234     NaN        NaN         NaN            NaN  \n",
       "235  2019.0  59.578758    0.371753      11.896093  \n",
       "236  2019.0  66.516028    0.479575      15.346413  \n",
       "237  2019.0  63.187546    0.427842      13.690959  \n",
       "\n",
       "[238 rows x 20 columns]"
      ]
     },
     "execution_count": 39,
     "metadata": {},
     "output_type": "execute_result"
    }
   ],
   "source": [
    "plsw"
   ]
  },
  {
   "cell_type": "code",
   "execution_count": 37,
   "id": "ee16010f-8dbc-41c6-ad4b-f50c92058d00",
   "metadata": {
    "collapsed": true,
    "jupyter": {
     "outputs_hidden": true
    },
    "scrolled": true
   },
   "outputs": [
    {
     "ename": "KeyError",
     "evalue": "\"['sanitation_value', 'santitation_log32_n', 'water_pct'] not in index\"",
     "output_type": "error",
     "traceback": [
      "\u001b[1;31m---------------------------------------------------------------------------\u001b[0m",
      "\u001b[1;31mKeyError\u001b[0m                                  Traceback (most recent call last)",
      "Cell \u001b[1;32mIn[37], line 1\u001b[0m\n\u001b[1;32m----> 1\u001b[0m plsw \u001b[38;5;241m=\u001b[39m plsw[[\u001b[38;5;124m'\u001b[39m\u001b[38;5;124mcountry_c\u001b[39m\u001b[38;5;124m'\u001b[39m, \u001b[38;5;124m'\u001b[39m\u001b[38;5;124mpm25\u001b[39m\u001b[38;5;124m'\u001b[39m, \u001b[38;5;124m'\u001b[39m\u001b[38;5;124mpol_log32_n\u001b[39m\u001b[38;5;124m'\u001b[39m, \u001b[38;5;124m'\u001b[39m\u001b[38;5;124mavg_life\u001b[39m\u001b[38;5;124m'\u001b[39m, \u001b[38;5;124m'\u001b[39m\u001b[38;5;124mlifeexpect_log32_n\u001b[39m\u001b[38;5;124m'\u001b[39m, \u001b[38;5;124m'\u001b[39m\u001b[38;5;124msanitation_value\u001b[39m\u001b[38;5;124m'\u001b[39m, \u001b[38;5;124m'\u001b[39m\u001b[38;5;124msantitation_log32_n\u001b[39m\u001b[38;5;124m'\u001b[39m, \u001b[38;5;124m'\u001b[39m\u001b[38;5;124mwater_pct\u001b[39m\u001b[38;5;124m'\u001b[39m, \u001b[38;5;124m'\u001b[39m\u001b[38;5;124mwater_log32_n\u001b[39m\u001b[38;5;124m'\u001b[39m]]\n",
      "File \u001b[1;32m~\\anaconda3\\Lib\\site-packages\\pandas\\core\\frame.py:4108\u001b[0m, in \u001b[0;36mDataFrame.__getitem__\u001b[1;34m(self, key)\u001b[0m\n\u001b[0;32m   4106\u001b[0m     \u001b[38;5;28;01mif\u001b[39;00m is_iterator(key):\n\u001b[0;32m   4107\u001b[0m         key \u001b[38;5;241m=\u001b[39m \u001b[38;5;28mlist\u001b[39m(key)\n\u001b[1;32m-> 4108\u001b[0m     indexer \u001b[38;5;241m=\u001b[39m \u001b[38;5;28mself\u001b[39m\u001b[38;5;241m.\u001b[39mcolumns\u001b[38;5;241m.\u001b[39m_get_indexer_strict(key, \u001b[38;5;124m\"\u001b[39m\u001b[38;5;124mcolumns\u001b[39m\u001b[38;5;124m\"\u001b[39m)[\u001b[38;5;241m1\u001b[39m]\n\u001b[0;32m   4110\u001b[0m \u001b[38;5;66;03m# take() does not accept boolean indexers\u001b[39;00m\n\u001b[0;32m   4111\u001b[0m \u001b[38;5;28;01mif\u001b[39;00m \u001b[38;5;28mgetattr\u001b[39m(indexer, \u001b[38;5;124m\"\u001b[39m\u001b[38;5;124mdtype\u001b[39m\u001b[38;5;124m\"\u001b[39m, \u001b[38;5;28;01mNone\u001b[39;00m) \u001b[38;5;241m==\u001b[39m \u001b[38;5;28mbool\u001b[39m:\n",
      "File \u001b[1;32m~\\anaconda3\\Lib\\site-packages\\pandas\\core\\indexes\\base.py:6200\u001b[0m, in \u001b[0;36mIndex._get_indexer_strict\u001b[1;34m(self, key, axis_name)\u001b[0m\n\u001b[0;32m   6197\u001b[0m \u001b[38;5;28;01melse\u001b[39;00m:\n\u001b[0;32m   6198\u001b[0m     keyarr, indexer, new_indexer \u001b[38;5;241m=\u001b[39m \u001b[38;5;28mself\u001b[39m\u001b[38;5;241m.\u001b[39m_reindex_non_unique(keyarr)\n\u001b[1;32m-> 6200\u001b[0m \u001b[38;5;28mself\u001b[39m\u001b[38;5;241m.\u001b[39m_raise_if_missing(keyarr, indexer, axis_name)\n\u001b[0;32m   6202\u001b[0m keyarr \u001b[38;5;241m=\u001b[39m \u001b[38;5;28mself\u001b[39m\u001b[38;5;241m.\u001b[39mtake(indexer)\n\u001b[0;32m   6203\u001b[0m \u001b[38;5;28;01mif\u001b[39;00m \u001b[38;5;28misinstance\u001b[39m(key, Index):\n\u001b[0;32m   6204\u001b[0m     \u001b[38;5;66;03m# GH 42790 - Preserve name from an Index\u001b[39;00m\n",
      "File \u001b[1;32m~\\anaconda3\\Lib\\site-packages\\pandas\\core\\indexes\\base.py:6252\u001b[0m, in \u001b[0;36mIndex._raise_if_missing\u001b[1;34m(self, key, indexer, axis_name)\u001b[0m\n\u001b[0;32m   6249\u001b[0m     \u001b[38;5;28;01mraise\u001b[39;00m \u001b[38;5;167;01mKeyError\u001b[39;00m(\u001b[38;5;124mf\u001b[39m\u001b[38;5;124m\"\u001b[39m\u001b[38;5;124mNone of [\u001b[39m\u001b[38;5;132;01m{\u001b[39;00mkey\u001b[38;5;132;01m}\u001b[39;00m\u001b[38;5;124m] are in the [\u001b[39m\u001b[38;5;132;01m{\u001b[39;00maxis_name\u001b[38;5;132;01m}\u001b[39;00m\u001b[38;5;124m]\u001b[39m\u001b[38;5;124m\"\u001b[39m)\n\u001b[0;32m   6251\u001b[0m not_found \u001b[38;5;241m=\u001b[39m \u001b[38;5;28mlist\u001b[39m(ensure_index(key)[missing_mask\u001b[38;5;241m.\u001b[39mnonzero()[\u001b[38;5;241m0\u001b[39m]]\u001b[38;5;241m.\u001b[39munique())\n\u001b[1;32m-> 6252\u001b[0m \u001b[38;5;28;01mraise\u001b[39;00m \u001b[38;5;167;01mKeyError\u001b[39;00m(\u001b[38;5;124mf\u001b[39m\u001b[38;5;124m\"\u001b[39m\u001b[38;5;132;01m{\u001b[39;00mnot_found\u001b[38;5;132;01m}\u001b[39;00m\u001b[38;5;124m not in index\u001b[39m\u001b[38;5;124m\"\u001b[39m)\n",
      "\u001b[1;31mKeyError\u001b[0m: \"['sanitation_value', 'santitation_log32_n', 'water_pct'] not in index\""
     ]
    }
   ],
   "source": [
    "plsw = plsw[['country_c', 'pm25', 'pol_log32_n', 'avg_life', 'lifeexpect_log32_n', 'sanitation_value', 'santitation_log32_n', 'water_pct', 'water_log32_n']]"
   ]
  },
  {
   "cell_type": "code",
   "execution_count": null,
   "id": "954bdaa7-d38b-4515-ae66-4ecad4c09f8e",
   "metadata": {},
   "outputs": [],
   "source": [
    "plsw['cata_pts'] =  plsw['pol_log32_n']  + plsw['lifeexpect_log32_n'] + plsw['santitation_log32_n'] + plsw['water_log32_n']"
   ]
  },
  {
   "cell_type": "code",
   "execution_count": 27,
   "id": "d3f0052c-b832-4d7b-a04d-cb067a726845",
   "metadata": {},
   "outputs": [],
   "source": [
    "plsw.to_csv('Cat_A_0415_choosethisemily.csv', index=False, header=True)"
   ]
  },
  {
   "cell_type": "code",
   "execution_count": 121,
   "id": "f50d286f-d666-4afa-bb53-474896842d6b",
   "metadata": {
    "collapsed": true,
    "jupyter": {
     "outputs_hidden": true
    }
   },
   "outputs": [
    {
     "ename": "KeyError",
     "evalue": "'cata_pts'",
     "output_type": "error",
     "traceback": [
      "\u001b[1;31m---------------------------------------------------------------------------\u001b[0m",
      "\u001b[1;31mKeyError\u001b[0m                                  Traceback (most recent call last)",
      "\u001b[1;32m~\\AppData\\Local\\Temp\\ipykernel_4308\\1150290372.py\u001b[0m in \u001b[0;36m?\u001b[1;34m()\u001b[0m\n\u001b[1;32m----> 1\u001b[1;33m \u001b[0mplsw\u001b[0m \u001b[1;33m=\u001b[0m \u001b[0mplsw\u001b[0m\u001b[1;33m.\u001b[0m\u001b[0msort_values\u001b[0m\u001b[1;33m(\u001b[0m\u001b[1;34m'cata_pts'\u001b[0m\u001b[1;33m,\u001b[0m \u001b[0mascending\u001b[0m \u001b[1;33m=\u001b[0m \u001b[1;32mFalse\u001b[0m\u001b[1;33m)\u001b[0m\u001b[1;33m\u001b[0m\u001b[1;33m\u001b[0m\u001b[0m\n\u001b[0m",
      "\u001b[1;32m~\\anaconda3\\Lib\\site-packages\\pandas\\core\\frame.py\u001b[0m in \u001b[0;36m?\u001b[1;34m(self, by, axis, ascending, inplace, kind, na_position, ignore_index, key)\u001b[0m\n\u001b[0;32m   7185\u001b[0m             \u001b[1;33m)\u001b[0m\u001b[1;33m\u001b[0m\u001b[1;33m\u001b[0m\u001b[0m\n\u001b[0;32m   7186\u001b[0m         \u001b[1;32melif\u001b[0m \u001b[0mlen\u001b[0m\u001b[1;33m(\u001b[0m\u001b[0mby\u001b[0m\u001b[1;33m)\u001b[0m\u001b[1;33m:\u001b[0m\u001b[1;33m\u001b[0m\u001b[1;33m\u001b[0m\u001b[0m\n\u001b[0;32m   7187\u001b[0m             \u001b[1;31m# len(by) == 1\u001b[0m\u001b[1;33m\u001b[0m\u001b[1;33m\u001b[0m\u001b[0m\n\u001b[0;32m   7188\u001b[0m \u001b[1;33m\u001b[0m\u001b[0m\n\u001b[1;32m-> 7189\u001b[1;33m             \u001b[0mk\u001b[0m \u001b[1;33m=\u001b[0m \u001b[0mself\u001b[0m\u001b[1;33m.\u001b[0m\u001b[0m_get_label_or_level_values\u001b[0m\u001b[1;33m(\u001b[0m\u001b[0mby\u001b[0m\u001b[1;33m[\u001b[0m\u001b[1;36m0\u001b[0m\u001b[1;33m]\u001b[0m\u001b[1;33m,\u001b[0m \u001b[0maxis\u001b[0m\u001b[1;33m=\u001b[0m\u001b[0maxis\u001b[0m\u001b[1;33m)\u001b[0m\u001b[1;33m\u001b[0m\u001b[1;33m\u001b[0m\u001b[0m\n\u001b[0m\u001b[0;32m   7190\u001b[0m \u001b[1;33m\u001b[0m\u001b[0m\n\u001b[0;32m   7191\u001b[0m             \u001b[1;31m# need to rewrap column in Series to apply key function\u001b[0m\u001b[1;33m\u001b[0m\u001b[1;33m\u001b[0m\u001b[0m\n\u001b[0;32m   7192\u001b[0m             \u001b[1;32mif\u001b[0m \u001b[0mkey\u001b[0m \u001b[1;32mis\u001b[0m \u001b[1;32mnot\u001b[0m \u001b[1;32mNone\u001b[0m\u001b[1;33m:\u001b[0m\u001b[1;33m\u001b[0m\u001b[1;33m\u001b[0m\u001b[0m\n",
      "\u001b[1;32m~\\anaconda3\\Lib\\site-packages\\pandas\\core\\generic.py\u001b[0m in \u001b[0;36m?\u001b[1;34m(self, key, axis)\u001b[0m\n\u001b[0;32m   1907\u001b[0m             \u001b[0mvalues\u001b[0m \u001b[1;33m=\u001b[0m \u001b[0mself\u001b[0m\u001b[1;33m.\u001b[0m\u001b[0mxs\u001b[0m\u001b[1;33m(\u001b[0m\u001b[0mkey\u001b[0m\u001b[1;33m,\u001b[0m \u001b[0maxis\u001b[0m\u001b[1;33m=\u001b[0m\u001b[0mother_axes\u001b[0m\u001b[1;33m[\u001b[0m\u001b[1;36m0\u001b[0m\u001b[1;33m]\u001b[0m\u001b[1;33m)\u001b[0m\u001b[1;33m.\u001b[0m\u001b[0m_values\u001b[0m\u001b[1;33m\u001b[0m\u001b[1;33m\u001b[0m\u001b[0m\n\u001b[0;32m   1908\u001b[0m         \u001b[1;32melif\u001b[0m \u001b[0mself\u001b[0m\u001b[1;33m.\u001b[0m\u001b[0m_is_level_reference\u001b[0m\u001b[1;33m(\u001b[0m\u001b[0mkey\u001b[0m\u001b[1;33m,\u001b[0m \u001b[0maxis\u001b[0m\u001b[1;33m=\u001b[0m\u001b[0maxis\u001b[0m\u001b[1;33m)\u001b[0m\u001b[1;33m:\u001b[0m\u001b[1;33m\u001b[0m\u001b[1;33m\u001b[0m\u001b[0m\n\u001b[0;32m   1909\u001b[0m             \u001b[0mvalues\u001b[0m \u001b[1;33m=\u001b[0m \u001b[0mself\u001b[0m\u001b[1;33m.\u001b[0m\u001b[0maxes\u001b[0m\u001b[1;33m[\u001b[0m\u001b[0maxis\u001b[0m\u001b[1;33m]\u001b[0m\u001b[1;33m.\u001b[0m\u001b[0mget_level_values\u001b[0m\u001b[1;33m(\u001b[0m\u001b[0mkey\u001b[0m\u001b[1;33m)\u001b[0m\u001b[1;33m.\u001b[0m\u001b[0m_values\u001b[0m\u001b[1;33m\u001b[0m\u001b[1;33m\u001b[0m\u001b[0m\n\u001b[0;32m   1910\u001b[0m         \u001b[1;32melse\u001b[0m\u001b[1;33m:\u001b[0m\u001b[1;33m\u001b[0m\u001b[1;33m\u001b[0m\u001b[0m\n\u001b[1;32m-> 1911\u001b[1;33m             \u001b[1;32mraise\u001b[0m \u001b[0mKeyError\u001b[0m\u001b[1;33m(\u001b[0m\u001b[0mkey\u001b[0m\u001b[1;33m)\u001b[0m\u001b[1;33m\u001b[0m\u001b[1;33m\u001b[0m\u001b[0m\n\u001b[0m\u001b[0;32m   1912\u001b[0m \u001b[1;33m\u001b[0m\u001b[0m\n\u001b[0;32m   1913\u001b[0m         \u001b[1;31m# Check for duplicates\u001b[0m\u001b[1;33m\u001b[0m\u001b[1;33m\u001b[0m\u001b[0m\n\u001b[0;32m   1914\u001b[0m         \u001b[1;32mif\u001b[0m \u001b[0mvalues\u001b[0m\u001b[1;33m.\u001b[0m\u001b[0mndim\u001b[0m \u001b[1;33m>\u001b[0m \u001b[1;36m1\u001b[0m\u001b[1;33m:\u001b[0m\u001b[1;33m\u001b[0m\u001b[1;33m\u001b[0m\u001b[0m\n",
      "\u001b[1;31mKeyError\u001b[0m: 'cata_pts'"
     ]
    }
   ],
   "source": [
    "plsw = plsw.sort_values('cata_pts', ascending = False)"
   ]
  },
  {
   "cell_type": "code",
   "execution_count": null,
   "id": "f201015f-ab43-4b1e-9e07-a3347c641d0b",
   "metadata": {},
   "outputs": [],
   "source": [
    "df['A'].fillna(df['A'].mean(), inplace=True)\n"
   ]
  },
  {
   "cell_type": "code",
   "execution_count": 43,
   "id": "cc3a1975-5cae-4465-999e-be04d79fa338",
   "metadata": {},
   "outputs": [],
   "source": [
    "plswc = pd.merge(plsw, cal, on = 'country_c', how = 'outer')"
   ]
  },
  {
   "cell_type": "code",
   "execution_count": 123,
   "id": "e4b092b8-26e6-4e3d-a263-77413be41f33",
   "metadata": {},
   "outputs": [],
   "source": [
    "plswc = pd.merge(plsw, calorie, on = 'country_c', how = 'outer')\n",
    "plswc = plswc[['country_c', 'pm25', 'pol_log32_n', 'avg_life', 'lifeexpect_log32_n',\n",
    "       'sanitation_value', 'santitation_log32_n', 'water_pct', 'water_log32_n',\n",
    "       'calorie', 'calorie_log32_n']]"
   ]
  },
  {
   "cell_type": "code",
   "execution_count": 125,
   "id": "346e169b-e40b-4a2c-901b-44d28e3e2a52",
   "metadata": {
    "scrolled": true
   },
   "outputs": [
    {
     "name": "stderr",
     "output_type": "stream",
     "text": [
      "C:\\Users\\eabro\\AppData\\Local\\Temp\\ipykernel_4308\\2640346923.py:2: FutureWarning: A value is trying to be set on a copy of a DataFrame or Series through chained assignment using an inplace method.\n",
      "The behavior will change in pandas 3.0. This inplace method will never work because the intermediate object on which we are setting values always behaves as a copy.\n",
      "\n",
      "For example, when doing 'df[col].method(value, inplace=True)', try using 'df.method({col: value}, inplace=True)' or df[col] = df[col].method(value) instead, to perform the operation inplace on the original object.\n",
      "\n",
      "\n",
      "  plswc2['pol_log32_n'].fillna(plswc2['pol_log32_n'].mean(), inplace=True)\n"
     ]
    }
   ],
   "source": [
    "plswc2 = plswc\n",
    "plswc2['pol_log32_n'].fillna(plswc2['pol_log32_n'].mean(), inplace=True)\n"
   ]
  },
  {
   "cell_type": "code",
   "execution_count": 127,
   "id": "1e4eb4e8-7592-4010-9f9a-8b7cc23519bc",
   "metadata": {},
   "outputs": [
    {
     "name": "stderr",
     "output_type": "stream",
     "text": [
      "C:\\Users\\eabro\\AppData\\Local\\Temp\\ipykernel_4308\\2048577609.py:1: FutureWarning: A value is trying to be set on a copy of a DataFrame or Series through chained assignment using an inplace method.\n",
      "The behavior will change in pandas 3.0. This inplace method will never work because the intermediate object on which we are setting values always behaves as a copy.\n",
      "\n",
      "For example, when doing 'df[col].method(value, inplace=True)', try using 'df.method({col: value}, inplace=True)' or df[col] = df[col].method(value) instead, to perform the operation inplace on the original object.\n",
      "\n",
      "\n",
      "  plswc2['water_log32_n'].fillna(plswc2['water_log32_n'].mean(), inplace=True)\n"
     ]
    }
   ],
   "source": [
    "plswc2['water_log32_n'].fillna(plswc2['water_log32_n'].mean(), inplace=True)"
   ]
  },
  {
   "cell_type": "code",
   "execution_count": 129,
   "id": "95d2fa29-3b2d-4581-ab1e-fd898ee961b1",
   "metadata": {},
   "outputs": [
    {
     "name": "stderr",
     "output_type": "stream",
     "text": [
      "C:\\Users\\eabro\\AppData\\Local\\Temp\\ipykernel_4308\\3596231566.py:1: FutureWarning: A value is trying to be set on a copy of a DataFrame or Series through chained assignment using an inplace method.\n",
      "The behavior will change in pandas 3.0. This inplace method will never work because the intermediate object on which we are setting values always behaves as a copy.\n",
      "\n",
      "For example, when doing 'df[col].method(value, inplace=True)', try using 'df.method({col: value}, inplace=True)' or df[col] = df[col].method(value) instead, to perform the operation inplace on the original object.\n",
      "\n",
      "\n",
      "  plswc2['lifeexpect_log32_n'].fillna(plswc2['lifeexpect_log32_n'].mean(), inplace=True)\n"
     ]
    }
   ],
   "source": [
    "plswc2['lifeexpect_log32_n'].fillna(plswc2['lifeexpect_log32_n'].mean(), inplace=True)\n"
   ]
  },
  {
   "cell_type": "code",
   "execution_count": 135,
   "id": "1d21356d-e140-4534-8c7c-c6eba963c43b",
   "metadata": {},
   "outputs": [
    {
     "name": "stderr",
     "output_type": "stream",
     "text": [
      "C:\\Users\\eabro\\AppData\\Local\\Temp\\ipykernel_4308\\2300235529.py:1: FutureWarning: A value is trying to be set on a copy of a DataFrame or Series through chained assignment using an inplace method.\n",
      "The behavior will change in pandas 3.0. This inplace method will never work because the intermediate object on which we are setting values always behaves as a copy.\n",
      "\n",
      "For example, when doing 'df[col].method(value, inplace=True)', try using 'df.method({col: value}, inplace=True)' or df[col] = df[col].method(value) instead, to perform the operation inplace on the original object.\n",
      "\n",
      "\n",
      "  plswc2['santitation_log32_n'].fillna(plswc2['santitation_log32_n'].mean(), inplace=True)\n"
     ]
    }
   ],
   "source": [
    "plswc2['santitation_log32_n'].fillna(plswc2['santitation_log32_n'].mean(), inplace=True)"
   ]
  },
  {
   "cell_type": "code",
   "execution_count": 137,
   "id": "2bff3c82-a3fa-4c70-a31d-4ec25a390dd1",
   "metadata": {},
   "outputs": [
    {
     "name": "stderr",
     "output_type": "stream",
     "text": [
      "C:\\Users\\eabro\\AppData\\Local\\Temp\\ipykernel_4308\\2850886738.py:1: FutureWarning: A value is trying to be set on a copy of a DataFrame or Series through chained assignment using an inplace method.\n",
      "The behavior will change in pandas 3.0. This inplace method will never work because the intermediate object on which we are setting values always behaves as a copy.\n",
      "\n",
      "For example, when doing 'df[col].method(value, inplace=True)', try using 'df.method({col: value}, inplace=True)' or df[col] = df[col].method(value) instead, to perform the operation inplace on the original object.\n",
      "\n",
      "\n",
      "  plswc2['calorie_log32_n'].fillna(plswc2['calorie_log32_n'].mean(), inplace=True)\n"
     ]
    }
   ],
   "source": [
    "plswc2['calorie_log32_n'].fillna(plswc2['calorie_log32_n'].mean(), inplace=True)"
   ]
  },
  {
   "cell_type": "code",
   "execution_count": 141,
   "id": "3dfe8485-c5e8-41a2-969b-e51fa85eb186",
   "metadata": {},
   "outputs": [
    {
     "data": {
      "text/plain": [
       "Index(['country_c', 'pm25', 'pol_log32_n', 'avg_life', 'lifeexpect_log32_n',\n",
       "       'sanitation_value', 'santitation_log32_n', 'water_pct', 'water_log32_n',\n",
       "       'calorie', 'calorie_log32_n'],\n",
       "      dtype='object')"
      ]
     },
     "execution_count": 141,
     "metadata": {},
     "output_type": "execute_result"
    }
   ],
   "source": [
    "plswc.columns"
   ]
  },
  {
   "cell_type": "code",
   "execution_count": 147,
   "id": "dc2e0dec-f17a-475b-98c5-1d356af4b344",
   "metadata": {},
   "outputs": [],
   "source": [
    "plswc2['plswc_pts'] = plswc['pol_log32_n'] + plswc['lifeexpect_log32_n'] + plswc['santitation_log32_n'] + plswc['water_log32_n'] + plswc['calorie_log32_n']"
   ]
  },
  {
   "cell_type": "code",
   "execution_count": 151,
   "id": "646a866f-a06a-4258-bc5b-793c2b44584a",
   "metadata": {},
   "outputs": [],
   "source": [
    "plswc2['sanitation_log32_n'] = plswc2['santitation_log32_n']"
   ]
  },
  {
   "cell_type": "code",
   "execution_count": 159,
   "id": "4c337fed-d255-4163-9ca0-a832c09138e5",
   "metadata": {},
   "outputs": [],
   "source": [
    "plswc2 = plswc2[['country_c', 'pm25', 'pol_log32_n', 'avg_life', 'lifeexpect_log32_n',\n",
    "       'sanitation_value', 'sanitation_log32_n', 'water_pct', 'water_log32_n',\n",
    "       'calorie', 'calorie_log32_n', 'plswc_pts']]"
   ]
  },
  {
   "cell_type": "code",
   "execution_count": 163,
   "id": "4a21fe02-ff0e-4812-8eb2-a15f359aa25f",
   "metadata": {},
   "outputs": [],
   "source": [
    "plswc2 = plswc2.sort_values('plswc_pts', ascending = False)"
   ]
  },
  {
   "cell_type": "code",
   "execution_count": 185,
   "id": "f1bd4c79-688a-4d6d-a769-cf66bab70bf7",
   "metadata": {},
   "outputs": [],
   "source": [
    "plswc2 = plswc2.reset_index()"
   ]
  },
  {
   "cell_type": "code",
   "execution_count": 171,
   "id": "3282cfd7-0093-4de5-af48-460c36db590c",
   "metadata": {},
   "outputs": [],
   "source": [
    "cata_pol_life = plswc2[['pm25', 'lifeexpect_log32_n']]"
   ]
  },
  {
   "cell_type": "code",
   "execution_count": 175,
   "id": "536c5685-a5b6-4c9f-9d04-4138569436b5",
   "metadata": {},
   "outputs": [
    {
     "data": {
      "text/html": [
       "<div>\n",
       "<style scoped>\n",
       "    .dataframe tbody tr th:only-of-type {\n",
       "        vertical-align: middle;\n",
       "    }\n",
       "\n",
       "    .dataframe tbody tr th {\n",
       "        vertical-align: top;\n",
       "    }\n",
       "\n",
       "    .dataframe thead th {\n",
       "        text-align: right;\n",
       "    }\n",
       "</style>\n",
       "<table border=\"1\" class=\"dataframe\">\n",
       "  <thead>\n",
       "    <tr style=\"text-align: right;\">\n",
       "      <th></th>\n",
       "      <th>pm25</th>\n",
       "      <th>lifeexpect_log32_n</th>\n",
       "    </tr>\n",
       "  </thead>\n",
       "  <tbody>\n",
       "    <tr>\n",
       "      <th>pm25</th>\n",
       "      <td>1.000000</td>\n",
       "      <td>-0.315935</td>\n",
       "    </tr>\n",
       "    <tr>\n",
       "      <th>lifeexpect_log32_n</th>\n",
       "      <td>-0.315935</td>\n",
       "      <td>1.000000</td>\n",
       "    </tr>\n",
       "  </tbody>\n",
       "</table>\n",
       "</div>"
      ],
      "text/plain": [
       "                        pm25  lifeexpect_log32_n\n",
       "pm25                1.000000           -0.315935\n",
       "lifeexpect_log32_n -0.315935            1.000000"
      ]
     },
     "execution_count": 175,
     "metadata": {},
     "output_type": "execute_result"
    }
   ],
   "source": [
    "# There is a negative correlation between life expectancy and pollution levels, which is what I expected.\n",
    "\n",
    "cata_pol_life.corr()"
   ]
  },
  {
   "cell_type": "code",
   "execution_count": 177,
   "id": "2d923d18-1730-4008-ba46-1468e07cdafb",
   "metadata": {},
   "outputs": [],
   "source": [
    "cata_san_life = plswc2[['sanitation_value', 'lifeexpect_log32_n']]"
   ]
  },
  {
   "cell_type": "code",
   "execution_count": 181,
   "id": "3f0f4324-4c68-4d18-9e22-d0d39d2145f7",
   "metadata": {},
   "outputs": [
    {
     "data": {
      "text/html": [
       "<div>\n",
       "<style scoped>\n",
       "    .dataframe tbody tr th:only-of-type {\n",
       "        vertical-align: middle;\n",
       "    }\n",
       "\n",
       "    .dataframe tbody tr th {\n",
       "        vertical-align: top;\n",
       "    }\n",
       "\n",
       "    .dataframe thead th {\n",
       "        text-align: right;\n",
       "    }\n",
       "</style>\n",
       "<table border=\"1\" class=\"dataframe\">\n",
       "  <thead>\n",
       "    <tr style=\"text-align: right;\">\n",
       "      <th></th>\n",
       "      <th>sanitation_value</th>\n",
       "      <th>lifeexpect_log32_n</th>\n",
       "    </tr>\n",
       "  </thead>\n",
       "  <tbody>\n",
       "    <tr>\n",
       "      <th>sanitation_value</th>\n",
       "      <td>1.000000</td>\n",
       "      <td>0.787688</td>\n",
       "    </tr>\n",
       "    <tr>\n",
       "      <th>lifeexpect_log32_n</th>\n",
       "      <td>0.787688</td>\n",
       "      <td>1.000000</td>\n",
       "    </tr>\n",
       "  </tbody>\n",
       "</table>\n",
       "</div>"
      ],
      "text/plain": [
       "                    sanitation_value  lifeexpect_log32_n\n",
       "sanitation_value            1.000000            0.787688\n",
       "lifeexpect_log32_n          0.787688            1.000000"
      ]
     },
     "execution_count": 181,
     "metadata": {},
     "output_type": "execute_result"
    }
   ],
   "source": [
    "# There is a massive correlation of 0.78 between having more citizens with access to adequate sanitation and a higher life expectancy.\n",
    "\n",
    "cata_san_life.corr()"
   ]
  },
  {
   "cell_type": "code",
   "execution_count": 193,
   "id": "5a995a25-c8e2-4889-96f9-e52f7db4edcc",
   "metadata": {},
   "outputs": [
    {
     "data": {
      "text/html": [
       "<div>\n",
       "<style scoped>\n",
       "    .dataframe tbody tr th:only-of-type {\n",
       "        vertical-align: middle;\n",
       "    }\n",
       "\n",
       "    .dataframe tbody tr th {\n",
       "        vertical-align: top;\n",
       "    }\n",
       "\n",
       "    .dataframe thead th {\n",
       "        text-align: right;\n",
       "    }\n",
       "</style>\n",
       "<table border=\"1\" class=\"dataframe\">\n",
       "  <thead>\n",
       "    <tr style=\"text-align: right;\">\n",
       "      <th></th>\n",
       "      <th>index</th>\n",
       "      <th>country_c</th>\n",
       "      <th>pm25</th>\n",
       "      <th>pol_log32_n</th>\n",
       "      <th>avg_life</th>\n",
       "      <th>lifeexpect_log32_n</th>\n",
       "      <th>sanitation_value</th>\n",
       "      <th>sanitation_log32_n</th>\n",
       "      <th>water_pct</th>\n",
       "      <th>water_log32_n</th>\n",
       "      <th>calorie</th>\n",
       "      <th>calorie_log32_n</th>\n",
       "      <th>plswc_pts</th>\n",
       "    </tr>\n",
       "  </thead>\n",
       "  <tbody>\n",
       "    <tr>\n",
       "      <th>20</th>\n",
       "      <td>230</td>\n",
       "      <td>United States</td>\n",
       "      <td>7.824882</td>\n",
       "      <td>30.754321</td>\n",
       "      <td>78.38</td>\n",
       "      <td>26.329212</td>\n",
       "      <td>99.70488</td>\n",
       "      <td>31.887756</td>\n",
       "      <td>98.255539</td>\n",
       "      <td>31.214454</td>\n",
       "      <td>2.2</td>\n",
       "      <td>31.106599</td>\n",
       "      <td>151.292342</td>\n",
       "    </tr>\n",
       "  </tbody>\n",
       "</table>\n",
       "</div>"
      ],
      "text/plain": [
       "    index      country_c      pm25  pol_log32_n  avg_life  lifeexpect_log32_n  \\\n",
       "20    230  United States  7.824882    30.754321     78.38           26.329212   \n",
       "\n",
       "    sanitation_value  sanitation_log32_n  water_pct  water_log32_n  calorie  \\\n",
       "20          99.70488           31.887756  98.255539      31.214454      2.2   \n",
       "\n",
       "    calorie_log32_n   plswc_pts  \n",
       "20        31.106599  151.292342  "
      ]
     },
     "execution_count": 193,
     "metadata": {},
     "output_type": "execute_result"
    }
   ],
   "source": [
    "plswc2.loc[plswc2['country_c'] == 'United States']"
   ]
  },
  {
   "cell_type": "code",
   "execution_count": 199,
   "id": "18d92d68-623c-4aba-bdc2-58e19f9b45f4",
   "metadata": {},
   "outputs": [],
   "source": [
    "plswc2.to_csv('Cat_A_0415_choosethisemily.csv', index=False, header=True)"
   ]
  },
  {
   "cell_type": "code",
   "execution_count": null,
   "id": "c48b2982-eab1-48fd-b790-ca0040f6672e",
   "metadata": {},
   "outputs": [],
   "source": []
  }
 ],
 "metadata": {
  "kernelspec": {
   "display_name": "Python [conda env:base] *",
   "language": "python",
   "name": "conda-base-py"
  },
  "language_info": {
   "codemirror_mode": {
    "name": "ipython",
    "version": 3
   },
   "file_extension": ".py",
   "mimetype": "text/x-python",
   "name": "python",
   "nbconvert_exporter": "python",
   "pygments_lexer": "ipython3",
   "version": "3.12.7"
  }
 },
 "nbformat": 4,
 "nbformat_minor": 5
}
