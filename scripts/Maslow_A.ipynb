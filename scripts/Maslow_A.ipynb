{
 "cells": [
  {
   "cell_type": "markdown",
   "id": "427a4ef9-a168-43b3-85b0-93a4ec6acd22",
   "metadata": {},
   "source": [
    "import pandas as pd\n",
    "import numpy as np\n",
    "import seaborn as sna\n",
    "import matplotlib.pyplot as plt "
   ]
  },
  {
   "cell_type": "markdown",
   "id": "b73ec9c8-7385-4ebd-a90a-f0e6c2cf412f",
   "metadata": {},
   "source": [
    "# I'm currently not sure if I'll be using a logarithmic point system, or a descending point system of 5-1 (A-E), so I'm adding columns with both measurements."
   ]
  },
  {
   "cell_type": "code",
   "execution_count": 96,
   "id": "6b3ec970-25d5-4bcb-b1b4-fc56d0748ef7",
   "metadata": {},
   "outputs": [],
   "source": [
    "undernourish = pd.read_csv(r\"C:\\Users\\eabro\\Documents\\NSS\\Python\\Projects\\Utopia\\data_grouped\\Maslow_A\\prevalence-of-undernourishment.csv\")"
   ]
  },
  {
   "cell_type": "code",
   "execution_count": 98,
   "id": "961c3c3a-e298-4a72-a5f1-d948f9109214",
   "metadata": {},
   "outputs": [],
   "source": [
    "undernourish.columns = ['country', 'code', 'year', 'undernourish']"
   ]
  },
  {
   "cell_type": "code",
   "execution_count": 100,
   "id": "bc14628c-b9c3-48b5-9702-9f35fc243a4e",
   "metadata": {},
   "outputs": [
    {
     "data": {
      "text/plain": [
       "2023"
      ]
     },
     "execution_count": 100,
     "metadata": {},
     "output_type": "execute_result"
    }
   ],
   "source": [
    "undernourish['year'].max()"
   ]
  },
  {
   "cell_type": "code",
   "execution_count": 102,
   "id": "90b662dc-a0f5-406c-9791-a9407b3474f0",
   "metadata": {},
   "outputs": [],
   "source": [
    "undernourish = undernourish.loc[undernourish['year'] >= 2013]"
   ]
  },
  {
   "cell_type": "code",
   "execution_count": 104,
   "id": "ab9d4d21-9a0d-48f7-97b7-6fa2469c6d83",
   "metadata": {},
   "outputs": [],
   "source": [
    "undernourish = undernourish.groupby('country').mean('undernourish')\n",
    "undernourish = undernourish.sort_values('undernourish', ascending = False).reset_index()"
   ]
  },
  {
   "cell_type": "code",
   "execution_count": 108,
   "id": "e999d2f2-ae7f-497c-8047-9d946b93ca10",
   "metadata": {},
   "outputs": [],
   "source": [
    "undernourish['norm_undernourish'] = 1 - (undernourish['undernourish'] - undernourish['undernourish'].min()) / (undernourish['undernourish'].max() - undernourish['undernourish'].min())"
   ]
  },
  {
   "cell_type": "code",
   "execution_count": 110,
   "id": "1a3ade1f-8fb9-40ca-b9e8-8516dfb80350",
   "metadata": {},
   "outputs": [
    {
     "data": {
      "text/plain": [
       "Index(['country', 'year', 'undernourish', 'norm_undernourish'], dtype='object')"
      ]
     },
     "execution_count": 110,
     "metadata": {},
     "output_type": "execute_result"
    }
   ],
   "source": [
    "undernourish.columns"
   ]
  },
  {
   "cell_type": "code",
   "execution_count": 112,
   "id": "55b94bc3-580b-411d-9a4a-be9e0c0bf5fc",
   "metadata": {},
   "outputs": [],
   "source": [
    "undernourish.columns = ['country', 'year', 'pct_undernourish', 'norm_undernourish']"
   ]
  },
  {
   "cell_type": "code",
   "execution_count": 114,
   "id": "1d4b3b27-b3be-47d6-9609-032403408011",
   "metadata": {},
   "outputs": [
    {
     "data": {
      "text/html": [
       "<div>\n",
       "<style scoped>\n",
       "    .dataframe tbody tr th:only-of-type {\n",
       "        vertical-align: middle;\n",
       "    }\n",
       "\n",
       "    .dataframe tbody tr th {\n",
       "        vertical-align: top;\n",
       "    }\n",
       "\n",
       "    .dataframe thead th {\n",
       "        text-align: right;\n",
       "    }\n",
       "</style>\n",
       "<table border=\"1\" class=\"dataframe\">\n",
       "  <thead>\n",
       "    <tr style=\"text-align: right;\">\n",
       "      <th></th>\n",
       "      <th>country</th>\n",
       "      <th>year</th>\n",
       "      <th>pct_undernourish</th>\n",
       "      <th>norm_undernourish</th>\n",
       "    </tr>\n",
       "  </thead>\n",
       "  <tbody>\n",
       "    <tr>\n",
       "      <th>0</th>\n",
       "      <td>Somalia</td>\n",
       "      <td>2017.5</td>\n",
       "      <td>56.31</td>\n",
       "      <td>0.000000</td>\n",
       "    </tr>\n",
       "    <tr>\n",
       "      <th>1</th>\n",
       "      <td>North Korea</td>\n",
       "      <td>2015.5</td>\n",
       "      <td>43.85</td>\n",
       "      <td>0.231555</td>\n",
       "    </tr>\n",
       "    <tr>\n",
       "      <th>2</th>\n",
       "      <td>Haiti</td>\n",
       "      <td>2017.5</td>\n",
       "      <td>42.45</td>\n",
       "      <td>0.257573</td>\n",
       "    </tr>\n",
       "    <tr>\n",
       "      <th>3</th>\n",
       "      <td>Yemen</td>\n",
       "      <td>2017.5</td>\n",
       "      <td>37.40</td>\n",
       "      <td>0.351422</td>\n",
       "    </tr>\n",
       "    <tr>\n",
       "      <th>4</th>\n",
       "      <td>Liberia</td>\n",
       "      <td>2017.5</td>\n",
       "      <td>36.37</td>\n",
       "      <td>0.370563</td>\n",
       "    </tr>\n",
       "    <tr>\n",
       "      <th>...</th>\n",
       "      <td>...</td>\n",
       "      <td>...</td>\n",
       "      <td>...</td>\n",
       "      <td>...</td>\n",
       "    </tr>\n",
       "    <tr>\n",
       "      <th>206</th>\n",
       "      <td>Belgium</td>\n",
       "      <td>2017.5</td>\n",
       "      <td>2.50</td>\n",
       "      <td>1.000000</td>\n",
       "    </tr>\n",
       "    <tr>\n",
       "      <th>207</th>\n",
       "      <td>Southern Europe (FAO)</td>\n",
       "      <td>2018.0</td>\n",
       "      <td>2.50</td>\n",
       "      <td>1.000000</td>\n",
       "    </tr>\n",
       "    <tr>\n",
       "      <th>208</th>\n",
       "      <td>Spain</td>\n",
       "      <td>2017.5</td>\n",
       "      <td>2.50</td>\n",
       "      <td>1.000000</td>\n",
       "    </tr>\n",
       "    <tr>\n",
       "      <th>209</th>\n",
       "      <td>Cyprus</td>\n",
       "      <td>2017.5</td>\n",
       "      <td>2.50</td>\n",
       "      <td>1.000000</td>\n",
       "    </tr>\n",
       "    <tr>\n",
       "      <th>210</th>\n",
       "      <td>Czechia</td>\n",
       "      <td>2017.5</td>\n",
       "      <td>2.50</td>\n",
       "      <td>1.000000</td>\n",
       "    </tr>\n",
       "  </tbody>\n",
       "</table>\n",
       "<p>211 rows × 4 columns</p>\n",
       "</div>"
      ],
      "text/plain": [
       "                   country    year  pct_undernourish  norm_undernourish\n",
       "0                  Somalia  2017.5             56.31           0.000000\n",
       "1              North Korea  2015.5             43.85           0.231555\n",
       "2                    Haiti  2017.5             42.45           0.257573\n",
       "3                    Yemen  2017.5             37.40           0.351422\n",
       "4                  Liberia  2017.5             36.37           0.370563\n",
       "..                     ...     ...               ...                ...\n",
       "206                Belgium  2017.5              2.50           1.000000\n",
       "207  Southern Europe (FAO)  2018.0              2.50           1.000000\n",
       "208                  Spain  2017.5              2.50           1.000000\n",
       "209                 Cyprus  2017.5              2.50           1.000000\n",
       "210                Czechia  2017.5              2.50           1.000000\n",
       "\n",
       "[211 rows x 4 columns]"
      ]
     },
     "execution_count": 114,
     "metadata": {},
     "output_type": "execute_result"
    }
   ],
   "source": [
    "undernourish"
   ]
  },
  {
   "cell_type": "code",
   "execution_count": 118,
   "id": "a40105d4-4065-4479-b9df-ea1d882d83c3",
   "metadata": {},
   "outputs": [],
   "source": [
    "undernourish.to_csv('norm_undernourish0409_high.csv', index=False, header=True)"
   ]
  },
  {
   "cell_type": "code",
   "execution_count": 120,
   "id": "0e2c4fc7-73bf-4749-8d06-f4232db86ed1",
   "metadata": {},
   "outputs": [],
   "source": [
    "safe_water = pd.read_csv(r\"C:\\Users\\eabro\\Documents\\NSS\\Python\\Projects\\Utopia\\data_grouped\\Maslow_A\\share-of-the-population-using-safely-managed-drinking-water-sources.csv\")"
   ]
  },
  {
   "cell_type": "code",
   "execution_count": 132,
   "id": "bd0b4dcb-30a7-4921-bbcb-6b3cf3d7b853",
   "metadata": {},
   "outputs": [],
   "source": [
    "safe_water.columns = ['country', 'year', 'safe_water_use']"
   ]
  },
  {
   "cell_type": "code",
   "execution_count": 134,
   "id": "d1a98ca6-ab68-4aa8-ba4c-40d4f8a2a841",
   "metadata": {},
   "outputs": [
    {
     "data": {
      "text/plain": [
       "2022"
      ]
     },
     "execution_count": 134,
     "metadata": {},
     "output_type": "execute_result"
    }
   ],
   "source": [
    "safe_water['year'].max()"
   ]
  },
  {
   "cell_type": "code",
   "execution_count": 140,
   "id": "8fcd476b-52db-428c-8348-ee9aad528381",
   "metadata": {},
   "outputs": [],
   "source": [
    "safe_water = safe_water.loc[safe_water['year'] >= 2012]"
   ]
  },
  {
   "cell_type": "code",
   "execution_count": 144,
   "id": "3b21f5fc-c7a8-4870-b295-1de1bcc418b6",
   "metadata": {},
   "outputs": [],
   "source": [
    "safe_water = safe_water.groupby('country').mean('safe_water_use').reset_index()"
   ]
  },
  {
   "cell_type": "code",
   "execution_count": 148,
   "id": "f2d451dd-9e20-4ee9-97e7-17dc9c3b91df",
   "metadata": {},
   "outputs": [],
   "source": [
    "safe_water = safe_water.sort_values('safe_water_use', ascending = False)"
   ]
  },
  {
   "cell_type": "code",
   "execution_count": 152,
   "id": "c130ff57-316e-471c-b513-e9e78209d5bd",
   "metadata": {},
   "outputs": [],
   "source": [
    "safe_water['norm_safewater'] =  (safe_water['safe_water_use'] - safe_water['safe_water_use'].min()) / (safe_water['safe_water_use'].max() - safe_water['safe_water_use'].min())"
   ]
  },
  {
   "cell_type": "code",
   "execution_count": 223,
   "id": "3105b30c-69dd-43b6-8e54-b054b3d3ea52",
   "metadata": {},
   "outputs": [],
   "source": [
    "safe_water['norm_with_pts'] = safe_water['norm_safewater'] * 5"
   ]
  },
  {
   "cell_type": "code",
   "execution_count": 225,
   "id": "c1831364-ccca-41d5-a465-c356d1307128",
   "metadata": {},
   "outputs": [],
   "source": [
    "safe_water.to_csv('norm_safewater_high0409.csv', index=False, header=True)"
   ]
  },
  {
   "cell_type": "code",
   "execution_count": 1492,
   "id": "2385ae21-03ea-4c83-83f2-0df20b88e8a8",
   "metadata": {},
   "outputs": [],
   "source": [
    "sanitation = pd.read_csv(r\"C:\\Users\\eabro\\Documents\\NSS\\Python\\Projects\\Utopia\\data_grouped\\Maslow_A\\SYB67_315_202411_Water and Sanitation Services.csv\")"
   ]
  },
  {
   "cell_type": "code",
   "execution_count": 169,
   "id": "5a3d9426-2acf-4f38-94cd-0f44904b883b",
   "metadata": {},
   "outputs": [],
   "source": [
    "without_good_water = pd.read_csv(r\"C:\\Users\\eabro\\Documents\\NSS\\Python\\Projects\\Utopia\\data_grouped\\Maslow_A\\share-without-improved-water (5)\\share-without-improved-water.csv\")"
   ]
  },
  {
   "cell_type": "code",
   "execution_count": 173,
   "id": "d6289f08-aa34-40a7-9cd4-e436d5e42d1b",
   "metadata": {},
   "outputs": [],
   "source": [
    "without_good_water.columns = ['country', 'code', 'year', 'pct_without_goodwater']"
   ]
  },
  {
   "cell_type": "code",
   "execution_count": 177,
   "id": "9ac74996-67d8-4de4-957d-2e8bbefe35b9",
   "metadata": {},
   "outputs": [
    {
     "data": {
      "text/plain": [
       "2022"
      ]
     },
     "execution_count": 177,
     "metadata": {},
     "output_type": "execute_result"
    }
   ],
   "source": [
    "without_good_water['year'].max()"
   ]
  },
  {
   "cell_type": "code",
   "execution_count": 181,
   "id": "00b54ac5-2430-45f1-90a1-e7391965c221",
   "metadata": {},
   "outputs": [],
   "source": [
    "without_good_water = without_good_water.loc[without_good_water['year'] >= 2012]\n"
   ]
  },
  {
   "cell_type": "code",
   "execution_count": 183,
   "id": "bba6a490-d5ca-461a-be6e-5c3e285257b8",
   "metadata": {},
   "outputs": [],
   "source": [
    "without_good_water = without_good_water.groupby('country').mean('pct_without_goodwater')"
   ]
  },
  {
   "cell_type": "code",
   "execution_count": 187,
   "id": "ca369eff-542e-4960-beb0-85152ba9167b",
   "metadata": {},
   "outputs": [],
   "source": [
    "without_good_water = without_good_water.sort_values('pct_without_goodwater', ascending = False)"
   ]
  },
  {
   "cell_type": "code",
   "execution_count": 189,
   "id": "776329d2-adc8-4c1a-a67b-ae527f8cc279",
   "metadata": {},
   "outputs": [
    {
     "data": {
      "text/html": [
       "<div>\n",
       "<style scoped>\n",
       "    .dataframe tbody tr th:only-of-type {\n",
       "        vertical-align: middle;\n",
       "    }\n",
       "\n",
       "    .dataframe tbody tr th {\n",
       "        vertical-align: top;\n",
       "    }\n",
       "\n",
       "    .dataframe thead th {\n",
       "        text-align: right;\n",
       "    }\n",
       "</style>\n",
       "<table border=\"1\" class=\"dataframe\">\n",
       "  <thead>\n",
       "    <tr style=\"text-align: right;\">\n",
       "      <th></th>\n",
       "      <th>year</th>\n",
       "      <th>pct_without_goodwater</th>\n",
       "    </tr>\n",
       "    <tr>\n",
       "      <th>country</th>\n",
       "      <th></th>\n",
       "      <th></th>\n",
       "    </tr>\n",
       "  </thead>\n",
       "  <tbody>\n",
       "    <tr>\n",
       "      <th>Papua New Guinea</th>\n",
       "      <td>2017.0</td>\n",
       "      <td>52.917086</td>\n",
       "    </tr>\n",
       "    <tr>\n",
       "      <th>Madagascar</th>\n",
       "      <td>2017.0</td>\n",
       "      <td>46.579328</td>\n",
       "    </tr>\n",
       "    <tr>\n",
       "      <th>Democratic Republic of Congo</th>\n",
       "      <td>2017.0</td>\n",
       "      <td>44.341000</td>\n",
       "    </tr>\n",
       "    <tr>\n",
       "      <th>Oceania (SDG)</th>\n",
       "      <td>2017.0</td>\n",
       "      <td>40.898249</td>\n",
       "    </tr>\n",
       "    <tr>\n",
       "      <th>Chad</th>\n",
       "      <td>2017.0</td>\n",
       "      <td>38.673792</td>\n",
       "    </tr>\n",
       "    <tr>\n",
       "      <th>...</th>\n",
       "      <td>...</td>\n",
       "      <td>...</td>\n",
       "    </tr>\n",
       "    <tr>\n",
       "      <th>Gibraltar</th>\n",
       "      <td>2017.0</td>\n",
       "      <td>0.000000</td>\n",
       "    </tr>\n",
       "    <tr>\n",
       "      <th>Slovakia</th>\n",
       "      <td>2017.0</td>\n",
       "      <td>0.000000</td>\n",
       "    </tr>\n",
       "    <tr>\n",
       "      <th>Singapore</th>\n",
       "      <td>2017.0</td>\n",
       "      <td>0.000000</td>\n",
       "    </tr>\n",
       "    <tr>\n",
       "      <th>Monaco</th>\n",
       "      <td>2017.0</td>\n",
       "      <td>0.000000</td>\n",
       "    </tr>\n",
       "    <tr>\n",
       "      <th>Greenland</th>\n",
       "      <td>2017.0</td>\n",
       "      <td>0.000000</td>\n",
       "    </tr>\n",
       "  </tbody>\n",
       "</table>\n",
       "<p>253 rows × 2 columns</p>\n",
       "</div>"
      ],
      "text/plain": [
       "                                year  pct_without_goodwater\n",
       "country                                                    \n",
       "Papua New Guinea              2017.0              52.917086\n",
       "Madagascar                    2017.0              46.579328\n",
       "Democratic Republic of Congo  2017.0              44.341000\n",
       "Oceania (SDG)                 2017.0              40.898249\n",
       "Chad                          2017.0              38.673792\n",
       "...                              ...                    ...\n",
       "Gibraltar                     2017.0               0.000000\n",
       "Slovakia                      2017.0               0.000000\n",
       "Singapore                     2017.0               0.000000\n",
       "Monaco                        2017.0               0.000000\n",
       "Greenland                     2017.0               0.000000\n",
       "\n",
       "[253 rows x 2 columns]"
      ]
     },
     "execution_count": 189,
     "metadata": {},
     "output_type": "execute_result"
    }
   ],
   "source": [
    "without_good_water"
   ]
  },
  {
   "cell_type": "code",
   "execution_count": 215,
   "id": "ad2f1f84-97f7-4b30-a78e-0d7fd3c7b364",
   "metadata": {},
   "outputs": [],
   "source": [
    "without_good_water['norm_pct_wo_goodwater'] = 1 - (without_good_water['pct_without_goodwater'] - without_good_water['pct_without_goodwater'].min()) / (without_good_water['pct_without_goodwater'].max() - without_good_water['pct_without_goodwater'].min())"
   ]
  },
  {
   "cell_type": "code",
   "execution_count": 217,
   "id": "fc2c91e5-60a2-4591-9421-619ba89c049d",
   "metadata": {},
   "outputs": [],
   "source": [
    "without_good_water['norm_with_pts'] = without_good_water['norm_pct_wo_goodwater'] * 5"
   ]
  },
  {
   "cell_type": "code",
   "execution_count": 219,
   "id": "84b6d1a0-74ec-414d-826c-23600175bfb8",
   "metadata": {},
   "outputs": [
    {
     "data": {
      "text/html": [
       "<div>\n",
       "<style scoped>\n",
       "    .dataframe tbody tr th:only-of-type {\n",
       "        vertical-align: middle;\n",
       "    }\n",
       "\n",
       "    .dataframe tbody tr th {\n",
       "        vertical-align: top;\n",
       "    }\n",
       "\n",
       "    .dataframe thead th {\n",
       "        text-align: right;\n",
       "    }\n",
       "</style>\n",
       "<table border=\"1\" class=\"dataframe\">\n",
       "  <thead>\n",
       "    <tr style=\"text-align: right;\">\n",
       "      <th></th>\n",
       "      <th>year</th>\n",
       "      <th>pct_without_goodwater</th>\n",
       "      <th>norm_pct_wo_goodwater</th>\n",
       "      <th>norm_with_pts</th>\n",
       "    </tr>\n",
       "    <tr>\n",
       "      <th>country</th>\n",
       "      <th></th>\n",
       "      <th></th>\n",
       "      <th></th>\n",
       "      <th></th>\n",
       "    </tr>\n",
       "  </thead>\n",
       "  <tbody>\n",
       "    <tr>\n",
       "      <th>Papua New Guinea</th>\n",
       "      <td>2017.0</td>\n",
       "      <td>52.917086</td>\n",
       "      <td>0.000000</td>\n",
       "      <td>0.000000</td>\n",
       "    </tr>\n",
       "    <tr>\n",
       "      <th>Madagascar</th>\n",
       "      <td>2017.0</td>\n",
       "      <td>46.579328</td>\n",
       "      <td>0.119768</td>\n",
       "      <td>0.598839</td>\n",
       "    </tr>\n",
       "    <tr>\n",
       "      <th>Democratic Republic of Congo</th>\n",
       "      <td>2017.0</td>\n",
       "      <td>44.341000</td>\n",
       "      <td>0.162066</td>\n",
       "      <td>0.810332</td>\n",
       "    </tr>\n",
       "    <tr>\n",
       "      <th>Oceania (SDG)</th>\n",
       "      <td>2017.0</td>\n",
       "      <td>40.898249</td>\n",
       "      <td>0.227126</td>\n",
       "      <td>1.135629</td>\n",
       "    </tr>\n",
       "    <tr>\n",
       "      <th>Chad</th>\n",
       "      <td>2017.0</td>\n",
       "      <td>38.673792</td>\n",
       "      <td>0.269162</td>\n",
       "      <td>1.345812</td>\n",
       "    </tr>\n",
       "    <tr>\n",
       "      <th>...</th>\n",
       "      <td>...</td>\n",
       "      <td>...</td>\n",
       "      <td>...</td>\n",
       "      <td>...</td>\n",
       "    </tr>\n",
       "    <tr>\n",
       "      <th>Gibraltar</th>\n",
       "      <td>2017.0</td>\n",
       "      <td>0.000000</td>\n",
       "      <td>1.000000</td>\n",
       "      <td>5.000000</td>\n",
       "    </tr>\n",
       "    <tr>\n",
       "      <th>Slovakia</th>\n",
       "      <td>2017.0</td>\n",
       "      <td>0.000000</td>\n",
       "      <td>1.000000</td>\n",
       "      <td>5.000000</td>\n",
       "    </tr>\n",
       "    <tr>\n",
       "      <th>Singapore</th>\n",
       "      <td>2017.0</td>\n",
       "      <td>0.000000</td>\n",
       "      <td>1.000000</td>\n",
       "      <td>5.000000</td>\n",
       "    </tr>\n",
       "    <tr>\n",
       "      <th>Monaco</th>\n",
       "      <td>2017.0</td>\n",
       "      <td>0.000000</td>\n",
       "      <td>1.000000</td>\n",
       "      <td>5.000000</td>\n",
       "    </tr>\n",
       "    <tr>\n",
       "      <th>Greenland</th>\n",
       "      <td>2017.0</td>\n",
       "      <td>0.000000</td>\n",
       "      <td>1.000000</td>\n",
       "      <td>5.000000</td>\n",
       "    </tr>\n",
       "  </tbody>\n",
       "</table>\n",
       "<p>253 rows × 4 columns</p>\n",
       "</div>"
      ],
      "text/plain": [
       "                                year  pct_without_goodwater  \\\n",
       "country                                                       \n",
       "Papua New Guinea              2017.0              52.917086   \n",
       "Madagascar                    2017.0              46.579328   \n",
       "Democratic Republic of Congo  2017.0              44.341000   \n",
       "Oceania (SDG)                 2017.0              40.898249   \n",
       "Chad                          2017.0              38.673792   \n",
       "...                              ...                    ...   \n",
       "Gibraltar                     2017.0               0.000000   \n",
       "Slovakia                      2017.0               0.000000   \n",
       "Singapore                     2017.0               0.000000   \n",
       "Monaco                        2017.0               0.000000   \n",
       "Greenland                     2017.0               0.000000   \n",
       "\n",
       "                              norm_pct_wo_goodwater  norm_with_pts  \n",
       "country                                                             \n",
       "Papua New Guinea                           0.000000       0.000000  \n",
       "Madagascar                                 0.119768       0.598839  \n",
       "Democratic Republic of Congo               0.162066       0.810332  \n",
       "Oceania (SDG)                              0.227126       1.135629  \n",
       "Chad                                       0.269162       1.345812  \n",
       "...                                             ...            ...  \n",
       "Gibraltar                                  1.000000       5.000000  \n",
       "Slovakia                                   1.000000       5.000000  \n",
       "Singapore                                  1.000000       5.000000  \n",
       "Monaco                                     1.000000       5.000000  \n",
       "Greenland                                  1.000000       5.000000  \n",
       "\n",
       "[253 rows x 4 columns]"
      ]
     },
     "execution_count": 219,
     "metadata": {},
     "output_type": "execute_result"
    }
   ],
   "source": [
    "without_good_water = without_good_water.to_csv('norm_wo_goodwatersources0409_wpts.csv', index=False, header=True)"
   ]
  },
  {
   "cell_type": "code",
   "execution_count": 227,
   "id": "db8c4919-f88a-41bb-b438-7bb2d67c8e0b",
   "metadata": {},
   "outputs": [],
   "source": [
    "food_insecure = pd.read_csv(r\"C:\\Users\\eabro\\Documents\\NSS\\Python\\Projects\\Utopia\\data_grouped\\Maslow_A\\share-of-population-with-moderate-or-severe-food-insecurity\\share-of-population-with-moderate-or-severe-food-insecurity.csv\")"
   ]
  },
  {
   "cell_type": "code",
   "execution_count": 237,
   "id": "01b7f1ac-a28a-4daf-b400-c5820e7a211a",
   "metadata": {},
   "outputs": [],
   "source": [
    "food_insecure.columns = ['country', 'code', 'year', 'food_insecure']"
   ]
  },
  {
   "cell_type": "code",
   "execution_count": 243,
   "id": "2dd7df95-a438-423e-9e13-379221cfe413",
   "metadata": {},
   "outputs": [],
   "source": [
    "food_insecure = food_insecure.groupby('country').mean('food_insecure')"
   ]
  },
  {
   "cell_type": "code",
   "execution_count": 249,
   "id": "3cbaa437-b06a-498e-b30c-c8a3a39e2d3d",
   "metadata": {},
   "outputs": [
    {
     "data": {
      "text/html": [
       "<div>\n",
       "<style scoped>\n",
       "    .dataframe tbody tr th:only-of-type {\n",
       "        vertical-align: middle;\n",
       "    }\n",
       "\n",
       "    .dataframe tbody tr th {\n",
       "        vertical-align: top;\n",
       "    }\n",
       "\n",
       "    .dataframe thead th {\n",
       "        text-align: right;\n",
       "    }\n",
       "</style>\n",
       "<table border=\"1\" class=\"dataframe\">\n",
       "  <thead>\n",
       "    <tr style=\"text-align: right;\">\n",
       "      <th></th>\n",
       "      <th>year</th>\n",
       "      <th>food_insecure</th>\n",
       "    </tr>\n",
       "    <tr>\n",
       "      <th>country</th>\n",
       "      <th></th>\n",
       "      <th></th>\n",
       "    </tr>\n",
       "  </thead>\n",
       "  <tbody>\n",
       "    <tr>\n",
       "      <th>Italy</th>\n",
       "      <td>2021.500000</td>\n",
       "      <td>2.100000</td>\n",
       "    </tr>\n",
       "    <tr>\n",
       "      <th>Kazakhstan</th>\n",
       "      <td>2019.500000</td>\n",
       "      <td>2.416667</td>\n",
       "    </tr>\n",
       "    <tr>\n",
       "      <th>Switzerland</th>\n",
       "      <td>2018.500000</td>\n",
       "      <td>2.937500</td>\n",
       "    </tr>\n",
       "    <tr>\n",
       "      <th>Luxembourg</th>\n",
       "      <td>2018.500000</td>\n",
       "      <td>3.312500</td>\n",
       "    </tr>\n",
       "    <tr>\n",
       "      <th>Japan</th>\n",
       "      <td>2018.500000</td>\n",
       "      <td>3.600000</td>\n",
       "    </tr>\n",
       "    <tr>\n",
       "      <th>...</th>\n",
       "      <td>...</td>\n",
       "      <td>...</td>\n",
       "    </tr>\n",
       "    <tr>\n",
       "      <th>Liberia</th>\n",
       "      <td>2018.571429</td>\n",
       "      <td>80.685714</td>\n",
       "    </tr>\n",
       "    <tr>\n",
       "      <th>Central African Republic</th>\n",
       "      <td>2020.500000</td>\n",
       "      <td>81.300000</td>\n",
       "    </tr>\n",
       "    <tr>\n",
       "      <th>Haiti</th>\n",
       "      <td>2020.500000</td>\n",
       "      <td>82.650000</td>\n",
       "    </tr>\n",
       "    <tr>\n",
       "      <th>Sierra Leone</th>\n",
       "      <td>2018.500000</td>\n",
       "      <td>84.137500</td>\n",
       "    </tr>\n",
       "    <tr>\n",
       "      <th>South Sudan</th>\n",
       "      <td>2019.500000</td>\n",
       "      <td>86.116667</td>\n",
       "    </tr>\n",
       "  </tbody>\n",
       "</table>\n",
       "<p>189 rows × 2 columns</p>\n",
       "</div>"
      ],
      "text/plain": [
       "                                 year  food_insecure\n",
       "country                                             \n",
       "Italy                     2021.500000       2.100000\n",
       "Kazakhstan                2019.500000       2.416667\n",
       "Switzerland               2018.500000       2.937500\n",
       "Luxembourg                2018.500000       3.312500\n",
       "Japan                     2018.500000       3.600000\n",
       "...                               ...            ...\n",
       "Liberia                   2018.571429      80.685714\n",
       "Central African Republic  2020.500000      81.300000\n",
       "Haiti                     2020.500000      82.650000\n",
       "Sierra Leone              2018.500000      84.137500\n",
       "South Sudan               2019.500000      86.116667\n",
       "\n",
       "[189 rows x 2 columns]"
      ]
     },
     "execution_count": 249,
     "metadata": {},
     "output_type": "execute_result"
    }
   ],
   "source": [
    "food_insecure = food_insecure.sort_values('food_insecure', ascending = True)\n",
    "food_insecure"
   ]
  },
  {
   "cell_type": "code",
   "execution_count": 251,
   "id": "3998feb3-baf1-4fd3-9f9a-00a187d65430",
   "metadata": {},
   "outputs": [],
   "source": [
    "food_insecure['norm_food_insecure']= 1 - (food_insecure['food_insecure'] - food_insecure['food_insecure'].min()) / (food_insecure['food_insecure'].max() - food_insecure['food_insecure'].min())"
   ]
  },
  {
   "cell_type": "code",
   "execution_count": 255,
   "id": "dcc045da-fee0-4f5e-bcaa-a33d08d52151",
   "metadata": {},
   "outputs": [],
   "source": [
    "food_insecure['norm_with_pts'] = food_insecure['norm_food_insecure'] * 5"
   ]
  },
  {
   "cell_type": "code",
   "execution_count": 259,
   "id": "137bd8d6-0e02-4c56-957f-26b2cc4a907b",
   "metadata": {},
   "outputs": [
    {
     "data": {
      "text/html": [
       "<div>\n",
       "<style scoped>\n",
       "    .dataframe tbody tr th:only-of-type {\n",
       "        vertical-align: middle;\n",
       "    }\n",
       "\n",
       "    .dataframe tbody tr th {\n",
       "        vertical-align: top;\n",
       "    }\n",
       "\n",
       "    .dataframe thead th {\n",
       "        text-align: right;\n",
       "    }\n",
       "</style>\n",
       "<table border=\"1\" class=\"dataframe\">\n",
       "  <thead>\n",
       "    <tr style=\"text-align: right;\">\n",
       "      <th></th>\n",
       "      <th>year</th>\n",
       "      <th>food_insecure</th>\n",
       "      <th>norm_food_insecure</th>\n",
       "      <th>norm_with_pts</th>\n",
       "    </tr>\n",
       "    <tr>\n",
       "      <th>country</th>\n",
       "      <th></th>\n",
       "      <th></th>\n",
       "      <th></th>\n",
       "      <th></th>\n",
       "    </tr>\n",
       "  </thead>\n",
       "  <tbody>\n",
       "    <tr>\n",
       "      <th>Italy</th>\n",
       "      <td>2021.500000</td>\n",
       "      <td>2.100000</td>\n",
       "      <td>1.000000</td>\n",
       "      <td>5.000000</td>\n",
       "    </tr>\n",
       "    <tr>\n",
       "      <th>Kazakhstan</th>\n",
       "      <td>2019.500000</td>\n",
       "      <td>2.416667</td>\n",
       "      <td>0.996231</td>\n",
       "      <td>4.981155</td>\n",
       "    </tr>\n",
       "    <tr>\n",
       "      <th>Switzerland</th>\n",
       "      <td>2018.500000</td>\n",
       "      <td>2.937500</td>\n",
       "      <td>0.990032</td>\n",
       "      <td>4.950159</td>\n",
       "    </tr>\n",
       "    <tr>\n",
       "      <th>Luxembourg</th>\n",
       "      <td>2018.500000</td>\n",
       "      <td>3.312500</td>\n",
       "      <td>0.985568</td>\n",
       "      <td>4.927842</td>\n",
       "    </tr>\n",
       "    <tr>\n",
       "      <th>Japan</th>\n",
       "      <td>2018.500000</td>\n",
       "      <td>3.600000</td>\n",
       "      <td>0.982146</td>\n",
       "      <td>4.910732</td>\n",
       "    </tr>\n",
       "    <tr>\n",
       "      <th>...</th>\n",
       "      <td>...</td>\n",
       "      <td>...</td>\n",
       "      <td>...</td>\n",
       "      <td>...</td>\n",
       "    </tr>\n",
       "    <tr>\n",
       "      <th>Liberia</th>\n",
       "      <td>2018.571429</td>\n",
       "      <td>80.685714</td>\n",
       "      <td>0.064641</td>\n",
       "      <td>0.323207</td>\n",
       "    </tr>\n",
       "    <tr>\n",
       "      <th>Central African Republic</th>\n",
       "      <td>2020.500000</td>\n",
       "      <td>81.300000</td>\n",
       "      <td>0.057330</td>\n",
       "      <td>0.286649</td>\n",
       "    </tr>\n",
       "    <tr>\n",
       "      <th>Haiti</th>\n",
       "      <td>2020.500000</td>\n",
       "      <td>82.650000</td>\n",
       "      <td>0.041262</td>\n",
       "      <td>0.206308</td>\n",
       "    </tr>\n",
       "    <tr>\n",
       "      <th>Sierra Leone</th>\n",
       "      <td>2018.500000</td>\n",
       "      <td>84.137500</td>\n",
       "      <td>0.023557</td>\n",
       "      <td>0.117784</td>\n",
       "    </tr>\n",
       "    <tr>\n",
       "      <th>South Sudan</th>\n",
       "      <td>2019.500000</td>\n",
       "      <td>86.116667</td>\n",
       "      <td>0.000000</td>\n",
       "      <td>0.000000</td>\n",
       "    </tr>\n",
       "  </tbody>\n",
       "</table>\n",
       "<p>189 rows × 4 columns</p>\n",
       "</div>"
      ],
      "text/plain": [
       "                                 year  food_insecure  norm_food_insecure  \\\n",
       "country                                                                    \n",
       "Italy                     2021.500000       2.100000            1.000000   \n",
       "Kazakhstan                2019.500000       2.416667            0.996231   \n",
       "Switzerland               2018.500000       2.937500            0.990032   \n",
       "Luxembourg                2018.500000       3.312500            0.985568   \n",
       "Japan                     2018.500000       3.600000            0.982146   \n",
       "...                               ...            ...                 ...   \n",
       "Liberia                   2018.571429      80.685714            0.064641   \n",
       "Central African Republic  2020.500000      81.300000            0.057330   \n",
       "Haiti                     2020.500000      82.650000            0.041262   \n",
       "Sierra Leone              2018.500000      84.137500            0.023557   \n",
       "South Sudan               2019.500000      86.116667            0.000000   \n",
       "\n",
       "                          norm_with_pts  \n",
       "country                                  \n",
       "Italy                          5.000000  \n",
       "Kazakhstan                     4.981155  \n",
       "Switzerland                    4.950159  \n",
       "Luxembourg                     4.927842  \n",
       "Japan                          4.910732  \n",
       "...                                 ...  \n",
       "Liberia                        0.323207  \n",
       "Central African Republic       0.286649  \n",
       "Haiti                          0.206308  \n",
       "Sierra Leone                   0.117784  \n",
       "South Sudan                    0.000000  \n",
       "\n",
       "[189 rows x 4 columns]"
      ]
     },
     "execution_count": 259,
     "metadata": {},
     "output_type": "execute_result"
    }
   ],
   "source": [
    "food_insecure"
   ]
  },
  {
   "cell_type": "code",
   "execution_count": 261,
   "id": "a2dfd7ee-e473-4218-a6f7-d3cba1044c5c",
   "metadata": {},
   "outputs": [],
   "source": [
    "food_insecure = food_insecure.to_csv('food_insecure_norm_withpts.csv', index=False, header=True)"
   ]
  },
  {
   "cell_type": "code",
   "execution_count": 1488,
   "id": "ec30fec8-bdb8-4169-8633-2f828cfae4bb",
   "metadata": {},
   "outputs": [],
   "source": [
    "life_expect2 = pd.read_csv(r\"C:\\Users\\eabro\\Documents\\NSS\\Python\\Projects\\Utopia\\lifeexpect_avg_median.csv\")"
   ]
  },
  {
   "cell_type": "code",
   "execution_count": 1490,
   "id": "d23c34ea-27c6-4ee6-b824-2be13bfa43f3",
   "metadata": {},
   "outputs": [
    {
     "data": {
      "text/plain": [
       "year\n",
       "2018                                    259\n",
       " excluding China                          1\n",
       " excluding least developed countries      1\n",
       "Name: count, dtype: int64"
      ]
     },
     "execution_count": 1490,
     "metadata": {},
     "output_type": "execute_result"
    }
   ],
   "source": [
    "life_expect2.columns = ['country', 'year', 'avg_life', 'median_life', 'avg_med_life']\n",
    "life_expect2['year'].value_counts()"
   ]
  },
  {
   "cell_type": "code",
   "execution_count": 403,
   "id": "3daa3c6e-5c2b-4b85-8ab4-61e173cd4cdb",
   "metadata": {},
   "outputs": [],
   "source": [
    "# life_expect = life_expect.drop('Less developed regions', axis = 0, inplace = True)\n",
    "\n",
    "life_expect= life_expect[life_expect['country'] != 'Less developed regions']\n",
    "life_expect= life_expect[life_expect['country'] != 'Low-income countries']\n",
    "life_expect= life_expect[life_expect['country'] != 'Least developed countries']\n",
    "life_expect= life_expect[life_expect['country'] != 'Land-locked Developing Countries (LLDC)']\n",
    "life_expect= life_expect[life_expect['country'] != 'High-income countries']"
   ]
  },
  {
   "cell_type": "code",
   "execution_count": 409,
   "id": "054494ae-c6f7-47a8-b82c-d68035fdba5a",
   "metadata": {},
   "outputs": [],
   "source": [
    "life_expect['norm_life_expect'] =  (life_expect['avg_life'] - life_expect['avg_life'].min()) / (life_expect['avg_life'].max() - life_expect['avg_life'].min())"
   ]
  },
  {
   "cell_type": "code",
   "execution_count": 415,
   "id": "143b55f4-c261-4c03-923d-594696970709",
   "metadata": {},
   "outputs": [
    {
     "data": {
      "text/html": [
       "<div>\n",
       "<style scoped>\n",
       "    .dataframe tbody tr th:only-of-type {\n",
       "        vertical-align: middle;\n",
       "    }\n",
       "\n",
       "    .dataframe tbody tr th {\n",
       "        vertical-align: top;\n",
       "    }\n",
       "\n",
       "    .dataframe thead th {\n",
       "        text-align: right;\n",
       "    }\n",
       "</style>\n",
       "<table border=\"1\" class=\"dataframe\">\n",
       "  <thead>\n",
       "    <tr style=\"text-align: right;\">\n",
       "      <th></th>\n",
       "      <th>country</th>\n",
       "      <th>year</th>\n",
       "      <th>avg_life</th>\n",
       "      <th>median_life</th>\n",
       "      <th>avg_med_life</th>\n",
       "      <th>norm_life_expect</th>\n",
       "      <th>norm_with_pts</th>\n",
       "    </tr>\n",
       "  </thead>\n",
       "  <tbody>\n",
       "    <tr>\n",
       "      <th>155</th>\n",
       "      <td>Monaco</td>\n",
       "      <td>2018</td>\n",
       "      <td>85.69</td>\n",
       "      <td>85.75</td>\n",
       "      <td>85.72</td>\n",
       "      <td>1.000000</td>\n",
       "      <td>5.000000</td>\n",
       "    </tr>\n",
       "    <tr>\n",
       "      <th>205</th>\n",
       "      <td>San Marino</td>\n",
       "      <td>2018</td>\n",
       "      <td>84.62</td>\n",
       "      <td>84.78</td>\n",
       "      <td>84.70</td>\n",
       "      <td>0.974061</td>\n",
       "      <td>4.870303</td>\n",
       "    </tr>\n",
       "    <tr>\n",
       "      <th>99</th>\n",
       "      <td>Hong Kong</td>\n",
       "      <td>2018</td>\n",
       "      <td>84.53</td>\n",
       "      <td>84.66</td>\n",
       "      <td>84.60</td>\n",
       "      <td>0.971879</td>\n",
       "      <td>4.859394</td>\n",
       "    </tr>\n",
       "    <tr>\n",
       "      <th>111</th>\n",
       "      <td>Japan</td>\n",
       "      <td>2018</td>\n",
       "      <td>84.17</td>\n",
       "      <td>84.19</td>\n",
       "      <td>84.18</td>\n",
       "      <td>0.963152</td>\n",
       "      <td>4.815758</td>\n",
       "    </tr>\n",
       "    <tr>\n",
       "      <th>6</th>\n",
       "      <td>Andorra</td>\n",
       "      <td>2018</td>\n",
       "      <td>83.67</td>\n",
       "      <td>84.24</td>\n",
       "      <td>83.96</td>\n",
       "      <td>0.951030</td>\n",
       "      <td>4.755152</td>\n",
       "    </tr>\n",
       "    <tr>\n",
       "      <th>...</th>\n",
       "      <td>...</td>\n",
       "      <td>...</td>\n",
       "      <td>...</td>\n",
       "      <td>...</td>\n",
       "      <td>...</td>\n",
       "      <td>...</td>\n",
       "      <td>...</td>\n",
       "    </tr>\n",
       "    <tr>\n",
       "      <th>126</th>\n",
       "      <td>Lesotho</td>\n",
       "      <td>2018</td>\n",
       "      <td>53.85</td>\n",
       "      <td>54.21</td>\n",
       "      <td>54.03</td>\n",
       "      <td>0.228121</td>\n",
       "      <td>1.140606</td>\n",
       "    </tr>\n",
       "    <tr>\n",
       "      <th>171</th>\n",
       "      <td>Nigeria</td>\n",
       "      <td>2018</td>\n",
       "      <td>52.82</td>\n",
       "      <td>52.67</td>\n",
       "      <td>52.75</td>\n",
       "      <td>0.203152</td>\n",
       "      <td>1.015758</td>\n",
       "    </tr>\n",
       "    <tr>\n",
       "      <th>43</th>\n",
       "      <td>Chad</td>\n",
       "      <td>2018</td>\n",
       "      <td>52.57</td>\n",
       "      <td>52.45</td>\n",
       "      <td>52.51</td>\n",
       "      <td>0.197091</td>\n",
       "      <td>0.985455</td>\n",
       "    </tr>\n",
       "    <tr>\n",
       "      <th>221</th>\n",
       "      <td>South Sudan</td>\n",
       "      <td>2018</td>\n",
       "      <td>50.48</td>\n",
       "      <td>57.05</td>\n",
       "      <td>53.76</td>\n",
       "      <td>0.146424</td>\n",
       "      <td>0.732121</td>\n",
       "    </tr>\n",
       "    <tr>\n",
       "      <th>42</th>\n",
       "      <td>Central African Republic</td>\n",
       "      <td>2018</td>\n",
       "      <td>44.44</td>\n",
       "      <td>49.49</td>\n",
       "      <td>46.96</td>\n",
       "      <td>0.000000</td>\n",
       "      <td>0.000000</td>\n",
       "    </tr>\n",
       "  </tbody>\n",
       "</table>\n",
       "<p>254 rows × 7 columns</p>\n",
       "</div>"
      ],
      "text/plain": [
       "                      country  year  avg_life  median_life  avg_med_life  \\\n",
       "155                    Monaco  2018     85.69        85.75         85.72   \n",
       "205                San Marino  2018     84.62        84.78         84.70   \n",
       "99                  Hong Kong  2018     84.53        84.66         84.60   \n",
       "111                     Japan  2018     84.17        84.19         84.18   \n",
       "6                     Andorra  2018     83.67        84.24         83.96   \n",
       "..                        ...   ...       ...          ...           ...   \n",
       "126                   Lesotho  2018     53.85        54.21         54.03   \n",
       "171                   Nigeria  2018     52.82        52.67         52.75   \n",
       "43                       Chad  2018     52.57        52.45         52.51   \n",
       "221               South Sudan  2018     50.48        57.05         53.76   \n",
       "42   Central African Republic  2018     44.44        49.49         46.96   \n",
       "\n",
       "     norm_life_expect  norm_with_pts  \n",
       "155          1.000000       5.000000  \n",
       "205          0.974061       4.870303  \n",
       "99           0.971879       4.859394  \n",
       "111          0.963152       4.815758  \n",
       "6            0.951030       4.755152  \n",
       "..                ...            ...  \n",
       "126          0.228121       1.140606  \n",
       "171          0.203152       1.015758  \n",
       "43           0.197091       0.985455  \n",
       "221          0.146424       0.732121  \n",
       "42           0.000000       0.000000  \n",
       "\n",
       "[254 rows x 7 columns]"
      ]
     },
     "execution_count": 415,
     "metadata": {},
     "output_type": "execute_result"
    }
   ],
   "source": [
    "life_expect['norm_with_pts'] = life_expect['norm_life_expect'] * 5\n",
    "life_expect"
   ]
  },
  {
   "cell_type": "code",
   "execution_count": 417,
   "id": "0f07fa81-81ce-4b25-aee4-7ddc141e9f02",
   "metadata": {},
   "outputs": [],
   "source": [
    "life_expect = life_expect.to_csv('life_expect_norm_with_pts.csv', index=False, header=True)"
   ]
  },
  {
   "cell_type": "code",
   "execution_count": 291,
   "id": "c22ecf3f-dd85-4124-ae4f-2467e80da239",
   "metadata": {},
   "outputs": [],
   "source": [
    "pollution = pd.read_csv(r\"C:\\Users\\eabro\\Documents\\NSS\\Python\\Projects\\Utopia\\data_grouped\\pm25-air-pollution\\pm25-air-pollution.csv\")"
   ]
  },
  {
   "cell_type": "code",
   "execution_count": 295,
   "id": "cc2b47f3-840c-426c-a86f-d875adecc7ad",
   "metadata": {},
   "outputs": [],
   "source": [
    "pollution.columns = ['country', 'code', 'year', 'pm_score']"
   ]
  },
  {
   "cell_type": "code",
   "execution_count": 305,
   "id": "6c81ba72-dd22-428f-9501-20a65409a62c",
   "metadata": {},
   "outputs": [],
   "source": [
    "pollution['norm_pm'] = (pollution['pm_score'] - pollution['pm_score'].min()) / (pollution['pm_score'].max() - pollution['pm_score'].min())"
   ]
  },
  {
   "cell_type": "code",
   "execution_count": 335,
   "id": "3ed8a629-7210-43a2-aef8-5948eeda8f05",
   "metadata": {},
   "outputs": [],
   "source": [
    "pollution = pollution.reset_index()"
   ]
  },
  {
   "cell_type": "code",
   "execution_count": 367,
   "id": "882f0ece-789f-475c-bed5-daeed5f295c3",
   "metadata": {
    "collapsed": true,
    "jupyter": {
     "outputs_hidden": true
    },
    "scrolled": true
   },
   "outputs": [
    {
     "ename": "KeyError",
     "evalue": "\"['Oceania (exc. Australia and New Zealand) (UN)'] not found in axis\"",
     "output_type": "error",
     "traceback": [
      "\u001b[1;31m---------------------------------------------------------------------------\u001b[0m",
      "\u001b[1;31mKeyError\u001b[0m                                  Traceback (most recent call last)",
      "Cell \u001b[1;32mIn[367], line 1\u001b[0m\n\u001b[1;32m----> 1\u001b[0m pollution \u001b[38;5;241m=\u001b[39m pollution\u001b[38;5;241m.\u001b[39mdrop(\u001b[38;5;124m'\u001b[39m\u001b[38;5;124mOceania (exc. Australia and New Zealand) (UN)\u001b[39m\u001b[38;5;124m'\u001b[39m, axis \u001b[38;5;241m=\u001b[39m \u001b[38;5;241m0\u001b[39m, inplace \u001b[38;5;241m=\u001b[39m \u001b[38;5;28;01mTrue\u001b[39;00m)\n",
      "File \u001b[1;32m~\\anaconda3\\Lib\\site-packages\\pandas\\core\\frame.py:5581\u001b[0m, in \u001b[0;36mDataFrame.drop\u001b[1;34m(self, labels, axis, index, columns, level, inplace, errors)\u001b[0m\n\u001b[0;32m   5433\u001b[0m \u001b[38;5;28;01mdef\u001b[39;00m \u001b[38;5;21mdrop\u001b[39m(\n\u001b[0;32m   5434\u001b[0m     \u001b[38;5;28mself\u001b[39m,\n\u001b[0;32m   5435\u001b[0m     labels: IndexLabel \u001b[38;5;241m|\u001b[39m \u001b[38;5;28;01mNone\u001b[39;00m \u001b[38;5;241m=\u001b[39m \u001b[38;5;28;01mNone\u001b[39;00m,\n\u001b[1;32m   (...)\u001b[0m\n\u001b[0;32m   5442\u001b[0m     errors: IgnoreRaise \u001b[38;5;241m=\u001b[39m \u001b[38;5;124m\"\u001b[39m\u001b[38;5;124mraise\u001b[39m\u001b[38;5;124m\"\u001b[39m,\n\u001b[0;32m   5443\u001b[0m ) \u001b[38;5;241m-\u001b[39m\u001b[38;5;241m>\u001b[39m DataFrame \u001b[38;5;241m|\u001b[39m \u001b[38;5;28;01mNone\u001b[39;00m:\n\u001b[0;32m   5444\u001b[0m \u001b[38;5;250m    \u001b[39m\u001b[38;5;124;03m\"\"\"\u001b[39;00m\n\u001b[0;32m   5445\u001b[0m \u001b[38;5;124;03m    Drop specified labels from rows or columns.\u001b[39;00m\n\u001b[0;32m   5446\u001b[0m \n\u001b[1;32m   (...)\u001b[0m\n\u001b[0;32m   5579\u001b[0m \u001b[38;5;124;03m            weight  1.0     0.8\u001b[39;00m\n\u001b[0;32m   5580\u001b[0m \u001b[38;5;124;03m    \"\"\"\u001b[39;00m\n\u001b[1;32m-> 5581\u001b[0m     \u001b[38;5;28;01mreturn\u001b[39;00m \u001b[38;5;28msuper\u001b[39m()\u001b[38;5;241m.\u001b[39mdrop(\n\u001b[0;32m   5582\u001b[0m         labels\u001b[38;5;241m=\u001b[39mlabels,\n\u001b[0;32m   5583\u001b[0m         axis\u001b[38;5;241m=\u001b[39maxis,\n\u001b[0;32m   5584\u001b[0m         index\u001b[38;5;241m=\u001b[39mindex,\n\u001b[0;32m   5585\u001b[0m         columns\u001b[38;5;241m=\u001b[39mcolumns,\n\u001b[0;32m   5586\u001b[0m         level\u001b[38;5;241m=\u001b[39mlevel,\n\u001b[0;32m   5587\u001b[0m         inplace\u001b[38;5;241m=\u001b[39minplace,\n\u001b[0;32m   5588\u001b[0m         errors\u001b[38;5;241m=\u001b[39merrors,\n\u001b[0;32m   5589\u001b[0m     )\n",
      "File \u001b[1;32m~\\anaconda3\\Lib\\site-packages\\pandas\\core\\generic.py:4788\u001b[0m, in \u001b[0;36mNDFrame.drop\u001b[1;34m(self, labels, axis, index, columns, level, inplace, errors)\u001b[0m\n\u001b[0;32m   4786\u001b[0m \u001b[38;5;28;01mfor\u001b[39;00m axis, labels \u001b[38;5;129;01min\u001b[39;00m axes\u001b[38;5;241m.\u001b[39mitems():\n\u001b[0;32m   4787\u001b[0m     \u001b[38;5;28;01mif\u001b[39;00m labels \u001b[38;5;129;01mis\u001b[39;00m \u001b[38;5;129;01mnot\u001b[39;00m \u001b[38;5;28;01mNone\u001b[39;00m:\n\u001b[1;32m-> 4788\u001b[0m         obj \u001b[38;5;241m=\u001b[39m obj\u001b[38;5;241m.\u001b[39m_drop_axis(labels, axis, level\u001b[38;5;241m=\u001b[39mlevel, errors\u001b[38;5;241m=\u001b[39merrors)\n\u001b[0;32m   4790\u001b[0m \u001b[38;5;28;01mif\u001b[39;00m inplace:\n\u001b[0;32m   4791\u001b[0m     \u001b[38;5;28mself\u001b[39m\u001b[38;5;241m.\u001b[39m_update_inplace(obj)\n",
      "File \u001b[1;32m~\\anaconda3\\Lib\\site-packages\\pandas\\core\\generic.py:4830\u001b[0m, in \u001b[0;36mNDFrame._drop_axis\u001b[1;34m(self, labels, axis, level, errors, only_slice)\u001b[0m\n\u001b[0;32m   4828\u001b[0m         new_axis \u001b[38;5;241m=\u001b[39m axis\u001b[38;5;241m.\u001b[39mdrop(labels, level\u001b[38;5;241m=\u001b[39mlevel, errors\u001b[38;5;241m=\u001b[39merrors)\n\u001b[0;32m   4829\u001b[0m     \u001b[38;5;28;01melse\u001b[39;00m:\n\u001b[1;32m-> 4830\u001b[0m         new_axis \u001b[38;5;241m=\u001b[39m axis\u001b[38;5;241m.\u001b[39mdrop(labels, errors\u001b[38;5;241m=\u001b[39merrors)\n\u001b[0;32m   4831\u001b[0m     indexer \u001b[38;5;241m=\u001b[39m axis\u001b[38;5;241m.\u001b[39mget_indexer(new_axis)\n\u001b[0;32m   4833\u001b[0m \u001b[38;5;66;03m# Case for non-unique axis\u001b[39;00m\n\u001b[0;32m   4834\u001b[0m \u001b[38;5;28;01melse\u001b[39;00m:\n",
      "File \u001b[1;32m~\\anaconda3\\Lib\\site-packages\\pandas\\core\\indexes\\base.py:7070\u001b[0m, in \u001b[0;36mIndex.drop\u001b[1;34m(self, labels, errors)\u001b[0m\n\u001b[0;32m   7068\u001b[0m \u001b[38;5;28;01mif\u001b[39;00m mask\u001b[38;5;241m.\u001b[39many():\n\u001b[0;32m   7069\u001b[0m     \u001b[38;5;28;01mif\u001b[39;00m errors \u001b[38;5;241m!=\u001b[39m \u001b[38;5;124m\"\u001b[39m\u001b[38;5;124mignore\u001b[39m\u001b[38;5;124m\"\u001b[39m:\n\u001b[1;32m-> 7070\u001b[0m         \u001b[38;5;28;01mraise\u001b[39;00m \u001b[38;5;167;01mKeyError\u001b[39;00m(\u001b[38;5;124mf\u001b[39m\u001b[38;5;124m\"\u001b[39m\u001b[38;5;132;01m{\u001b[39;00mlabels[mask]\u001b[38;5;241m.\u001b[39mtolist()\u001b[38;5;132;01m}\u001b[39;00m\u001b[38;5;124m not found in axis\u001b[39m\u001b[38;5;124m\"\u001b[39m)\n\u001b[0;32m   7071\u001b[0m     indexer \u001b[38;5;241m=\u001b[39m indexer[\u001b[38;5;241m~\u001b[39mmask]\n\u001b[0;32m   7072\u001b[0m \u001b[38;5;28;01mreturn\u001b[39;00m \u001b[38;5;28mself\u001b[39m\u001b[38;5;241m.\u001b[39mdelete(indexer)\n",
      "\u001b[1;31mKeyError\u001b[0m: \"['Oceania (exc. Australia and New Zealand) (UN)'] not found in axis\""
     ]
    }
   ],
   "source": [
    "pollution = pollution.drop('Oceania (exc. Australia and New Zealand) (UN)', axis = 0, inplace = True)\n"
   ]
  },
  {
   "cell_type": "code",
   "execution_count": 365,
   "id": "fe507cdb-c776-48fb-ba01-abcc29c0db4f",
   "metadata": {
    "collapsed": true,
    "jupyter": {
     "outputs_hidden": true
    },
    "scrolled": true
   },
   "outputs": [
    {
     "data": {
      "text/plain": [
       "country\n",
       "Afghanistan                                      1\n",
       "Palau                                            1\n",
       "Nigeria                                          1\n",
       "Niue                                             1\n",
       "North Korea                                      1\n",
       "North Macedonia                                  1\n",
       "Northern Africa and Western Asia (UN)            1\n",
       "Northern America and Europe (UN)                 1\n",
       "Norway                                           1\n",
       "Oceania (exc. Australia and New Zealand) (UN)    1\n",
       "Oman                                             1\n",
       "Pakistan                                         1\n",
       "Palestine                                        1\n",
       "Nicaragua                                        1\n",
       "Panama                                           1\n",
       "Papua New Guinea                                 1\n",
       "Paraguay                                         1\n",
       "Peru                                             1\n",
       "Philippines                                      1\n",
       "Poland                                           1\n",
       "Portugal                                         1\n",
       "Qatar                                            1\n",
       "Romania                                          1\n",
       "Russia                                           1\n",
       "Niger                                            1\n",
       "New Zealand                                      1\n",
       "Saint Kitts and Nevis                            1\n",
       "Mexico                                           1\n",
       "Luxembourg                                       1\n",
       "Madagascar                                       1\n",
       "Malawi                                           1\n",
       "Malaysia                                         1\n",
       "Maldives                                         1\n",
       "Mali                                             1\n",
       "Malta                                            1\n",
       "Marshall Islands                                 1\n",
       "Mauritania                                       1\n",
       "Mauritius                                        1\n",
       "Micronesia (country)                             1\n",
       "Netherlands                                      1\n",
       "Moldova                                          1\n",
       "Monaco                                           1\n",
       "Mongolia                                         1\n",
       "Montenegro                                       1\n",
       "Morocco                                          1\n",
       "Mozambique                                       1\n",
       "Myanmar                                          1\n",
       "Namibia                                          1\n",
       "Nauru                                            1\n",
       "Nepal                                            1\n",
       "Name: count, dtype: int64"
      ]
     },
     "execution_count": 365,
     "metadata": {},
     "output_type": "execute_result"
    }
   ],
   "source": [
    "pollution['country'].value_counts().head(50)"
   ]
  },
  {
   "cell_type": "code",
   "execution_count": 419,
   "id": "77998b3f-65a4-4434-adac-13ef5767e4dd",
   "metadata": {},
   "outputs": [
    {
     "name": "stdout",
     "output_type": "stream",
     "text": [
      "C:\\Users\\eabro\\Documents\\NSS\\Python\\Projects\\Utopia\\EmilyBroh_Capstone\n"
     ]
    }
   ],
   "source": [
    "import os\n",
    "\n",
    "print(os.getcwd())\n"
   ]
  },
  {
   "cell_type": "code",
   "execution_count": 429,
   "id": "6d206543-386f-49d7-9868-13edebcaec58",
   "metadata": {},
   "outputs": [],
   "source": [
    "undernourish2 = pd.read_csv(r\"C:\\Users\\eabro\\Documents\\NSS\\Python\\Projects\\Utopia\\EmilyBroh_Capstone\\emilybroh_capstone\\norm_undernourish0409_high.csv\")"
   ]
  },
  {
   "cell_type": "code",
   "execution_count": 435,
   "id": "1d3497b7-682d-41eb-af4c-ede731ce9c48",
   "metadata": {},
   "outputs": [],
   "source": [
    "undernourish2['norm_undernourish'] =  (undernourish2['norm_undernourish'] - undernourish2['norm_undernourish'].min()) / (undernourish2['norm_undernourish'].max() - undernourish2['norm_undernourish'].min())"
   ]
  },
  {
   "cell_type": "code",
   "execution_count": 439,
   "id": "ecfff2cd-40b3-4c39-bfc3-dac5cc0d967a",
   "metadata": {},
   "outputs": [],
   "source": [
    "undernourish2['norm_with_pts'] = undernourish2['norm_undernourish'] * 5"
   ]
  },
  {
   "cell_type": "code",
   "execution_count": 443,
   "id": "2d40ddc9-28de-4b49-8067-fc7286f1f3d9",
   "metadata": {},
   "outputs": [],
   "source": [
    "undernourish2.to_csv('undernourish_norm_with_pts0410.csv', index=False, header=True)"
   ]
  },
  {
   "cell_type": "code",
   "execution_count": 445,
   "id": "1d0191c1-eae1-4feb-bb42-93a3713eb9a3",
   "metadata": {},
   "outputs": [],
   "source": [
    "food_insecure = pd.read_csv(r\"C:\\Users\\eabro\\Documents\\NSS\\Python\\Projects\\Utopia\\data_grouped\\Maslow_A\\share-of-population-with-moderate-or-severe-food-insecurity\\share-of-population-with-moderate-or-severe-food-insecurity.csv\")"
   ]
  },
  {
   "cell_type": "code",
   "execution_count": 449,
   "id": "b316dcc9-f21f-49a7-901f-90e26e5bb677",
   "metadata": {},
   "outputs": [],
   "source": [
    "food_insecure.columns = ['country', 'code', 'year',\n",
    "       'food_insecure_pct']"
   ]
  },
  {
   "cell_type": "code",
   "execution_count": 455,
   "id": "d71601e9-e7e5-4342-8971-0da25224f648",
   "metadata": {},
   "outputs": [],
   "source": [
    "food_insecure.to_csv('food_insecure_countryfilter.csv', index=False, header=True)"
   ]
  },
  {
   "cell_type": "code",
   "execution_count": 457,
   "id": "69d71d80-9f69-47eb-9af4-4dcfcd5cf763",
   "metadata": {},
   "outputs": [],
   "source": [
    "food_insecure_filtered = pd.read_csv(r\"C:\\Users\\eabro\\Documents\\NSS\\Python\\Projects\\Utopia\\EmilyBroh_Capstone\\food_insecure_countryfilter.csv\")"
   ]
  },
  {
   "cell_type": "code",
   "execution_count": 467,
   "id": "6c004f3f-aa00-4820-ae7b-07105e7275c2",
   "metadata": {},
   "outputs": [],
   "source": [
    "food_insecure2 = food_insecure_filtered.groupby('country').mean('food_insecure_pct')"
   ]
  },
  {
   "cell_type": "code",
   "execution_count": 473,
   "id": "58d6b746-cd09-476f-9e1f-7431bf3c3739",
   "metadata": {},
   "outputs": [],
   "source": [
    "food_insecure2 = food_insecure2.sort_values('food_insecure_pct', ascending = True)"
   ]
  },
  {
   "cell_type": "code",
   "execution_count": 485,
   "id": "8046aab9-fa49-475d-9ea1-9511be5c1224",
   "metadata": {},
   "outputs": [],
   "source": [
    "food_insecure2.to_csv('food_insecure_norm_with_pts0410.csv', index=False, header=True)"
   ]
  },
  {
   "cell_type": "code",
   "execution_count": 479,
   "id": "0fc66052-d7f1-4d9e-95d0-3feffd988f34",
   "metadata": {},
   "outputs": [],
   "source": [
    "food_insecure2['norm_foodinsecure_pct'] = 1- (food_insecure2['food_insecure_pct'] - food_insecure2['food_insecure_pct'].min()) / (food_insecure2['food_insecure_pct'].max() - food_insecure2['food_insecure_pct'].min())"
   ]
  },
  {
   "cell_type": "code",
   "execution_count": 483,
   "id": "88e964f8-5226-41e0-9918-9bddc2120bfe",
   "metadata": {},
   "outputs": [],
   "source": [
    "food_insecure2['norm_with_pts'] = food_insecure2['norm_foodinsecure_pct'] * 5"
   ]
  },
  {
   "cell_type": "code",
   "execution_count": 508,
   "id": "c1a7fe5b-78a6-4c5c-8e75-d5183669beda",
   "metadata": {},
   "outputs": [],
   "source": [
    "le = pd.read_csv(r\"C:\\Users\\eabro\\Documents\\NSS\\Python\\Projects\\Utopia\\EmilyBroh_Capstone\\emilybroh_capstone\\life_expect_norm_with_pts.csv\")"
   ]
  },
  {
   "cell_type": "code",
   "execution_count": 523,
   "id": "e5ce0b6b-ff79-499a-987f-a42f3e4953a4",
   "metadata": {},
   "outputs": [],
   "source": [
    "le['norm_life_expect'] = (le['norm_life_expect'] - le['norm_life_expect'].min()) / (le['norm_life_expect'].max() - le['norm_life_expect'].min())\n"
   ]
  },
  {
   "cell_type": "code",
   "execution_count": 527,
   "id": "138fd61b-fcde-457f-8d67-83fc4e802251",
   "metadata": {},
   "outputs": [],
   "source": [
    "le['norm_with_pts'] = le['norm_life_expect'] * 5"
   ]
  },
  {
   "cell_type": "code",
   "execution_count": 529,
   "id": "b3b6436e-1088-439c-bf04-ca75a78aa5ae",
   "metadata": {},
   "outputs": [
    {
     "data": {
      "text/html": [
       "<div>\n",
       "<style scoped>\n",
       "    .dataframe tbody tr th:only-of-type {\n",
       "        vertical-align: middle;\n",
       "    }\n",
       "\n",
       "    .dataframe tbody tr th {\n",
       "        vertical-align: top;\n",
       "    }\n",
       "\n",
       "    .dataframe thead th {\n",
       "        text-align: right;\n",
       "    }\n",
       "</style>\n",
       "<table border=\"1\" class=\"dataframe\">\n",
       "  <thead>\n",
       "    <tr style=\"text-align: right;\">\n",
       "      <th></th>\n",
       "      <th>country</th>\n",
       "      <th>year</th>\n",
       "      <th>avg_life</th>\n",
       "      <th>median_life</th>\n",
       "      <th>avg_med_life</th>\n",
       "      <th>norm_life_expect</th>\n",
       "      <th>norm_with_pts</th>\n",
       "    </tr>\n",
       "  </thead>\n",
       "  <tbody>\n",
       "    <tr>\n",
       "      <th>0</th>\n",
       "      <td>Monaco</td>\n",
       "      <td>2018</td>\n",
       "      <td>85.69</td>\n",
       "      <td>85.75</td>\n",
       "      <td>85.72</td>\n",
       "      <td>1.000000</td>\n",
       "      <td>5.000000</td>\n",
       "    </tr>\n",
       "    <tr>\n",
       "      <th>1</th>\n",
       "      <td>San Marino</td>\n",
       "      <td>2018</td>\n",
       "      <td>84.62</td>\n",
       "      <td>84.78</td>\n",
       "      <td>84.70</td>\n",
       "      <td>0.974061</td>\n",
       "      <td>4.870303</td>\n",
       "    </tr>\n",
       "    <tr>\n",
       "      <th>2</th>\n",
       "      <td>Hong Kong</td>\n",
       "      <td>2018</td>\n",
       "      <td>84.53</td>\n",
       "      <td>84.66</td>\n",
       "      <td>84.60</td>\n",
       "      <td>0.971879</td>\n",
       "      <td>4.859394</td>\n",
       "    </tr>\n",
       "    <tr>\n",
       "      <th>3</th>\n",
       "      <td>Japan</td>\n",
       "      <td>2018</td>\n",
       "      <td>84.17</td>\n",
       "      <td>84.19</td>\n",
       "      <td>84.18</td>\n",
       "      <td>0.963152</td>\n",
       "      <td>4.815758</td>\n",
       "    </tr>\n",
       "    <tr>\n",
       "      <th>4</th>\n",
       "      <td>Andorra</td>\n",
       "      <td>2018</td>\n",
       "      <td>83.67</td>\n",
       "      <td>84.24</td>\n",
       "      <td>83.96</td>\n",
       "      <td>0.951030</td>\n",
       "      <td>4.755152</td>\n",
       "    </tr>\n",
       "    <tr>\n",
       "      <th>...</th>\n",
       "      <td>...</td>\n",
       "      <td>...</td>\n",
       "      <td>...</td>\n",
       "      <td>...</td>\n",
       "      <td>...</td>\n",
       "      <td>...</td>\n",
       "      <td>...</td>\n",
       "    </tr>\n",
       "    <tr>\n",
       "      <th>238</th>\n",
       "      <td>Lesotho</td>\n",
       "      <td>2018</td>\n",
       "      <td>53.85</td>\n",
       "      <td>54.21</td>\n",
       "      <td>54.03</td>\n",
       "      <td>0.228121</td>\n",
       "      <td>1.140606</td>\n",
       "    </tr>\n",
       "    <tr>\n",
       "      <th>239</th>\n",
       "      <td>Nigeria</td>\n",
       "      <td>2018</td>\n",
       "      <td>52.82</td>\n",
       "      <td>52.67</td>\n",
       "      <td>52.75</td>\n",
       "      <td>0.203152</td>\n",
       "      <td>1.015758</td>\n",
       "    </tr>\n",
       "    <tr>\n",
       "      <th>240</th>\n",
       "      <td>Chad</td>\n",
       "      <td>2018</td>\n",
       "      <td>52.57</td>\n",
       "      <td>52.45</td>\n",
       "      <td>52.51</td>\n",
       "      <td>0.197091</td>\n",
       "      <td>0.985455</td>\n",
       "    </tr>\n",
       "    <tr>\n",
       "      <th>241</th>\n",
       "      <td>South Sudan</td>\n",
       "      <td>2018</td>\n",
       "      <td>50.48</td>\n",
       "      <td>57.05</td>\n",
       "      <td>53.76</td>\n",
       "      <td>0.146424</td>\n",
       "      <td>0.732121</td>\n",
       "    </tr>\n",
       "    <tr>\n",
       "      <th>242</th>\n",
       "      <td>Central African Republic</td>\n",
       "      <td>2018</td>\n",
       "      <td>44.44</td>\n",
       "      <td>49.49</td>\n",
       "      <td>46.96</td>\n",
       "      <td>0.000000</td>\n",
       "      <td>0.000000</td>\n",
       "    </tr>\n",
       "  </tbody>\n",
       "</table>\n",
       "<p>243 rows × 7 columns</p>\n",
       "</div>"
      ],
      "text/plain": [
       "                      country  year  avg_life  median_life  avg_med_life  \\\n",
       "0                      Monaco  2018     85.69        85.75         85.72   \n",
       "1                  San Marino  2018     84.62        84.78         84.70   \n",
       "2                   Hong Kong  2018     84.53        84.66         84.60   \n",
       "3                       Japan  2018     84.17        84.19         84.18   \n",
       "4                     Andorra  2018     83.67        84.24         83.96   \n",
       "..                        ...   ...       ...          ...           ...   \n",
       "238                   Lesotho  2018     53.85        54.21         54.03   \n",
       "239                   Nigeria  2018     52.82        52.67         52.75   \n",
       "240                      Chad  2018     52.57        52.45         52.51   \n",
       "241               South Sudan  2018     50.48        57.05         53.76   \n",
       "242  Central African Republic  2018     44.44        49.49         46.96   \n",
       "\n",
       "     norm_life_expect  norm_with_pts  \n",
       "0            1.000000       5.000000  \n",
       "1            0.974061       4.870303  \n",
       "2            0.971879       4.859394  \n",
       "3            0.963152       4.815758  \n",
       "4            0.951030       4.755152  \n",
       "..                ...            ...  \n",
       "238          0.228121       1.140606  \n",
       "239          0.203152       1.015758  \n",
       "240          0.197091       0.985455  \n",
       "241          0.146424       0.732121  \n",
       "242          0.000000       0.000000  \n",
       "\n",
       "[243 rows x 7 columns]"
      ]
     },
     "execution_count": 529,
     "metadata": {},
     "output_type": "execute_result"
    }
   ],
   "source": [
    "le"
   ]
  },
  {
   "cell_type": "code",
   "execution_count": 531,
   "id": "91e0d296-f250-4783-b61d-7e3dcd9c24e5",
   "metadata": {},
   "outputs": [],
   "source": [
    "le.to_csv('life_expect_norm_with_pts.csv', index=False, header=True)"
   ]
  },
  {
   "cell_type": "code",
   "execution_count": 533,
   "id": "2b741245-070a-407e-9106-f67f7f39e870",
   "metadata": {},
   "outputs": [],
   "source": [
    "child_mortality = pd.read_csv(r\"C:\\Users\\eabro\\Documents\\NSS\\Python\\Projects\\Utopia\\data\\child-mortality-rate-ihme\\child-mortality-rate-ihme.csv\")"
   ]
  },
  {
   "cell_type": "code",
   "execution_count": 543,
   "id": "022fedc3-0c52-433a-b80c-53ec795cabad",
   "metadata": {},
   "outputs": [],
   "source": [
    "child_mortality.columns = ['country', 'code', 'year', 'under_5yo_deaths']"
   ]
  },
  {
   "cell_type": "code",
   "execution_count": 549,
   "id": "4749c310-49d4-4c89-9dde-e935c5b45e90",
   "metadata": {},
   "outputs": [],
   "source": [
    "child_mortality = child_mortality.loc[child_mortality['year'] >= 2009]"
   ]
  },
  {
   "cell_type": "code",
   "execution_count": 553,
   "id": "916397f9-ccc4-4300-b803-4de008b0ceeb",
   "metadata": {},
   "outputs": [],
   "source": [
    "child_mortality = child_mortality.groupby('country').mean('under_5yo_deaths')"
   ]
  },
  {
   "cell_type": "code",
   "execution_count": 561,
   "id": "ecf0d15b-dbee-4c10-b4cd-56b707b02f92",
   "metadata": {},
   "outputs": [],
   "source": [
    "child_mortality = child_mortality.reset_index()"
   ]
  },
  {
   "cell_type": "code",
   "execution_count": 563,
   "id": "4f7ef2d3-cf23-40af-8b0d-e46dfb4e40a6",
   "metadata": {},
   "outputs": [],
   "source": [
    "child_mortality.to_csv('child_mortality.csv', index=False, header=True)"
   ]
  },
  {
   "cell_type": "code",
   "execution_count": 565,
   "id": "d5ae5799-b851-4cbc-9d92-c24e57532933",
   "metadata": {},
   "outputs": [],
   "source": [
    "child_mortality = child_mortality.sort_values('under_5yo_deaths', ascending = True)"
   ]
  },
  {
   "cell_type": "code",
   "execution_count": 569,
   "id": "149e48bb-6a42-4be9-ab5b-bf38d116b2ac",
   "metadata": {},
   "outputs": [],
   "source": [
    "child_mortality['norm_deaths_pct'] = 1 - (child_mortality['under_5yo_deaths'] - child_mortality['under_5yo_deaths'].min()) / (child_mortality['under_5yo_deaths'].max() - child_mortality['under_5yo_deaths'].min())"
   ]
  },
  {
   "cell_type": "code",
   "execution_count": 575,
   "id": "cefe2f22-aad4-4921-a954-b532bb3d85b6",
   "metadata": {},
   "outputs": [],
   "source": [
    "child_mortality['norm_with_pts']= child_mortality['norm_deaths_pct'] * 5"
   ]
  },
  {
   "cell_type": "code",
   "execution_count": 577,
   "id": "1e698af6-0eb4-44ac-a55c-210bf8317ff2",
   "metadata": {},
   "outputs": [
    {
     "data": {
      "text/html": [
       "<div>\n",
       "<style scoped>\n",
       "    .dataframe tbody tr th:only-of-type {\n",
       "        vertical-align: middle;\n",
       "    }\n",
       "\n",
       "    .dataframe tbody tr th {\n",
       "        vertical-align: top;\n",
       "    }\n",
       "\n",
       "    .dataframe thead th {\n",
       "        text-align: right;\n",
       "    }\n",
       "</style>\n",
       "<table border=\"1\" class=\"dataframe\">\n",
       "  <thead>\n",
       "    <tr style=\"text-align: right;\">\n",
       "      <th></th>\n",
       "      <th>country</th>\n",
       "      <th>year</th>\n",
       "      <th>under_5yo_deaths</th>\n",
       "      <th>norm_deaths_pct</th>\n",
       "      <th>norm_with_pts</th>\n",
       "    </tr>\n",
       "  </thead>\n",
       "  <tbody>\n",
       "    <tr>\n",
       "      <th>163</th>\n",
       "      <td>Singapore</td>\n",
       "      <td>2014.0</td>\n",
       "      <td>0.216364</td>\n",
       "      <td>1.000000</td>\n",
       "      <td>5.000000</td>\n",
       "    </tr>\n",
       "    <tr>\n",
       "      <th>4</th>\n",
       "      <td>Andorra</td>\n",
       "      <td>2014.0</td>\n",
       "      <td>0.226364</td>\n",
       "      <td>0.999297</td>\n",
       "      <td>4.996485</td>\n",
       "    </tr>\n",
       "    <tr>\n",
       "      <th>81</th>\n",
       "      <td>Iceland</td>\n",
       "      <td>2014.0</td>\n",
       "      <td>0.250909</td>\n",
       "      <td>0.997572</td>\n",
       "      <td>4.987859</td>\n",
       "    </tr>\n",
       "    <tr>\n",
       "      <th>63</th>\n",
       "      <td>Finland</td>\n",
       "      <td>2014.0</td>\n",
       "      <td>0.257273</td>\n",
       "      <td>0.997124</td>\n",
       "      <td>4.985622</td>\n",
       "    </tr>\n",
       "    <tr>\n",
       "      <th>165</th>\n",
       "      <td>Slovenia</td>\n",
       "      <td>2014.0</td>\n",
       "      <td>0.263636</td>\n",
       "      <td>0.996677</td>\n",
       "      <td>4.983386</td>\n",
       "    </tr>\n",
       "    <tr>\n",
       "      <th>...</th>\n",
       "      <td>...</td>\n",
       "      <td>...</td>\n",
       "      <td>...</td>\n",
       "      <td>...</td>\n",
       "      <td>...</td>\n",
       "    </tr>\n",
       "    <tr>\n",
       "      <th>162</th>\n",
       "      <td>Sierra Leone</td>\n",
       "      <td>2014.0</td>\n",
       "      <td>12.952727</td>\n",
       "      <td>0.104735</td>\n",
       "      <td>0.523676</td>\n",
       "    </tr>\n",
       "    <tr>\n",
       "      <th>129</th>\n",
       "      <td>Niger</td>\n",
       "      <td>2014.0</td>\n",
       "      <td>13.067273</td>\n",
       "      <td>0.096683</td>\n",
       "      <td>0.483417</td>\n",
       "    </tr>\n",
       "    <tr>\n",
       "      <th>35</th>\n",
       "      <td>Chad</td>\n",
       "      <td>2014.0</td>\n",
       "      <td>13.180000</td>\n",
       "      <td>0.088760</td>\n",
       "      <td>0.443798</td>\n",
       "    </tr>\n",
       "    <tr>\n",
       "      <th>109</th>\n",
       "      <td>Mali</td>\n",
       "      <td>2014.0</td>\n",
       "      <td>13.792727</td>\n",
       "      <td>0.045690</td>\n",
       "      <td>0.228449</td>\n",
       "    </tr>\n",
       "    <tr>\n",
       "      <th>34</th>\n",
       "      <td>Central African Republic</td>\n",
       "      <td>2014.0</td>\n",
       "      <td>14.442727</td>\n",
       "      <td>0.000000</td>\n",
       "      <td>0.000000</td>\n",
       "    </tr>\n",
       "  </tbody>\n",
       "</table>\n",
       "<p>205 rows × 5 columns</p>\n",
       "</div>"
      ],
      "text/plain": [
       "                      country    year  under_5yo_deaths  norm_deaths_pct  \\\n",
       "163                 Singapore  2014.0          0.216364         1.000000   \n",
       "4                     Andorra  2014.0          0.226364         0.999297   \n",
       "81                    Iceland  2014.0          0.250909         0.997572   \n",
       "63                    Finland  2014.0          0.257273         0.997124   \n",
       "165                  Slovenia  2014.0          0.263636         0.996677   \n",
       "..                        ...     ...               ...              ...   \n",
       "162              Sierra Leone  2014.0         12.952727         0.104735   \n",
       "129                     Niger  2014.0         13.067273         0.096683   \n",
       "35                       Chad  2014.0         13.180000         0.088760   \n",
       "109                      Mali  2014.0         13.792727         0.045690   \n",
       "34   Central African Republic  2014.0         14.442727         0.000000   \n",
       "\n",
       "     norm_with_pts  \n",
       "163       5.000000  \n",
       "4         4.996485  \n",
       "81        4.987859  \n",
       "63        4.985622  \n",
       "165       4.983386  \n",
       "..             ...  \n",
       "162       0.523676  \n",
       "129       0.483417  \n",
       "35        0.443798  \n",
       "109       0.228449  \n",
       "34        0.000000  \n",
       "\n",
       "[205 rows x 5 columns]"
      ]
     },
     "execution_count": 577,
     "metadata": {},
     "output_type": "execute_result"
    }
   ],
   "source": [
    "child_mortality"
   ]
  },
  {
   "cell_type": "code",
   "execution_count": 579,
   "id": "3d482c27-bf99-4f78-a66d-ac2e6196fa65",
   "metadata": {},
   "outputs": [],
   "source": [
    "child_mortality.to_csv('child_mortality_norm_with_pts_onlycountries.csv', index=False, header=True)"
   ]
  },
  {
   "cell_type": "code",
   "execution_count": 581,
   "id": "452d39e6-e784-4715-87b4-3ba461900b8b",
   "metadata": {},
   "outputs": [],
   "source": [
    "maternal = pd.read_csv(r\"C:\\Users\\eabro\\Downloads\\maternal-mortality\\maternal-mortality.csv\")"
   ]
  },
  {
   "cell_type": "code",
   "execution_count": 595,
   "id": "585c43ea-7021-41ac-afde-d33ad301f813",
   "metadata": {
    "collapsed": true,
    "jupyter": {
     "outputs_hidden": true
    },
    "scrolled": true
   },
   "outputs": [
    {
     "ename": "KeyError",
     "evalue": "\"['959831-annotations'] not found in axis\"",
     "output_type": "error",
     "traceback": [
      "\u001b[1;31m---------------------------------------------------------------------------\u001b[0m",
      "\u001b[1;31mKeyError\u001b[0m                                  Traceback (most recent call last)",
      "Cell \u001b[1;32mIn[595], line 1\u001b[0m\n\u001b[1;32m----> 1\u001b[0m maternal \u001b[38;5;241m=\u001b[39m maternal\u001b[38;5;241m.\u001b[39mdrop(\u001b[38;5;124m'\u001b[39m\u001b[38;5;124m959831-annotations\u001b[39m\u001b[38;5;124m'\u001b[39m, axis \u001b[38;5;241m=\u001b[39m \u001b[38;5;241m1\u001b[39m)\n",
      "File \u001b[1;32m~\\anaconda3\\Lib\\site-packages\\pandas\\core\\frame.py:5581\u001b[0m, in \u001b[0;36mDataFrame.drop\u001b[1;34m(self, labels, axis, index, columns, level, inplace, errors)\u001b[0m\n\u001b[0;32m   5433\u001b[0m \u001b[38;5;28;01mdef\u001b[39;00m \u001b[38;5;21mdrop\u001b[39m(\n\u001b[0;32m   5434\u001b[0m     \u001b[38;5;28mself\u001b[39m,\n\u001b[0;32m   5435\u001b[0m     labels: IndexLabel \u001b[38;5;241m|\u001b[39m \u001b[38;5;28;01mNone\u001b[39;00m \u001b[38;5;241m=\u001b[39m \u001b[38;5;28;01mNone\u001b[39;00m,\n\u001b[1;32m   (...)\u001b[0m\n\u001b[0;32m   5442\u001b[0m     errors: IgnoreRaise \u001b[38;5;241m=\u001b[39m \u001b[38;5;124m\"\u001b[39m\u001b[38;5;124mraise\u001b[39m\u001b[38;5;124m\"\u001b[39m,\n\u001b[0;32m   5443\u001b[0m ) \u001b[38;5;241m-\u001b[39m\u001b[38;5;241m>\u001b[39m DataFrame \u001b[38;5;241m|\u001b[39m \u001b[38;5;28;01mNone\u001b[39;00m:\n\u001b[0;32m   5444\u001b[0m \u001b[38;5;250m    \u001b[39m\u001b[38;5;124;03m\"\"\"\u001b[39;00m\n\u001b[0;32m   5445\u001b[0m \u001b[38;5;124;03m    Drop specified labels from rows or columns.\u001b[39;00m\n\u001b[0;32m   5446\u001b[0m \n\u001b[1;32m   (...)\u001b[0m\n\u001b[0;32m   5579\u001b[0m \u001b[38;5;124;03m            weight  1.0     0.8\u001b[39;00m\n\u001b[0;32m   5580\u001b[0m \u001b[38;5;124;03m    \"\"\"\u001b[39;00m\n\u001b[1;32m-> 5581\u001b[0m     \u001b[38;5;28;01mreturn\u001b[39;00m \u001b[38;5;28msuper\u001b[39m()\u001b[38;5;241m.\u001b[39mdrop(\n\u001b[0;32m   5582\u001b[0m         labels\u001b[38;5;241m=\u001b[39mlabels,\n\u001b[0;32m   5583\u001b[0m         axis\u001b[38;5;241m=\u001b[39maxis,\n\u001b[0;32m   5584\u001b[0m         index\u001b[38;5;241m=\u001b[39mindex,\n\u001b[0;32m   5585\u001b[0m         columns\u001b[38;5;241m=\u001b[39mcolumns,\n\u001b[0;32m   5586\u001b[0m         level\u001b[38;5;241m=\u001b[39mlevel,\n\u001b[0;32m   5587\u001b[0m         inplace\u001b[38;5;241m=\u001b[39minplace,\n\u001b[0;32m   5588\u001b[0m         errors\u001b[38;5;241m=\u001b[39merrors,\n\u001b[0;32m   5589\u001b[0m     )\n",
      "File \u001b[1;32m~\\anaconda3\\Lib\\site-packages\\pandas\\core\\generic.py:4788\u001b[0m, in \u001b[0;36mNDFrame.drop\u001b[1;34m(self, labels, axis, index, columns, level, inplace, errors)\u001b[0m\n\u001b[0;32m   4786\u001b[0m \u001b[38;5;28;01mfor\u001b[39;00m axis, labels \u001b[38;5;129;01min\u001b[39;00m axes\u001b[38;5;241m.\u001b[39mitems():\n\u001b[0;32m   4787\u001b[0m     \u001b[38;5;28;01mif\u001b[39;00m labels \u001b[38;5;129;01mis\u001b[39;00m \u001b[38;5;129;01mnot\u001b[39;00m \u001b[38;5;28;01mNone\u001b[39;00m:\n\u001b[1;32m-> 4788\u001b[0m         obj \u001b[38;5;241m=\u001b[39m obj\u001b[38;5;241m.\u001b[39m_drop_axis(labels, axis, level\u001b[38;5;241m=\u001b[39mlevel, errors\u001b[38;5;241m=\u001b[39merrors)\n\u001b[0;32m   4790\u001b[0m \u001b[38;5;28;01mif\u001b[39;00m inplace:\n\u001b[0;32m   4791\u001b[0m     \u001b[38;5;28mself\u001b[39m\u001b[38;5;241m.\u001b[39m_update_inplace(obj)\n",
      "File \u001b[1;32m~\\anaconda3\\Lib\\site-packages\\pandas\\core\\generic.py:4830\u001b[0m, in \u001b[0;36mNDFrame._drop_axis\u001b[1;34m(self, labels, axis, level, errors, only_slice)\u001b[0m\n\u001b[0;32m   4828\u001b[0m         new_axis \u001b[38;5;241m=\u001b[39m axis\u001b[38;5;241m.\u001b[39mdrop(labels, level\u001b[38;5;241m=\u001b[39mlevel, errors\u001b[38;5;241m=\u001b[39merrors)\n\u001b[0;32m   4829\u001b[0m     \u001b[38;5;28;01melse\u001b[39;00m:\n\u001b[1;32m-> 4830\u001b[0m         new_axis \u001b[38;5;241m=\u001b[39m axis\u001b[38;5;241m.\u001b[39mdrop(labels, errors\u001b[38;5;241m=\u001b[39merrors)\n\u001b[0;32m   4831\u001b[0m     indexer \u001b[38;5;241m=\u001b[39m axis\u001b[38;5;241m.\u001b[39mget_indexer(new_axis)\n\u001b[0;32m   4833\u001b[0m \u001b[38;5;66;03m# Case for non-unique axis\u001b[39;00m\n\u001b[0;32m   4834\u001b[0m \u001b[38;5;28;01melse\u001b[39;00m:\n",
      "File \u001b[1;32m~\\anaconda3\\Lib\\site-packages\\pandas\\core\\indexes\\base.py:7070\u001b[0m, in \u001b[0;36mIndex.drop\u001b[1;34m(self, labels, errors)\u001b[0m\n\u001b[0;32m   7068\u001b[0m \u001b[38;5;28;01mif\u001b[39;00m mask\u001b[38;5;241m.\u001b[39many():\n\u001b[0;32m   7069\u001b[0m     \u001b[38;5;28;01mif\u001b[39;00m errors \u001b[38;5;241m!=\u001b[39m \u001b[38;5;124m\"\u001b[39m\u001b[38;5;124mignore\u001b[39m\u001b[38;5;124m\"\u001b[39m:\n\u001b[1;32m-> 7070\u001b[0m         \u001b[38;5;28;01mraise\u001b[39;00m \u001b[38;5;167;01mKeyError\u001b[39;00m(\u001b[38;5;124mf\u001b[39m\u001b[38;5;124m\"\u001b[39m\u001b[38;5;132;01m{\u001b[39;00mlabels[mask]\u001b[38;5;241m.\u001b[39mtolist()\u001b[38;5;132;01m}\u001b[39;00m\u001b[38;5;124m not found in axis\u001b[39m\u001b[38;5;124m\"\u001b[39m)\n\u001b[0;32m   7071\u001b[0m     indexer \u001b[38;5;241m=\u001b[39m indexer[\u001b[38;5;241m~\u001b[39mmask]\n\u001b[0;32m   7072\u001b[0m \u001b[38;5;28;01mreturn\u001b[39;00m \u001b[38;5;28mself\u001b[39m\u001b[38;5;241m.\u001b[39mdelete(indexer)\n",
      "\u001b[1;31mKeyError\u001b[0m: \"['959831-annotations'] not found in axis\""
     ]
    }
   ],
   "source": [
    "maternal = maternal.drop('959831-annotations', axis = 1)"
   ]
  },
  {
   "cell_type": "code",
   "execution_count": 599,
   "id": "ccee587e-3bec-4bd5-9ac8-df976247dc80",
   "metadata": {},
   "outputs": [],
   "source": [
    "maternal.columns = ['country', 'code', 'year', 'maternal_mortality']"
   ]
  },
  {
   "cell_type": "code",
   "execution_count": 597,
   "id": "82aeac8e-67a3-4e22-b173-9cb9888c1909",
   "metadata": {},
   "outputs": [
    {
     "data": {
      "text/plain": [
       "Index(['Entity', 'Code', 'Year', 'Maternal mortality ratio'], dtype='object')"
      ]
     },
     "execution_count": 597,
     "metadata": {},
     "output_type": "execute_result"
    }
   ],
   "source": [
    "maternal.columns"
   ]
  },
  {
   "cell_type": "code",
   "execution_count": 609,
   "id": "2d29c18c-6613-4193-9be5-053a64895989",
   "metadata": {},
   "outputs": [
    {
     "data": {
      "text/plain": [
       "2020"
      ]
     },
     "execution_count": 609,
     "metadata": {},
     "output_type": "execute_result"
    }
   ],
   "source": [
    "maternal['year'].max()"
   ]
  },
  {
   "cell_type": "code",
   "execution_count": 611,
   "id": "ce1a82ae-88c3-4a6c-aaf2-2ada09828010",
   "metadata": {},
   "outputs": [],
   "source": [
    "maternal = maternal.loc[maternal['year'] >= 2010]"
   ]
  },
  {
   "cell_type": "code",
   "execution_count": 613,
   "id": "098222ee-db49-4335-9d33-5d49587927a2",
   "metadata": {},
   "outputs": [
    {
     "data": {
      "text/html": [
       "<div>\n",
       "<style scoped>\n",
       "    .dataframe tbody tr th:only-of-type {\n",
       "        vertical-align: middle;\n",
       "    }\n",
       "\n",
       "    .dataframe tbody tr th {\n",
       "        vertical-align: top;\n",
       "    }\n",
       "\n",
       "    .dataframe thead th {\n",
       "        text-align: right;\n",
       "    }\n",
       "</style>\n",
       "<table border=\"1\" class=\"dataframe\">\n",
       "  <thead>\n",
       "    <tr style=\"text-align: right;\">\n",
       "      <th></th>\n",
       "      <th>country</th>\n",
       "      <th>code</th>\n",
       "      <th>year</th>\n",
       "      <th>maternal_mortality</th>\n",
       "    </tr>\n",
       "  </thead>\n",
       "  <tbody>\n",
       "    <tr>\n",
       "      <th>25</th>\n",
       "      <td>Afghanistan</td>\n",
       "      <td>AFG</td>\n",
       "      <td>2010</td>\n",
       "      <td>898.66920</td>\n",
       "    </tr>\n",
       "    <tr>\n",
       "      <th>26</th>\n",
       "      <td>Afghanistan</td>\n",
       "      <td>AFG</td>\n",
       "      <td>2011</td>\n",
       "      <td>883.71390</td>\n",
       "    </tr>\n",
       "    <tr>\n",
       "      <th>27</th>\n",
       "      <td>Afghanistan</td>\n",
       "      <td>AFG</td>\n",
       "      <td>2012</td>\n",
       "      <td>833.47720</td>\n",
       "    </tr>\n",
       "    <tr>\n",
       "      <th>28</th>\n",
       "      <td>Afghanistan</td>\n",
       "      <td>AFG</td>\n",
       "      <td>2013</td>\n",
       "      <td>820.68536</td>\n",
       "    </tr>\n",
       "    <tr>\n",
       "      <th>29</th>\n",
       "      <td>Afghanistan</td>\n",
       "      <td>AFG</td>\n",
       "      <td>2014</td>\n",
       "      <td>785.35406</td>\n",
       "    </tr>\n",
       "    <tr>\n",
       "      <th>...</th>\n",
       "      <td>...</td>\n",
       "      <td>...</td>\n",
       "      <td>...</td>\n",
       "      <td>...</td>\n",
       "    </tr>\n",
       "    <tr>\n",
       "      <th>9259</th>\n",
       "      <td>Zimbabwe</td>\n",
       "      <td>ZWE</td>\n",
       "      <td>2016</td>\n",
       "      <td>399.75750</td>\n",
       "    </tr>\n",
       "    <tr>\n",
       "      <th>9260</th>\n",
       "      <td>Zimbabwe</td>\n",
       "      <td>ZWE</td>\n",
       "      <td>2017</td>\n",
       "      <td>366.38100</td>\n",
       "    </tr>\n",
       "    <tr>\n",
       "      <th>9261</th>\n",
       "      <td>Zimbabwe</td>\n",
       "      <td>ZWE</td>\n",
       "      <td>2018</td>\n",
       "      <td>358.50350</td>\n",
       "    </tr>\n",
       "    <tr>\n",
       "      <th>9262</th>\n",
       "      <td>Zimbabwe</td>\n",
       "      <td>ZWE</td>\n",
       "      <td>2019</td>\n",
       "      <td>393.17630</td>\n",
       "    </tr>\n",
       "    <tr>\n",
       "      <th>9263</th>\n",
       "      <td>Zimbabwe</td>\n",
       "      <td>ZWE</td>\n",
       "      <td>2020</td>\n",
       "      <td>356.75890</td>\n",
       "    </tr>\n",
       "  </tbody>\n",
       "</table>\n",
       "<p>2176 rows × 4 columns</p>\n",
       "</div>"
      ],
      "text/plain": [
       "          country code  year  maternal_mortality\n",
       "25    Afghanistan  AFG  2010           898.66920\n",
       "26    Afghanistan  AFG  2011           883.71390\n",
       "27    Afghanistan  AFG  2012           833.47720\n",
       "28    Afghanistan  AFG  2013           820.68536\n",
       "29    Afghanistan  AFG  2014           785.35406\n",
       "...           ...  ...   ...                 ...\n",
       "9259     Zimbabwe  ZWE  2016           399.75750\n",
       "9260     Zimbabwe  ZWE  2017           366.38100\n",
       "9261     Zimbabwe  ZWE  2018           358.50350\n",
       "9262     Zimbabwe  ZWE  2019           393.17630\n",
       "9263     Zimbabwe  ZWE  2020           356.75890\n",
       "\n",
       "[2176 rows x 4 columns]"
      ]
     },
     "execution_count": 613,
     "metadata": {},
     "output_type": "execute_result"
    }
   ],
   "source": [
    "maternal"
   ]
  },
  {
   "cell_type": "code",
   "execution_count": 615,
   "id": "843e1761-1e09-43ce-b0e1-88a179b9e493",
   "metadata": {},
   "outputs": [],
   "source": [
    "maternal.to_csv('maternal_mortality.csv', index=False, header=True)"
   ]
  },
  {
   "cell_type": "code",
   "execution_count": 617,
   "id": "ce872d83-7dc6-4764-a2dd-16ca15478226",
   "metadata": {},
   "outputs": [],
   "source": [
    "maternal = pd.read_csv(r\"C:\\Users\\eabro\\Documents\\NSS\\Python\\Projects\\Utopia\\EmilyBroh_Capstone\\maternal_mortality.csv\")"
   ]
  },
  {
   "cell_type": "code",
   "execution_count": 625,
   "id": "12facbce-eb8d-48ca-ace1-dcfa2915552e",
   "metadata": {},
   "outputs": [],
   "source": [
    "maternal = maternal.groupby('country').mean('maternal_mortality').reset_index()"
   ]
  },
  {
   "cell_type": "code",
   "execution_count": 631,
   "id": "3fd0d6e6-7323-48c7-ae17-8e8a03c388c7",
   "metadata": {},
   "outputs": [],
   "source": [
    "maternal['norm_maternal_mortality'] = (maternal['maternal_mortality'] - maternal['maternal_mortality'].min()) / (maternal['maternal_mortality'].max() - maternal['maternal_mortality'].min())"
   ]
  },
  {
   "cell_type": "code",
   "execution_count": 635,
   "id": "4fab4f25-17ab-4b6a-b1a6-ececbf440367",
   "metadata": {},
   "outputs": [
    {
     "data": {
      "text/html": [
       "<div>\n",
       "<style scoped>\n",
       "    .dataframe tbody tr th:only-of-type {\n",
       "        vertical-align: middle;\n",
       "    }\n",
       "\n",
       "    .dataframe tbody tr th {\n",
       "        vertical-align: top;\n",
       "    }\n",
       "\n",
       "    .dataframe thead th {\n",
       "        text-align: right;\n",
       "    }\n",
       "</style>\n",
       "<table border=\"1\" class=\"dataframe\">\n",
       "  <thead>\n",
       "    <tr style=\"text-align: right;\">\n",
       "      <th></th>\n",
       "      <th>country</th>\n",
       "      <th>year</th>\n",
       "      <th>maternal_mortality</th>\n",
       "      <th>norm_maternal_mortality</th>\n",
       "    </tr>\n",
       "  </thead>\n",
       "  <tbody>\n",
       "    <tr>\n",
       "      <th>14</th>\n",
       "      <td>Belarus</td>\n",
       "      <td>2015.000000</td>\n",
       "      <td>1.591843</td>\n",
       "      <td>0.000000</td>\n",
       "    </tr>\n",
       "    <tr>\n",
       "      <th>74</th>\n",
       "      <td>Hong Kong</td>\n",
       "      <td>2013.166667</td>\n",
       "      <td>1.764561</td>\n",
       "      <td>0.000146</td>\n",
       "    </tr>\n",
       "    <tr>\n",
       "      <th>135</th>\n",
       "      <td>Poland</td>\n",
       "      <td>2015.000000</td>\n",
       "      <td>2.145171</td>\n",
       "      <td>0.000469</td>\n",
       "    </tr>\n",
       "    <tr>\n",
       "      <th>126</th>\n",
       "      <td>Norway</td>\n",
       "      <td>2015.000000</td>\n",
       "      <td>2.648812</td>\n",
       "      <td>0.000896</td>\n",
       "    </tr>\n",
       "    <tr>\n",
       "      <th>82</th>\n",
       "      <td>Israel</td>\n",
       "      <td>2015.000000</td>\n",
       "      <td>2.839776</td>\n",
       "      <td>0.001057</td>\n",
       "    </tr>\n",
       "    <tr>\n",
       "      <th>...</th>\n",
       "      <td>...</td>\n",
       "      <td>...</td>\n",
       "      <td>...</td>\n",
       "      <td>...</td>\n",
       "    </tr>\n",
       "    <tr>\n",
       "      <th>95</th>\n",
       "      <td>Lesotho</td>\n",
       "      <td>2015.000000</td>\n",
       "      <td>771.737205</td>\n",
       "      <td>0.652605</td>\n",
       "    </tr>\n",
       "    <tr>\n",
       "      <th>31</th>\n",
       "      <td>Central African Republic</td>\n",
       "      <td>2015.000000</td>\n",
       "      <td>926.123951</td>\n",
       "      <td>0.783429</td>\n",
       "    </tr>\n",
       "    <tr>\n",
       "      <th>123</th>\n",
       "      <td>Nigeria</td>\n",
       "      <td>2015.000000</td>\n",
       "      <td>1108.942782</td>\n",
       "      <td>0.938346</td>\n",
       "    </tr>\n",
       "    <tr>\n",
       "      <th>32</th>\n",
       "      <td>Chad</td>\n",
       "      <td>2015.000000</td>\n",
       "      <td>1157.823127</td>\n",
       "      <td>0.979766</td>\n",
       "    </tr>\n",
       "    <tr>\n",
       "      <th>159</th>\n",
       "      <td>South Sudan</td>\n",
       "      <td>2015.000000</td>\n",
       "      <td>1181.701500</td>\n",
       "      <td>1.000000</td>\n",
       "    </tr>\n",
       "  </tbody>\n",
       "</table>\n",
       "<p>189 rows × 4 columns</p>\n",
       "</div>"
      ],
      "text/plain": [
       "                      country         year  maternal_mortality  \\\n",
       "14                    Belarus  2015.000000            1.591843   \n",
       "74                  Hong Kong  2013.166667            1.764561   \n",
       "135                    Poland  2015.000000            2.145171   \n",
       "126                    Norway  2015.000000            2.648812   \n",
       "82                     Israel  2015.000000            2.839776   \n",
       "..                        ...          ...                 ...   \n",
       "95                    Lesotho  2015.000000          771.737205   \n",
       "31   Central African Republic  2015.000000          926.123951   \n",
       "123                   Nigeria  2015.000000         1108.942782   \n",
       "32                       Chad  2015.000000         1157.823127   \n",
       "159               South Sudan  2015.000000         1181.701500   \n",
       "\n",
       "     norm_maternal_mortality  \n",
       "14                  0.000000  \n",
       "74                  0.000146  \n",
       "135                 0.000469  \n",
       "126                 0.000896  \n",
       "82                  0.001057  \n",
       "..                       ...  \n",
       "95                  0.652605  \n",
       "31                  0.783429  \n",
       "123                 0.938346  \n",
       "32                  0.979766  \n",
       "159                 1.000000  \n",
       "\n",
       "[189 rows x 4 columns]"
      ]
     },
     "execution_count": 635,
     "metadata": {},
     "output_type": "execute_result"
    }
   ],
   "source": [
    "maternal.sort_values('norm_maternal_mortality', ascending = True)"
   ]
  },
  {
   "cell_type": "code",
   "execution_count": 637,
   "id": "05a34842-68bd-43b2-b218-8104cc28efba",
   "metadata": {},
   "outputs": [],
   "source": [
    "maternal['norm_with_pts'] = maternal['norm_maternal_mortality'] * 5"
   ]
  },
  {
   "cell_type": "code",
   "execution_count": 828,
   "id": "aa265870-fab8-49c6-a538-ad8c938a8d49",
   "metadata": {},
   "outputs": [
    {
     "data": {
      "text/html": [
       "<div>\n",
       "<style scoped>\n",
       "    .dataframe tbody tr th:only-of-type {\n",
       "        vertical-align: middle;\n",
       "    }\n",
       "\n",
       "    .dataframe tbody tr th {\n",
       "        vertical-align: top;\n",
       "    }\n",
       "\n",
       "    .dataframe thead th {\n",
       "        text-align: right;\n",
       "    }\n",
       "</style>\n",
       "<table border=\"1\" class=\"dataframe\">\n",
       "  <thead>\n",
       "    <tr style=\"text-align: right;\">\n",
       "      <th></th>\n",
       "      <th>country</th>\n",
       "      <th>year</th>\n",
       "      <th>maternal_mortality</th>\n",
       "      <th>norm_maternal_mortality</th>\n",
       "      <th>norm_with_pts</th>\n",
       "    </tr>\n",
       "  </thead>\n",
       "  <tbody>\n",
       "    <tr>\n",
       "      <th>0</th>\n",
       "      <td>Afghanistan</td>\n",
       "      <td>2015.0</td>\n",
       "      <td>759.756665</td>\n",
       "      <td>0.642453</td>\n",
       "      <td>3.212264</td>\n",
       "    </tr>\n",
       "    <tr>\n",
       "      <th>1</th>\n",
       "      <td>Albania</td>\n",
       "      <td>2015.0</td>\n",
       "      <td>7.074423</td>\n",
       "      <td>0.004646</td>\n",
       "      <td>0.023229</td>\n",
       "    </tr>\n",
       "    <tr>\n",
       "      <th>2</th>\n",
       "      <td>Algeria</td>\n",
       "      <td>2015.0</td>\n",
       "      <td>90.722890</td>\n",
       "      <td>0.075528</td>\n",
       "      <td>0.377639</td>\n",
       "    </tr>\n",
       "    <tr>\n",
       "      <th>3</th>\n",
       "      <td>Angola</td>\n",
       "      <td>2015.0</td>\n",
       "      <td>278.919322</td>\n",
       "      <td>0.235001</td>\n",
       "      <td>1.175007</td>\n",
       "    </tr>\n",
       "    <tr>\n",
       "      <th>4</th>\n",
       "      <td>Antigua and Barbuda</td>\n",
       "      <td>2015.0</td>\n",
       "      <td>24.756941</td>\n",
       "      <td>0.019630</td>\n",
       "      <td>0.098148</td>\n",
       "    </tr>\n",
       "    <tr>\n",
       "      <th>...</th>\n",
       "      <td>...</td>\n",
       "      <td>...</td>\n",
       "      <td>...</td>\n",
       "      <td>...</td>\n",
       "      <td>...</td>\n",
       "    </tr>\n",
       "    <tr>\n",
       "      <th>184</th>\n",
       "      <td>Venezuela</td>\n",
       "      <td>2015.0</td>\n",
       "      <td>150.793406</td>\n",
       "      <td>0.126430</td>\n",
       "      <td>0.632151</td>\n",
       "    </tr>\n",
       "    <tr>\n",
       "      <th>185</th>\n",
       "      <td>Vietnam</td>\n",
       "      <td>2015.0</td>\n",
       "      <td>53.022893</td>\n",
       "      <td>0.043582</td>\n",
       "      <td>0.217908</td>\n",
       "    </tr>\n",
       "    <tr>\n",
       "      <th>186</th>\n",
       "      <td>Yemen</td>\n",
       "      <td>2015.0</td>\n",
       "      <td>166.549579</td>\n",
       "      <td>0.139782</td>\n",
       "      <td>0.698909</td>\n",
       "    </tr>\n",
       "    <tr>\n",
       "      <th>187</th>\n",
       "      <td>Zambia</td>\n",
       "      <td>2015.0</td>\n",
       "      <td>178.852044</td>\n",
       "      <td>0.150207</td>\n",
       "      <td>0.751033</td>\n",
       "    </tr>\n",
       "    <tr>\n",
       "      <th>188</th>\n",
       "      <td>Zimbabwe</td>\n",
       "      <td>2015.0</td>\n",
       "      <td>447.897476</td>\n",
       "      <td>0.378190</td>\n",
       "      <td>1.890950</td>\n",
       "    </tr>\n",
       "  </tbody>\n",
       "</table>\n",
       "<p>189 rows × 5 columns</p>\n",
       "</div>"
      ],
      "text/plain": [
       "                 country    year  maternal_mortality  norm_maternal_mortality  \\\n",
       "0            Afghanistan  2015.0          759.756665                 0.642453   \n",
       "1                Albania  2015.0            7.074423                 0.004646   \n",
       "2                Algeria  2015.0           90.722890                 0.075528   \n",
       "3                 Angola  2015.0          278.919322                 0.235001   \n",
       "4    Antigua and Barbuda  2015.0           24.756941                 0.019630   \n",
       "..                   ...     ...                 ...                      ...   \n",
       "184            Venezuela  2015.0          150.793406                 0.126430   \n",
       "185              Vietnam  2015.0           53.022893                 0.043582   \n",
       "186                Yemen  2015.0          166.549579                 0.139782   \n",
       "187               Zambia  2015.0          178.852044                 0.150207   \n",
       "188             Zimbabwe  2015.0          447.897476                 0.378190   \n",
       "\n",
       "     norm_with_pts  \n",
       "0         3.212264  \n",
       "1         0.023229  \n",
       "2         0.377639  \n",
       "3         1.175007  \n",
       "4         0.098148  \n",
       "..             ...  \n",
       "184       0.632151  \n",
       "185       0.217908  \n",
       "186       0.698909  \n",
       "187       0.751033  \n",
       "188       1.890950  \n",
       "\n",
       "[189 rows x 5 columns]"
      ]
     },
     "execution_count": 828,
     "metadata": {},
     "output_type": "execute_result"
    }
   ],
   "source": [
    "maternal"
   ]
  },
  {
   "cell_type": "code",
   "execution_count": 641,
   "id": "4b5540ed-a703-493d-912e-5ddfcc9f5845",
   "metadata": {},
   "outputs": [],
   "source": [
    "maternal.to_csv('maternal_mortality.csv', index=False, header=True)"
   ]
  },
  {
   "cell_type": "code",
   "execution_count": 706,
   "id": "f03d99da-01dc-404e-8d8d-34ac733e4c47",
   "metadata": {},
   "outputs": [],
   "source": [
    "sanitation = pd.read_csv(r\"C:\\Users\\eabro\\Documents\\NSS\\Python\\Projects\\Utopia\\data_grouped\\Maslow_A\\share-of-the-population-with-access-to-sanitation-facilities\\share-of-the-population-with-access-to-sanitation-facilities.csv\")"
   ]
  },
  {
   "cell_type": "code",
   "execution_count": 708,
   "id": "c9b63d23-7ad3-41cc-9906-b0892dd0234d",
   "metadata": {},
   "outputs": [],
   "source": [
    "sanitation.columns = ['country', 'code', 'year', 'safe_pct', 'basic_notshared_pct', 'basic_shared', 'unimproved', 'open_def']"
   ]
  },
  {
   "cell_type": "code",
   "execution_count": 710,
   "id": "d7e51c44-2923-48d4-b55f-34b2e79e6d95",
   "metadata": {},
   "outputs": [
    {
     "data": {
      "text/html": [
       "<div>\n",
       "<style scoped>\n",
       "    .dataframe tbody tr th:only-of-type {\n",
       "        vertical-align: middle;\n",
       "    }\n",
       "\n",
       "    .dataframe tbody tr th {\n",
       "        vertical-align: top;\n",
       "    }\n",
       "\n",
       "    .dataframe thead th {\n",
       "        text-align: right;\n",
       "    }\n",
       "</style>\n",
       "<table border=\"1\" class=\"dataframe\">\n",
       "  <thead>\n",
       "    <tr style=\"text-align: right;\">\n",
       "      <th></th>\n",
       "      <th>country</th>\n",
       "      <th>code</th>\n",
       "      <th>year</th>\n",
       "      <th>safe_pct</th>\n",
       "      <th>basic_notshared_pct</th>\n",
       "      <th>basic_shared</th>\n",
       "      <th>unimproved</th>\n",
       "      <th>open_def</th>\n",
       "    </tr>\n",
       "  </thead>\n",
       "  <tbody>\n",
       "    <tr>\n",
       "      <th>837</th>\n",
       "      <td>Cambodia</td>\n",
       "      <td>KHM</td>\n",
       "      <td>2000</td>\n",
       "      <td>NaN</td>\n",
       "      <td>NaN</td>\n",
       "      <td>1.426437</td>\n",
       "      <td>0.936308</td>\n",
       "      <td>87.45093</td>\n",
       "    </tr>\n",
       "    <tr>\n",
       "      <th>815</th>\n",
       "      <td>Cambodia</td>\n",
       "      <td>KHM</td>\n",
       "      <td>2001</td>\n",
       "      <td>5.778906</td>\n",
       "      <td>5.614605</td>\n",
       "      <td>1.646289</td>\n",
       "      <td>2.980489</td>\n",
       "      <td>83.97971</td>\n",
       "    </tr>\n",
       "    <tr>\n",
       "      <th>3633</th>\n",
       "      <td>Niger</td>\n",
       "      <td>NER</td>\n",
       "      <td>2000</td>\n",
       "      <td>2.822691</td>\n",
       "      <td>2.696707</td>\n",
       "      <td>3.890516</td>\n",
       "      <td>7.604507</td>\n",
       "      <td>82.98558</td>\n",
       "    </tr>\n",
       "    <tr>\n",
       "      <th>1560</th>\n",
       "      <td>Eritrea</td>\n",
       "      <td>ERI</td>\n",
       "      <td>2000</td>\n",
       "      <td>NaN</td>\n",
       "      <td>NaN</td>\n",
       "      <td>7.619402</td>\n",
       "      <td>1.366358</td>\n",
       "      <td>82.72894</td>\n",
       "    </tr>\n",
       "    <tr>\n",
       "      <th>3634</th>\n",
       "      <td>Niger</td>\n",
       "      <td>NER</td>\n",
       "      <td>2001</td>\n",
       "      <td>3.123735</td>\n",
       "      <td>2.902369</td>\n",
       "      <td>4.167955</td>\n",
       "      <td>7.670421</td>\n",
       "      <td>82.13552</td>\n",
       "    </tr>\n",
       "    <tr>\n",
       "      <th>...</th>\n",
       "      <td>...</td>\n",
       "      <td>...</td>\n",
       "      <td>...</td>\n",
       "      <td>...</td>\n",
       "      <td>...</td>\n",
       "      <td>...</td>\n",
       "      <td>...</td>\n",
       "      <td>...</td>\n",
       "    </tr>\n",
       "    <tr>\n",
       "      <th>5081</th>\n",
       "      <td>Tokelau</td>\n",
       "      <td>TKL</td>\n",
       "      <td>2010</td>\n",
       "      <td>NaN</td>\n",
       "      <td>NaN</td>\n",
       "      <td>3.880016</td>\n",
       "      <td>9.929038</td>\n",
       "      <td>NaN</td>\n",
       "    </tr>\n",
       "    <tr>\n",
       "      <th>5082</th>\n",
       "      <td>Tokelau</td>\n",
       "      <td>TKL</td>\n",
       "      <td>2011</td>\n",
       "      <td>NaN</td>\n",
       "      <td>NaN</td>\n",
       "      <td>3.818615</td>\n",
       "      <td>8.403078</td>\n",
       "      <td>NaN</td>\n",
       "    </tr>\n",
       "    <tr>\n",
       "      <th>5092</th>\n",
       "      <td>Tokelau</td>\n",
       "      <td>TKL</td>\n",
       "      <td>2021</td>\n",
       "      <td>NaN</td>\n",
       "      <td>NaN</td>\n",
       "      <td>3.197352</td>\n",
       "      <td>0.000000</td>\n",
       "      <td>NaN</td>\n",
       "    </tr>\n",
       "    <tr>\n",
       "      <th>5093</th>\n",
       "      <td>Tokelau</td>\n",
       "      <td>TKL</td>\n",
       "      <td>2022</td>\n",
       "      <td>NaN</td>\n",
       "      <td>NaN</td>\n",
       "      <td>3.197352</td>\n",
       "      <td>0.000000</td>\n",
       "      <td>NaN</td>\n",
       "    </tr>\n",
       "    <tr>\n",
       "      <th>5491</th>\n",
       "      <td>Venezuela</td>\n",
       "      <td>VEN</td>\n",
       "      <td>2022</td>\n",
       "      <td>27.073694</td>\n",
       "      <td>71.321890</td>\n",
       "      <td>0.000000</td>\n",
       "      <td>1.604414</td>\n",
       "      <td>NaN</td>\n",
       "    </tr>\n",
       "  </tbody>\n",
       "</table>\n",
       "<p>5653 rows × 8 columns</p>\n",
       "</div>"
      ],
      "text/plain": [
       "        country code  year   safe_pct  basic_notshared_pct  basic_shared  \\\n",
       "837    Cambodia  KHM  2000        NaN                  NaN      1.426437   \n",
       "815    Cambodia  KHM  2001   5.778906             5.614605      1.646289   \n",
       "3633      Niger  NER  2000   2.822691             2.696707      3.890516   \n",
       "1560    Eritrea  ERI  2000        NaN                  NaN      7.619402   \n",
       "3634      Niger  NER  2001   3.123735             2.902369      4.167955   \n",
       "...         ...  ...   ...        ...                  ...           ...   \n",
       "5081    Tokelau  TKL  2010        NaN                  NaN      3.880016   \n",
       "5082    Tokelau  TKL  2011        NaN                  NaN      3.818615   \n",
       "5092    Tokelau  TKL  2021        NaN                  NaN      3.197352   \n",
       "5093    Tokelau  TKL  2022        NaN                  NaN      3.197352   \n",
       "5491  Venezuela  VEN  2022  27.073694            71.321890      0.000000   \n",
       "\n",
       "      unimproved  open_def  \n",
       "837     0.936308  87.45093  \n",
       "815     2.980489  83.97971  \n",
       "3633    7.604507  82.98558  \n",
       "1560    1.366358  82.72894  \n",
       "3634    7.670421  82.13552  \n",
       "...          ...       ...  \n",
       "5081    9.929038       NaN  \n",
       "5082    8.403078       NaN  \n",
       "5092    0.000000       NaN  \n",
       "5093    0.000000       NaN  \n",
       "5491    1.604414       NaN  \n",
       "\n",
       "[5653 rows x 8 columns]"
      ]
     },
     "execution_count": 710,
     "metadata": {},
     "output_type": "execute_result"
    }
   ],
   "source": [
    "sanitation.sort_values('open_def', ascending = False)"
   ]
  },
  {
   "cell_type": "code",
   "execution_count": 712,
   "id": "2a95051c-e658-4b49-ad57-51966fa54b8e",
   "metadata": {},
   "outputs": [],
   "source": [
    "sanitation = sanitation.loc[sanitation['year'] >= 2012]"
   ]
  },
  {
   "cell_type": "code",
   "execution_count": 714,
   "id": "69d14c66-71ba-420b-913b-3f641244ff79",
   "metadata": {},
   "outputs": [],
   "source": [
    "sanitation2 = sanitation.groupby('country').mean('safe_pct')"
   ]
  },
  {
   "cell_type": "code",
   "execution_count": 718,
   "id": "93a51270-32c0-4299-aaea-ce1cdf8fb451",
   "metadata": {},
   "outputs": [],
   "source": [
    "sanitation2 = sanitation2.drop(['basic_shared', 'unimproved', 'open_def'], axis=1)"
   ]
  },
  {
   "cell_type": "code",
   "execution_count": 722,
   "id": "16b9e7b6-dc4f-468a-80a1-e68145a62156",
   "metadata": {},
   "outputs": [],
   "source": [
    "sanitation2['safe_and_basic_pct'] = sanitation2['safe_pct'] + sanitation2['basic_notshared_pct']"
   ]
  },
  {
   "cell_type": "code",
   "execution_count": 726,
   "id": "1da754ef-f3cc-413c-9312-df23741d94e1",
   "metadata": {},
   "outputs": [
    {
     "data": {
      "text/html": [
       "<div>\n",
       "<style scoped>\n",
       "    .dataframe tbody tr th:only-of-type {\n",
       "        vertical-align: middle;\n",
       "    }\n",
       "\n",
       "    .dataframe tbody tr th {\n",
       "        vertical-align: top;\n",
       "    }\n",
       "\n",
       "    .dataframe thead th {\n",
       "        text-align: right;\n",
       "    }\n",
       "</style>\n",
       "<table border=\"1\" class=\"dataframe\">\n",
       "  <thead>\n",
       "    <tr style=\"text-align: right;\">\n",
       "      <th></th>\n",
       "      <th>year</th>\n",
       "      <th>safe_pct</th>\n",
       "      <th>basic_notshared_pct</th>\n",
       "      <th>safe_and_basic_pct</th>\n",
       "    </tr>\n",
       "    <tr>\n",
       "      <th>country</th>\n",
       "      <th></th>\n",
       "      <th></th>\n",
       "      <th></th>\n",
       "      <th></th>\n",
       "    </tr>\n",
       "  </thead>\n",
       "  <tbody>\n",
       "    <tr>\n",
       "      <th>Africa (WHO)</th>\n",
       "      <td>2017.0</td>\n",
       "      <td>24.097382</td>\n",
       "      <td>9.560813</td>\n",
       "      <td>33.658196</td>\n",
       "    </tr>\n",
       "    <tr>\n",
       "      <th>Albania</th>\n",
       "      <td>2017.0</td>\n",
       "      <td>45.931442</td>\n",
       "      <td>52.292997</td>\n",
       "      <td>98.224439</td>\n",
       "    </tr>\n",
       "    <tr>\n",
       "      <th>Algeria</th>\n",
       "      <td>2017.0</td>\n",
       "      <td>62.393396</td>\n",
       "      <td>24.040672</td>\n",
       "      <td>86.434068</td>\n",
       "    </tr>\n",
       "    <tr>\n",
       "      <th>American Samoa</th>\n",
       "      <td>2017.0</td>\n",
       "      <td>38.135221</td>\n",
       "      <td>17.603313</td>\n",
       "      <td>55.738535</td>\n",
       "    </tr>\n",
       "    <tr>\n",
       "      <th>Americas (WHO)</th>\n",
       "      <td>2017.0</td>\n",
       "      <td>62.985820</td>\n",
       "      <td>28.380431</td>\n",
       "      <td>91.366251</td>\n",
       "    </tr>\n",
       "    <tr>\n",
       "      <th>...</th>\n",
       "      <td>...</td>\n",
       "      <td>...</td>\n",
       "      <td>...</td>\n",
       "      <td>...</td>\n",
       "    </tr>\n",
       "    <tr>\n",
       "      <th>Vietnam</th>\n",
       "      <td>2017.0</td>\n",
       "      <td>41.327097</td>\n",
       "      <td>41.498977</td>\n",
       "      <td>82.826074</td>\n",
       "    </tr>\n",
       "    <tr>\n",
       "      <th>Western Pacific (WHO)</th>\n",
       "      <td>2017.0</td>\n",
       "      <td>59.052319</td>\n",
       "      <td>28.948459</td>\n",
       "      <td>88.000778</td>\n",
       "    </tr>\n",
       "    <tr>\n",
       "      <th>World</th>\n",
       "      <td>2017.0</td>\n",
       "      <td>51.074453</td>\n",
       "      <td>24.098783</td>\n",
       "      <td>75.173237</td>\n",
       "    </tr>\n",
       "    <tr>\n",
       "      <th>Yemen</th>\n",
       "      <td>2017.0</td>\n",
       "      <td>18.407024</td>\n",
       "      <td>34.250102</td>\n",
       "      <td>52.657126</td>\n",
       "    </tr>\n",
       "    <tr>\n",
       "      <th>Zimbabwe</th>\n",
       "      <td>2017.0</td>\n",
       "      <td>31.916417</td>\n",
       "      <td>5.093530</td>\n",
       "      <td>37.009947</td>\n",
       "    </tr>\n",
       "  </tbody>\n",
       "</table>\n",
       "<p>162 rows × 4 columns</p>\n",
       "</div>"
      ],
      "text/plain": [
       "                         year   safe_pct  basic_notshared_pct  \\\n",
       "country                                                         \n",
       "Africa (WHO)           2017.0  24.097382             9.560813   \n",
       "Albania                2017.0  45.931442            52.292997   \n",
       "Algeria                2017.0  62.393396            24.040672   \n",
       "American Samoa         2017.0  38.135221            17.603313   \n",
       "Americas (WHO)         2017.0  62.985820            28.380431   \n",
       "...                       ...        ...                  ...   \n",
       "Vietnam                2017.0  41.327097            41.498977   \n",
       "Western Pacific (WHO)  2017.0  59.052319            28.948459   \n",
       "World                  2017.0  51.074453            24.098783   \n",
       "Yemen                  2017.0  18.407024            34.250102   \n",
       "Zimbabwe               2017.0  31.916417             5.093530   \n",
       "\n",
       "                       safe_and_basic_pct  \n",
       "country                                    \n",
       "Africa (WHO)                    33.658196  \n",
       "Albania                         98.224439  \n",
       "Algeria                         86.434068  \n",
       "American Samoa                  55.738535  \n",
       "Americas (WHO)                  91.366251  \n",
       "...                                   ...  \n",
       "Vietnam                         82.826074  \n",
       "Western Pacific (WHO)           88.000778  \n",
       "World                           75.173237  \n",
       "Yemen                           52.657126  \n",
       "Zimbabwe                        37.009947  \n",
       "\n",
       "[162 rows x 4 columns]"
      ]
     },
     "execution_count": 726,
     "metadata": {},
     "output_type": "execute_result"
    }
   ],
   "source": [
    "sanitation2.dropna()"
   ]
  },
  {
   "cell_type": "markdown",
   "id": "d5be4320-5f9d-4d15-906f-2e284d6dd42c",
   "metadata": {},
   "source": [
    "sanitation2['norm_safe_pct'] = 1 - (sanitation['safe_pct'] - sanitation['safe_pct'].min()) / (sanitation['safe_pct'].max() - sanitation['safe_pct'].min())"
   ]
  },
  {
   "cell_type": "code",
   "execution_count": 728,
   "id": "20abcf4b-14b5-4a96-8e8a-d8c925e6bd00",
   "metadata": {},
   "outputs": [],
   "source": [
    "slums = pd.read_csv(r\"C:\\Users\\eabro\\Downloads\\share-of-urban-population-living-in-slums\\share-of-urban-population-living-in-slums.csv\")"
   ]
  },
  {
   "cell_type": "code",
   "execution_count": 732,
   "id": "0ebbacc0-d547-4930-8906-65f8cb48f6f7",
   "metadata": {},
   "outputs": [],
   "source": [
    "slums.columns = ['country', 'code', 'year', 'pct_slums']"
   ]
  },
  {
   "cell_type": "code",
   "execution_count": 736,
   "id": "4bffce32-155e-400c-adf0-4559ad4b3cbf",
   "metadata": {},
   "outputs": [],
   "source": [
    "slums = slums.sort_values('pct_slums', ascending = True)"
   ]
  },
  {
   "cell_type": "code",
   "execution_count": 742,
   "id": "48ec270d-2332-4b07-aa35-17eb399bde10",
   "metadata": {},
   "outputs": [],
   "source": [
    "slums = slums.loc[slums['year'] >= 2012]"
   ]
  },
  {
   "cell_type": "code",
   "execution_count": 752,
   "id": "a098786a-3686-499e-a720-c9d5c3c544c3",
   "metadata": {},
   "outputs": [],
   "source": [
    "slums = slums.groupby('country').mean('pct_slums').reset_index()"
   ]
  },
  {
   "cell_type": "code",
   "execution_count": 756,
   "id": "84bac67c-c656-4090-a15e-dfd89212bb08",
   "metadata": {},
   "outputs": [],
   "source": [
    "slums.to_csv('slums.csv', index=False, header=True)"
   ]
  },
  {
   "cell_type": "code",
   "execution_count": 758,
   "id": "b23337bb-0a6c-4565-95ee-5c79fb4d545d",
   "metadata": {},
   "outputs": [],
   "source": [
    "slums = pd.read_csv(r\"C:\\Users\\eabro\\Documents\\NSS\\Python\\Projects\\Utopia\\EmilyBroh_Capstone\\slums.csv\")"
   ]
  },
  {
   "cell_type": "code",
   "execution_count": 766,
   "id": "53eb8a28-9bd3-4a95-b44a-1f090f7b4457",
   "metadata": {},
   "outputs": [],
   "source": [
    "slums['norm_pct_slums'] = 1 - (slums['pct_slums'] - slums['pct_slums'].min()) / (slums['pct_slums'].max() - slums['pct_slums'].min())\n",
    "\n",
    "slums = slums.sort_values('norm_pct_slums', ascending = False)"
   ]
  },
  {
   "cell_type": "code",
   "execution_count": 770,
   "id": "f014d0fc-5a80-427b-95d8-cd6708506cc3",
   "metadata": {},
   "outputs": [],
   "source": [
    "slums['norm_with_pts'] = slums['norm_pct_slums'] * 5"
   ]
  },
  {
   "cell_type": "code",
   "execution_count": 774,
   "id": "89616df6-9c37-46cf-b0e3-edb3d56bf32e",
   "metadata": {},
   "outputs": [],
   "source": [
    "slums['norm_log_2_pts'] = slums['norm_pct_slums'] * 32"
   ]
  },
  {
   "cell_type": "code",
   "execution_count": 778,
   "id": "e2bc3cff-34cd-45ce-86e4-0d5429da47e0",
   "metadata": {},
   "outputs": [],
   "source": [
    "slums.to_csv('slums_norm_withbothpts_onlycountries.csv', index=False, header=True)"
   ]
  },
  {
   "cell_type": "code",
   "execution_count": 780,
   "id": "b870caa8-cacd-4988-b508-54bdcaa0ce6a",
   "metadata": {},
   "outputs": [],
   "source": [
    "electric = pd.read_csv(r\"C:\\Users\\eabro\\Documents\\NSS\\Python\\Projects\\Utopia\\data_grouped\\Maslow_A\\share-of-the-population-with-access-to-electricity\\share-of-the-population-with-access-to-electricity.csv\")"
   ]
  },
  {
   "cell_type": "code",
   "execution_count": 786,
   "id": "dee45aa0-7236-49b2-9cf8-00acf99f8734",
   "metadata": {},
   "outputs": [],
   "source": [
    "electric.columns = ['country', 'code', 'year', 'access_electricity']"
   ]
  },
  {
   "cell_type": "code",
   "execution_count": 794,
   "id": "2890ea8e-47e6-4c3f-8d63-14b237b93998",
   "metadata": {},
   "outputs": [],
   "source": [
    "electric = electric.loc[electric['year'] >=2012]"
   ]
  },
  {
   "cell_type": "code",
   "execution_count": 804,
   "id": "798408f4-479a-40b6-b094-d556f39d44bd",
   "metadata": {},
   "outputs": [],
   "source": [
    "electric = electric.groupby('country').mean('access_electricity').reset_index()"
   ]
  },
  {
   "cell_type": "code",
   "execution_count": 806,
   "id": "4bff569c-c2ac-46db-b11c-ef54aac0da47",
   "metadata": {},
   "outputs": [
    {
     "data": {
      "text/html": [
       "<div>\n",
       "<style scoped>\n",
       "    .dataframe tbody tr th:only-of-type {\n",
       "        vertical-align: middle;\n",
       "    }\n",
       "\n",
       "    .dataframe tbody tr th {\n",
       "        vertical-align: top;\n",
       "    }\n",
       "\n",
       "    .dataframe thead th {\n",
       "        text-align: right;\n",
       "    }\n",
       "</style>\n",
       "<table border=\"1\" class=\"dataframe\">\n",
       "  <thead>\n",
       "    <tr style=\"text-align: right;\">\n",
       "      <th></th>\n",
       "      <th>country</th>\n",
       "      <th>year</th>\n",
       "      <th>access_electricity</th>\n",
       "    </tr>\n",
       "  </thead>\n",
       "  <tbody>\n",
       "    <tr>\n",
       "      <th>0</th>\n",
       "      <td>Afghanistan</td>\n",
       "      <td>2017.0</td>\n",
       "      <td>87.754545</td>\n",
       "    </tr>\n",
       "    <tr>\n",
       "      <th>1</th>\n",
       "      <td>Albania</td>\n",
       "      <td>2017.0</td>\n",
       "      <td>99.963636</td>\n",
       "    </tr>\n",
       "    <tr>\n",
       "      <th>2</th>\n",
       "      <td>Algeria</td>\n",
       "      <td>2017.0</td>\n",
       "      <td>99.472727</td>\n",
       "    </tr>\n",
       "    <tr>\n",
       "      <th>3</th>\n",
       "      <td>Andorra</td>\n",
       "      <td>2017.0</td>\n",
       "      <td>100.000000</td>\n",
       "    </tr>\n",
       "    <tr>\n",
       "      <th>4</th>\n",
       "      <td>Angola</td>\n",
       "      <td>2017.0</td>\n",
       "      <td>42.636364</td>\n",
       "    </tr>\n",
       "    <tr>\n",
       "      <th>...</th>\n",
       "      <td>...</td>\n",
       "      <td>...</td>\n",
       "      <td>...</td>\n",
       "    </tr>\n",
       "    <tr>\n",
       "      <th>224</th>\n",
       "      <td>Vietnam</td>\n",
       "      <td>2017.0</td>\n",
       "      <td>99.390909</td>\n",
       "    </tr>\n",
       "    <tr>\n",
       "      <th>225</th>\n",
       "      <td>World</td>\n",
       "      <td>2017.0</td>\n",
       "      <td>88.519147</td>\n",
       "    </tr>\n",
       "    <tr>\n",
       "      <th>226</th>\n",
       "      <td>Yemen</td>\n",
       "      <td>2017.0</td>\n",
       "      <td>69.927273</td>\n",
       "    </tr>\n",
       "    <tr>\n",
       "      <th>227</th>\n",
       "      <td>Zambia</td>\n",
       "      <td>2017.0</td>\n",
       "      <td>37.845455</td>\n",
       "    </tr>\n",
       "    <tr>\n",
       "      <th>228</th>\n",
       "      <td>Zimbabwe</td>\n",
       "      <td>2017.0</td>\n",
       "      <td>43.727273</td>\n",
       "    </tr>\n",
       "  </tbody>\n",
       "</table>\n",
       "<p>229 rows × 3 columns</p>\n",
       "</div>"
      ],
      "text/plain": [
       "         country    year  access_electricity\n",
       "0    Afghanistan  2017.0           87.754545\n",
       "1        Albania  2017.0           99.963636\n",
       "2        Algeria  2017.0           99.472727\n",
       "3        Andorra  2017.0          100.000000\n",
       "4         Angola  2017.0           42.636364\n",
       "..           ...     ...                 ...\n",
       "224      Vietnam  2017.0           99.390909\n",
       "225        World  2017.0           88.519147\n",
       "226        Yemen  2017.0           69.927273\n",
       "227       Zambia  2017.0           37.845455\n",
       "228     Zimbabwe  2017.0           43.727273\n",
       "\n",
       "[229 rows x 3 columns]"
      ]
     },
     "execution_count": 806,
     "metadata": {},
     "output_type": "execute_result"
    }
   ],
   "source": [
    "electric"
   ]
  },
  {
   "cell_type": "code",
   "execution_count": 808,
   "id": "230dfa3e-0d8e-48e4-a7bc-0efcd2f26ce0",
   "metadata": {},
   "outputs": [],
   "source": [
    "electric.to_csv('electric.csv', index=False, header=True)"
   ]
  },
  {
   "cell_type": "code",
   "execution_count": 810,
   "id": "0271f940-2b7e-4c5a-af5f-c39b95b49718",
   "metadata": {},
   "outputs": [],
   "source": [
    "electric = pd.read_csv(r\"C:\\Users\\eabro\\Documents\\NSS\\Python\\Projects\\Utopia\\EmilyBroh_Capstone\\electric.csv\")"
   ]
  },
  {
   "cell_type": "code",
   "execution_count": 812,
   "id": "68b6d185-5d5e-4bdf-a8b9-d03beb3e4b92",
   "metadata": {},
   "outputs": [
    {
     "data": {
      "text/html": [
       "<div>\n",
       "<style scoped>\n",
       "    .dataframe tbody tr th:only-of-type {\n",
       "        vertical-align: middle;\n",
       "    }\n",
       "\n",
       "    .dataframe tbody tr th {\n",
       "        vertical-align: top;\n",
       "    }\n",
       "\n",
       "    .dataframe thead th {\n",
       "        text-align: right;\n",
       "    }\n",
       "</style>\n",
       "<table border=\"1\" class=\"dataframe\">\n",
       "  <thead>\n",
       "    <tr style=\"text-align: right;\">\n",
       "      <th></th>\n",
       "      <th>country</th>\n",
       "      <th>year</th>\n",
       "      <th>access_electricity</th>\n",
       "    </tr>\n",
       "  </thead>\n",
       "  <tbody>\n",
       "    <tr>\n",
       "      <th>0</th>\n",
       "      <td>Afghanistan</td>\n",
       "      <td>2017</td>\n",
       "      <td>87.754545</td>\n",
       "    </tr>\n",
       "    <tr>\n",
       "      <th>1</th>\n",
       "      <td>Albania</td>\n",
       "      <td>2017</td>\n",
       "      <td>99.963636</td>\n",
       "    </tr>\n",
       "    <tr>\n",
       "      <th>2</th>\n",
       "      <td>Algeria</td>\n",
       "      <td>2017</td>\n",
       "      <td>99.472727</td>\n",
       "    </tr>\n",
       "    <tr>\n",
       "      <th>3</th>\n",
       "      <td>Andorra</td>\n",
       "      <td>2017</td>\n",
       "      <td>100.000000</td>\n",
       "    </tr>\n",
       "    <tr>\n",
       "      <th>4</th>\n",
       "      <td>Angola</td>\n",
       "      <td>2017</td>\n",
       "      <td>42.636364</td>\n",
       "    </tr>\n",
       "    <tr>\n",
       "      <th>...</th>\n",
       "      <td>...</td>\n",
       "      <td>...</td>\n",
       "      <td>...</td>\n",
       "    </tr>\n",
       "    <tr>\n",
       "      <th>211</th>\n",
       "      <td>Vietnam</td>\n",
       "      <td>2017</td>\n",
       "      <td>99.390909</td>\n",
       "    </tr>\n",
       "    <tr>\n",
       "      <th>212</th>\n",
       "      <td>World</td>\n",
       "      <td>2017</td>\n",
       "      <td>88.519147</td>\n",
       "    </tr>\n",
       "    <tr>\n",
       "      <th>213</th>\n",
       "      <td>Yemen</td>\n",
       "      <td>2017</td>\n",
       "      <td>69.927273</td>\n",
       "    </tr>\n",
       "    <tr>\n",
       "      <th>214</th>\n",
       "      <td>Zambia</td>\n",
       "      <td>2017</td>\n",
       "      <td>37.845455</td>\n",
       "    </tr>\n",
       "    <tr>\n",
       "      <th>215</th>\n",
       "      <td>Zimbabwe</td>\n",
       "      <td>2017</td>\n",
       "      <td>43.727273</td>\n",
       "    </tr>\n",
       "  </tbody>\n",
       "</table>\n",
       "<p>216 rows × 3 columns</p>\n",
       "</div>"
      ],
      "text/plain": [
       "         country  year  access_electricity\n",
       "0    Afghanistan  2017           87.754545\n",
       "1        Albania  2017           99.963636\n",
       "2        Algeria  2017           99.472727\n",
       "3        Andorra  2017          100.000000\n",
       "4         Angola  2017           42.636364\n",
       "..           ...   ...                 ...\n",
       "211      Vietnam  2017           99.390909\n",
       "212        World  2017           88.519147\n",
       "213        Yemen  2017           69.927273\n",
       "214       Zambia  2017           37.845455\n",
       "215     Zimbabwe  2017           43.727273\n",
       "\n",
       "[216 rows x 3 columns]"
      ]
     },
     "execution_count": 812,
     "metadata": {},
     "output_type": "execute_result"
    }
   ],
   "source": [
    "electric"
   ]
  },
  {
   "cell_type": "code",
   "execution_count": 834,
   "id": "ac56ce01-036c-434e-b6ac-c46d1225ad85",
   "metadata": {},
   "outputs": [
    {
     "data": {
      "text/html": [
       "<div>\n",
       "<style scoped>\n",
       "    .dataframe tbody tr th:only-of-type {\n",
       "        vertical-align: middle;\n",
       "    }\n",
       "\n",
       "    .dataframe tbody tr th {\n",
       "        vertical-align: top;\n",
       "    }\n",
       "\n",
       "    .dataframe thead th {\n",
       "        text-align: right;\n",
       "    }\n",
       "</style>\n",
       "<table border=\"1\" class=\"dataframe\">\n",
       "  <thead>\n",
       "    <tr style=\"text-align: right;\">\n",
       "      <th></th>\n",
       "      <th>country</th>\n",
       "      <th>year</th>\n",
       "      <th>access_electricity</th>\n",
       "      <th>norm_electric</th>\n",
       "    </tr>\n",
       "  </thead>\n",
       "  <tbody>\n",
       "    <tr>\n",
       "      <th>94</th>\n",
       "      <td>Isle of Man</td>\n",
       "      <td>2017</td>\n",
       "      <td>100.000000</td>\n",
       "      <td>94.288909</td>\n",
       "    </tr>\n",
       "    <tr>\n",
       "      <th>62</th>\n",
       "      <td>Estonia</td>\n",
       "      <td>2017</td>\n",
       "      <td>100.000000</td>\n",
       "      <td>94.288909</td>\n",
       "    </tr>\n",
       "    <tr>\n",
       "      <th>112</th>\n",
       "      <td>Lithuania</td>\n",
       "      <td>2017</td>\n",
       "      <td>100.000000</td>\n",
       "      <td>94.288909</td>\n",
       "    </tr>\n",
       "    <tr>\n",
       "      <th>111</th>\n",
       "      <td>Liechtenstein</td>\n",
       "      <td>2017</td>\n",
       "      <td>100.000000</td>\n",
       "      <td>94.288909</td>\n",
       "    </tr>\n",
       "    <tr>\n",
       "      <th>106</th>\n",
       "      <td>Latvia</td>\n",
       "      <td>2017</td>\n",
       "      <td>100.000000</td>\n",
       "      <td>94.288909</td>\n",
       "    </tr>\n",
       "    <tr>\n",
       "      <th>...</th>\n",
       "      <td>...</td>\n",
       "      <td>...</td>\n",
       "      <td>...</td>\n",
       "      <td>...</td>\n",
       "    </tr>\n",
       "    <tr>\n",
       "      <th>36</th>\n",
       "      <td>Central African Republic</td>\n",
       "      <td>2017</td>\n",
       "      <td>13.672727</td>\n",
       "      <td>7.961636</td>\n",
       "    </tr>\n",
       "    <tr>\n",
       "      <th>116</th>\n",
       "      <td>Malawi</td>\n",
       "      <td>2017</td>\n",
       "      <td>11.972727</td>\n",
       "      <td>6.261636</td>\n",
       "    </tr>\n",
       "    <tr>\n",
       "      <th>37</th>\n",
       "      <td>Chad</td>\n",
       "      <td>2017</td>\n",
       "      <td>9.500000</td>\n",
       "      <td>3.788909</td>\n",
       "    </tr>\n",
       "    <tr>\n",
       "      <th>30</th>\n",
       "      <td>Burundi</td>\n",
       "      <td>2017</td>\n",
       "      <td>8.636364</td>\n",
       "      <td>2.925273</td>\n",
       "    </tr>\n",
       "    <tr>\n",
       "      <th>182</th>\n",
       "      <td>South Sudan</td>\n",
       "      <td>2017</td>\n",
       "      <td>5.654545</td>\n",
       "      <td>-0.056545</td>\n",
       "    </tr>\n",
       "  </tbody>\n",
       "</table>\n",
       "<p>216 rows × 4 columns</p>\n",
       "</div>"
      ],
      "text/plain": [
       "                      country  year  access_electricity  norm_electric\n",
       "94                Isle of Man  2017          100.000000      94.288909\n",
       "62                    Estonia  2017          100.000000      94.288909\n",
       "112                 Lithuania  2017          100.000000      94.288909\n",
       "111             Liechtenstein  2017          100.000000      94.288909\n",
       "106                    Latvia  2017          100.000000      94.288909\n",
       "..                        ...   ...                 ...            ...\n",
       "36   Central African Republic  2017           13.672727       7.961636\n",
       "116                    Malawi  2017           11.972727       6.261636\n",
       "37                       Chad  2017            9.500000       3.788909\n",
       "30                    Burundi  2017            8.636364       2.925273\n",
       "182               South Sudan  2017            5.654545      -0.056545\n",
       "\n",
       "[216 rows x 4 columns]"
      ]
     },
     "execution_count": 834,
     "metadata": {},
     "output_type": "execute_result"
    }
   ],
   "source": [
    "electric.sort_values('norm_electric', ascending = False)"
   ]
  },
  {
   "cell_type": "code",
   "execution_count": 838,
   "id": "85329d1d-7f59-4f2c-bf89-1c0a26ee7cdc",
   "metadata": {},
   "outputs": [],
   "source": [
    "electric['norm_access_electricity'] = (\n",
    "    electric['access_electricity'] - electric['access_electricity'].min()\n",
    ") / (\n",
    "    electric['access_electricity'].max() - electric['access_electricity'].min()\n",
    ")\n"
   ]
  },
  {
   "cell_type": "code",
   "execution_count": 842,
   "id": "6bbec4ba-71e3-445f-ae59-83fd4aca6c2c",
   "metadata": {},
   "outputs": [],
   "source": [
    "electric = electric.sort_values('norm_access_electricity', ascending = False)"
   ]
  },
  {
   "cell_type": "code",
   "execution_count": 846,
   "id": "6814bfe1-5844-41af-b92c-993af89f8acd",
   "metadata": {},
   "outputs": [],
   "source": [
    "electric = electric.drop('norm_electric', axis = 1)"
   ]
  },
  {
   "cell_type": "code",
   "execution_count": 850,
   "id": "53a0f105-d747-4706-a8c3-56fcd4e4afd0",
   "metadata": {},
   "outputs": [],
   "source": [
    "electric['norm_with_pts'] = electric['norm_access_electricity'] * 5"
   ]
  },
  {
   "cell_type": "code",
   "execution_count": 856,
   "id": "b48a0c6e-88f6-4b71-a7e3-aacc9b9eede6",
   "metadata": {},
   "outputs": [],
   "source": [
    "electric['norm_pts_log5'] = electric['norm_access_electricity']  * 32"
   ]
  },
  {
   "cell_type": "code",
   "execution_count": 858,
   "id": "e1775825-30f1-44b7-aa87-08f3094372fa",
   "metadata": {},
   "outputs": [
    {
     "data": {
      "text/html": [
       "<div>\n",
       "<style scoped>\n",
       "    .dataframe tbody tr th:only-of-type {\n",
       "        vertical-align: middle;\n",
       "    }\n",
       "\n",
       "    .dataframe tbody tr th {\n",
       "        vertical-align: top;\n",
       "    }\n",
       "\n",
       "    .dataframe thead th {\n",
       "        text-align: right;\n",
       "    }\n",
       "</style>\n",
       "<table border=\"1\" class=\"dataframe\">\n",
       "  <thead>\n",
       "    <tr style=\"text-align: right;\">\n",
       "      <th></th>\n",
       "      <th>country</th>\n",
       "      <th>year</th>\n",
       "      <th>access_electricity</th>\n",
       "      <th>norm_access_electricity</th>\n",
       "      <th>norm_with_pts</th>\n",
       "      <th>norm_pts_log5</th>\n",
       "    </tr>\n",
       "  </thead>\n",
       "  <tbody>\n",
       "    <tr>\n",
       "      <th>94</th>\n",
       "      <td>Isle of Man</td>\n",
       "      <td>2017</td>\n",
       "      <td>100.000000</td>\n",
       "      <td>1.000000</td>\n",
       "      <td>5.000000</td>\n",
       "      <td>32.000000</td>\n",
       "    </tr>\n",
       "    <tr>\n",
       "      <th>62</th>\n",
       "      <td>Estonia</td>\n",
       "      <td>2017</td>\n",
       "      <td>100.000000</td>\n",
       "      <td>1.000000</td>\n",
       "      <td>5.000000</td>\n",
       "      <td>32.000000</td>\n",
       "    </tr>\n",
       "    <tr>\n",
       "      <th>112</th>\n",
       "      <td>Lithuania</td>\n",
       "      <td>2017</td>\n",
       "      <td>100.000000</td>\n",
       "      <td>1.000000</td>\n",
       "      <td>5.000000</td>\n",
       "      <td>32.000000</td>\n",
       "    </tr>\n",
       "    <tr>\n",
       "      <th>111</th>\n",
       "      <td>Liechtenstein</td>\n",
       "      <td>2017</td>\n",
       "      <td>100.000000</td>\n",
       "      <td>1.000000</td>\n",
       "      <td>5.000000</td>\n",
       "      <td>32.000000</td>\n",
       "    </tr>\n",
       "    <tr>\n",
       "      <th>106</th>\n",
       "      <td>Latvia</td>\n",
       "      <td>2017</td>\n",
       "      <td>100.000000</td>\n",
       "      <td>1.000000</td>\n",
       "      <td>5.000000</td>\n",
       "      <td>32.000000</td>\n",
       "    </tr>\n",
       "    <tr>\n",
       "      <th>...</th>\n",
       "      <td>...</td>\n",
       "      <td>...</td>\n",
       "      <td>...</td>\n",
       "      <td>...</td>\n",
       "      <td>...</td>\n",
       "      <td>...</td>\n",
       "    </tr>\n",
       "    <tr>\n",
       "      <th>36</th>\n",
       "      <td>Central African Republic</td>\n",
       "      <td>2017</td>\n",
       "      <td>13.672727</td>\n",
       "      <td>0.084987</td>\n",
       "      <td>0.424937</td>\n",
       "      <td>2.719599</td>\n",
       "    </tr>\n",
       "    <tr>\n",
       "      <th>116</th>\n",
       "      <td>Malawi</td>\n",
       "      <td>2017</td>\n",
       "      <td>11.972727</td>\n",
       "      <td>0.066969</td>\n",
       "      <td>0.334843</td>\n",
       "      <td>2.142995</td>\n",
       "    </tr>\n",
       "    <tr>\n",
       "      <th>37</th>\n",
       "      <td>Chad</td>\n",
       "      <td>2017</td>\n",
       "      <td>9.500000</td>\n",
       "      <td>0.040759</td>\n",
       "      <td>0.203796</td>\n",
       "      <td>1.304298</td>\n",
       "    </tr>\n",
       "    <tr>\n",
       "      <th>30</th>\n",
       "      <td>Burundi</td>\n",
       "      <td>2017</td>\n",
       "      <td>8.636364</td>\n",
       "      <td>0.031605</td>\n",
       "      <td>0.158027</td>\n",
       "      <td>1.011370</td>\n",
       "    </tr>\n",
       "    <tr>\n",
       "      <th>182</th>\n",
       "      <td>South Sudan</td>\n",
       "      <td>2017</td>\n",
       "      <td>5.654545</td>\n",
       "      <td>0.000000</td>\n",
       "      <td>0.000000</td>\n",
       "      <td>0.000000</td>\n",
       "    </tr>\n",
       "  </tbody>\n",
       "</table>\n",
       "<p>216 rows × 6 columns</p>\n",
       "</div>"
      ],
      "text/plain": [
       "                      country  year  access_electricity  \\\n",
       "94                Isle of Man  2017          100.000000   \n",
       "62                    Estonia  2017          100.000000   \n",
       "112                 Lithuania  2017          100.000000   \n",
       "111             Liechtenstein  2017          100.000000   \n",
       "106                    Latvia  2017          100.000000   \n",
       "..                        ...   ...                 ...   \n",
       "36   Central African Republic  2017           13.672727   \n",
       "116                    Malawi  2017           11.972727   \n",
       "37                       Chad  2017            9.500000   \n",
       "30                    Burundi  2017            8.636364   \n",
       "182               South Sudan  2017            5.654545   \n",
       "\n",
       "     norm_access_electricity  norm_with_pts  norm_pts_log5  \n",
       "94                  1.000000       5.000000      32.000000  \n",
       "62                  1.000000       5.000000      32.000000  \n",
       "112                 1.000000       5.000000      32.000000  \n",
       "111                 1.000000       5.000000      32.000000  \n",
       "106                 1.000000       5.000000      32.000000  \n",
       "..                       ...            ...            ...  \n",
       "36                  0.084987       0.424937       2.719599  \n",
       "116                 0.066969       0.334843       2.142995  \n",
       "37                  0.040759       0.203796       1.304298  \n",
       "30                  0.031605       0.158027       1.011370  \n",
       "182                 0.000000       0.000000       0.000000  \n",
       "\n",
       "[216 rows x 6 columns]"
      ]
     },
     "execution_count": 858,
     "metadata": {},
     "output_type": "execute_result"
    }
   ],
   "source": [
    "electric"
   ]
  },
  {
   "cell_type": "code",
   "execution_count": 860,
   "id": "2fe4618a-a8d1-4fc1-8b0b-9bb10344cf6a",
   "metadata": {},
   "outputs": [],
   "source": [
    "electric.to_csv('electric_with_pts_onlycountries.csv', index=False, header=True)"
   ]
  },
  {
   "cell_type": "code",
   "execution_count": 862,
   "id": "054ea854-181b-406d-96fe-39223f30b32e",
   "metadata": {},
   "outputs": [],
   "source": [
    "life_expect3 = pd.read_csv(r\"C:\\Users\\eabro\\Documents\\NSS\\Python\\Projects\\Utopia\\EmilyBroh_Capstone\\emilybroh_capstone\\life_expect_norm_with_pts_countryonly.csv\")"
   ]
  },
  {
   "cell_type": "code",
   "execution_count": 866,
   "id": "2b3284a3-ab58-4e94-899f-84c4409d34d3",
   "metadata": {},
   "outputs": [],
   "source": [
    "life_expect3['norm_pts_log5'] = life_expect3['norm_life_expect'] * 32"
   ]
  },
  {
   "cell_type": "code",
   "execution_count": 868,
   "id": "a692fd9c-c4c9-47bd-8f35-ca3fa09f9841",
   "metadata": {},
   "outputs": [],
   "source": [
    "life_expect3.to_csv('life_expect_withallpts_onlycountries.csv', index=False, header=True)"
   ]
  },
  {
   "cell_type": "code",
   "execution_count": 870,
   "id": "39bd6c22-f8bd-4251-bcdc-10eddd0b7561",
   "metadata": {},
   "outputs": [],
   "source": [
    "child_mortality3 = pd.read_csv(r\"C:\\Users\\eabro\\Documents\\NSS\\Python\\Projects\\Utopia\\EmilyBroh_Capstone\\emilybroh_capstone\\child_mortality_norm_with_pts_onlycountries.csv\")"
   ]
  },
  {
   "cell_type": "code",
   "execution_count": 878,
   "id": "c6538f92-e8f8-4dd4-a889-fb02f98bb087",
   "metadata": {},
   "outputs": [],
   "source": [
    "child_mortality3['norm_pts_log5'] = child_mortality3['norm_deaths_pct'] * 32"
   ]
  },
  {
   "cell_type": "code",
   "execution_count": 882,
   "id": "99eab710-3bed-4bf9-a371-7def219f0da8",
   "metadata": {},
   "outputs": [],
   "source": [
    "child_mortality3 = child_mortality3.drop('norm_pts_log', axis = 1)"
   ]
  },
  {
   "cell_type": "code",
   "execution_count": 884,
   "id": "d20e46f8-9e8b-4854-b1ba-7f0c02b10dd9",
   "metadata": {},
   "outputs": [],
   "source": [
    "child_mortality3.to_csv('child_mortality_norm_with_pts_onlycountries.csv', index=False, header=True)"
   ]
  },
  {
   "cell_type": "code",
   "execution_count": 886,
   "id": "4169c3bc-c438-4100-acc4-a8e47c96a0aa",
   "metadata": {},
   "outputs": [],
   "source": [
    "food = pd.read_csv(r\"C:\\Users\\eabro\\Documents\\NSS\\Python\\Projects\\Utopia\\EmilyBroh_Capstone\\emilybroh_capstone\\food_insecure_norm_with_allpts0410_countryonly.csv\")"
   ]
  },
  {
   "cell_type": "code",
   "execution_count": null,
   "id": "78d0118e-a915-4bca-95f0-9e8e6c73b312",
   "metadata": {},
   "outputs": [],
   "source": [
    "food['norm_with_pts_log5'] = food['norm_foodinsecure_pct'] * 32"
   ]
  },
  {
   "cell_type": "code",
   "execution_count": 896,
   "id": "d1d072ef-e27c-4f43-aff5-a9b1631fda80",
   "metadata": {},
   "outputs": [
    {
     "data": {
      "text/html": [
       "<div>\n",
       "<style scoped>\n",
       "    .dataframe tbody tr th:only-of-type {\n",
       "        vertical-align: middle;\n",
       "    }\n",
       "\n",
       "    .dataframe tbody tr th {\n",
       "        vertical-align: top;\n",
       "    }\n",
       "\n",
       "    .dataframe thead th {\n",
       "        text-align: right;\n",
       "    }\n",
       "</style>\n",
       "<table border=\"1\" class=\"dataframe\">\n",
       "  <thead>\n",
       "    <tr style=\"text-align: right;\">\n",
       "      <th></th>\n",
       "      <th>index</th>\n",
       "      <th>year</th>\n",
       "      <th>food_insecure_pct</th>\n",
       "      <th>norm_foodinsecure_pct</th>\n",
       "      <th>norm_with_pts</th>\n",
       "      <th>norm_with_pts_log5</th>\n",
       "    </tr>\n",
       "  </thead>\n",
       "  <tbody>\n",
       "    <tr>\n",
       "      <th>0</th>\n",
       "      <td>0</td>\n",
       "      <td>2021.500000</td>\n",
       "      <td>2.100000</td>\n",
       "      <td>1.000000</td>\n",
       "      <td>5.000000</td>\n",
       "      <td>32.000000</td>\n",
       "    </tr>\n",
       "    <tr>\n",
       "      <th>1</th>\n",
       "      <td>1</td>\n",
       "      <td>2019.500000</td>\n",
       "      <td>2.416667</td>\n",
       "      <td>0.996231</td>\n",
       "      <td>4.981155</td>\n",
       "      <td>31.879389</td>\n",
       "    </tr>\n",
       "    <tr>\n",
       "      <th>2</th>\n",
       "      <td>2</td>\n",
       "      <td>2018.500000</td>\n",
       "      <td>2.937500</td>\n",
       "      <td>0.990032</td>\n",
       "      <td>4.950159</td>\n",
       "      <td>31.681016</td>\n",
       "    </tr>\n",
       "    <tr>\n",
       "      <th>3</th>\n",
       "      <td>3</td>\n",
       "      <td>2018.500000</td>\n",
       "      <td>3.312500</td>\n",
       "      <td>0.985568</td>\n",
       "      <td>4.927842</td>\n",
       "      <td>31.538187</td>\n",
       "    </tr>\n",
       "    <tr>\n",
       "      <th>4</th>\n",
       "      <td>4</td>\n",
       "      <td>2018.500000</td>\n",
       "      <td>3.600000</td>\n",
       "      <td>0.982146</td>\n",
       "      <td>4.910732</td>\n",
       "      <td>31.428685</td>\n",
       "    </tr>\n",
       "    <tr>\n",
       "      <th>...</th>\n",
       "      <td>...</td>\n",
       "      <td>...</td>\n",
       "      <td>...</td>\n",
       "      <td>...</td>\n",
       "      <td>...</td>\n",
       "      <td>...</td>\n",
       "    </tr>\n",
       "    <tr>\n",
       "      <th>149</th>\n",
       "      <td>149</td>\n",
       "      <td>2018.571429</td>\n",
       "      <td>80.685714</td>\n",
       "      <td>0.064641</td>\n",
       "      <td>0.323207</td>\n",
       "      <td>2.068524</td>\n",
       "    </tr>\n",
       "    <tr>\n",
       "      <th>150</th>\n",
       "      <td>150</td>\n",
       "      <td>2020.500000</td>\n",
       "      <td>81.300000</td>\n",
       "      <td>0.057330</td>\n",
       "      <td>0.286649</td>\n",
       "      <td>1.834557</td>\n",
       "    </tr>\n",
       "    <tr>\n",
       "      <th>151</th>\n",
       "      <td>151</td>\n",
       "      <td>2020.500000</td>\n",
       "      <td>82.650000</td>\n",
       "      <td>0.041262</td>\n",
       "      <td>0.206308</td>\n",
       "      <td>1.320373</td>\n",
       "    </tr>\n",
       "    <tr>\n",
       "      <th>152</th>\n",
       "      <td>152</td>\n",
       "      <td>2018.500000</td>\n",
       "      <td>84.137500</td>\n",
       "      <td>0.023557</td>\n",
       "      <td>0.117784</td>\n",
       "      <td>0.753819</td>\n",
       "    </tr>\n",
       "    <tr>\n",
       "      <th>153</th>\n",
       "      <td>153</td>\n",
       "      <td>2019.500000</td>\n",
       "      <td>86.116667</td>\n",
       "      <td>0.000000</td>\n",
       "      <td>0.000000</td>\n",
       "      <td>0.000000</td>\n",
       "    </tr>\n",
       "  </tbody>\n",
       "</table>\n",
       "<p>154 rows × 6 columns</p>\n",
       "</div>"
      ],
      "text/plain": [
       "     index         year  food_insecure_pct  norm_foodinsecure_pct  \\\n",
       "0        0  2021.500000           2.100000               1.000000   \n",
       "1        1  2019.500000           2.416667               0.996231   \n",
       "2        2  2018.500000           2.937500               0.990032   \n",
       "3        3  2018.500000           3.312500               0.985568   \n",
       "4        4  2018.500000           3.600000               0.982146   \n",
       "..     ...          ...                ...                    ...   \n",
       "149    149  2018.571429          80.685714               0.064641   \n",
       "150    150  2020.500000          81.300000               0.057330   \n",
       "151    151  2020.500000          82.650000               0.041262   \n",
       "152    152  2018.500000          84.137500               0.023557   \n",
       "153    153  2019.500000          86.116667               0.000000   \n",
       "\n",
       "     norm_with_pts  norm_with_pts_log5  \n",
       "0         5.000000           32.000000  \n",
       "1         4.981155           31.879389  \n",
       "2         4.950159           31.681016  \n",
       "3         4.927842           31.538187  \n",
       "4         4.910732           31.428685  \n",
       "..             ...                 ...  \n",
       "149       0.323207            2.068524  \n",
       "150       0.286649            1.834557  \n",
       "151       0.206308            1.320373  \n",
       "152       0.117784            0.753819  \n",
       "153       0.000000            0.000000  \n",
       "\n",
       "[154 rows x 6 columns]"
      ]
     },
     "execution_count": 896,
     "metadata": {},
     "output_type": "execute_result"
    }
   ],
   "source": [
    "food = food.reset_index()\n",
    "food"
   ]
  },
  {
   "cell_type": "code",
   "execution_count": null,
   "id": "df3aa458-a4b7-4c42-9753-dd90e5ccb6b5",
   "metadata": {},
   "outputs": [],
   "source": [
    "food.to_csv('food_insecure_norm_with_allpts0410_countryonly', index=False, header=True)"
   ]
  },
  {
   "cell_type": "code",
   "execution_count": 898,
   "id": "6b7a5793-ead0-40c9-b651-27484dbcfa1e",
   "metadata": {},
   "outputs": [],
   "source": []
  },
  {
   "cell_type": "code",
   "execution_count": 902,
   "id": "e540967f-d3b4-4b98-8e26-885bcb039419",
   "metadata": {},
   "outputs": [],
   "source": [
    "food.columns = ['country', 'code', 'year', 'modtosev_food_insecure_pct']"
   ]
  },
  {
   "cell_type": "code",
   "execution_count": 904,
   "id": "82c08f31-0b10-4b41-be99-05dfa17223bd",
   "metadata": {},
   "outputs": [
    {
     "data": {
      "text/plain": [
       "2022"
      ]
     },
     "execution_count": 904,
     "metadata": {},
     "output_type": "execute_result"
    }
   ],
   "source": [
    "food.year.max()"
   ]
  },
  {
   "cell_type": "code",
   "execution_count": 906,
   "id": "0d479e95-579e-48f3-b915-efc1d40d9498",
   "metadata": {},
   "outputs": [
    {
     "data": {
      "text/plain": [
       "2015"
      ]
     },
     "execution_count": 906,
     "metadata": {},
     "output_type": "execute_result"
    }
   ],
   "source": [
    "food.year.min()"
   ]
  },
  {
   "cell_type": "code",
   "execution_count": 910,
   "id": "8c8caf33-9e32-438f-bc08-500e2e9312bc",
   "metadata": {},
   "outputs": [],
   "source": [
    "food = food.groupby('country').mean('modtosev_food_insecure_pct').reset_index()"
   ]
  },
  {
   "cell_type": "code",
   "execution_count": 920,
   "id": "624bb2a5-d90d-4de9-97f5-89eafcbde7e1",
   "metadata": {},
   "outputs": [],
   "source": [
    "food.to_csv('food_insecure.csv', index=False, header=True)"
   ]
  },
  {
   "cell_type": "code",
   "execution_count": 924,
   "id": "d24849b0-f632-4c6d-9d21-8a9436aa1251",
   "metadata": {},
   "outputs": [],
   "source": [
    "food = pd.read_csv(r\"C:\\Users\\eabro\\Documents\\NSS\\Python\\Projects\\Utopia\\EmilyBroh_Capstone\\food_insecure.csv\")"
   ]
  },
  {
   "cell_type": "code",
   "execution_count": 928,
   "id": "aa161f1c-ada0-4229-8517-71a1eebd213f",
   "metadata": {},
   "outputs": [],
   "source": [
    "food['norm_pct_foodinsecure'] = 1 - (food['modtosev_food_insecure_pct'] - food['modtosev_food_insecure_pct'].min()) / (food['modtosev_food_insecure_pct'].max() - food['modtosev_food_insecure_pct'].min())\n"
   ]
  },
  {
   "cell_type": "code",
   "execution_count": 932,
   "id": "1414b198-1f21-452e-9394-84ce5ae14530",
   "metadata": {
    "scrolled": true
   },
   "outputs": [],
   "source": [
    "food = food.sort_values('norm_pct_foodinsecure', ascending = False)"
   ]
  },
  {
   "cell_type": "code",
   "execution_count": 936,
   "id": "5d33b752-9884-4dc2-a005-bd8fbb1ee13a",
   "metadata": {},
   "outputs": [],
   "source": [
    "food['norm_withpts'] = food['norm_pct_foodinsecure'] * 5"
   ]
  },
  {
   "cell_type": "code",
   "execution_count": 938,
   "id": "3b00570e-f75f-479f-8bc8-16ca6d22bb1d",
   "metadata": {},
   "outputs": [],
   "source": [
    "food['norm_withpts_log5'] = food['norm_pct_foodinsecure'] * 32"
   ]
  },
  {
   "cell_type": "code",
   "execution_count": 947,
   "id": "f7d6d16e-353a-4ff1-89db-fdf31fa4ab99",
   "metadata": {},
   "outputs": [],
   "source": [
    "food.to_csv('food_insecure_withallpts_onlycountries.csv', index=False, header=True)"
   ]
  },
  {
   "cell_type": "code",
   "execution_count": 949,
   "id": "f06f1ebf-7bd8-4ac0-bf46-c902cbde9410",
   "metadata": {},
   "outputs": [],
   "source": [
    "safewater = pd.read_csv(r\"C:\\Users\\eabro\\Documents\\NSS\\Python\\Projects\\Utopia\\data_grouped\\Maslow_A\\share-of-the-population-using-safely-managed-drinking-water-sources.csv\")"
   ]
  },
  {
   "cell_type": "code",
   "execution_count": 953,
   "id": "9bf3402a-992f-4983-a090-2df742323c8d",
   "metadata": {},
   "outputs": [],
   "source": [
    "safewater.columns = ['country', 'year', 'safewater_pct']"
   ]
  },
  {
   "cell_type": "code",
   "execution_count": 955,
   "id": "85990017-fdb3-4395-ad62-8833f6bb5a44",
   "metadata": {},
   "outputs": [
    {
     "data": {
      "text/plain": [
       "2022"
      ]
     },
     "execution_count": 955,
     "metadata": {},
     "output_type": "execute_result"
    }
   ],
   "source": [
    "safewater['year'].max()"
   ]
  },
  {
   "cell_type": "code",
   "execution_count": 959,
   "id": "3429887b-4c12-4416-87ea-99ff22eef8f0",
   "metadata": {},
   "outputs": [],
   "source": [
    "safewater = safewater.loc[safewater['year'] >= 2012]"
   ]
  },
  {
   "cell_type": "code",
   "execution_count": 965,
   "id": "0be9713f-9593-493c-bd6e-9d35c1ce4db5",
   "metadata": {},
   "outputs": [],
   "source": [
    "safewater = safewater.groupby('country').mean('safewater_pct').reset_index()"
   ]
  },
  {
   "cell_type": "code",
   "execution_count": 973,
   "id": "4edeee5e-b679-45c3-a565-c54ea440e73c",
   "metadata": {},
   "outputs": [
    {
     "data": {
      "text/html": [
       "<div>\n",
       "<style scoped>\n",
       "    .dataframe tbody tr th:only-of-type {\n",
       "        vertical-align: middle;\n",
       "    }\n",
       "\n",
       "    .dataframe tbody tr th {\n",
       "        vertical-align: top;\n",
       "    }\n",
       "\n",
       "    .dataframe thead th {\n",
       "        text-align: right;\n",
       "    }\n",
       "</style>\n",
       "<table border=\"1\" class=\"dataframe\">\n",
       "  <thead>\n",
       "    <tr style=\"text-align: right;\">\n",
       "      <th></th>\n",
       "      <th>country</th>\n",
       "      <th>year</th>\n",
       "      <th>safewater_pct</th>\n",
       "    </tr>\n",
       "  </thead>\n",
       "  <tbody>\n",
       "    <tr>\n",
       "      <th>0</th>\n",
       "      <td>Afghanistan</td>\n",
       "      <td>2017.0</td>\n",
       "      <td>25.655772</td>\n",
       "    </tr>\n",
       "    <tr>\n",
       "      <th>1</th>\n",
       "      <td>Africa (WHO)</td>\n",
       "      <td>2017.0</td>\n",
       "      <td>30.107719</td>\n",
       "    </tr>\n",
       "    <tr>\n",
       "      <th>2</th>\n",
       "      <td>Albania</td>\n",
       "      <td>2017.0</td>\n",
       "      <td>70.062270</td>\n",
       "    </tr>\n",
       "    <tr>\n",
       "      <th>3</th>\n",
       "      <td>Algeria</td>\n",
       "      <td>2017.0</td>\n",
       "      <td>74.565134</td>\n",
       "    </tr>\n",
       "    <tr>\n",
       "      <th>4</th>\n",
       "      <td>American Samoa</td>\n",
       "      <td>2017.0</td>\n",
       "      <td>89.510038</td>\n",
       "    </tr>\n",
       "    <tr>\n",
       "      <th>...</th>\n",
       "      <td>...</td>\n",
       "      <td>...</td>\n",
       "      <td>...</td>\n",
       "    </tr>\n",
       "    <tr>\n",
       "      <th>244</th>\n",
       "      <td>Uzbekistan</td>\n",
       "      <td>2017.0</td>\n",
       "      <td>74.521224</td>\n",
       "    </tr>\n",
       "    <tr>\n",
       "      <th>247</th>\n",
       "      <td>Vietnam</td>\n",
       "      <td>2017.0</td>\n",
       "      <td>55.103156</td>\n",
       "    </tr>\n",
       "    <tr>\n",
       "      <th>248</th>\n",
       "      <td>Wallis and Futuna</td>\n",
       "      <td>2017.0</td>\n",
       "      <td>68.934930</td>\n",
       "    </tr>\n",
       "    <tr>\n",
       "      <th>250</th>\n",
       "      <td>World</td>\n",
       "      <td>2017.0</td>\n",
       "      <td>70.242625</td>\n",
       "    </tr>\n",
       "    <tr>\n",
       "      <th>253</th>\n",
       "      <td>Zimbabwe</td>\n",
       "      <td>2017.0</td>\n",
       "      <td>27.020110</td>\n",
       "    </tr>\n",
       "  </tbody>\n",
       "</table>\n",
       "<p>168 rows × 3 columns</p>\n",
       "</div>"
      ],
      "text/plain": [
       "               country    year  safewater_pct\n",
       "0          Afghanistan  2017.0      25.655772\n",
       "1         Africa (WHO)  2017.0      30.107719\n",
       "2              Albania  2017.0      70.062270\n",
       "3              Algeria  2017.0      74.565134\n",
       "4       American Samoa  2017.0      89.510038\n",
       "..                 ...     ...            ...\n",
       "244         Uzbekistan  2017.0      74.521224\n",
       "247            Vietnam  2017.0      55.103156\n",
       "248  Wallis and Futuna  2017.0      68.934930\n",
       "250              World  2017.0      70.242625\n",
       "253           Zimbabwe  2017.0      27.020110\n",
       "\n",
       "[168 rows x 3 columns]"
      ]
     },
     "execution_count": 973,
     "metadata": {},
     "output_type": "execute_result"
    }
   ],
   "source": [
    "safewater.dropna()"
   ]
  },
  {
   "cell_type": "code",
   "execution_count": 977,
   "id": "bb14f811-2736-4beb-b7d8-dd3fedd4e7f9",
   "metadata": {},
   "outputs": [],
   "source": [
    "safewater.to_csv('safewater.csv', index=False, header=True)"
   ]
  },
  {
   "cell_type": "code",
   "execution_count": 979,
   "id": "ce2c0024-9832-4f02-94fa-1a3b49a55f20",
   "metadata": {},
   "outputs": [],
   "source": [
    "maternal = pd.read_csv(r\"C:\\Users\\eabro\\Documents\\NSS\\Python\\Projects\\Utopia\\EmilyBroh_Capstone\\emilybroh_capstone\\maternal_mortality.csv\")"
   ]
  },
  {
   "cell_type": "code",
   "execution_count": 983,
   "id": "24123d8c-2aef-4811-8d26-ce68ef31721b",
   "metadata": {},
   "outputs": [],
   "source": [
    "maternal['norm_withpts_log5'] = maternal['norm_maternal_mortality'] * 32"
   ]
  },
  {
   "cell_type": "code",
   "execution_count": 991,
   "id": "30ea61b4-dd20-4b54-b443-62dd00b6bd2f",
   "metadata": {},
   "outputs": [],
   "source": [
    "maternal = maternal.sort_values('norm_maternal_mortality', ascending = True)"
   ]
  },
  {
   "cell_type": "code",
   "execution_count": 993,
   "id": "e1d1f9d7-792a-41fa-9b05-5b2ce7369a72",
   "metadata": {},
   "outputs": [],
   "source": [
    "maternal.to_csv('maternal_mortality_withallpts_onlycountries.csv', index=False, header=True)"
   ]
  },
  {
   "cell_type": "code",
   "execution_count": 1009,
   "id": "a27da5f5-e747-4601-80bb-18563baf7f06",
   "metadata": {},
   "outputs": [],
   "source": [
    "healthdata = pd.read_csv(r\"C:\\Users\\eabro\\Downloads\\IHME-GBD_2021_DATA-42c21bf5-1\\IHME-GBD_2021_DATA-42c21bf5-1.csv\")"
   ]
  },
  {
   "cell_type": "code",
   "execution_count": 1017,
   "id": "e5f71263-c664-40ce-99df-1f91de96f6f2",
   "metadata": {},
   "outputs": [],
   "source": [
    "healthdata = healthdata.drop('upper', axis = 1)\n",
    "healthdata = healthdata.drop('lower', axis = 1)"
   ]
  },
  {
   "cell_type": "code",
   "execution_count": 1023,
   "id": "a13a14cd-2d2b-4a55-b9bf-31930c8b9ebe",
   "metadata": {},
   "outputs": [],
   "source": [
    "healthdata.to_csv('healthdata.csv', index=False, header=True)"
   ]
  },
  {
   "cell_type": "code",
   "execution_count": 1025,
   "id": "f9e6ec3a-e766-4977-b519-6123ff644cda",
   "metadata": {},
   "outputs": [],
   "source": [
    "disease = pd.read_csv(r\"C:\\Users\\eabro\\Documents\\NSS\\Python\\Projects\\Utopia\\EmilyBroh_Capstone\\healthdata.csv\")"
   ]
  },
  {
   "cell_type": "code",
   "execution_count": 1029,
   "id": "2bda2790-9abf-4d2b-a3de-012b44991e4e",
   "metadata": {},
   "outputs": [],
   "source": [
    "disease = disease.drop('measure', axis = 1)"
   ]
  },
  {
   "cell_type": "code",
   "execution_count": 1031,
   "id": "620e47cf-4e66-4d86-a48d-899b031ae973",
   "metadata": {},
   "outputs": [],
   "source": [
    "disease = disease.drop('year', axis = 1)"
   ]
  },
  {
   "cell_type": "code",
   "execution_count": 1037,
   "id": "ab0517f0-a0c1-4f88-af09-c102bfcbe5d0",
   "metadata": {},
   "outputs": [],
   "source": [
    "disease = disease.drop('sex', axis = 1)"
   ]
  },
  {
   "cell_type": "code",
   "execution_count": 1039,
   "id": "5102c821-871b-41c1-b0b5-6cef3d994189",
   "metadata": {},
   "outputs": [],
   "source": [
    "disease = disease.drop('age', axis = 1)"
   ]
  },
  {
   "cell_type": "code",
   "execution_count": 1043,
   "id": "524ee7a9-da61-4d05-80c9-0a841f1f6fb8",
   "metadata": {},
   "outputs": [],
   "source": [
    "disease = disease.drop('metric', axis = 1)"
   ]
  },
  {
   "cell_type": "code",
   "execution_count": 1047,
   "id": "a62f2a48-3566-47f6-b2be-f1fcf67f3d2f",
   "metadata": {},
   "outputs": [],
   "source": [
    "disease_noinjury = disease.loc[disease['cause'] != 'Injuries']"
   ]
  },
  {
   "cell_type": "code",
   "execution_count": 1055,
   "id": "1b436c27-bb5e-46a6-9b43-8d7732db2841",
   "metadata": {},
   "outputs": [],
   "source": [
    "disease_noinjury = disease_noinjury.groupby('location').sum('val')"
   ]
  },
  {
   "cell_type": "code",
   "execution_count": 1065,
   "id": "593e0f6d-5ef1-4cb2-8b0c-16f85b74ae50",
   "metadata": {},
   "outputs": [],
   "source": [
    "disease_noinjury = disease_noinjury.sort_values('val', ascending = False)"
   ]
  },
  {
   "cell_type": "code",
   "execution_count": 1067,
   "id": "01acbe03-99c5-43fe-a928-0fb9a51ca8d9",
   "metadata": {},
   "outputs": [
    {
     "data": {
      "text/html": [
       "<div>\n",
       "<style scoped>\n",
       "    .dataframe tbody tr th:only-of-type {\n",
       "        vertical-align: middle;\n",
       "    }\n",
       "\n",
       "    .dataframe tbody tr th {\n",
       "        vertical-align: top;\n",
       "    }\n",
       "\n",
       "    .dataframe thead th {\n",
       "        text-align: right;\n",
       "    }\n",
       "</style>\n",
       "<table border=\"1\" class=\"dataframe\">\n",
       "  <thead>\n",
       "    <tr style=\"text-align: right;\">\n",
       "      <th></th>\n",
       "      <th>val</th>\n",
       "    </tr>\n",
       "    <tr>\n",
       "      <th>location</th>\n",
       "      <th></th>\n",
       "    </tr>\n",
       "  </thead>\n",
       "  <tbody>\n",
       "    <tr>\n",
       "      <th>Japan</th>\n",
       "      <td>1.297341</td>\n",
       "    </tr>\n",
       "    <tr>\n",
       "      <th>Monaco</th>\n",
       "      <td>1.286153</td>\n",
       "    </tr>\n",
       "    <tr>\n",
       "      <th>Denmark</th>\n",
       "      <td>1.277786</td>\n",
       "    </tr>\n",
       "    <tr>\n",
       "      <th>Taiwan (Province of China)</th>\n",
       "      <td>1.265275</td>\n",
       "    </tr>\n",
       "    <tr>\n",
       "      <th>Ireland</th>\n",
       "      <td>1.259521</td>\n",
       "    </tr>\n",
       "    <tr>\n",
       "      <th>San Marino</th>\n",
       "      <td>1.258023</td>\n",
       "    </tr>\n",
       "    <tr>\n",
       "      <th>New Zealand</th>\n",
       "      <td>1.257274</td>\n",
       "    </tr>\n",
       "    <tr>\n",
       "      <th>Australia</th>\n",
       "      <td>1.256813</td>\n",
       "    </tr>\n",
       "    <tr>\n",
       "      <th>Iceland</th>\n",
       "      <td>1.256234</td>\n",
       "    </tr>\n",
       "    <tr>\n",
       "      <th>Andorra</th>\n",
       "      <td>1.255803</td>\n",
       "    </tr>\n",
       "    <tr>\n",
       "      <th>France</th>\n",
       "      <td>1.250604</td>\n",
       "    </tr>\n",
       "    <tr>\n",
       "      <th>Norway</th>\n",
       "      <td>1.250253</td>\n",
       "    </tr>\n",
       "    <tr>\n",
       "      <th>Italy</th>\n",
       "      <td>1.250205</td>\n",
       "    </tr>\n",
       "    <tr>\n",
       "      <th>Luxembourg</th>\n",
       "      <td>1.245354</td>\n",
       "    </tr>\n",
       "    <tr>\n",
       "      <th>Republic of Korea</th>\n",
       "      <td>1.245170</td>\n",
       "    </tr>\n",
       "    <tr>\n",
       "      <th>Spain</th>\n",
       "      <td>1.245053</td>\n",
       "    </tr>\n",
       "    <tr>\n",
       "      <th>United Kingdom</th>\n",
       "      <td>1.235580</td>\n",
       "    </tr>\n",
       "    <tr>\n",
       "      <th>Sweden</th>\n",
       "      <td>1.233707</td>\n",
       "    </tr>\n",
       "    <tr>\n",
       "      <th>Israel</th>\n",
       "      <td>1.228669</td>\n",
       "    </tr>\n",
       "    <tr>\n",
       "      <th>Switzerland</th>\n",
       "      <td>1.228593</td>\n",
       "    </tr>\n",
       "    <tr>\n",
       "      <th>Belgium</th>\n",
       "      <td>1.228513</td>\n",
       "    </tr>\n",
       "    <tr>\n",
       "      <th>Malta</th>\n",
       "      <td>1.227832</td>\n",
       "    </tr>\n",
       "    <tr>\n",
       "      <th>Singapore</th>\n",
       "      <td>1.227738</td>\n",
       "    </tr>\n",
       "    <tr>\n",
       "      <th>Netherlands</th>\n",
       "      <td>1.226045</td>\n",
       "    </tr>\n",
       "    <tr>\n",
       "      <th>Germany</th>\n",
       "      <td>1.224571</td>\n",
       "    </tr>\n",
       "  </tbody>\n",
       "</table>\n",
       "</div>"
      ],
      "text/plain": [
       "                                 val\n",
       "location                            \n",
       "Japan                       1.297341\n",
       "Monaco                      1.286153\n",
       "Denmark                     1.277786\n",
       "Taiwan (Province of China)  1.265275\n",
       "Ireland                     1.259521\n",
       "San Marino                  1.258023\n",
       "New Zealand                 1.257274\n",
       "Australia                   1.256813\n",
       "Iceland                     1.256234\n",
       "Andorra                     1.255803\n",
       "France                      1.250604\n",
       "Norway                      1.250253\n",
       "Italy                       1.250205\n",
       "Luxembourg                  1.245354\n",
       "Republic of Korea           1.245170\n",
       "Spain                       1.245053\n",
       "United Kingdom              1.235580\n",
       "Sweden                      1.233707\n",
       "Israel                      1.228669\n",
       "Switzerland                 1.228593\n",
       "Belgium                     1.228513\n",
       "Malta                       1.227832\n",
       "Singapore                   1.227738\n",
       "Netherlands                 1.226045\n",
       "Germany                     1.224571"
      ]
     },
     "execution_count": 1067,
     "metadata": {},
     "output_type": "execute_result"
    }
   ],
   "source": [
    "disease_noinjury.head(25)"
   ]
  },
  {
   "cell_type": "markdown",
   "id": "b7553d2c-a54e-4a77-a20c-ec09eaf7bab0",
   "metadata": {},
   "source": [
    "# Unfortunately, this data seems to be backwards.  All of the countries I'd expect to have the highest disease rates seem to have the lowest, and vise versa. I'm either misunderstanding the measurement system, or just looking at bad data.  I downloaded this from Healthdata.org and specified that I wanted the percent of deaths occuring due to disease and illness.  I'm going to look into this when I get a chance to see if there's something I'm missing, but in the mean time, I'll focus on other more reliable datasets for group A."
   ]
  },
  {
   "cell_type": "code",
   "execution_count": 1070,
   "id": "9b228f1f-c80f-4659-a749-04944a64bf88",
   "metadata": {},
   "outputs": [],
   "source": [
    "drinkingwater = pd.read_csv(r\"C:\\Users\\eabro\\Documents\\NSS\\Python\\Projects\\Utopia\\data_grouped\\Maslow_A\\share-of-the-population-using-safely-managed-drinking-water-sources.csv\")"
   ]
  },
  {
   "cell_type": "code",
   "execution_count": 1076,
   "id": "d82bd723-697d-4ddd-a9ee-a36c112e94e0",
   "metadata": {},
   "outputs": [],
   "source": [
    "drinkingwater.columns = ['country', 'year', 'pct_safe_drinkingwater']"
   ]
  },
  {
   "cell_type": "code",
   "execution_count": 1080,
   "id": "5f576efa-8292-425a-a4f3-4e0cbf21034c",
   "metadata": {},
   "outputs": [],
   "source": [
    "water = drinkingwater.loc[drinkingwater['year'] >= 2012]"
   ]
  },
  {
   "cell_type": "code",
   "execution_count": 1088,
   "id": "dbfdd04a-d1ee-4609-9220-cd6d6962aeaf",
   "metadata": {},
   "outputs": [],
   "source": [
    "water = water.groupby('country').mean('pct_safe_drinkingwater').reset_index()"
   ]
  },
  {
   "cell_type": "code",
   "execution_count": 1090,
   "id": "20df55be-3a11-4081-8e4d-7606e2b11165",
   "metadata": {},
   "outputs": [
    {
     "data": {
      "text/plain": [
       "Index(['country', 'year', 'pct_safe_drinkingwater'], dtype='object')"
      ]
     },
     "execution_count": 1090,
     "metadata": {},
     "output_type": "execute_result"
    }
   ],
   "source": [
    "water.columns"
   ]
  },
  {
   "cell_type": "code",
   "execution_count": 1092,
   "id": "2eaaf691-77b5-4fe5-bd44-9798faaa4852",
   "metadata": {},
   "outputs": [],
   "source": [
    "water.to_csv('pct_safe_drinkingwater.csv', index=False, header=True)"
   ]
  },
  {
   "cell_type": "code",
   "execution_count": 1094,
   "id": "81bae444-5298-4332-8882-f7bee057445a",
   "metadata": {},
   "outputs": [],
   "source": [
    "access_sanitation = pd.read_csv(r\"C:\\Users\\eabro\\Documents\\NSS\\Python\\Projects\\Utopia\\data_grouped\\Maslow_A\\share-of-the-population-with-access-to-sanitation-facilities\\share-of-the-population-with-access-to-sanitation-facilities.csv\")"
   ]
  },
  {
   "cell_type": "code",
   "execution_count": 1096,
   "id": "9cbe7b4c-fb09-4fe2-810c-ae8645d8a0e5",
   "metadata": {},
   "outputs": [
    {
     "data": {
      "text/html": [
       "<div>\n",
       "<style scoped>\n",
       "    .dataframe tbody tr th:only-of-type {\n",
       "        vertical-align: middle;\n",
       "    }\n",
       "\n",
       "    .dataframe tbody tr th {\n",
       "        vertical-align: top;\n",
       "    }\n",
       "\n",
       "    .dataframe thead th {\n",
       "        text-align: right;\n",
       "    }\n",
       "</style>\n",
       "<table border=\"1\" class=\"dataframe\">\n",
       "  <thead>\n",
       "    <tr style=\"text-align: right;\">\n",
       "      <th></th>\n",
       "      <th>Entity</th>\n",
       "      <th>Code</th>\n",
       "      <th>Year</th>\n",
       "      <th>Share of the population using safely managed sanitation services</th>\n",
       "      <th>Share of the population using only basic sanitation services, improved sanitation facilities which are not shared</th>\n",
       "      <th>Share of the population using limited sanitation services, improved sanitation facilities which are shared</th>\n",
       "      <th>Share of the population using unimproved sanitation facilities</th>\n",
       "      <th>Share of the population practicing open defecation</th>\n",
       "    </tr>\n",
       "  </thead>\n",
       "  <tbody>\n",
       "    <tr>\n",
       "      <th>0</th>\n",
       "      <td>Afghanistan</td>\n",
       "      <td>AFG</td>\n",
       "      <td>2000</td>\n",
       "      <td>NaN</td>\n",
       "      <td>NaN</td>\n",
       "      <td>5.495242</td>\n",
       "      <td>47.565353</td>\n",
       "      <td>25.968485</td>\n",
       "    </tr>\n",
       "    <tr>\n",
       "      <th>1</th>\n",
       "      <td>Afghanistan</td>\n",
       "      <td>AFG</td>\n",
       "      <td>2001</td>\n",
       "      <td>NaN</td>\n",
       "      <td>NaN</td>\n",
       "      <td>5.505718</td>\n",
       "      <td>47.566265</td>\n",
       "      <td>25.945670</td>\n",
       "    </tr>\n",
       "    <tr>\n",
       "      <th>2</th>\n",
       "      <td>Afghanistan</td>\n",
       "      <td>AFG</td>\n",
       "      <td>2002</td>\n",
       "      <td>NaN</td>\n",
       "      <td>NaN</td>\n",
       "      <td>5.873644</td>\n",
       "      <td>46.471490</td>\n",
       "      <td>25.113527</td>\n",
       "    </tr>\n",
       "    <tr>\n",
       "      <th>3</th>\n",
       "      <td>Afghanistan</td>\n",
       "      <td>AFG</td>\n",
       "      <td>2003</td>\n",
       "      <td>NaN</td>\n",
       "      <td>NaN</td>\n",
       "      <td>6.242448</td>\n",
       "      <td>45.374860</td>\n",
       "      <td>24.282358</td>\n",
       "    </tr>\n",
       "    <tr>\n",
       "      <th>4</th>\n",
       "      <td>Afghanistan</td>\n",
       "      <td>AFG</td>\n",
       "      <td>2004</td>\n",
       "      <td>NaN</td>\n",
       "      <td>NaN</td>\n",
       "      <td>6.619250</td>\n",
       "      <td>44.275270</td>\n",
       "      <td>23.439240</td>\n",
       "    </tr>\n",
       "    <tr>\n",
       "      <th>...</th>\n",
       "      <td>...</td>\n",
       "      <td>...</td>\n",
       "      <td>...</td>\n",
       "      <td>...</td>\n",
       "      <td>...</td>\n",
       "      <td>...</td>\n",
       "      <td>...</td>\n",
       "      <td>...</td>\n",
       "    </tr>\n",
       "    <tr>\n",
       "      <th>5648</th>\n",
       "      <td>Zimbabwe</td>\n",
       "      <td>ZWE</td>\n",
       "      <td>2018</td>\n",
       "      <td>33.544266</td>\n",
       "      <td>2.812894</td>\n",
       "      <td>28.852188</td>\n",
       "      <td>15.325731</td>\n",
       "      <td>19.464920</td>\n",
       "    </tr>\n",
       "    <tr>\n",
       "      <th>5649</th>\n",
       "      <td>Zimbabwe</td>\n",
       "      <td>ZWE</td>\n",
       "      <td>2019</td>\n",
       "      <td>32.961483</td>\n",
       "      <td>2.812854</td>\n",
       "      <td>29.536590</td>\n",
       "      <td>15.966128</td>\n",
       "      <td>18.722944</td>\n",
       "    </tr>\n",
       "    <tr>\n",
       "      <th>5650</th>\n",
       "      <td>Zimbabwe</td>\n",
       "      <td>ZWE</td>\n",
       "      <td>2020</td>\n",
       "      <td>32.381233</td>\n",
       "      <td>2.811130</td>\n",
       "      <td>30.234730</td>\n",
       "      <td>16.541292</td>\n",
       "      <td>18.031616</td>\n",
       "    </tr>\n",
       "    <tr>\n",
       "      <th>5651</th>\n",
       "      <td>Zimbabwe</td>\n",
       "      <td>ZWE</td>\n",
       "      <td>2021</td>\n",
       "      <td>31.802437</td>\n",
       "      <td>2.807513</td>\n",
       "      <td>30.947052</td>\n",
       "      <td>17.109490</td>\n",
       "      <td>17.333508</td>\n",
       "    </tr>\n",
       "    <tr>\n",
       "      <th>5652</th>\n",
       "      <td>Zimbabwe</td>\n",
       "      <td>ZWE</td>\n",
       "      <td>2022</td>\n",
       "      <td>31.806429</td>\n",
       "      <td>2.811428</td>\n",
       "      <td>30.982523</td>\n",
       "      <td>17.089666</td>\n",
       "      <td>17.309952</td>\n",
       "    </tr>\n",
       "  </tbody>\n",
       "</table>\n",
       "<p>5653 rows × 8 columns</p>\n",
       "</div>"
      ],
      "text/plain": [
       "           Entity Code  Year  \\\n",
       "0     Afghanistan  AFG  2000   \n",
       "1     Afghanistan  AFG  2001   \n",
       "2     Afghanistan  AFG  2002   \n",
       "3     Afghanistan  AFG  2003   \n",
       "4     Afghanistan  AFG  2004   \n",
       "...           ...  ...   ...   \n",
       "5648     Zimbabwe  ZWE  2018   \n",
       "5649     Zimbabwe  ZWE  2019   \n",
       "5650     Zimbabwe  ZWE  2020   \n",
       "5651     Zimbabwe  ZWE  2021   \n",
       "5652     Zimbabwe  ZWE  2022   \n",
       "\n",
       "      Share of the population using safely managed sanitation services  \\\n",
       "0                                                   NaN                  \n",
       "1                                                   NaN                  \n",
       "2                                                   NaN                  \n",
       "3                                                   NaN                  \n",
       "4                                                   NaN                  \n",
       "...                                                 ...                  \n",
       "5648                                          33.544266                  \n",
       "5649                                          32.961483                  \n",
       "5650                                          32.381233                  \n",
       "5651                                          31.802437                  \n",
       "5652                                          31.806429                  \n",
       "\n",
       "      Share of the population using only basic sanitation services, improved sanitation facilities which are not shared  \\\n",
       "0                                                   NaN                                                                   \n",
       "1                                                   NaN                                                                   \n",
       "2                                                   NaN                                                                   \n",
       "3                                                   NaN                                                                   \n",
       "4                                                   NaN                                                                   \n",
       "...                                                 ...                                                                   \n",
       "5648                                           2.812894                                                                   \n",
       "5649                                           2.812854                                                                   \n",
       "5650                                           2.811130                                                                   \n",
       "5651                                           2.807513                                                                   \n",
       "5652                                           2.811428                                                                   \n",
       "\n",
       "      Share of the population using limited sanitation services, improved sanitation facilities which are shared  \\\n",
       "0                                              5.495242                                                            \n",
       "1                                              5.505718                                                            \n",
       "2                                              5.873644                                                            \n",
       "3                                              6.242448                                                            \n",
       "4                                              6.619250                                                            \n",
       "...                                                 ...                                                            \n",
       "5648                                          28.852188                                                            \n",
       "5649                                          29.536590                                                            \n",
       "5650                                          30.234730                                                            \n",
       "5651                                          30.947052                                                            \n",
       "5652                                          30.982523                                                            \n",
       "\n",
       "      Share of the population using unimproved sanitation facilities  \\\n",
       "0                                             47.565353                \n",
       "1                                             47.566265                \n",
       "2                                             46.471490                \n",
       "3                                             45.374860                \n",
       "4                                             44.275270                \n",
       "...                                                 ...                \n",
       "5648                                          15.325731                \n",
       "5649                                          15.966128                \n",
       "5650                                          16.541292                \n",
       "5651                                          17.109490                \n",
       "5652                                          17.089666                \n",
       "\n",
       "      Share of the population practicing open defecation  \n",
       "0                                             25.968485   \n",
       "1                                             25.945670   \n",
       "2                                             25.113527   \n",
       "3                                             24.282358   \n",
       "4                                             23.439240   \n",
       "...                                                 ...   \n",
       "5648                                          19.464920   \n",
       "5649                                          18.722944   \n",
       "5650                                          18.031616   \n",
       "5651                                          17.333508   \n",
       "5652                                          17.309952   \n",
       "\n",
       "[5653 rows x 8 columns]"
      ]
     },
     "execution_count": 1096,
     "metadata": {},
     "output_type": "execute_result"
    }
   ],
   "source": [
    "access_sanitation"
   ]
  },
  {
   "cell_type": "code",
   "execution_count": 1098,
   "id": "b8db5058-fd7d-463b-b157-5d04716af55e",
   "metadata": {},
   "outputs": [],
   "source": [
    "pollution = pd.read_csv(r\"C:\\Users\\eabro\\Documents\\NSS\\Python\\Projects\\Utopia\\data_grouped\\pm25-air-pollution\\pm25-air-pollution.csv\")"
   ]
  },
  {
   "cell_type": "code",
   "execution_count": 1102,
   "id": "1e91b5e6-3963-4bcb-a468-bf3b04035e67",
   "metadata": {},
   "outputs": [],
   "source": [
    "pollution.columns = ['country', 'code', 'year', 'pm_value']"
   ]
  },
  {
   "cell_type": "code",
   "execution_count": 1114,
   "id": "584176e7-8c1b-4376-8f91-12877592dbe5",
   "metadata": {},
   "outputs": [],
   "source": [
    "pollution = pollution.groupby('country').mean('pm_value').reset_index()"
   ]
  },
  {
   "cell_type": "code",
   "execution_count": 1116,
   "id": "5f599a07-6add-4ae4-9b0a-a582b5bb644d",
   "metadata": {},
   "outputs": [],
   "source": [
    "pollution.to_csv('pollution.csv', index=False, header=True)"
   ]
  },
  {
   "cell_type": "code",
   "execution_count": 1118,
   "id": "ace8e5ce-835b-4ec3-8090-e573dc518058",
   "metadata": {},
   "outputs": [],
   "source": [
    "pollution = pd.read_csv(r\"C:\\Users\\eabro\\Documents\\NSS\\Python\\Projects\\Utopia\\EmilyBroh_Capstone\\pollution.csv\")"
   ]
  },
  {
   "cell_type": "code",
   "execution_count": 1128,
   "id": "c7669260-9a4f-450e-ae8a-bd13ba82cb04",
   "metadata": {},
   "outputs": [],
   "source": [
    "pollution['norm_pm_value'] = 1 - (pollution['pm_value'] - pollution['pm_value'].min()) / (pollution['pm_value'].max() - pollution['pm_value'].min())"
   ]
  },
  {
   "cell_type": "code",
   "execution_count": 1136,
   "id": "83e45f2a-5c9a-4ff9-a363-d58486fb3932",
   "metadata": {},
   "outputs": [],
   "source": [
    "pollution = pollution.sort_values('norm_pm_value', ascending = False)"
   ]
  },
  {
   "cell_type": "code",
   "execution_count": 1142,
   "id": "723a747f-0f3c-4a3c-9f52-1172e6c9bf1d",
   "metadata": {},
   "outputs": [],
   "source": [
    "pollution['norm_with_pts'] = pollution['norm_pm_value'] * 5"
   ]
  },
  {
   "cell_type": "code",
   "execution_count": 1144,
   "id": "39f58c0a-0a91-4bc4-a920-1b0a1f22263f",
   "metadata": {},
   "outputs": [],
   "source": [
    "pollution['norm_with_pts_log5'] = pollution['norm_pm_value'] * 32"
   ]
  },
  {
   "cell_type": "code",
   "execution_count": 1148,
   "id": "188a09d8-4048-4945-8119-fa03c37ab497",
   "metadata": {},
   "outputs": [],
   "source": [
    "pollution.to_csv('pollution_withallpts_onlycountries.csv', index=False, header=True)"
   ]
  },
  {
   "cell_type": "code",
   "execution_count": 1140,
   "id": "e28cfbdf-c604-437f-abaf-fa407c06f567",
   "metadata": {},
   "outputs": [],
   "source": [
    "cook = pd.read_csv(r\"C:\\Users\\eabro\\Downloads\\access-to-clean-fuels-and-technologies-for-cooking (1)\\access-to-clean-fuels-and-technologies-for-cooking.csv\")"
   ]
  },
  {
   "cell_type": "code",
   "execution_count": 1152,
   "id": "eb7f7105-eee4-4007-9f0c-900a44814b0c",
   "metadata": {},
   "outputs": [],
   "source": [
    "cook.columns = ['country', 'code', 'year', 'clean_fuel_cooking']"
   ]
  },
  {
   "cell_type": "code",
   "execution_count": 1164,
   "id": "f6d9b9bc-06e6-4c6a-9394-08dc17027951",
   "metadata": {},
   "outputs": [],
   "source": [
    "cook = cook.loc[cook['year'] >=2011]"
   ]
  },
  {
   "cell_type": "code",
   "execution_count": 1166,
   "id": "3cc714c2-33f4-4680-8383-b33f6a5c0de7",
   "metadata": {},
   "outputs": [],
   "source": [
    "cook = cook.groupby('country').mean('clean_fuel_cooking').reset_index()"
   ]
  },
  {
   "cell_type": "code",
   "execution_count": 1170,
   "id": "34229f48-29ca-4887-b33d-7d648dd7a488",
   "metadata": {},
   "outputs": [],
   "source": [
    "cook.to_csv('cook.csv', index=False, header=True)"
   ]
  },
  {
   "cell_type": "code",
   "execution_count": 1176,
   "id": "bb8c615d-7ee9-4e89-ba24-a7bfe8fd9b15",
   "metadata": {},
   "outputs": [],
   "source": [
    "cook2 = pd.read_csv(r\"C:\\Users\\eabro\\Documents\\NSS\\Python\\Projects\\Utopia\\EmilyBroh_Capstone\\cook.csv\")"
   ]
  },
  {
   "cell_type": "code",
   "execution_count": 1190,
   "id": "9b8debeb-77a3-4084-a84d-5adc3f132d47",
   "metadata": {},
   "outputs": [],
   "source": [
    "cook2['norm_clean_cooking'] = (cook2['clean_fuel_cooking'] - cook2['clean_fuel_cooking'].min()) / (cook2['clean_fuel_cooking'].max() - cook2['clean_fuel_cooking'].min())"
   ]
  },
  {
   "cell_type": "code",
   "execution_count": 1192,
   "id": "cb7bbb65-4ac5-440a-acf9-af0436d5617a",
   "metadata": {},
   "outputs": [],
   "source": [
    "cook2 = cook2.sort_values('clean_fuel_cooking', ascending = False)"
   ]
  },
  {
   "cell_type": "code",
   "execution_count": 1196,
   "id": "61016876-04fe-45d4-9fb5-a4e9a6ba5692",
   "metadata": {},
   "outputs": [],
   "source": [
    "cook2['norm_with_points'] = cook2['norm_clean_cooking'] * 5"
   ]
  },
  {
   "cell_type": "code",
   "execution_count": 1198,
   "id": "d9b82fba-4e19-4fa6-a560-4fc9b3e0973d",
   "metadata": {},
   "outputs": [],
   "source": [
    "cook2['norm_with_points_log5'] = cook2['norm_clean_cooking'] * 32"
   ]
  },
  {
   "cell_type": "code",
   "execution_count": 1202,
   "id": "af8b2240-8a4f-44ba-8709-62ec7bd56779",
   "metadata": {},
   "outputs": [],
   "source": [
    "cook2.to_csv('cook_withallpts_onlycountries.csv', index=False, header=True)"
   ]
  },
  {
   "cell_type": "code",
   "execution_count": 1244,
   "id": "a8e8c03e-8dba-4e65-9d13-20607be0d04a",
   "metadata": {},
   "outputs": [],
   "source": [
    "sanitize = pd.read_csv(r\"C:\\Users\\eabro\\Documents\\NSS\\Python\\Projects\\Utopia\\EmilyBroh_Capstone\\who_improvedsanitation.csv\")"
   ]
  },
  {
   "cell_type": "code",
   "execution_count": 1246,
   "id": "bf0fef54-cf9b-4868-9cae-aefcbbf8f7df",
   "metadata": {},
   "outputs": [],
   "source": [
    "sanitize.columns = ['abv', 'country', 'year', 'sanitation_value', 'source', '1', '2', '3', '4']"
   ]
  },
  {
   "cell_type": "code",
   "execution_count": 1248,
   "id": "b8db787b-aedc-462e-bcc9-b32def3a98f8",
   "metadata": {},
   "outputs": [],
   "source": [
    "sanitize = sanitize.drop('abv', axis = 1)\n",
    "sanitize = sanitize.drop('source', axis = 1)\n",
    "sanitize = sanitize.drop('1', axis = 1)\n",
    "sanitize = sanitize.drop('2', axis = 1)\n",
    "sanitize = sanitize.drop('3', axis = 1)\n",
    "sanitize = sanitize.drop('4', axis = 1)"
   ]
  },
  {
   "cell_type": "code",
   "execution_count": 1262,
   "id": "156c6ec3-8943-4bc2-b66b-e21546678afd",
   "metadata": {},
   "outputs": [],
   "source": [
    "sanitize = sanitize.groupby('country').mean('sanitation_value').reset_index()"
   ]
  },
  {
   "cell_type": "code",
   "execution_count": 1264,
   "id": "9d643ac4-df8b-48f1-adfe-a6a16a359f8e",
   "metadata": {},
   "outputs": [
    {
     "data": {
      "text/html": [
       "<div>\n",
       "<style scoped>\n",
       "    .dataframe tbody tr th:only-of-type {\n",
       "        vertical-align: middle;\n",
       "    }\n",
       "\n",
       "    .dataframe tbody tr th {\n",
       "        vertical-align: top;\n",
       "    }\n",
       "\n",
       "    .dataframe thead th {\n",
       "        text-align: right;\n",
       "    }\n",
       "</style>\n",
       "<table border=\"1\" class=\"dataframe\">\n",
       "  <thead>\n",
       "    <tr style=\"text-align: right;\">\n",
       "      <th></th>\n",
       "      <th>country</th>\n",
       "      <th>year</th>\n",
       "      <th>sanitation_value</th>\n",
       "    </tr>\n",
       "  </thead>\n",
       "  <tbody>\n",
       "    <tr>\n",
       "      <th>0</th>\n",
       "      <td>Albania</td>\n",
       "      <td>2018.5</td>\n",
       "      <td>99.534355</td>\n",
       "    </tr>\n",
       "    <tr>\n",
       "      <th>1</th>\n",
       "      <td>Algeria</td>\n",
       "      <td>2018.0</td>\n",
       "      <td>96.150655</td>\n",
       "    </tr>\n",
       "    <tr>\n",
       "      <th>2</th>\n",
       "      <td>American Samoa</td>\n",
       "      <td>2018.0</td>\n",
       "      <td>98.517670</td>\n",
       "    </tr>\n",
       "    <tr>\n",
       "      <th>3</th>\n",
       "      <td>Andorra</td>\n",
       "      <td>2018.0</td>\n",
       "      <td>99.999999</td>\n",
       "    </tr>\n",
       "    <tr>\n",
       "      <th>4</th>\n",
       "      <td>Antigua and Barbuda</td>\n",
       "      <td>2018.0</td>\n",
       "      <td>97.395232</td>\n",
       "    </tr>\n",
       "    <tr>\n",
       "      <th>...</th>\n",
       "      <td>...</td>\n",
       "      <td>...</td>\n",
       "      <td>...</td>\n",
       "    </tr>\n",
       "    <tr>\n",
       "      <th>222</th>\n",
       "      <td>Virgin Islands U.S.</td>\n",
       "      <td>2018.0</td>\n",
       "      <td>99.101615</td>\n",
       "    </tr>\n",
       "    <tr>\n",
       "      <th>223</th>\n",
       "      <td>Yemen</td>\n",
       "      <td>2018.0</td>\n",
       "      <td>57.959654</td>\n",
       "    </tr>\n",
       "    <tr>\n",
       "      <th>224</th>\n",
       "      <td>Zambia</td>\n",
       "      <td>2018.0</td>\n",
       "      <td>54.358722</td>\n",
       "    </tr>\n",
       "    <tr>\n",
       "      <th>225</th>\n",
       "      <td>Zimbabwe</td>\n",
       "      <td>2018.0</td>\n",
       "      <td>65.244798</td>\n",
       "    </tr>\n",
       "    <tr>\n",
       "      <th>226</th>\n",
       "      <td>FALSE</td>\n",
       "      <td>2014.0</td>\n",
       "      <td>98.286714</td>\n",
       "    </tr>\n",
       "  </tbody>\n",
       "</table>\n",
       "<p>227 rows × 3 columns</p>\n",
       "</div>"
      ],
      "text/plain": [
       "                  country    year  sanitation_value\n",
       "0                 Albania  2018.5         99.534355\n",
       "1                 Algeria  2018.0         96.150655\n",
       "2          American Samoa  2018.0         98.517670\n",
       "3                 Andorra  2018.0         99.999999\n",
       "4     Antigua and Barbuda  2018.0         97.395232\n",
       "..                    ...     ...               ...\n",
       "222   Virgin Islands U.S.  2018.0         99.101615\n",
       "223                 Yemen  2018.0         57.959654\n",
       "224                Zambia  2018.0         54.358722\n",
       "225              Zimbabwe  2018.0         65.244798\n",
       "226                 FALSE  2014.0         98.286714\n",
       "\n",
       "[227 rows x 3 columns]"
      ]
     },
     "execution_count": 1264,
     "metadata": {},
     "output_type": "execute_result"
    }
   ],
   "source": [
    "sanitize['norm_sanitize'] =  sanitize['"
   ]
  },
  {
   "cell_type": "code",
   "execution_count": 1266,
   "id": "212483b4-e0ec-4b8b-9700-e5880b1c89ef",
   "metadata": {},
   "outputs": [],
   "source": [
    "sanitize['norm_sanitize'] = (sanitize['sanitation_value'] - sanitize['sanitation_value'].min()) / (sanitize['sanitation_value'].max() - sanitize['sanitation_value'].min())"
   ]
  },
  {
   "cell_type": "code",
   "execution_count": 1270,
   "id": "a2551ca0-3851-4816-b4bc-c4bd9c5298a7",
   "metadata": {},
   "outputs": [],
   "source": [
    "sanitize = sanitize.sort_values('sanitation_value', ascending = False)"
   ]
  },
  {
   "cell_type": "code",
   "execution_count": 1272,
   "id": "20af6917-7f08-4ee2-b7d6-4031f6b66aa2",
   "metadata": {},
   "outputs": [],
   "source": [
    "sanitize['norm_sanitize_withpts5'] = sanitize['norm_sanitize'] * 5"
   ]
  },
  {
   "cell_type": "code",
   "execution_count": 1274,
   "id": "4ff65c3e-05d8-4ce1-9a09-d3129c7de460",
   "metadata": {},
   "outputs": [],
   "source": [
    "sanitize['norm_sanitize_withpts_log5'] = sanitize['norm_sanitize'] * 32"
   ]
  },
  {
   "cell_type": "code",
   "execution_count": 1276,
   "id": "258555f1-97dc-4f61-b686-9aac206c2ab3",
   "metadata": {},
   "outputs": [],
   "source": [
    "sanitize.to_csv('sanitize_withallpts_onlycountries.csv', index=False, header=True)"
   ]
  },
  {
   "cell_type": "code",
   "execution_count": 1278,
   "id": "41e6664c-c215-4a49-9f47-2eec20ba3200",
   "metadata": {},
   "outputs": [],
   "source": [
    "water = pd.read_csv(r\"C:\\Users\\eabro\\Documents\\NSS\\Python\\Projects\\Utopia\\EmilyBroh_Capstone\\who_water.csv\")"
   ]
  },
  {
   "cell_type": "code",
   "execution_count": 1282,
   "id": "17b20a6c-74e7-4244-abb2-b234c96475d4",
   "metadata": {},
   "outputs": [],
   "source": [
    "water.columns = ['1', 'country', 'year', 'water_pct']"
   ]
  },
  {
   "cell_type": "code",
   "execution_count": 1284,
   "id": "6de0a34b-6586-4fed-a8b1-a253f7f7a5e4",
   "metadata": {},
   "outputs": [],
   "source": [
    "water = water.drop('1', axis = 1)"
   ]
  },
  {
   "cell_type": "code",
   "execution_count": 1288,
   "id": "78671ada-8c47-437d-82be-4807fc919389",
   "metadata": {},
   "outputs": [],
   "source": [
    "water = water.groupby('country').mean('water_pct')"
   ]
  },
  {
   "cell_type": "code",
   "execution_count": 1294,
   "id": "404e4a55-19de-456b-82e0-d0a45b71c276",
   "metadata": {},
   "outputs": [],
   "source": [
    "water['norm_water'] = (water['water_pct'] - water['water_pct'].min()) / (water['water_pct'].max() - water['water_pct'].min())"
   ]
  },
  {
   "cell_type": "code",
   "execution_count": 1298,
   "id": "23c453c2-65bd-4040-b035-c8f531a2f589",
   "metadata": {},
   "outputs": [],
   "source": [
    "water = water.sort_values('water_pct', ascending = False)"
   ]
  },
  {
   "cell_type": "code",
   "execution_count": 1302,
   "id": "5b843d82-05e2-4c61-8e4b-6caee4fd7282",
   "metadata": {},
   "outputs": [],
   "source": [
    "water['norm_water_withpts'] = water['norm_water'] * 5"
   ]
  },
  {
   "cell_type": "code",
   "execution_count": 1304,
   "id": "d3396a27-f3f8-45fa-8368-7d48359c1173",
   "metadata": {},
   "outputs": [],
   "source": [
    "water['norm_water_withpts_log5'] = water['norm_water'] * 32"
   ]
  },
  {
   "cell_type": "code",
   "execution_count": 1312,
   "id": "e4923c90-e866-4556-8f40-80776ab7de19",
   "metadata": {},
   "outputs": [],
   "source": [
    "water = water.reset_index()"
   ]
  },
  {
   "cell_type": "code",
   "execution_count": 1586,
   "id": "c98ec11d-7cc5-4f13-8488-dd34273f0107",
   "metadata": {},
   "outputs": [
    {
     "data": {
      "text/html": [
       "<div>\n",
       "<style scoped>\n",
       "    .dataframe tbody tr th:only-of-type {\n",
       "        vertical-align: middle;\n",
       "    }\n",
       "\n",
       "    .dataframe tbody tr th {\n",
       "        vertical-align: top;\n",
       "    }\n",
       "\n",
       "    .dataframe thead th {\n",
       "        text-align: right;\n",
       "    }\n",
       "</style>\n",
       "<table border=\"1\" class=\"dataframe\">\n",
       "  <thead>\n",
       "    <tr style=\"text-align: right;\">\n",
       "      <th></th>\n",
       "      <th>index</th>\n",
       "      <th>country</th>\n",
       "      <th>year</th>\n",
       "      <th>water_pct</th>\n",
       "      <th>norm_water</th>\n",
       "      <th>norm_water_withpts</th>\n",
       "      <th>norm_water_withpts_log5</th>\n",
       "    </tr>\n",
       "  </thead>\n",
       "  <tbody>\n",
       "    <tr>\n",
       "      <th>0</th>\n",
       "      <td>0</td>\n",
       "      <td>Gibraltar</td>\n",
       "      <td>2018.0</td>\n",
       "      <td>100.000000</td>\n",
       "      <td>1.000000</td>\n",
       "      <td>5.000000</td>\n",
       "      <td>32.000000</td>\n",
       "    </tr>\n",
       "    <tr>\n",
       "      <th>1</th>\n",
       "      <td>1</td>\n",
       "      <td>Monaco</td>\n",
       "      <td>2018.0</td>\n",
       "      <td>100.000000</td>\n",
       "      <td>1.000000</td>\n",
       "      <td>5.000000</td>\n",
       "      <td>32.000000</td>\n",
       "    </tr>\n",
       "    <tr>\n",
       "      <th>2</th>\n",
       "      <td>2</td>\n",
       "      <td>Singapore</td>\n",
       "      <td>2018.0</td>\n",
       "      <td>100.000000</td>\n",
       "      <td>1.000000</td>\n",
       "      <td>5.000000</td>\n",
       "      <td>32.000000</td>\n",
       "    </tr>\n",
       "    <tr>\n",
       "      <th>3</th>\n",
       "      <td>3</td>\n",
       "      <td>Liechtenstein</td>\n",
       "      <td>2018.0</td>\n",
       "      <td>100.000000</td>\n",
       "      <td>1.000000</td>\n",
       "      <td>5.000000</td>\n",
       "      <td>32.000000</td>\n",
       "    </tr>\n",
       "    <tr>\n",
       "      <th>4</th>\n",
       "      <td>4</td>\n",
       "      <td>San Marino</td>\n",
       "      <td>2018.0</td>\n",
       "      <td>100.000000</td>\n",
       "      <td>1.000000</td>\n",
       "      <td>5.000000</td>\n",
       "      <td>32.000000</td>\n",
       "    </tr>\n",
       "    <tr>\n",
       "      <th>...</th>\n",
       "      <td>...</td>\n",
       "      <td>...</td>\n",
       "      <td>...</td>\n",
       "      <td>...</td>\n",
       "      <td>...</td>\n",
       "      <td>...</td>\n",
       "      <td>...</td>\n",
       "    </tr>\n",
       "    <tr>\n",
       "      <th>220</th>\n",
       "      <td>220</td>\n",
       "      <td>Sierra Leone</td>\n",
       "      <td>2018.0</td>\n",
       "      <td>31.103751</td>\n",
       "      <td>0.030482</td>\n",
       "      <td>0.152408</td>\n",
       "      <td>0.975409</td>\n",
       "    </tr>\n",
       "    <tr>\n",
       "      <th>221</th>\n",
       "      <td>221</td>\n",
       "      <td>Chad</td>\n",
       "      <td>2018.0</td>\n",
       "      <td>30.529295</td>\n",
       "      <td>0.022398</td>\n",
       "      <td>0.111988</td>\n",
       "      <td>0.716726</td>\n",
       "    </tr>\n",
       "    <tr>\n",
       "      <th>222</th>\n",
       "      <td>222</td>\n",
       "      <td>Central African Republic</td>\n",
       "      <td>2018.0</td>\n",
       "      <td>30.021749</td>\n",
       "      <td>0.015255</td>\n",
       "      <td>0.076277</td>\n",
       "      <td>0.488174</td>\n",
       "    </tr>\n",
       "    <tr>\n",
       "      <th>223</th>\n",
       "      <td>223</td>\n",
       "      <td>Ethiopia</td>\n",
       "      <td>2018.0</td>\n",
       "      <td>29.815726</td>\n",
       "      <td>0.012356</td>\n",
       "      <td>0.061781</td>\n",
       "      <td>0.395399</td>\n",
       "    </tr>\n",
       "    <tr>\n",
       "      <th>224</th>\n",
       "      <td>224</td>\n",
       "      <td>Democratic Republic of the Congo</td>\n",
       "      <td>2018.0</td>\n",
       "      <td>28.937663</td>\n",
       "      <td>0.000000</td>\n",
       "      <td>0.000000</td>\n",
       "      <td>0.000000</td>\n",
       "    </tr>\n",
       "  </tbody>\n",
       "</table>\n",
       "<p>225 rows × 7 columns</p>\n",
       "</div>"
      ],
      "text/plain": [
       "     index                            country    year   water_pct  norm_water  \\\n",
       "0        0                          Gibraltar  2018.0  100.000000    1.000000   \n",
       "1        1                             Monaco  2018.0  100.000000    1.000000   \n",
       "2        2                          Singapore  2018.0  100.000000    1.000000   \n",
       "3        3                      Liechtenstein  2018.0  100.000000    1.000000   \n",
       "4        4                         San Marino  2018.0  100.000000    1.000000   \n",
       "..     ...                                ...     ...         ...         ...   \n",
       "220    220                       Sierra Leone  2018.0   31.103751    0.030482   \n",
       "221    221                               Chad  2018.0   30.529295    0.022398   \n",
       "222    222           Central African Republic  2018.0   30.021749    0.015255   \n",
       "223    223                           Ethiopia  2018.0   29.815726    0.012356   \n",
       "224    224   Democratic Republic of the Congo  2018.0   28.937663    0.000000   \n",
       "\n",
       "     norm_water_withpts  norm_water_withpts_log5  \n",
       "0              5.000000                32.000000  \n",
       "1              5.000000                32.000000  \n",
       "2              5.000000                32.000000  \n",
       "3              5.000000                32.000000  \n",
       "4              5.000000                32.000000  \n",
       "..                  ...                      ...  \n",
       "220            0.152408                 0.975409  \n",
       "221            0.111988                 0.716726  \n",
       "222            0.076277                 0.488174  \n",
       "223            0.061781                 0.395399  \n",
       "224            0.000000                 0.000000  \n",
       "\n",
       "[225 rows x 7 columns]"
      ]
     },
     "execution_count": 1586,
     "metadata": {},
     "output_type": "execute_result"
    }
   ],
   "source": [
    "water"
   ]
  },
  {
   "cell_type": "code",
   "execution_count": 1314,
   "id": "d786e9b6-6ba6-4a7e-97c0-60dcca5d3548",
   "metadata": {},
   "outputs": [],
   "source": [
    "water.to_csv('water_withallpts_onlycountries.csv', index=False, header=True)"
   ]
  },
  {
   "cell_type": "code",
   "execution_count": 1318,
   "id": "5a9ad0bd-52fa-4cea-b7c5-c93e7236b92f",
   "metadata": {},
   "outputs": [],
   "source": [
    "road = pd.read_csv(r\"C:\\Users\\eabro\\Downloads\\death-rate-road-traffic-injuries\\death-rate-road-traffic-injuries.csv\")"
   ]
  },
  {
   "cell_type": "code",
   "execution_count": 1322,
   "id": "fe9b6e95-0d98-4cb7-b614-4f047b9d0817",
   "metadata": {},
   "outputs": [],
   "source": [
    "road.columns = ['country', 'code', 'year', 'death_traffic']"
   ]
  },
  {
   "cell_type": "code",
   "execution_count": 1328,
   "id": "2bf093dd-b4b2-45bd-9e98-88ccc23196bb",
   "metadata": {},
   "outputs": [],
   "source": [
    "road = road.loc[road['year'] >= 2010]"
   ]
  },
  {
   "cell_type": "code",
   "execution_count": 1332,
   "id": "fa572cdb-ef89-4b38-b87c-ccfc7b9b71b8",
   "metadata": {},
   "outputs": [],
   "source": [
    "road = road.groupby('country').mean('death_traffic').reset_index()"
   ]
  },
  {
   "cell_type": "code",
   "execution_count": 1334,
   "id": "397db913-9b4a-43fa-ae86-8ba29d9c76c6",
   "metadata": {},
   "outputs": [],
   "source": [
    "road.to_csv('road.csv', index=False, header=True)"
   ]
  },
  {
   "cell_type": "code",
   "execution_count": 1336,
   "id": "6186e7f4-604c-4b0b-9c03-8e0b930f9b59",
   "metadata": {},
   "outputs": [],
   "source": [
    "road = pd.read_csv(r\"C:\\Users\\eabro\\Documents\\NSS\\Python\\Projects\\Utopia\\EmilyBroh_Capstone\\road.csv\")"
   ]
  },
  {
   "cell_type": "code",
   "execution_count": 1338,
   "id": "b1e22ffb-5b85-4795-a82a-bd100f3eb926",
   "metadata": {},
   "outputs": [
    {
     "data": {
      "text/html": [
       "<div>\n",
       "<style scoped>\n",
       "    .dataframe tbody tr th:only-of-type {\n",
       "        vertical-align: middle;\n",
       "    }\n",
       "\n",
       "    .dataframe tbody tr th {\n",
       "        vertical-align: top;\n",
       "    }\n",
       "\n",
       "    .dataframe thead th {\n",
       "        text-align: right;\n",
       "    }\n",
       "</style>\n",
       "<table border=\"1\" class=\"dataframe\">\n",
       "  <thead>\n",
       "    <tr style=\"text-align: right;\">\n",
       "      <th></th>\n",
       "      <th>country</th>\n",
       "      <th>year</th>\n",
       "      <th>death_traffic</th>\n",
       "    </tr>\n",
       "  </thead>\n",
       "  <tbody>\n",
       "    <tr>\n",
       "      <th>0</th>\n",
       "      <td>Afghanistan</td>\n",
       "      <td>2014.666667</td>\n",
       "      <td>14.900000</td>\n",
       "    </tr>\n",
       "    <tr>\n",
       "      <th>1</th>\n",
       "      <td>Algeria</td>\n",
       "      <td>2014.666667</td>\n",
       "      <td>21.466667</td>\n",
       "    </tr>\n",
       "    <tr>\n",
       "      <th>2</th>\n",
       "      <td>Angola</td>\n",
       "      <td>2014.666667</td>\n",
       "      <td>25.166667</td>\n",
       "    </tr>\n",
       "    <tr>\n",
       "      <th>3</th>\n",
       "      <td>Antigua and Barbuda</td>\n",
       "      <td>2014.666667</td>\n",
       "      <td>1.800000</td>\n",
       "    </tr>\n",
       "    <tr>\n",
       "      <th>4</th>\n",
       "      <td>Argentina</td>\n",
       "      <td>2014.666667</td>\n",
       "      <td>13.600000</td>\n",
       "    </tr>\n",
       "    <tr>\n",
       "      <th>...</th>\n",
       "      <td>...</td>\n",
       "      <td>...</td>\n",
       "      <td>...</td>\n",
       "    </tr>\n",
       "    <tr>\n",
       "      <th>177</th>\n",
       "      <td>Venezuela</td>\n",
       "      <td>2014.666667</td>\n",
       "      <td>35.033333</td>\n",
       "    </tr>\n",
       "    <tr>\n",
       "      <th>178</th>\n",
       "      <td>Vietnam</td>\n",
       "      <td>2014.666667</td>\n",
       "      <td>27.200000</td>\n",
       "    </tr>\n",
       "    <tr>\n",
       "      <th>179</th>\n",
       "      <td>Yemen</td>\n",
       "      <td>2014.666667</td>\n",
       "      <td>26.166667</td>\n",
       "    </tr>\n",
       "    <tr>\n",
       "      <th>180</th>\n",
       "      <td>Zambia</td>\n",
       "      <td>2014.666667</td>\n",
       "      <td>21.666667</td>\n",
       "    </tr>\n",
       "    <tr>\n",
       "      <th>181</th>\n",
       "      <td>Zimbabwe</td>\n",
       "      <td>2014.666667</td>\n",
       "      <td>39.166667</td>\n",
       "    </tr>\n",
       "  </tbody>\n",
       "</table>\n",
       "<p>182 rows × 3 columns</p>\n",
       "</div>"
      ],
      "text/plain": [
       "                 country         year  death_traffic\n",
       "0            Afghanistan  2014.666667      14.900000\n",
       "1                Algeria  2014.666667      21.466667\n",
       "2                 Angola  2014.666667      25.166667\n",
       "3    Antigua and Barbuda  2014.666667       1.800000\n",
       "4              Argentina  2014.666667      13.600000\n",
       "..                   ...          ...            ...\n",
       "177            Venezuela  2014.666667      35.033333\n",
       "178              Vietnam  2014.666667      27.200000\n",
       "179                Yemen  2014.666667      26.166667\n",
       "180               Zambia  2014.666667      21.666667\n",
       "181             Zimbabwe  2014.666667      39.166667\n",
       "\n",
       "[182 rows x 3 columns]"
      ]
     },
     "execution_count": 1338,
     "metadata": {},
     "output_type": "execute_result"
    }
   ],
   "source": [
    "road"
   ]
  },
  {
   "cell_type": "code",
   "execution_count": 1344,
   "id": "a80e9c81-5c57-4701-bd6f-d53b7c2006b6",
   "metadata": {},
   "outputs": [],
   "source": [
    "road['norm_traffic'] = 1 - (road['death_traffic'] - road['death_traffic'].min()) / (road['death_traffic'].max() - road['death_traffic'].min())"
   ]
  },
  {
   "cell_type": "code",
   "execution_count": 1349,
   "id": "d64480b2-3487-4a0b-b9da-616be7ed60dd",
   "metadata": {},
   "outputs": [],
   "source": [
    "road = road.sort_values('norm_traffic', ascending = False)"
   ]
  },
  {
   "cell_type": "code",
   "execution_count": 1353,
   "id": "5171dcdf-8b28-40a0-a5f8-350191fc11f8",
   "metadata": {},
   "outputs": [],
   "source": [
    "road['traffic_pts'] = road['norm_traffic'] * 32"
   ]
  },
  {
   "cell_type": "code",
   "execution_count": 1357,
   "id": "45e43de7-2d66-47c3-a7da-39f42f2e3e36",
   "metadata": {},
   "outputs": [],
   "source": [
    "road.to_csv('road_withpts_onlycountries.csv', index=False, header=True)"
   ]
  },
  {
   "cell_type": "code",
   "execution_count": 1359,
   "id": "ab1d9de4-54b7-4742-b2c5-a73cd546bacf",
   "metadata": {},
   "outputs": [
    {
     "data": {
      "text/html": [
       "<div>\n",
       "<style scoped>\n",
       "    .dataframe tbody tr th:only-of-type {\n",
       "        vertical-align: middle;\n",
       "    }\n",
       "\n",
       "    .dataframe tbody tr th {\n",
       "        vertical-align: top;\n",
       "    }\n",
       "\n",
       "    .dataframe thead th {\n",
       "        text-align: right;\n",
       "    }\n",
       "</style>\n",
       "<table border=\"1\" class=\"dataframe\">\n",
       "  <thead>\n",
       "    <tr style=\"text-align: right;\">\n",
       "      <th></th>\n",
       "      <th>country</th>\n",
       "      <th>year</th>\n",
       "      <th>death_traffic</th>\n",
       "      <th>norm_traffic</th>\n",
       "      <th>traffic_pts</th>\n",
       "    </tr>\n",
       "  </thead>\n",
       "  <tbody>\n",
       "    <tr>\n",
       "      <th>106</th>\n",
       "      <td>Micronesia (country)</td>\n",
       "      <td>2014.666667</td>\n",
       "      <td>1.333333</td>\n",
       "      <td>1.000000</td>\n",
       "      <td>32.000000</td>\n",
       "    </tr>\n",
       "    <tr>\n",
       "      <th>3</th>\n",
       "      <td>Antigua and Barbuda</td>\n",
       "      <td>2014.666667</td>\n",
       "      <td>1.800000</td>\n",
       "      <td>0.988458</td>\n",
       "      <td>31.630668</td>\n",
       "    </tr>\n",
       "    <tr>\n",
       "      <th>100</th>\n",
       "      <td>Maldives</td>\n",
       "      <td>2014.666667</td>\n",
       "      <td>2.400000</td>\n",
       "      <td>0.973619</td>\n",
       "      <td>31.155812</td>\n",
       "    </tr>\n",
       "    <tr>\n",
       "      <th>122</th>\n",
       "      <td>Norway</td>\n",
       "      <td>2014.666667</td>\n",
       "      <td>3.033333</td>\n",
       "      <td>0.957955</td>\n",
       "      <td>30.654575</td>\n",
       "    </tr>\n",
       "    <tr>\n",
       "      <th>157</th>\n",
       "      <td>Sweden</td>\n",
       "      <td>2014.666667</td>\n",
       "      <td>3.100000</td>\n",
       "      <td>0.956307</td>\n",
       "      <td>30.601814</td>\n",
       "    </tr>\n",
       "    <tr>\n",
       "      <th>...</th>\n",
       "      <td>...</td>\n",
       "      <td>...</td>\n",
       "      <td>...</td>\n",
       "      <td>...</td>\n",
       "      <td>...</td>\n",
       "    </tr>\n",
       "    <tr>\n",
       "      <th>177</th>\n",
       "      <td>Venezuela</td>\n",
       "      <td>2014.666667</td>\n",
       "      <td>35.033333</td>\n",
       "      <td>0.166529</td>\n",
       "      <td>5.328937</td>\n",
       "    </tr>\n",
       "    <tr>\n",
       "      <th>93</th>\n",
       "      <td>Liberia</td>\n",
       "      <td>2014.666667</td>\n",
       "      <td>35.733333</td>\n",
       "      <td>0.149217</td>\n",
       "      <td>4.774938</td>\n",
       "    </tr>\n",
       "    <tr>\n",
       "      <th>52</th>\n",
       "      <td>Eritrea</td>\n",
       "      <td>2014.666667</td>\n",
       "      <td>36.266667</td>\n",
       "      <td>0.136026</td>\n",
       "      <td>4.352844</td>\n",
       "    </tr>\n",
       "    <tr>\n",
       "      <th>181</th>\n",
       "      <td>Zimbabwe</td>\n",
       "      <td>2014.666667</td>\n",
       "      <td>39.166667</td>\n",
       "      <td>0.064303</td>\n",
       "      <td>2.057708</td>\n",
       "    </tr>\n",
       "    <tr>\n",
       "      <th>46</th>\n",
       "      <td>Dominican Republic</td>\n",
       "      <td>2014.666667</td>\n",
       "      <td>41.766667</td>\n",
       "      <td>0.000000</td>\n",
       "      <td>0.000000</td>\n",
       "    </tr>\n",
       "  </tbody>\n",
       "</table>\n",
       "<p>182 rows × 5 columns</p>\n",
       "</div>"
      ],
      "text/plain": [
       "                  country         year  death_traffic  norm_traffic  \\\n",
       "106  Micronesia (country)  2014.666667       1.333333      1.000000   \n",
       "3     Antigua and Barbuda  2014.666667       1.800000      0.988458   \n",
       "100              Maldives  2014.666667       2.400000      0.973619   \n",
       "122                Norway  2014.666667       3.033333      0.957955   \n",
       "157                Sweden  2014.666667       3.100000      0.956307   \n",
       "..                    ...          ...            ...           ...   \n",
       "177             Venezuela  2014.666667      35.033333      0.166529   \n",
       "93                Liberia  2014.666667      35.733333      0.149217   \n",
       "52                Eritrea  2014.666667      36.266667      0.136026   \n",
       "181              Zimbabwe  2014.666667      39.166667      0.064303   \n",
       "46     Dominican Republic  2014.666667      41.766667      0.000000   \n",
       "\n",
       "     traffic_pts  \n",
       "106    32.000000  \n",
       "3      31.630668  \n",
       "100    31.155812  \n",
       "122    30.654575  \n",
       "157    30.601814  \n",
       "..           ...  \n",
       "177     5.328937  \n",
       "93      4.774938  \n",
       "52      4.352844  \n",
       "181     2.057708  \n",
       "46      0.000000  \n",
       "\n",
       "[182 rows x 5 columns]"
      ]
     },
     "execution_count": 1359,
     "metadata": {},
     "output_type": "execute_result"
    }
   ],
   "source": [
    "road"
   ]
  },
  {
   "cell_type": "code",
   "execution_count": 1361,
   "id": "039dc5d9-9ba8-4bef-8e23-c5e6e0d26118",
   "metadata": {},
   "outputs": [],
   "source": [
    "pov = pd.read_csv(r\"C:\\Users\\eabro\\Documents\\NSS\\Python\\Projects\\Utopia\\data_grouped\\Health_&Essentials\\share-of-population-in-extreme-poverty\\share-of-population-in-extreme-poverty.csv\")"
   ]
  },
  {
   "cell_type": "code",
   "execution_count": 1365,
   "id": "1987ddde-2b92-4479-ba92-a437dc532f55",
   "metadata": {},
   "outputs": [],
   "source": [
    "pov.columns = ['country', 'code', 'year', 'pct_pov', 'a']"
   ]
  },
  {
   "cell_type": "code",
   "execution_count": 1371,
   "id": "977769b4-b770-4df1-8fee-832766afc928",
   "metadata": {},
   "outputs": [],
   "source": [
    "import country_converter as coco"
   ]
  },
  {
   "cell_type": "code",
   "execution_count": 1367,
   "id": "e24ce9d4-a4ef-410e-8e34-1630d054c6f9",
   "metadata": {},
   "outputs": [],
   "source": [
    "pov = pov[['country', 'code', 'year', 'pct_pov']]"
   ]
  },
  {
   "cell_type": "code",
   "execution_count": 1373,
   "id": "48004c04-ebff-4122-95a2-2f9f9ff208c7",
   "metadata": {
    "collapsed": true,
    "jupyter": {
     "outputs_hidden": true
    }
   },
   "outputs": [
    {
     "name": "stderr",
     "output_type": "stream",
     "text": [
      "East Asia and Pacific (PIP) not found in regex\n",
      "East Asia and Pacific (PIP) not found in regex\n",
      "East Asia and Pacific (PIP) not found in regex\n",
      "East Asia and Pacific (PIP) not found in regex\n",
      "East Asia and Pacific (PIP) not found in regex\n",
      "East Asia and Pacific (PIP) not found in regex\n",
      "East Asia and Pacific (PIP) not found in regex\n",
      "East Asia and Pacific (PIP) not found in regex\n",
      "East Asia and Pacific (PIP) not found in regex\n",
      "East Asia and Pacific (PIP) not found in regex\n",
      "East Asia and Pacific (PIP) not found in regex\n",
      "East Asia and Pacific (PIP) not found in regex\n",
      "East Asia and Pacific (PIP) not found in regex\n",
      "East Asia and Pacific (PIP) not found in regex\n",
      "East Asia and Pacific (PIP) not found in regex\n",
      "East Asia and Pacific (PIP) not found in regex\n",
      "East Asia and Pacific (PIP) not found in regex\n",
      "East Asia and Pacific (PIP) not found in regex\n",
      "East Asia and Pacific (PIP) not found in regex\n",
      "East Asia and Pacific (PIP) not found in regex\n",
      "East Asia and Pacific (PIP) not found in regex\n",
      "East Asia and Pacific (PIP) not found in regex\n",
      "East Asia and Pacific (PIP) not found in regex\n",
      "East Asia and Pacific (PIP) not found in regex\n",
      "East Asia and Pacific (PIP) not found in regex\n",
      "East Asia and Pacific (PIP) not found in regex\n",
      "East Asia and Pacific (PIP) not found in regex\n",
      "East Asia and Pacific (PIP) not found in regex\n",
      "East Asia and Pacific (PIP) not found in regex\n",
      "East Asia and Pacific (PIP) not found in regex\n",
      "East Asia and Pacific (PIP) not found in regex\n",
      "East Asia and Pacific (PIP) not found in regex\n",
      "East Asia and Pacific (PIP) not found in regex\n",
      "East Asia and Pacific (PIP) not found in regex\n",
      "East Asia and Pacific (PIP) not found in regex\n",
      "Europe and Central Asia (PIP) not found in regex\n",
      "Europe and Central Asia (PIP) not found in regex\n",
      "Europe and Central Asia (PIP) not found in regex\n",
      "Europe and Central Asia (PIP) not found in regex\n",
      "Europe and Central Asia (PIP) not found in regex\n",
      "Europe and Central Asia (PIP) not found in regex\n",
      "Europe and Central Asia (PIP) not found in regex\n",
      "Europe and Central Asia (PIP) not found in regex\n",
      "Europe and Central Asia (PIP) not found in regex\n",
      "Europe and Central Asia (PIP) not found in regex\n",
      "Europe and Central Asia (PIP) not found in regex\n",
      "Europe and Central Asia (PIP) not found in regex\n",
      "Europe and Central Asia (PIP) not found in regex\n",
      "Europe and Central Asia (PIP) not found in regex\n",
      "Europe and Central Asia (PIP) not found in regex\n",
      "Europe and Central Asia (PIP) not found in regex\n",
      "Europe and Central Asia (PIP) not found in regex\n",
      "Europe and Central Asia (PIP) not found in regex\n",
      "Europe and Central Asia (PIP) not found in regex\n",
      "Europe and Central Asia (PIP) not found in regex\n",
      "Europe and Central Asia (PIP) not found in regex\n",
      "Europe and Central Asia (PIP) not found in regex\n",
      "Europe and Central Asia (PIP) not found in regex\n",
      "Europe and Central Asia (PIP) not found in regex\n",
      "Europe and Central Asia (PIP) not found in regex\n",
      "Europe and Central Asia (PIP) not found in regex\n",
      "Europe and Central Asia (PIP) not found in regex\n",
      "Europe and Central Asia (PIP) not found in regex\n",
      "Europe and Central Asia (PIP) not found in regex\n",
      "Europe and Central Asia (PIP) not found in regex\n",
      "Europe and Central Asia (PIP) not found in regex\n",
      "Europe and Central Asia (PIP) not found in regex\n",
      "Europe and Central Asia (PIP) not found in regex\n",
      "Europe and Central Asia (PIP) not found in regex\n",
      "Europe and Central Asia (PIP) not found in regex\n",
      "Latin America and the Caribbean (PIP) not found in regex\n",
      "Latin America and the Caribbean (PIP) not found in regex\n",
      "Latin America and the Caribbean (PIP) not found in regex\n",
      "Latin America and the Caribbean (PIP) not found in regex\n",
      "Latin America and the Caribbean (PIP) not found in regex\n",
      "Latin America and the Caribbean (PIP) not found in regex\n",
      "Latin America and the Caribbean (PIP) not found in regex\n",
      "Latin America and the Caribbean (PIP) not found in regex\n",
      "Latin America and the Caribbean (PIP) not found in regex\n",
      "Latin America and the Caribbean (PIP) not found in regex\n",
      "Latin America and the Caribbean (PIP) not found in regex\n",
      "Latin America and the Caribbean (PIP) not found in regex\n",
      "Latin America and the Caribbean (PIP) not found in regex\n",
      "Latin America and the Caribbean (PIP) not found in regex\n",
      "Latin America and the Caribbean (PIP) not found in regex\n",
      "Latin America and the Caribbean (PIP) not found in regex\n",
      "Latin America and the Caribbean (PIP) not found in regex\n",
      "Latin America and the Caribbean (PIP) not found in regex\n",
      "Latin America and the Caribbean (PIP) not found in regex\n",
      "Latin America and the Caribbean (PIP) not found in regex\n",
      "Latin America and the Caribbean (PIP) not found in regex\n",
      "Latin America and the Caribbean (PIP) not found in regex\n",
      "Latin America and the Caribbean (PIP) not found in regex\n",
      "Latin America and the Caribbean (PIP) not found in regex\n",
      "Latin America and the Caribbean (PIP) not found in regex\n",
      "Latin America and the Caribbean (PIP) not found in regex\n",
      "Latin America and the Caribbean (PIP) not found in regex\n",
      "Latin America and the Caribbean (PIP) not found in regex\n",
      "Latin America and the Caribbean (PIP) not found in regex\n",
      "Latin America and the Caribbean (PIP) not found in regex\n",
      "Latin America and the Caribbean (PIP) not found in regex\n",
      "Latin America and the Caribbean (PIP) not found in regex\n",
      "Latin America and the Caribbean (PIP) not found in regex\n",
      "Latin America and the Caribbean (PIP) not found in regex\n",
      "Latin America and the Caribbean (PIP) not found in regex\n",
      "Middle East and North Africa (PIP) not found in regex\n",
      "Middle East and North Africa (PIP) not found in regex\n",
      "Middle East and North Africa (PIP) not found in regex\n",
      "Middle East and North Africa (PIP) not found in regex\n",
      "Middle East and North Africa (PIP) not found in regex\n",
      "Middle East and North Africa (PIP) not found in regex\n",
      "Middle East and North Africa (PIP) not found in regex\n",
      "Middle East and North Africa (PIP) not found in regex\n",
      "Middle East and North Africa (PIP) not found in regex\n",
      "Middle East and North Africa (PIP) not found in regex\n",
      "Middle East and North Africa (PIP) not found in regex\n",
      "Middle East and North Africa (PIP) not found in regex\n",
      "Middle East and North Africa (PIP) not found in regex\n",
      "Middle East and North Africa (PIP) not found in regex\n",
      "Middle East and North Africa (PIP) not found in regex\n",
      "Middle East and North Africa (PIP) not found in regex\n",
      "Middle East and North Africa (PIP) not found in regex\n",
      "Middle East and North Africa (PIP) not found in regex\n",
      "Middle East and North Africa (PIP) not found in regex\n",
      "Middle East and North Africa (PIP) not found in regex\n",
      "Middle East and North Africa (PIP) not found in regex\n",
      "Middle East and North Africa (PIP) not found in regex\n",
      "Middle East and North Africa (PIP) not found in regex\n",
      "Middle East and North Africa (PIP) not found in regex\n",
      "Middle East and North Africa (PIP) not found in regex\n",
      "Middle East and North Africa (PIP) not found in regex\n",
      "Middle East and North Africa (PIP) not found in regex\n",
      "Middle East and North Africa (PIP) not found in regex\n",
      "Middle East and North Africa (PIP) not found in regex\n",
      "Middle East and North Africa (PIP) not found in regex\n",
      "Middle East and North Africa (PIP) not found in regex\n",
      "Middle East and North Africa (PIP) not found in regex\n",
      "Middle East and North Africa (PIP) not found in regex\n",
      "Middle East and North Africa (PIP) not found in regex\n",
      "Middle East and North Africa (PIP) not found in regex\n",
      "Other high income countries (PIP) not found in regex\n",
      "Other high income countries (PIP) not found in regex\n",
      "Other high income countries (PIP) not found in regex\n",
      "Other high income countries (PIP) not found in regex\n",
      "Other high income countries (PIP) not found in regex\n",
      "Other high income countries (PIP) not found in regex\n",
      "Other high income countries (PIP) not found in regex\n",
      "Other high income countries (PIP) not found in regex\n",
      "Other high income countries (PIP) not found in regex\n",
      "Other high income countries (PIP) not found in regex\n",
      "Other high income countries (PIP) not found in regex\n",
      "Other high income countries (PIP) not found in regex\n",
      "Other high income countries (PIP) not found in regex\n",
      "Other high income countries (PIP) not found in regex\n",
      "Other high income countries (PIP) not found in regex\n",
      "Other high income countries (PIP) not found in regex\n",
      "Other high income countries (PIP) not found in regex\n",
      "Other high income countries (PIP) not found in regex\n",
      "Other high income countries (PIP) not found in regex\n",
      "Other high income countries (PIP) not found in regex\n",
      "Other high income countries (PIP) not found in regex\n",
      "Other high income countries (PIP) not found in regex\n",
      "Other high income countries (PIP) not found in regex\n",
      "Other high income countries (PIP) not found in regex\n",
      "Other high income countries (PIP) not found in regex\n",
      "Other high income countries (PIP) not found in regex\n",
      "Other high income countries (PIP) not found in regex\n",
      "Other high income countries (PIP) not found in regex\n",
      "Other high income countries (PIP) not found in regex\n",
      "Other high income countries (PIP) not found in regex\n",
      "Other high income countries (PIP) not found in regex\n",
      "Other high income countries (PIP) not found in regex\n",
      "Other high income countries (PIP) not found in regex\n",
      "Other high income countries (PIP) not found in regex\n",
      "Other high income countries (PIP) not found in regex\n",
      "South Asia (PIP) not found in regex\n",
      "South Asia (PIP) not found in regex\n",
      "South Asia (PIP) not found in regex\n",
      "South Asia (PIP) not found in regex\n",
      "South Asia (PIP) not found in regex\n",
      "South Asia (PIP) not found in regex\n",
      "South Asia (PIP) not found in regex\n",
      "South Asia (PIP) not found in regex\n",
      "South Asia (PIP) not found in regex\n",
      "South Asia (PIP) not found in regex\n",
      "South Asia (PIP) not found in regex\n",
      "South Asia (PIP) not found in regex\n",
      "South Asia (PIP) not found in regex\n",
      "South Asia (PIP) not found in regex\n",
      "South Asia (PIP) not found in regex\n",
      "South Asia (PIP) not found in regex\n",
      "South Asia (PIP) not found in regex\n",
      "South Asia (PIP) not found in regex\n",
      "South Asia (PIP) not found in regex\n",
      "South Asia (PIP) not found in regex\n",
      "South Asia (PIP) not found in regex\n",
      "South Asia (PIP) not found in regex\n",
      "South Asia (PIP) not found in regex\n",
      "South Asia (PIP) not found in regex\n",
      "South Asia (PIP) not found in regex\n",
      "South Asia (PIP) not found in regex\n",
      "South Asia (PIP) not found in regex\n",
      "South Asia (PIP) not found in regex\n",
      "South Asia (PIP) not found in regex\n",
      "South Asia (PIP) not found in regex\n",
      "South Asia (PIP) not found in regex\n",
      "South Asia (PIP) not found in regex\n",
      "South Asia (PIP) not found in regex\n",
      "South Asia (PIP) not found in regex\n",
      "South Asia (PIP) not found in regex\n",
      "Sub-Saharan Africa (PIP) not found in regex\n",
      "Sub-Saharan Africa (PIP) not found in regex\n",
      "Sub-Saharan Africa (PIP) not found in regex\n",
      "Sub-Saharan Africa (PIP) not found in regex\n",
      "Sub-Saharan Africa (PIP) not found in regex\n",
      "Sub-Saharan Africa (PIP) not found in regex\n",
      "Sub-Saharan Africa (PIP) not found in regex\n",
      "Sub-Saharan Africa (PIP) not found in regex\n",
      "Sub-Saharan Africa (PIP) not found in regex\n",
      "Sub-Saharan Africa (PIP) not found in regex\n",
      "Sub-Saharan Africa (PIP) not found in regex\n",
      "Sub-Saharan Africa (PIP) not found in regex\n",
      "Sub-Saharan Africa (PIP) not found in regex\n",
      "Sub-Saharan Africa (PIP) not found in regex\n",
      "Sub-Saharan Africa (PIP) not found in regex\n",
      "Sub-Saharan Africa (PIP) not found in regex\n",
      "Sub-Saharan Africa (PIP) not found in regex\n",
      "Sub-Saharan Africa (PIP) not found in regex\n",
      "Sub-Saharan Africa (PIP) not found in regex\n",
      "Sub-Saharan Africa (PIP) not found in regex\n",
      "Sub-Saharan Africa (PIP) not found in regex\n",
      "Sub-Saharan Africa (PIP) not found in regex\n",
      "Sub-Saharan Africa (PIP) not found in regex\n",
      "Sub-Saharan Africa (PIP) not found in regex\n",
      "Sub-Saharan Africa (PIP) not found in regex\n",
      "Sub-Saharan Africa (PIP) not found in regex\n",
      "Sub-Saharan Africa (PIP) not found in regex\n",
      "Sub-Saharan Africa (PIP) not found in regex\n",
      "Sub-Saharan Africa (PIP) not found in regex\n",
      "Sub-Saharan Africa (PIP) not found in regex\n",
      "Sub-Saharan Africa (PIP) not found in regex\n",
      "Sub-Saharan Africa (PIP) not found in regex\n",
      "Sub-Saharan Africa (PIP) not found in regex\n",
      "Sub-Saharan Africa (PIP) not found in regex\n",
      "Sub-Saharan Africa (PIP) not found in regex\n",
      "Western and Central Africa (PIP) not found in regex\n",
      "Western and Central Africa (PIP) not found in regex\n",
      "Western and Central Africa (PIP) not found in regex\n",
      "Western and Central Africa (PIP) not found in regex\n",
      "Western and Central Africa (PIP) not found in regex\n",
      "Western and Central Africa (PIP) not found in regex\n",
      "Western and Central Africa (PIP) not found in regex\n",
      "Western and Central Africa (PIP) not found in regex\n",
      "Western and Central Africa (PIP) not found in regex\n",
      "Western and Central Africa (PIP) not found in regex\n",
      "Western and Central Africa (PIP) not found in regex\n",
      "Western and Central Africa (PIP) not found in regex\n",
      "Western and Central Africa (PIP) not found in regex\n",
      "Western and Central Africa (PIP) not found in regex\n",
      "Western and Central Africa (PIP) not found in regex\n",
      "Western and Central Africa (PIP) not found in regex\n",
      "Western and Central Africa (PIP) not found in regex\n",
      "Western and Central Africa (PIP) not found in regex\n",
      "Western and Central Africa (PIP) not found in regex\n",
      "Western and Central Africa (PIP) not found in regex\n",
      "Western and Central Africa (PIP) not found in regex\n",
      "Western and Central Africa (PIP) not found in regex\n",
      "Western and Central Africa (PIP) not found in regex\n",
      "Western and Central Africa (PIP) not found in regex\n",
      "Western and Central Africa (PIP) not found in regex\n",
      "Western and Central Africa (PIP) not found in regex\n",
      "Western and Central Africa (PIP) not found in regex\n",
      "Western and Central Africa (PIP) not found in regex\n",
      "Western and Central Africa (PIP) not found in regex\n",
      "Western and Central Africa (PIP) not found in regex\n",
      "Western and Central Africa (PIP) not found in regex\n",
      "Western and Central Africa (PIP) not found in regex\n",
      "Western and Central Africa (PIP) not found in regex\n",
      "Western and Central Africa (PIP) not found in regex\n",
      "Western and Central Africa (PIP) not found in regex\n",
      "World not found in regex\n",
      "World not found in regex\n",
      "World not found in regex\n",
      "World not found in regex\n",
      "World not found in regex\n",
      "World not found in regex\n",
      "World not found in regex\n",
      "World not found in regex\n",
      "World not found in regex\n",
      "World not found in regex\n",
      "World not found in regex\n",
      "World not found in regex\n",
      "World not found in regex\n",
      "World not found in regex\n",
      "World not found in regex\n",
      "World not found in regex\n",
      "World not found in regex\n",
      "World not found in regex\n",
      "World not found in regex\n",
      "World not found in regex\n",
      "World not found in regex\n",
      "World not found in regex\n",
      "World not found in regex\n",
      "World not found in regex\n",
      "World not found in regex\n",
      "World not found in regex\n",
      "World not found in regex\n",
      "World not found in regex\n",
      "World not found in regex\n",
      "World not found in regex\n",
      "World not found in regex\n",
      "World not found in regex\n",
      "World not found in regex\n",
      "World not found in regex\n",
      "World not found in regex\n",
      "World ( not found in regex\n",
      "World ( not found in regex\n",
      "World ( not found in regex\n",
      "World ( not found in regex\n",
      "World ( not found in regex\n",
      "World ( not found in regex\n",
      "World ( not found in regex\n",
      "World ( not found in regex\n",
      "World ( not found in regex\n",
      "World ( not found in regex\n",
      "World ( not found in regex\n",
      "World ( not found in regex\n",
      "World ( not found in regex\n",
      "World ( not found in regex\n",
      "World ( not found in regex\n",
      "World ( not found in regex\n",
      "World ( not found in regex\n",
      "World ( not found in regex\n",
      "World ( not found in regex\n",
      "World ( not found in regex\n",
      "World ( not found in regex\n",
      "World ( not found in regex\n",
      "World ( not found in regex\n",
      "World ( not found in regex\n",
      "World ( not found in regex\n",
      "World ( not found in regex\n",
      "World ( not found in regex\n",
      "World ( not found in regex\n",
      "World ( not found in regex\n",
      "World ( not found in regex\n",
      "World ( not found in regex\n",
      "World ( not found in regex\n",
      "World ( not found in regex\n",
      "World ( not found in regex\n",
      "World ( not found in regex\n",
      "World ( not found in regex\n",
      "World ( not found in regex\n",
      "World ( not found in regex\n",
      "World ( not found in regex\n",
      "World ( not found in regex\n",
      "World ( not found in regex\n",
      "World ( not found in regex\n",
      "World ( not found in regex\n",
      "World ( not found in regex\n",
      "World ( not found in regex\n",
      "World ( not found in regex\n",
      "World ( not found in regex\n",
      "World ( not found in regex\n",
      "World ( not found in regex\n",
      "World ( not found in regex\n",
      "World ( not found in regex\n",
      "World ( not found in regex\n",
      "World ( not found in regex\n",
      "World ( not found in regex\n",
      "World ( not found in regex\n",
      "World ( not found in regex\n",
      "World ( not found in regex\n",
      "World ( not found in regex\n",
      "World ( not found in regex\n",
      "World ( not found in regex\n",
      "World ( not found in regex\n",
      "World ( not found in regex\n",
      "World ( not found in regex\n",
      "World ( not found in regex\n",
      "World ( not found in regex\n",
      "World ( not found in regex\n",
      "World ( not found in regex\n",
      "World ( not found in regex\n",
      "World ( not found in regex\n",
      "World ( not found in regex\n"
     ]
    }
   ],
   "source": [
    "pov['country_c'] = coco.convert(names= pov['country'], to='name_short', not_found=None)"
   ]
  },
  {
   "cell_type": "code",
   "execution_count": 1375,
   "id": "822054bc-1fc0-4d3f-a013-78f28632bca0",
   "metadata": {},
   "outputs": [
    {
     "data": {
      "text/plain": [
       "year\n",
       "2018    108\n",
       "2015    102\n",
       "2012    100\n",
       "2016     99\n",
       "2010     99\n",
       "       ... \n",
       "1966      1\n",
       "1965      1\n",
       "1964      1\n",
       "1967      1\n",
       "1963      1\n",
       "Name: count, Length: 62, dtype: int64"
      ]
     },
     "execution_count": 1375,
     "metadata": {},
     "output_type": "execute_result"
    }
   ],
   "source": [
    "pov.value_counts('year')"
   ]
  },
  {
   "cell_type": "markdown",
   "id": "079625b4-0dec-4bfa-929c-5565374d9b76",
   "metadata": {},
   "source": [
    "\"C:\\Users\\eabro\\Documents\\NSS\\Python\\Projects\\Utopia\\EmilyBroh_Capstone\\emilybroh_capstone\\Category_A\\sanitize_withallpts_onlycountries.csv\"\n",
    "\"C:\\Users\\eabro\\Documents\\NSS\\Python\\Projects\\Utopia\\EmilyBroh_Capstone\\emilybroh_capstone\\Category_A\\slums_norm_withbothpts_onlycountries.csv\"\n",
    "\"C:\\Users\\eabro\\Documents\\NSS\\Python\\Projects\\Utopia\\EmilyBroh_Capstone\\emilybroh_capstone\\Category_A\\water_withallpts_onlycountries.csv\"\n",
    "\"C:\\Users\\eabro\\Documents\\NSS\\Python\\Projects\\Utopia\\EmilyBroh_Capstone\\emilybroh_capstone\\Category_A\\child_mortality_norm_withallpts_onlycountries.csv\"\n",
    "\"C:\\Users\\eabro\\Documents\\NSS\\Python\\Projects\\Utopia\\EmilyBroh_Capstone\\emilybroh_capstone\\Category_A\\electric_with_allpts_onlycountries.csv\"\n",
    "\"C:\\Users\\eabro\\Documents\\NSS\\Python\\Projects\\Utopia\\EmilyBroh_Capstone\\emilybroh_capstone\\Category_A\\food_insecure_withallpts_onlycountries.csv\"\n",
    "\"C:\\Users\\eabro\\Documents\\NSS\\Python\\Projects\\Utopia\\EmilyBroh_Capstone\\emilybroh_capstone\\Category_A\\life_expect_withallpts_onlycountries.csv\"\n",
    "\"C:\\Users\\eabro\\Documents\\NSS\\Python\\Projects\\Utopia\\EmilyBroh_Capstone\\emilybroh_capstone\\Category_A\\maternal_mortality_withallpts_onlycountries.csv\"\n",
    "\"C:\\Users\\eabro\\Documents\\NSS\\Python\\Projects\\Utopia\\EmilyBroh_Capstone\\emilybroh_capstone\\Category_A\\pollution_withallpts_onlycountries.csv\""
   ]
  },
  {
   "cell_type": "code",
   "execution_count": 1380,
   "id": "8947c23b-fdf6-4bad-8d3f-0e2144aff4f6",
   "metadata": {},
   "outputs": [],
   "source": [
    "pol2 = pd.read_csv(r\"C:\\Users\\eabro\\Downloads\\pm25-air-pollution\\pm25-air-pollution.csv\")"
   ]
  },
  {
   "cell_type": "code",
   "execution_count": 1386,
   "id": "fee95f65-cfa8-47c0-8284-2b7a263f1757",
   "metadata": {},
   "outputs": [],
   "source": [
    "pol2.columns = ['country', 'code', 'year', 'pm25']"
   ]
  },
  {
   "cell_type": "code",
   "execution_count": 1394,
   "id": "1abc7401-9e2c-4164-aba6-5d733010d31d",
   "metadata": {},
   "outputs": [],
   "source": [
    "pol2 = pol2.loc[pol2['year'] >= 2015]"
   ]
  },
  {
   "cell_type": "code",
   "execution_count": 1402,
   "id": "450ccde4-b61e-43fc-a6c4-dca4261f9613",
   "metadata": {},
   "outputs": [],
   "source": [
    "pol2 = pol2.groupby('country').mean('pm25').reset_index()"
   ]
  },
  {
   "cell_type": "code",
   "execution_count": 1404,
   "id": "9979ff15-52e1-40f4-bd18-867576abe473",
   "metadata": {},
   "outputs": [],
   "source": [
    "pol2.to_csv('pol2.csv', index=False, header=True)"
   ]
  },
  {
   "cell_type": "code",
   "execution_count": 1406,
   "id": "3c49c38a-b61c-48f1-87d8-1e4b23d3e30c",
   "metadata": {},
   "outputs": [],
   "source": [
    "pol2 = pd.read_csv(r\"C:\\Users\\eabro\\Documents\\NSS\\Python\\Projects\\Utopia\\EmilyBroh_Capstone\\pol2.csv\")"
   ]
  },
  {
   "cell_type": "code",
   "execution_count": 1410,
   "id": "dee5c0f1-e70c-41f3-868b-fa807629daca",
   "metadata": {},
   "outputs": [],
   "source": [
    "pol2['norm_pol2'] = 1 - (pol2['pm25'] - pol2['pm25'].min()) / (pol2['pm25'].max() - pol2['pm25'].min())"
   ]
  },
  {
   "cell_type": "code",
   "execution_count": 1414,
   "id": "56685dab-5b66-4af7-b31c-52d4fb3ae10d",
   "metadata": {},
   "outputs": [],
   "source": [
    "pol2['pol_log32_n'] = pol2['norm_pol2'] * 32"
   ]
  },
  {
   "cell_type": "code",
   "execution_count": 1418,
   "id": "31548607-c574-4627-8b9a-1af673aab5d1",
   "metadata": {},
   "outputs": [],
   "source": [
    "pol2 = pol2.sort_values('pol_log32_n', ascending = False)"
   ]
  },
  {
   "cell_type": "code",
   "execution_count": 1422,
   "id": "0934acf8-aef7-4074-ba85-e2abbc388541",
   "metadata": {},
   "outputs": [],
   "source": [
    "pol2.to_csv('pol2_withpts_onlycountries0415.csv', index=False, header=True)"
   ]
  },
  {
   "cell_type": "code",
   "execution_count": 1424,
   "id": "0273db16-27aa-4005-a61e-45c0a992d847",
   "metadata": {},
   "outputs": [
    {
     "data": {
      "text/html": [
       "<div>\n",
       "<style scoped>\n",
       "    .dataframe tbody tr th:only-of-type {\n",
       "        vertical-align: middle;\n",
       "    }\n",
       "\n",
       "    .dataframe tbody tr th {\n",
       "        vertical-align: top;\n",
       "    }\n",
       "\n",
       "    .dataframe thead th {\n",
       "        text-align: right;\n",
       "    }\n",
       "</style>\n",
       "<table border=\"1\" class=\"dataframe\">\n",
       "  <thead>\n",
       "    <tr style=\"text-align: right;\">\n",
       "      <th></th>\n",
       "      <th>country</th>\n",
       "      <th>year</th>\n",
       "      <th>pm25</th>\n",
       "      <th>norm_pol2</th>\n",
       "      <th>pol_log32_n</th>\n",
       "    </tr>\n",
       "  </thead>\n",
       "  <tbody>\n",
       "    <tr>\n",
       "      <th>11</th>\n",
       "      <td>Bahamas</td>\n",
       "      <td>2017</td>\n",
       "      <td>5.498568</td>\n",
       "      <td>1.000000</td>\n",
       "      <td>32.000000</td>\n",
       "    </tr>\n",
       "    <tr>\n",
       "      <th>61</th>\n",
       "      <td>Finland</td>\n",
       "      <td>2017</td>\n",
       "      <td>5.525910</td>\n",
       "      <td>0.999542</td>\n",
       "      <td>31.985359</td>\n",
       "    </tr>\n",
       "    <tr>\n",
       "      <th>77</th>\n",
       "      <td>Iceland</td>\n",
       "      <td>2017</td>\n",
       "      <td>5.909562</td>\n",
       "      <td>0.993123</td>\n",
       "      <td>31.779924</td>\n",
       "    </tr>\n",
       "    <tr>\n",
       "      <th>169</th>\n",
       "      <td>Sweden</td>\n",
       "      <td>2017</td>\n",
       "      <td>6.046158</td>\n",
       "      <td>0.990837</td>\n",
       "      <td>31.706780</td>\n",
       "    </tr>\n",
       "    <tr>\n",
       "      <th>57</th>\n",
       "      <td>Estonia</td>\n",
       "      <td>2017</td>\n",
       "      <td>6.378954</td>\n",
       "      <td>0.985268</td>\n",
       "      <td>31.528577</td>\n",
       "    </tr>\n",
       "    <tr>\n",
       "      <th>...</th>\n",
       "      <td>...</td>\n",
       "      <td>...</td>\n",
       "      <td>...</td>\n",
       "      <td>...</td>\n",
       "      <td>...</td>\n",
       "    </tr>\n",
       "    <tr>\n",
       "      <th>172</th>\n",
       "      <td>Tajikistan</td>\n",
       "      <td>2017</td>\n",
       "      <td>59.523014</td>\n",
       "      <td>0.095980</td>\n",
       "      <td>3.071351</td>\n",
       "    </tr>\n",
       "    <tr>\n",
       "      <th>53</th>\n",
       "      <td>Egypt</td>\n",
       "      <td>2017</td>\n",
       "      <td>62.186678</td>\n",
       "      <td>0.051407</td>\n",
       "      <td>1.645030</td>\n",
       "    </tr>\n",
       "    <tr>\n",
       "      <th>142</th>\n",
       "      <td>Qatar</td>\n",
       "      <td>2017</td>\n",
       "      <td>62.403326</td>\n",
       "      <td>0.047782</td>\n",
       "      <td>1.529020</td>\n",
       "    </tr>\n",
       "    <tr>\n",
       "      <th>0</th>\n",
       "      <td>Afghanistan</td>\n",
       "      <td>2017</td>\n",
       "      <td>65.144432</td>\n",
       "      <td>0.001913</td>\n",
       "      <td>0.061231</td>\n",
       "    </tr>\n",
       "    <tr>\n",
       "      <th>91</th>\n",
       "      <td>Kuwait</td>\n",
       "      <td>2017</td>\n",
       "      <td>65.258782</td>\n",
       "      <td>0.000000</td>\n",
       "      <td>0.000000</td>\n",
       "    </tr>\n",
       "  </tbody>\n",
       "</table>\n",
       "<p>195 rows × 5 columns</p>\n",
       "</div>"
      ],
      "text/plain": [
       "         country  year       pm25  norm_pol2  pol_log32_n\n",
       "11       Bahamas  2017   5.498568   1.000000    32.000000\n",
       "61       Finland  2017   5.525910   0.999542    31.985359\n",
       "77       Iceland  2017   5.909562   0.993123    31.779924\n",
       "169       Sweden  2017   6.046158   0.990837    31.706780\n",
       "57       Estonia  2017   6.378954   0.985268    31.528577\n",
       "..           ...   ...        ...        ...          ...\n",
       "172   Tajikistan  2017  59.523014   0.095980     3.071351\n",
       "53         Egypt  2017  62.186678   0.051407     1.645030\n",
       "142        Qatar  2017  62.403326   0.047782     1.529020\n",
       "0    Afghanistan  2017  65.144432   0.001913     0.061231\n",
       "91        Kuwait  2017  65.258782   0.000000     0.000000\n",
       "\n",
       "[195 rows x 5 columns]"
      ]
     },
     "execution_count": 1424,
     "metadata": {},
     "output_type": "execute_result"
    }
   ],
   "source": [
    "pol2"
   ]
  },
  {
   "cell_type": "code",
   "execution_count": 1476,
   "id": "bdb19968-5555-4d52-955d-51a7ca08b899",
   "metadata": {},
   "outputs": [],
   "source": [
    "diet = pd.read_csv(r\"C:\\Users\\eabro\\Downloads\\share-healthy-diet-unaffordable (1)\\share-healthy-diet-unaffordable.csv\")"
   ]
  },
  {
   "cell_type": "code",
   "execution_count": 1480,
   "id": "ec28d0de-2870-4f27-9664-0f659145ec35",
   "metadata": {},
   "outputs": [
    {
     "data": {
      "text/plain": [
       "year\n",
       "2017    161\n",
       "2021    160\n",
       "2018    157\n",
       "2019    157\n",
       "2020    157\n",
       "2022    157\n",
       "Name: count, dtype: int64"
      ]
     },
     "execution_count": 1480,
     "metadata": {},
     "output_type": "execute_result"
    }
   ],
   "source": [
    "diet.value_counts('year')"
   ]
  },
  {
   "cell_type": "code",
   "execution_count": 1478,
   "id": "36257626-e77a-4c7a-91c0-6cc2e4c5559c",
   "metadata": {},
   "outputs": [],
   "source": [
    "diet.columns = ['country', 'code', 'year', 'diet_pct']"
   ]
  },
  {
   "cell_type": "code",
   "execution_count": 1434,
   "id": "4b3ab610-52be-4cb7-ab1a-828b0b171850",
   "metadata": {},
   "outputs": [],
   "source": [
    "diet = diet.groupby('country').mean('diet_pct')"
   ]
  },
  {
   "cell_type": "code",
   "execution_count": 1436,
   "id": "b8ca034c-ca22-4531-b37c-ded62780b994",
   "metadata": {},
   "outputs": [
    {
     "data": {
      "text/html": [
       "<div>\n",
       "<style scoped>\n",
       "    .dataframe tbody tr th:only-of-type {\n",
       "        vertical-align: middle;\n",
       "    }\n",
       "\n",
       "    .dataframe tbody tr th {\n",
       "        vertical-align: top;\n",
       "    }\n",
       "\n",
       "    .dataframe thead th {\n",
       "        text-align: right;\n",
       "    }\n",
       "</style>\n",
       "<table border=\"1\" class=\"dataframe\">\n",
       "  <thead>\n",
       "    <tr style=\"text-align: right;\">\n",
       "      <th></th>\n",
       "      <th>year</th>\n",
       "      <th>diet_pct</th>\n",
       "    </tr>\n",
       "    <tr>\n",
       "      <th>country</th>\n",
       "      <th></th>\n",
       "      <th></th>\n",
       "    </tr>\n",
       "  </thead>\n",
       "  <tbody>\n",
       "    <tr>\n",
       "      <th>Albania</th>\n",
       "      <td>2019.5</td>\n",
       "      <td>16.000000</td>\n",
       "    </tr>\n",
       "    <tr>\n",
       "      <th>Algeria</th>\n",
       "      <td>2019.5</td>\n",
       "      <td>17.983333</td>\n",
       "    </tr>\n",
       "    <tr>\n",
       "      <th>Angola</th>\n",
       "      <td>2019.5</td>\n",
       "      <td>68.100000</td>\n",
       "    </tr>\n",
       "    <tr>\n",
       "      <th>Argentina</th>\n",
       "      <td>2017.0</td>\n",
       "      <td>8.600000</td>\n",
       "    </tr>\n",
       "    <tr>\n",
       "      <th>Armenia</th>\n",
       "      <td>2019.5</td>\n",
       "      <td>52.483333</td>\n",
       "    </tr>\n",
       "    <tr>\n",
       "      <th>...</th>\n",
       "      <td>...</td>\n",
       "      <td>...</td>\n",
       "    </tr>\n",
       "    <tr>\n",
       "      <th>Uzbekistan</th>\n",
       "      <td>2019.5</td>\n",
       "      <td>17.016667</td>\n",
       "    </tr>\n",
       "    <tr>\n",
       "      <th>Vietnam</th>\n",
       "      <td>2019.5</td>\n",
       "      <td>9.683333</td>\n",
       "    </tr>\n",
       "    <tr>\n",
       "      <th>World</th>\n",
       "      <td>2019.5</td>\n",
       "      <td>37.400000</td>\n",
       "    </tr>\n",
       "    <tr>\n",
       "      <th>Zambia</th>\n",
       "      <td>2019.5</td>\n",
       "      <td>79.716667</td>\n",
       "    </tr>\n",
       "    <tr>\n",
       "      <th>Zimbabwe</th>\n",
       "      <td>2017.0</td>\n",
       "      <td>74.900000</td>\n",
       "    </tr>\n",
       "  </tbody>\n",
       "</table>\n",
       "<p>162 rows × 2 columns</p>\n",
       "</div>"
      ],
      "text/plain": [
       "              year   diet_pct\n",
       "country                      \n",
       "Albania     2019.5  16.000000\n",
       "Algeria     2019.5  17.983333\n",
       "Angola      2019.5  68.100000\n",
       "Argentina   2017.0   8.600000\n",
       "Armenia     2019.5  52.483333\n",
       "...            ...        ...\n",
       "Uzbekistan  2019.5  17.016667\n",
       "Vietnam     2019.5   9.683333\n",
       "World       2019.5  37.400000\n",
       "Zambia      2019.5  79.716667\n",
       "Zimbabwe    2017.0  74.900000\n",
       "\n",
       "[162 rows x 2 columns]"
      ]
     },
     "execution_count": 1436,
     "metadata": {},
     "output_type": "execute_result"
    }
   ],
   "source": [
    "pol2['norm_pol2'] = 1 - (pol2['pm25'] - pol2['pm25'].min()) / (pol2['pm25'].max() - pol2['pm25'].min())"
   ]
  },
  {
   "cell_type": "code",
   "execution_count": 1550,
   "id": "fb7638d7-d9a0-484a-ad69-73a91c9a4b9b",
   "metadata": {},
   "outputs": [],
   "source": [
    "pol2['country_c'] = coco.convert(names= pol2['country'], to='name_short', not_found=None)"
   ]
  },
  {
   "cell_type": "code",
   "execution_count": 1438,
   "id": "736b03cd-0e36-49d1-9726-82b90102e0eb",
   "metadata": {},
   "outputs": [],
   "source": [
    "diet.to_csv('diet.csv', index=False, header=True)"
   ]
  },
  {
   "cell_type": "code",
   "execution_count": null,
   "id": "f1260883-7a67-4ced-ba37-91a38e534055",
   "metadata": {},
   "outputs": [],
   "source": [
    "df['A'].fillna(df['A'].mean(), inplace=True)\n"
   ]
  },
  {
   "cell_type": "code",
   "execution_count": 1440,
   "id": "a2289c9a-a3da-4155-8387-c0488dd59d28",
   "metadata": {},
   "outputs": [],
   "source": [
    "calorie = pd.read_csv(r\"C:\\Users\\eabro\\Downloads\\share-calorie-diet-unaffordable (1)\\share-calorie-diet-unaffordable.csv\")"
   ]
  },
  {
   "cell_type": "code",
   "execution_count": 1444,
   "id": "0ab8dd9f-76f6-46a4-9134-34fafd55fe79",
   "metadata": {},
   "outputs": [],
   "source": [
    "calorie.columns = ['country', 'code', 'year', 'calorie']"
   ]
  },
  {
   "cell_type": "code",
   "execution_count": 1456,
   "id": "2def589b-d19f-47d8-b2c2-33c26118d255",
   "metadata": {},
   "outputs": [],
   "source": [
    "calorie = calorie.groupby('country').mean('calorie').reset_index()"
   ]
  },
  {
   "cell_type": "code",
   "execution_count": 1460,
   "id": "1b7267fb-b2f2-4c16-9ecb-7a7b5d534c75",
   "metadata": {},
   "outputs": [],
   "source": [
    "calorie.to_csv('calorie.csv', index=False, header=True)"
   ]
  },
  {
   "cell_type": "code",
   "execution_count": 1462,
   "id": "143b8d4a-e5f7-4829-b8a5-0f3534bb0fb2",
   "metadata": {},
   "outputs": [],
   "source": [
    "calorie = pd.read_csv(r\"C:\\Users\\eabro\\Documents\\NSS\\Python\\Projects\\Utopia\\EmilyBroh_Capstone\\calorie.csv\")"
   ]
  },
  {
   "cell_type": "code",
   "execution_count": 1466,
   "id": "15d326d3-327c-4291-8109-edd35880a555",
   "metadata": {},
   "outputs": [],
   "source": [
    "calorie['norm_calorie'] = 1 - (calorie['calorie'] - calorie['calorie'].min()) / (calorie['calorie'].max() - calorie['calorie'].min())"
   ]
  },
  {
   "cell_type": "code",
   "execution_count": 1470,
   "id": "13d37a5d-759f-4497-b6e0-ec7d6aaaa13c",
   "metadata": {},
   "outputs": [],
   "source": [
    "calorie['calorie_log32_n'] = calorie['norm_calorie'] * 32"
   ]
  },
  {
   "cell_type": "code",
   "execution_count": 1474,
   "id": "24a70a00-8049-4def-b710-5ea66da76342",
   "metadata": {},
   "outputs": [],
   "source": [
    "calorie.to_csv('calorie_withpts_onlycountries.csv', index=False, header=True)"
   ]
  },
  {
   "cell_type": "code",
   "execution_count": 1556,
   "id": "27bb09bf-527e-47bd-8b53-4f9ab348807a",
   "metadata": {},
   "outputs": [],
   "source": [
    "sani = pd.read_csv(r\"C:\\Users\\eabro\\Documents\\NSS\\Python\\Projects\\Utopia\\EmilyBroh_Capstone\\share-of-the-population-with-access-to-sanitation-facilities.csv\")"
   ]
  },
  {
   "cell_type": "code",
   "execution_count": 1574,
   "id": "2dde5a35-0282-4906-89b8-e8394c14e0c4",
   "metadata": {},
   "outputs": [
    {
     "data": {
      "text/plain": [
       "Index(['year', 'safe', 'basic_notshared', 'limited_shared', 'unimproved',\n",
       "       'open_def', 'atleast_basicsan'],\n",
       "      dtype='object')"
      ]
     },
     "execution_count": 1574,
     "metadata": {},
     "output_type": "execute_result"
    }
   ],
   "source": [
    "sani.columns"
   ]
  },
  {
   "cell_type": "code",
   "execution_count": 1558,
   "id": "76fa42ec-97b0-441e-bae4-014db70a6a6b",
   "metadata": {},
   "outputs": [
    {
     "data": {
      "text/plain": [
       "year\n",
       "2016    231\n",
       "2015    231\n",
       "2014    231\n",
       "2011    230\n",
       "2013    230\n",
       "2012    230\n",
       "2009    229\n",
       "2010    229\n",
       "2017    228\n",
       "2008    227\n",
       "2007    227\n",
       "2006    226\n",
       "2005    224\n",
       "2004    224\n",
       "2003    224\n",
       "2002    224\n",
       "2001    221\n",
       "2018    219\n",
       "2019    217\n",
       "2020    214\n",
       "2000    214\n",
       "2021    211\n",
       "2022    206\n",
       "Name: count, dtype: int64"
      ]
     },
     "execution_count": 1558,
     "metadata": {},
     "output_type": "execute_result"
    }
   ],
   "source": [
    "sani.value_counts('year')"
   ]
  },
  {
   "cell_type": "code",
   "execution_count": 1560,
   "id": "39e6407f-2d53-408c-9636-76a868d8af01",
   "metadata": {},
   "outputs": [],
   "source": [
    "sani = sani.loc[sani['year'] >= 2017]"
   ]
  },
  {
   "cell_type": "code",
   "execution_count": 1562,
   "id": "89f3c33e-ec4c-466e-b94f-6ed3d72a4089",
   "metadata": {},
   "outputs": [],
   "source": [
    "sani['atleast_basicsan'] = sani['safe'] + sani['basic_notshared'] + sani['limited_shared']"
   ]
  },
  {
   "cell_type": "code",
   "execution_count": 1564,
   "id": "154218dc-405f-4979-be23-d8074d691f7a",
   "metadata": {},
   "outputs": [],
   "source": [
    "sani = sani.groupby('country').mean('atleast_basicsan')"
   ]
  },
  {
   "cell_type": "code",
   "execution_count": 1566,
   "id": "b4c37b85-9fa0-4c45-b0f8-b1453f004cb5",
   "metadata": {},
   "outputs": [],
   "source": [
    "sani = sani.fillna(0)"
   ]
  },
  {
   "cell_type": "code",
   "execution_count": 1568,
   "id": "f64d947f-1f9c-4591-b34e-840308d6d124",
   "metadata": {},
   "outputs": [],
   "source": [
    "sani['atleast_basicsan'] = sani['safe'] + sani['basic_notshared'] + sani['limited_shared']"
   ]
  },
  {
   "cell_type": "code",
   "execution_count": 1576,
   "id": "6c4d9442-2483-49fa-98e4-db7c547e128a",
   "metadata": {},
   "outputs": [],
   "source": [
    "sani = sani.sort_values('atleast_basicsan', ascending = False).reset_index()"
   ]
  },
  {
   "cell_type": "code",
   "execution_count": 1578,
   "id": "f11e88db-b7fa-4197-8b1a-cef345614dbe",
   "metadata": {},
   "outputs": [
    {
     "name": "stderr",
     "output_type": "stream",
     "text": [
      "Channel Islands not found in regex\n"
     ]
    }
   ],
   "source": [
    "sani['country_c'] = coco.convert(names= sani['country'], to='name_short', not_found=None)"
   ]
  },
  {
   "cell_type": "code",
   "execution_count": 1580,
   "id": "7ce3a295-0daf-4575-b23d-213393010b83",
   "metadata": {},
   "outputs": [],
   "source": [
    "sani['norm_basicsan'] = (sani['atleast_basicsan'] - sani['atleast_basicsan'].min()) / (sani['atleast_basicsan'].max() - sani['atleast_basicsan'].min())"
   ]
  },
  {
   "cell_type": "code",
   "execution_count": 1582,
   "id": "f1879c7e-b56c-4ae2-8c21-67b218b3ddf5",
   "metadata": {},
   "outputs": [],
   "source": [
    "sani['basicsan_log32_n'] = sani['norm_basicsan'] * 32"
   ]
  },
  {
   "cell_type": "code",
   "execution_count": 1584,
   "id": "0596dcdf-d53d-44b6-97c2-ad63b4df6d7b",
   "metadata": {},
   "outputs": [],
   "source": [
    "sani.to_csv('basicsanitation_log32_n.csv', index=False, header=True)"
   ]
  },
  {
   "cell_type": "code",
   "execution_count": 1592,
   "id": "b26c8646-8b0e-4593-bd35-56c6fd7a4f95",
   "metadata": {},
   "outputs": [],
   "source": [
    "basicw = pd.read_csv(r\"C:\\Users\\eabro\\Downloads\\population-using-at-least-basic-drinking-water.filtered\\population-using-at-least-basic-drinking-water.csv\")"
   ]
  },
  {
   "cell_type": "code",
   "execution_count": 1594,
   "id": "689c856b-cce8-4068-9795-fbd627f935bb",
   "metadata": {},
   "outputs": [
    {
     "data": {
      "text/html": [
       "<div>\n",
       "<style scoped>\n",
       "    .dataframe tbody tr th:only-of-type {\n",
       "        vertical-align: middle;\n",
       "    }\n",
       "\n",
       "    .dataframe tbody tr th {\n",
       "        vertical-align: top;\n",
       "    }\n",
       "\n",
       "    .dataframe thead th {\n",
       "        text-align: right;\n",
       "    }\n",
       "</style>\n",
       "<table border=\"1\" class=\"dataframe\">\n",
       "  <thead>\n",
       "    <tr style=\"text-align: right;\">\n",
       "      <th></th>\n",
       "      <th>Entity</th>\n",
       "      <th>Code</th>\n",
       "      <th>Year</th>\n",
       "      <th>Share of the population using at least basic drinking water services</th>\n",
       "      <th>time</th>\n",
       "    </tr>\n",
       "  </thead>\n",
       "  <tbody>\n",
       "    <tr>\n",
       "      <th>0</th>\n",
       "      <td>Afghanistan</td>\n",
       "      <td>AFG</td>\n",
       "      <td>2016</td>\n",
       "      <td>65.172165</td>\n",
       "      <td>2016</td>\n",
       "    </tr>\n",
       "    <tr>\n",
       "      <th>1</th>\n",
       "      <td>Albania</td>\n",
       "      <td>ALB</td>\n",
       "      <td>2016</td>\n",
       "      <td>93.754875</td>\n",
       "      <td>2016</td>\n",
       "    </tr>\n",
       "    <tr>\n",
       "      <th>2</th>\n",
       "      <td>Algeria</td>\n",
       "      <td>DZA</td>\n",
       "      <td>2016</td>\n",
       "      <td>93.622770</td>\n",
       "      <td>2016</td>\n",
       "    </tr>\n",
       "    <tr>\n",
       "      <th>3</th>\n",
       "      <td>Andorra</td>\n",
       "      <td>AND</td>\n",
       "      <td>2016</td>\n",
       "      <td>99.999990</td>\n",
       "      <td>2016</td>\n",
       "    </tr>\n",
       "    <tr>\n",
       "      <th>4</th>\n",
       "      <td>Angola</td>\n",
       "      <td>AGO</td>\n",
       "      <td>2016</td>\n",
       "      <td>55.084274</td>\n",
       "      <td>2016</td>\n",
       "    </tr>\n",
       "    <tr>\n",
       "      <th>...</th>\n",
       "      <td>...</td>\n",
       "      <td>...</td>\n",
       "      <td>...</td>\n",
       "      <td>...</td>\n",
       "      <td>...</td>\n",
       "    </tr>\n",
       "    <tr>\n",
       "      <th>192</th>\n",
       "      <td>Venezuela</td>\n",
       "      <td>VEN</td>\n",
       "      <td>2016</td>\n",
       "      <td>94.394180</td>\n",
       "      <td>2016</td>\n",
       "    </tr>\n",
       "    <tr>\n",
       "      <th>193</th>\n",
       "      <td>Vietnam</td>\n",
       "      <td>VNM</td>\n",
       "      <td>2016</td>\n",
       "      <td>93.404080</td>\n",
       "      <td>2016</td>\n",
       "    </tr>\n",
       "    <tr>\n",
       "      <th>194</th>\n",
       "      <td>Yemen</td>\n",
       "      <td>YEM</td>\n",
       "      <td>2016</td>\n",
       "      <td>56.785618</td>\n",
       "      <td>2016</td>\n",
       "    </tr>\n",
       "    <tr>\n",
       "      <th>195</th>\n",
       "      <td>Zambia</td>\n",
       "      <td>ZMB</td>\n",
       "      <td>2016</td>\n",
       "      <td>63.891230</td>\n",
       "      <td>2016</td>\n",
       "    </tr>\n",
       "    <tr>\n",
       "      <th>196</th>\n",
       "      <td>Zimbabwe</td>\n",
       "      <td>ZWE</td>\n",
       "      <td>2016</td>\n",
       "      <td>64.468960</td>\n",
       "      <td>2016</td>\n",
       "    </tr>\n",
       "  </tbody>\n",
       "</table>\n",
       "<p>197 rows × 5 columns</p>\n",
       "</div>"
      ],
      "text/plain": [
       "          Entity Code  Year  \\\n",
       "0    Afghanistan  AFG  2016   \n",
       "1        Albania  ALB  2016   \n",
       "2        Algeria  DZA  2016   \n",
       "3        Andorra  AND  2016   \n",
       "4         Angola  AGO  2016   \n",
       "..           ...  ...   ...   \n",
       "192    Venezuela  VEN  2016   \n",
       "193      Vietnam  VNM  2016   \n",
       "194        Yemen  YEM  2016   \n",
       "195       Zambia  ZMB  2016   \n",
       "196     Zimbabwe  ZWE  2016   \n",
       "\n",
       "     Share of the population using at least basic drinking water services  \\\n",
       "0                                            65.172165                      \n",
       "1                                            93.754875                      \n",
       "2                                            93.622770                      \n",
       "3                                            99.999990                      \n",
       "4                                            55.084274                      \n",
       "..                                                 ...                      \n",
       "192                                          94.394180                      \n",
       "193                                          93.404080                      \n",
       "194                                          56.785618                      \n",
       "195                                          63.891230                      \n",
       "196                                          64.468960                      \n",
       "\n",
       "     time  \n",
       "0    2016  \n",
       "1    2016  \n",
       "2    2016  \n",
       "3    2016  \n",
       "4    2016  \n",
       "..    ...  \n",
       "192  2016  \n",
       "193  2016  \n",
       "194  2016  \n",
       "195  2016  \n",
       "196  2016  \n",
       "\n",
       "[197 rows x 5 columns]"
      ]
     },
     "execution_count": 1594,
     "metadata": {},
     "output_type": "execute_result"
    }
   ],
   "source": [
    "basicw"
   ]
  },
  {
   "cell_type": "code",
   "execution_count": 1606,
   "id": "47250f5a-5cf6-415d-8bc6-6c327334eab8",
   "metadata": {},
   "outputs": [],
   "source": [
    "w = pd.read_csv(r\"C:\\Users\\eabro\\Downloads\\population-using-at-least-basic-drinking-water (1)\\population-using-at-least-basic-drinking-water.csv\")"
   ]
  },
  {
   "cell_type": "code",
   "execution_count": 1608,
   "id": "c27811bb-4ba6-49f2-9294-46bc2e051c3d",
   "metadata": {},
   "outputs": [],
   "source": [
    "w.columns = ['country', 'code', 'year', 'basicw']"
   ]
  },
  {
   "cell_type": "code",
   "execution_count": 1610,
   "id": "fc7d3c9d-3b3e-493c-9617-886c70d6789c",
   "metadata": {},
   "outputs": [],
   "source": [
    "w = w.loc[w['year'] >= 2016]"
   ]
  },
  {
   "cell_type": "code",
   "execution_count": 1614,
   "id": "8f147996-df37-49e2-92c2-0046bd5b77c2",
   "metadata": {},
   "outputs": [
    {
     "data": {
      "text/html": [
       "<div>\n",
       "<style scoped>\n",
       "    .dataframe tbody tr th:only-of-type {\n",
       "        vertical-align: middle;\n",
       "    }\n",
       "\n",
       "    .dataframe tbody tr th {\n",
       "        vertical-align: top;\n",
       "    }\n",
       "\n",
       "    .dataframe thead th {\n",
       "        text-align: right;\n",
       "    }\n",
       "</style>\n",
       "<table border=\"1\" class=\"dataframe\">\n",
       "  <thead>\n",
       "    <tr style=\"text-align: right;\">\n",
       "      <th></th>\n",
       "      <th>year</th>\n",
       "      <th>basicw</th>\n",
       "    </tr>\n",
       "    <tr>\n",
       "      <th>country</th>\n",
       "      <th></th>\n",
       "      <th></th>\n",
       "    </tr>\n",
       "  </thead>\n",
       "  <tbody>\n",
       "    <tr>\n",
       "      <th>Afghanistan</th>\n",
       "      <td>2019.0</td>\n",
       "      <td>73.776618</td>\n",
       "    </tr>\n",
       "    <tr>\n",
       "      <th>Africa (WHO)</th>\n",
       "      <td>2019.0</td>\n",
       "      <td>63.811125</td>\n",
       "    </tr>\n",
       "    <tr>\n",
       "      <th>Albania</th>\n",
       "      <td>2019.0</td>\n",
       "      <td>94.613673</td>\n",
       "    </tr>\n",
       "    <tr>\n",
       "      <th>Algeria</th>\n",
       "      <td>2019.0</td>\n",
       "      <td>94.208876</td>\n",
       "    </tr>\n",
       "    <tr>\n",
       "      <th>American Samoa</th>\n",
       "      <td>2018.5</td>\n",
       "      <td>99.202472</td>\n",
       "    </tr>\n",
       "    <tr>\n",
       "      <th>...</th>\n",
       "      <td>...</td>\n",
       "      <td>...</td>\n",
       "    </tr>\n",
       "    <tr>\n",
       "      <th>Western Pacific (WHO)</th>\n",
       "      <td>2019.0</td>\n",
       "      <td>95.318551</td>\n",
       "    </tr>\n",
       "    <tr>\n",
       "      <th>World</th>\n",
       "      <td>2019.0</td>\n",
       "      <td>89.993745</td>\n",
       "    </tr>\n",
       "    <tr>\n",
       "      <th>Yemen</th>\n",
       "      <td>2019.0</td>\n",
       "      <td>59.578758</td>\n",
       "    </tr>\n",
       "    <tr>\n",
       "      <th>Zambia</th>\n",
       "      <td>2019.0</td>\n",
       "      <td>66.516028</td>\n",
       "    </tr>\n",
       "    <tr>\n",
       "      <th>Zimbabwe</th>\n",
       "      <td>2019.0</td>\n",
       "      <td>63.187546</td>\n",
       "    </tr>\n",
       "  </tbody>\n",
       "</table>\n",
       "<p>253 rows × 2 columns</p>\n",
       "</div>"
      ],
      "text/plain": [
       "                         year     basicw\n",
       "country                                 \n",
       "Afghanistan            2019.0  73.776618\n",
       "Africa (WHO)           2019.0  63.811125\n",
       "Albania                2019.0  94.613673\n",
       "Algeria                2019.0  94.208876\n",
       "American Samoa         2018.5  99.202472\n",
       "...                       ...        ...\n",
       "Western Pacific (WHO)  2019.0  95.318551\n",
       "World                  2019.0  89.993745\n",
       "Yemen                  2019.0  59.578758\n",
       "Zambia                 2019.0  66.516028\n",
       "Zimbabwe               2019.0  63.187546\n",
       "\n",
       "[253 rows x 2 columns]"
      ]
     },
     "execution_count": 1614,
     "metadata": {},
     "output_type": "execute_result"
    }
   ],
   "source": [
    "w.groupby('country').mean('year')"
   ]
  },
  {
   "cell_type": "code",
   "execution_count": 1616,
   "id": "6e8fe817-f94b-4ebf-aa75-d1e5c9aa6ad3",
   "metadata": {},
   "outputs": [],
   "source": [
    "w = w.sort_values('basicw', ascending = False)"
   ]
  },
  {
   "cell_type": "code",
   "execution_count": 1618,
   "id": "10377a00-1ac2-48a1-b2df-c1c1d87dd431",
   "metadata": {},
   "outputs": [
    {
     "data": {
      "text/html": [
       "<div>\n",
       "<style scoped>\n",
       "    .dataframe tbody tr th:only-of-type {\n",
       "        vertical-align: middle;\n",
       "    }\n",
       "\n",
       "    .dataframe tbody tr th {\n",
       "        vertical-align: top;\n",
       "    }\n",
       "\n",
       "    .dataframe thead th {\n",
       "        text-align: right;\n",
       "    }\n",
       "</style>\n",
       "<table border=\"1\" class=\"dataframe\">\n",
       "  <thead>\n",
       "    <tr style=\"text-align: right;\">\n",
       "      <th></th>\n",
       "      <th>country</th>\n",
       "      <th>code</th>\n",
       "      <th>year</th>\n",
       "      <th>basicw</th>\n",
       "    </tr>\n",
       "  </thead>\n",
       "  <tbody>\n",
       "    <tr>\n",
       "      <th>3562</th>\n",
       "      <td>Netherlands</td>\n",
       "      <td>NLD</td>\n",
       "      <td>2018</td>\n",
       "      <td>100.000000</td>\n",
       "    </tr>\n",
       "    <tr>\n",
       "      <th>635</th>\n",
       "      <td>Bonaire, Sint Eustatius and Saba</td>\n",
       "      <td>NaN</td>\n",
       "      <td>2021</td>\n",
       "      <td>100.000000</td>\n",
       "    </tr>\n",
       "    <tr>\n",
       "      <th>3005</th>\n",
       "      <td>Macao</td>\n",
       "      <td>MAC</td>\n",
       "      <td>2018</td>\n",
       "      <td>100.000000</td>\n",
       "    </tr>\n",
       "    <tr>\n",
       "      <th>3006</th>\n",
       "      <td>Macao</td>\n",
       "      <td>MAC</td>\n",
       "      <td>2019</td>\n",
       "      <td>100.000000</td>\n",
       "    </tr>\n",
       "    <tr>\n",
       "      <th>3007</th>\n",
       "      <td>Macao</td>\n",
       "      <td>MAC</td>\n",
       "      <td>2020</td>\n",
       "      <td>100.000000</td>\n",
       "    </tr>\n",
       "    <tr>\n",
       "      <th>...</th>\n",
       "      <td>...</td>\n",
       "      <td>...</td>\n",
       "      <td>...</td>\n",
       "      <td>...</td>\n",
       "    </tr>\n",
       "    <tr>\n",
       "      <th>1306</th>\n",
       "      <td>Democratic Republic of Congo</td>\n",
       "      <td>COD</td>\n",
       "      <td>2018</td>\n",
       "      <td>35.847084</td>\n",
       "    </tr>\n",
       "    <tr>\n",
       "      <th>1307</th>\n",
       "      <td>Democratic Republic of Congo</td>\n",
       "      <td>COD</td>\n",
       "      <td>2019</td>\n",
       "      <td>35.678060</td>\n",
       "    </tr>\n",
       "    <tr>\n",
       "      <th>1308</th>\n",
       "      <td>Democratic Republic of Congo</td>\n",
       "      <td>COD</td>\n",
       "      <td>2020</td>\n",
       "      <td>35.500237</td>\n",
       "    </tr>\n",
       "    <tr>\n",
       "      <th>1309</th>\n",
       "      <td>Democratic Republic of Congo</td>\n",
       "      <td>COD</td>\n",
       "      <td>2021</td>\n",
       "      <td>35.313095</td>\n",
       "    </tr>\n",
       "    <tr>\n",
       "      <th>1310</th>\n",
       "      <td>Democratic Republic of Congo</td>\n",
       "      <td>COD</td>\n",
       "      <td>2022</td>\n",
       "      <td>35.116566</td>\n",
       "    </tr>\n",
       "  </tbody>\n",
       "</table>\n",
       "<p>1686 rows × 4 columns</p>\n",
       "</div>"
      ],
      "text/plain": [
       "                               country code  year      basicw\n",
       "3562                       Netherlands  NLD  2018  100.000000\n",
       "635   Bonaire, Sint Eustatius and Saba  NaN  2021  100.000000\n",
       "3005                             Macao  MAC  2018  100.000000\n",
       "3006                             Macao  MAC  2019  100.000000\n",
       "3007                             Macao  MAC  2020  100.000000\n",
       "...                                ...  ...   ...         ...\n",
       "1306      Democratic Republic of Congo  COD  2018   35.847084\n",
       "1307      Democratic Republic of Congo  COD  2019   35.678060\n",
       "1308      Democratic Republic of Congo  COD  2020   35.500237\n",
       "1309      Democratic Republic of Congo  COD  2021   35.313095\n",
       "1310      Democratic Republic of Congo  COD  2022   35.116566\n",
       "\n",
       "[1686 rows x 4 columns]"
      ]
     },
     "execution_count": 1618,
     "metadata": {},
     "output_type": "execute_result"
    }
   ],
   "source": [
    "w"
   ]
  },
  {
   "cell_type": "code",
   "execution_count": 1622,
   "id": "99784c9f-df85-432f-8513-37eb488e9f8a",
   "metadata": {},
   "outputs": [],
   "source": [
    "w.to_csv('w.csv', index=False, header=True)"
   ]
  },
  {
   "cell_type": "code",
   "execution_count": 1634,
   "id": "d91ebf72-f5b9-4d77-a3d0-3289fa9e8085",
   "metadata": {},
   "outputs": [],
   "source": [
    "w = pd.read_csv(r\"C:\\Users\\eabro\\Documents\\NSS\\Python\\Projects\\Utopia\\EmilyBroh_Capstone\\w.csv\")"
   ]
  },
  {
   "cell_type": "code",
   "execution_count": 1644,
   "id": "0d0529a8-c695-4d4c-bcb3-f04d5c18227b",
   "metadata": {},
   "outputs": [],
   "source": [
    "w = w.groupby('country').mean('basicw').reset_index()"
   ]
  },
  {
   "cell_type": "code",
   "execution_count": 1646,
   "id": "e1519980-4c5b-4220-b5f9-0323936fb835",
   "metadata": {
    "collapsed": true,
    "jupyter": {
     "outputs_hidden": true
    }
   },
   "outputs": [
    {
     "data": {
      "text/html": [
       "<div>\n",
       "<style scoped>\n",
       "    .dataframe tbody tr th:only-of-type {\n",
       "        vertical-align: middle;\n",
       "    }\n",
       "\n",
       "    .dataframe tbody tr th {\n",
       "        vertical-align: top;\n",
       "    }\n",
       "\n",
       "    .dataframe thead th {\n",
       "        text-align: right;\n",
       "    }\n",
       "</style>\n",
       "<table border=\"1\" class=\"dataframe\">\n",
       "  <thead>\n",
       "    <tr style=\"text-align: right;\">\n",
       "      <th></th>\n",
       "      <th>country</th>\n",
       "      <th>year</th>\n",
       "      <th>basicw</th>\n",
       "    </tr>\n",
       "  </thead>\n",
       "  <tbody>\n",
       "    <tr>\n",
       "      <th>0</th>\n",
       "      <td>Afghanistan</td>\n",
       "      <td>2019.0</td>\n",
       "      <td>73.776618</td>\n",
       "    </tr>\n",
       "    <tr>\n",
       "      <th>1</th>\n",
       "      <td>Albania</td>\n",
       "      <td>2019.0</td>\n",
       "      <td>94.613673</td>\n",
       "    </tr>\n",
       "    <tr>\n",
       "      <th>2</th>\n",
       "      <td>Algeria</td>\n",
       "      <td>2019.0</td>\n",
       "      <td>94.208876</td>\n",
       "    </tr>\n",
       "    <tr>\n",
       "      <th>3</th>\n",
       "      <td>American Samoa</td>\n",
       "      <td>2018.5</td>\n",
       "      <td>99.202472</td>\n",
       "    </tr>\n",
       "    <tr>\n",
       "      <th>4</th>\n",
       "      <td>Andorra</td>\n",
       "      <td>2019.0</td>\n",
       "      <td>99.999997</td>\n",
       "    </tr>\n",
       "    <tr>\n",
       "      <th>...</th>\n",
       "      <td>...</td>\n",
       "      <td>...</td>\n",
       "      <td>...</td>\n",
       "    </tr>\n",
       "    <tr>\n",
       "      <th>226</th>\n",
       "      <td>Vietnam</td>\n",
       "      <td>2019.0</td>\n",
       "      <td>95.804668</td>\n",
       "    </tr>\n",
       "    <tr>\n",
       "      <th>227</th>\n",
       "      <td>Wallis and Futuna</td>\n",
       "      <td>2019.0</td>\n",
       "      <td>99.297940</td>\n",
       "    </tr>\n",
       "    <tr>\n",
       "      <th>228</th>\n",
       "      <td>Yemen</td>\n",
       "      <td>2019.0</td>\n",
       "      <td>59.578758</td>\n",
       "    </tr>\n",
       "    <tr>\n",
       "      <th>229</th>\n",
       "      <td>Zambia</td>\n",
       "      <td>2019.0</td>\n",
       "      <td>66.516028</td>\n",
       "    </tr>\n",
       "    <tr>\n",
       "      <th>230</th>\n",
       "      <td>Zimbabwe</td>\n",
       "      <td>2019.0</td>\n",
       "      <td>63.187546</td>\n",
       "    </tr>\n",
       "  </tbody>\n",
       "</table>\n",
       "<p>231 rows × 3 columns</p>\n",
       "</div>"
      ],
      "text/plain": [
       "               country    year     basicw\n",
       "0          Afghanistan  2019.0  73.776618\n",
       "1              Albania  2019.0  94.613673\n",
       "2              Algeria  2019.0  94.208876\n",
       "3       American Samoa  2018.5  99.202472\n",
       "4              Andorra  2019.0  99.999997\n",
       "..                 ...     ...        ...\n",
       "226            Vietnam  2019.0  95.804668\n",
       "227  Wallis and Futuna  2019.0  99.297940\n",
       "228              Yemen  2019.0  59.578758\n",
       "229             Zambia  2019.0  66.516028\n",
       "230           Zimbabwe  2019.0  63.187546\n",
       "\n",
       "[231 rows x 3 columns]"
      ]
     },
     "execution_count": 1646,
     "metadata": {},
     "output_type": "execute_result"
    }
   ],
   "source": [
    "w"
   ]
  },
  {
   "cell_type": "code",
   "execution_count": 1648,
   "id": "a08dd9a7-a09b-4484-9218-a6ef48f1b327",
   "metadata": {},
   "outputs": [
    {
     "name": "stderr",
     "output_type": "stream",
     "text": [
      "Channel Islands not found in regex\n"
     ]
    }
   ],
   "source": [
    "w['country_c'] = coco.convert(names= w['country'], to='name_short', not_found=None)"
   ]
  },
  {
   "cell_type": "code",
   "execution_count": 1650,
   "id": "4236be90-e679-4d64-82e7-2ca7b3f90a05",
   "metadata": {},
   "outputs": [],
   "source": [
    "w['norm_water'] = (w['basicw'] - w['basicw'].min()) / (w['basicw'].max() - w['basicw'].min())"
   ]
  },
  {
   "cell_type": "code",
   "execution_count": 1654,
   "id": "fd7b50ca-7ffa-4169-a267-b97e7758cbd7",
   "metadata": {},
   "outputs": [],
   "source": [
    "w = w.sort_values('norm_water', ascending = False)"
   ]
  },
  {
   "cell_type": "code",
   "execution_count": 1658,
   "id": "e54077c5-c5f3-43f9-a369-0888e325de53",
   "metadata": {},
   "outputs": [],
   "source": [
    "w['water_log32_n'] = w['norm_water'] * 32"
   ]
  },
  {
   "cell_type": "code",
   "execution_count": 1662,
   "id": "44a2beeb-4f70-42d0-9c9e-21ae902c2500",
   "metadata": {},
   "outputs": [],
   "source": [
    "w.to_csv('Basicwater_20162022.csv', index=False, header=True)"
   ]
  },
  {
   "cell_type": "code",
   "execution_count": 1,
   "id": "e0a00e30-266b-4af7-8bfa-422e5789b051",
   "metadata": {},
   "outputs": [],
   "source": [
    "import pandas as pd\n",
    "import numpy as np"
   ]
  },
  {
   "cell_type": "code",
   "execution_count": 5,
   "id": "f89250e4-251d-4713-b2aa-04c12be1e1e4",
   "metadata": {},
   "outputs": [],
   "source": [
    "san = pd.read_csv(r\"C:\\Users\\eabro\\Documents\\NSS\\Python\\Projects\\Utopia\\EmilyBroh_Capstone\\emilybroh_capstone\\data\\Category_A\\Basic_san20172022.csv\")\n",
    "water = pd.read_csv(r\"C:\\Users\\eabro\\Documents\\NSS\\Python\\Projects\\Utopia\\EmilyBroh_Capstone\\emilybroh_capstone\\data\\Category_A\\Basicwater_20162022.csv\")\n",
    "cal = pd.read_csv(r\"C:\\Users\\eabro\\Documents\\NSS\\Python\\Projects\\Utopia\\EmilyBroh_Capstone\\emilybroh_capstone\\data\\Category_A\\Calorie_20192023.csv\")\n",
    "life = pd.read_csv(r\"C:\\Users\\eabro\\Documents\\NSS\\Python\\Projects\\Utopia\\EmilyBroh_Capstone\\emilybroh_capstone\\data\\Category_A\\LifeExpect_2018.csv\")\n",
    "pol = pd.read_csv(r\"C:\\Users\\eabro\\Documents\\NSS\\Python\\Projects\\Utopia\\EmilyBroh_Capstone\\emilybroh_capstone\\data\\Category_A\\Pollution_20152019.csv\")"
   ]
  },
  {
   "cell_type": "code",
   "execution_count": 7,
   "id": "7c913719-8097-4b26-824e-d0869c498f20",
   "metadata": {},
   "outputs": [
    {
     "data": {
      "text/html": [
       "<div>\n",
       "<style scoped>\n",
       "    .dataframe tbody tr th:only-of-type {\n",
       "        vertical-align: middle;\n",
       "    }\n",
       "\n",
       "    .dataframe tbody tr th {\n",
       "        vertical-align: top;\n",
       "    }\n",
       "\n",
       "    .dataframe thead th {\n",
       "        text-align: right;\n",
       "    }\n",
       "</style>\n",
       "<table border=\"1\" class=\"dataframe\">\n",
       "  <thead>\n",
       "    <tr style=\"text-align: right;\">\n",
       "      <th></th>\n",
       "      <th>country</th>\n",
       "      <th>year</th>\n",
       "      <th>safe</th>\n",
       "      <th>basic_notshared</th>\n",
       "      <th>limited_shared</th>\n",
       "      <th>unimproved</th>\n",
       "      <th>open_def</th>\n",
       "      <th>atleast_basicsan</th>\n",
       "      <th>country_c</th>\n",
       "      <th>norm_basicsan</th>\n",
       "      <th>basicsan_log32_n</th>\n",
       "    </tr>\n",
       "  </thead>\n",
       "  <tbody>\n",
       "    <tr>\n",
       "      <th>0</th>\n",
       "      <td>Hungary</td>\n",
       "      <td>2019.5</td>\n",
       "      <td>87.634899</td>\n",
       "      <td>10.349972</td>\n",
       "      <td>2.015132</td>\n",
       "      <td>3.481667e-07</td>\n",
       "      <td>0.000000</td>\n",
       "      <td>100.000002</td>\n",
       "      <td>Hungary</td>\n",
       "      <td>1.0</td>\n",
       "      <td>32.0</td>\n",
       "    </tr>\n",
       "    <tr>\n",
       "      <th>1</th>\n",
       "      <td>Norway</td>\n",
       "      <td>2019.5</td>\n",
       "      <td>77.876965</td>\n",
       "      <td>20.174689</td>\n",
       "      <td>1.948348</td>\n",
       "      <td>9.600000e-07</td>\n",
       "      <td>0.000000</td>\n",
       "      <td>100.000002</td>\n",
       "      <td>Norway</td>\n",
       "      <td>1.0</td>\n",
       "      <td>32.0</td>\n",
       "    </tr>\n",
       "    <tr>\n",
       "      <th>2</th>\n",
       "      <td>Isle of Man</td>\n",
       "      <td>2019.5</td>\n",
       "      <td>84.821430</td>\n",
       "      <td>15.178572</td>\n",
       "      <td>0.000000</td>\n",
       "      <td>0.000000e+00</td>\n",
       "      <td>0.000000</td>\n",
       "      <td>100.000002</td>\n",
       "      <td>Isle of Man</td>\n",
       "      <td>1.0</td>\n",
       "      <td>32.0</td>\n",
       "    </tr>\n",
       "    <tr>\n",
       "      <th>3</th>\n",
       "      <td>France</td>\n",
       "      <td>2019.5</td>\n",
       "      <td>89.482839</td>\n",
       "      <td>9.165169</td>\n",
       "      <td>1.351993</td>\n",
       "      <td>4.210000e-07</td>\n",
       "      <td>0.000000</td>\n",
       "      <td>100.000002</td>\n",
       "      <td>France</td>\n",
       "      <td>1.0</td>\n",
       "      <td>32.0</td>\n",
       "    </tr>\n",
       "    <tr>\n",
       "      <th>4</th>\n",
       "      <td>Bahrain</td>\n",
       "      <td>2019.5</td>\n",
       "      <td>91.471621</td>\n",
       "      <td>8.528380</td>\n",
       "      <td>0.000000</td>\n",
       "      <td>0.000000e+00</td>\n",
       "      <td>0.000000</td>\n",
       "      <td>100.000001</td>\n",
       "      <td>Bahrain</td>\n",
       "      <td>1.0</td>\n",
       "      <td>32.0</td>\n",
       "    </tr>\n",
       "    <tr>\n",
       "      <th>...</th>\n",
       "      <td>...</td>\n",
       "      <td>...</td>\n",
       "      <td>...</td>\n",
       "      <td>...</td>\n",
       "      <td>...</td>\n",
       "      <td>...</td>\n",
       "      <td>...</td>\n",
       "      <td>...</td>\n",
       "      <td>...</td>\n",
       "      <td>...</td>\n",
       "      <td>...</td>\n",
       "    </tr>\n",
       "    <tr>\n",
       "      <th>223</th>\n",
       "      <td>Saint Barthelemy</td>\n",
       "      <td>2019.5</td>\n",
       "      <td>0.000000</td>\n",
       "      <td>0.000000</td>\n",
       "      <td>0.000000</td>\n",
       "      <td>2.579416e-03</td>\n",
       "      <td>0.000000</td>\n",
       "      <td>0.000000</td>\n",
       "      <td>St. Barths</td>\n",
       "      <td>0.0</td>\n",
       "      <td>0.0</td>\n",
       "    </tr>\n",
       "    <tr>\n",
       "      <th>224</th>\n",
       "      <td>Palau</td>\n",
       "      <td>2019.5</td>\n",
       "      <td>0.000000</td>\n",
       "      <td>0.000000</td>\n",
       "      <td>0.000000</td>\n",
       "      <td>1.593050e+00</td>\n",
       "      <td>0.000000</td>\n",
       "      <td>0.000000</td>\n",
       "      <td>Palau</td>\n",
       "      <td>0.0</td>\n",
       "      <td>0.0</td>\n",
       "    </tr>\n",
       "    <tr>\n",
       "      <th>225</th>\n",
       "      <td>Wallis and Futuna</td>\n",
       "      <td>2019.5</td>\n",
       "      <td>0.000000</td>\n",
       "      <td>0.000000</td>\n",
       "      <td>0.000000</td>\n",
       "      <td>4.260000e-14</td>\n",
       "      <td>5.761823</td>\n",
       "      <td>0.000000</td>\n",
       "      <td>Wallis and Futuna Islands</td>\n",
       "      <td>0.0</td>\n",
       "      <td>0.0</td>\n",
       "    </tr>\n",
       "    <tr>\n",
       "      <th>226</th>\n",
       "      <td>Gibraltar</td>\n",
       "      <td>2019.5</td>\n",
       "      <td>0.000000</td>\n",
       "      <td>0.000000</td>\n",
       "      <td>0.000000</td>\n",
       "      <td>0.000000e+00</td>\n",
       "      <td>0.000000</td>\n",
       "      <td>0.000000</td>\n",
       "      <td>Gibraltar</td>\n",
       "      <td>0.0</td>\n",
       "      <td>0.0</td>\n",
       "    </tr>\n",
       "    <tr>\n",
       "      <th>227</th>\n",
       "      <td>French Polynesia</td>\n",
       "      <td>2019.5</td>\n",
       "      <td>0.000000</td>\n",
       "      <td>0.000000</td>\n",
       "      <td>0.000000</td>\n",
       "      <td>2.967701e+00</td>\n",
       "      <td>0.000000</td>\n",
       "      <td>0.000000</td>\n",
       "      <td>French Polynesia</td>\n",
       "      <td>0.0</td>\n",
       "      <td>0.0</td>\n",
       "    </tr>\n",
       "  </tbody>\n",
       "</table>\n",
       "<p>228 rows × 11 columns</p>\n",
       "</div>"
      ],
      "text/plain": [
       "               country    year       safe  basic_notshared  limited_shared  \\\n",
       "0              Hungary  2019.5  87.634899        10.349972        2.015132   \n",
       "1               Norway  2019.5  77.876965        20.174689        1.948348   \n",
       "2          Isle of Man  2019.5  84.821430        15.178572        0.000000   \n",
       "3               France  2019.5  89.482839         9.165169        1.351993   \n",
       "4              Bahrain  2019.5  91.471621         8.528380        0.000000   \n",
       "..                 ...     ...        ...              ...             ...   \n",
       "223   Saint Barthelemy  2019.5   0.000000         0.000000        0.000000   \n",
       "224              Palau  2019.5   0.000000         0.000000        0.000000   \n",
       "225  Wallis and Futuna  2019.5   0.000000         0.000000        0.000000   \n",
       "226          Gibraltar  2019.5   0.000000         0.000000        0.000000   \n",
       "227   French Polynesia  2019.5   0.000000         0.000000        0.000000   \n",
       "\n",
       "       unimproved  open_def  atleast_basicsan                  country_c  \\\n",
       "0    3.481667e-07  0.000000        100.000002                    Hungary   \n",
       "1    9.600000e-07  0.000000        100.000002                     Norway   \n",
       "2    0.000000e+00  0.000000        100.000002                Isle of Man   \n",
       "3    4.210000e-07  0.000000        100.000002                     France   \n",
       "4    0.000000e+00  0.000000        100.000001                    Bahrain   \n",
       "..            ...       ...               ...                        ...   \n",
       "223  2.579416e-03  0.000000          0.000000                 St. Barths   \n",
       "224  1.593050e+00  0.000000          0.000000                      Palau   \n",
       "225  4.260000e-14  5.761823          0.000000  Wallis and Futuna Islands   \n",
       "226  0.000000e+00  0.000000          0.000000                  Gibraltar   \n",
       "227  2.967701e+00  0.000000          0.000000           French Polynesia   \n",
       "\n",
       "     norm_basicsan  basicsan_log32_n  \n",
       "0              1.0              32.0  \n",
       "1              1.0              32.0  \n",
       "2              1.0              32.0  \n",
       "3              1.0              32.0  \n",
       "4              1.0              32.0  \n",
       "..             ...               ...  \n",
       "223            0.0               0.0  \n",
       "224            0.0               0.0  \n",
       "225            0.0               0.0  \n",
       "226            0.0               0.0  \n",
       "227            0.0               0.0  \n",
       "\n",
       "[228 rows x 11 columns]"
      ]
     },
     "execution_count": 7,
     "metadata": {},
     "output_type": "execute_result"
    }
   ],
   "source": [
    "san"
   ]
  },
  {
   "cell_type": "code",
   "execution_count": null,
   "id": "975123eb-de72-4beb-be4e-cae368c4f308",
   "metadata": {},
   "outputs": [],
   "source": [
    "terror['norm_terror'] = 1 -(terror['terror'] - terror['terror'].min()) / (terror['terror'].max() - terror['terror'].min())"
   ]
  }
 ],
 "metadata": {
  "kernelspec": {
   "display_name": "Python [conda env:base] *",
   "language": "python",
   "name": "conda-base-py"
  },
  "language_info": {
   "codemirror_mode": {
    "name": "ipython",
    "version": 3
   },
   "file_extension": ".py",
   "mimetype": "text/x-python",
   "name": "python",
   "nbconvert_exporter": "python",
   "pygments_lexer": "ipython3",
   "version": "3.12.7"
  }
 },
 "nbformat": 4,
 "nbformat_minor": 5
}
