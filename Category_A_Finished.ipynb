{
 "cells": [
  {
   "cell_type": "code",
   "execution_count": 1,
   "id": "0deba4d7-638f-4ea8-8a61-79b3933457df",
   "metadata": {},
   "outputs": [],
   "source": [
    "import pandas as pd\n",
    "import numpy as np\n",
    "import country_converter as coco"
   ]
  },
  {
   "cell_type": "code",
   "execution_count": null,
   "id": "1c1453c1-a123-4de5-8720-b8e86d21a305",
   "metadata": {},
   "outputs": [],
   "source": [
    "# Pol is avg from 2015 through 2019"
   ]
  },
  {
   "cell_type": "code",
   "execution_count": 3,
   "id": "8713071e-e5c2-4a6a-acd2-c1f22c800ffc",
   "metadata": {},
   "outputs": [],
   "source": [
    "pol = pd.read_csv(r\"C:\\Users\\eabro\\Documents\\NSS\\Python\\Projects\\Utopia\\EmilyBroh_Capstone\\pol2_withpts_onlycountries0415.csv\")"
   ]
  },
  {
   "cell_type": "code",
   "execution_count": 5,
   "id": "4e243794-2607-4f2e-b5b0-a1360546c3c6",
   "metadata": {},
   "outputs": [],
   "source": [
    "pol['country_c'] = coco.convert(names= pol['country'], to='name_short', not_found=None)"
   ]
  },
  {
   "cell_type": "code",
   "execution_count": 77,
   "id": "a74007ba-5056-447b-b5bc-eebb9777d267",
   "metadata": {},
   "outputs": [],
   "source": [
    "calorie['country_c'] = coco.convert(names= calorie['country'], to='name_short', not_found=None)"
   ]
  },
  {
   "cell_type": "code",
   "execution_count": 7,
   "id": "e14c5129-4127-4cd9-b6f1-f67a5cb4cf23",
   "metadata": {},
   "outputs": [],
   "source": [
    "#food = pd.read_csv(r\"C:\\Users\\eabro\\Documents\\NSS\\Python\\Projects\\Utopia\\EmilyBroh_Capstone\\emilybroh_capstone\\Category_A\\food_insecure_withpts_onlycountries0415.csv\")\n",
    "life = pd.read_csv(r\"C:\\Users\\eabro\\Documents\\NSS\\Python\\Projects\\Utopia\\EmilyBroh_Capstone\\emilybroh_capstone\\Category_A\\life_expect_withpts_onlycountries0415.csv\")\n",
    "san = pd.read_csv(r\"C:\\Users\\eabro\\Documents\\NSS\\Python\\Projects\\Utopia\\EmilyBroh_Capstone\\emilybroh_capstone\\Category_A\\sanitation_withpts_onlycountries0415.csv\")\n",
    "water = pd.read_csv(r\"C:\\Users\\eabro\\Documents\\NSS\\Python\\Projects\\Utopia\\EmilyBroh_Capstone\\emilybroh_capstone\\Category_A\\water_rights_withpts_onlycountries0415.csv\")\n"
   ]
  },
  {
   "cell_type": "code",
   "execution_count": 75,
   "id": "8ed0c047-7c32-4f2e-b1ca-944916d1ac38",
   "metadata": {},
   "outputs": [],
   "source": [
    "calorie = pd.read_csv(r\"C:\\Users\\eabro\\Documents\\NSS\\Python\\Projects\\Utopia\\EmilyBroh_Capstone\\emilybroh_capstone\\Category_A\\calorie_withpts_onlycountries.csv\")"
   ]
  },
  {
   "cell_type": "code",
   "execution_count": 65,
   "id": "af1e5a82-c54b-41d4-adc2-27d8852dc804",
   "metadata": {},
   "outputs": [],
   "source": [
    "pl = pd.merge(pol, life, on = 'country_c', how = 'outer')\n",
    "pl = pl[['country_c', 'pm25', 'pol_log32_n', 'avg_life', 'lifeexpect_log32_n']]"
   ]
  },
  {
   "cell_type": "code",
   "execution_count": 67,
   "id": "327d85bf-d58e-4389-9373-ece1cae7de2c",
   "metadata": {},
   "outputs": [],
   "source": [
    "pls = pd.merge(pl, san , on = 'country_c', how = 'outer')"
   ]
  },
  {
   "cell_type": "code",
   "execution_count": 69,
   "id": "0c910c76-0966-4d49-af1b-0788dd1fce02",
   "metadata": {},
   "outputs": [],
   "source": [
    "plsw = pd.merge(pls, water , on = 'country_c', how = 'outer')"
   ]
  },
  {
   "cell_type": "code",
   "execution_count": 71,
   "id": "ee16010f-8dbc-41c6-ad4b-f50c92058d00",
   "metadata": {},
   "outputs": [],
   "source": [
    "plsw = plsw[['country_c', 'pm25', 'pol_log32_n', 'avg_life', 'lifeexpect_log32_n', 'sanitation_value', 'santitation_log32_n', 'water_pct', 'water_log32_n']]"
   ]
  },
  {
   "cell_type": "code",
   "execution_count": 33,
   "id": "954bdaa7-d38b-4515-ae66-4ecad4c09f8e",
   "metadata": {},
   "outputs": [
    {
     "name": "stderr",
     "output_type": "stream",
     "text": [
      "C:\\Users\\eabro\\AppData\\Local\\Temp\\ipykernel_4308\\1783247925.py:1: SettingWithCopyWarning: \n",
      "A value is trying to be set on a copy of a slice from a DataFrame.\n",
      "Try using .loc[row_indexer,col_indexer] = value instead\n",
      "\n",
      "See the caveats in the documentation: https://pandas.pydata.org/pandas-docs/stable/user_guide/indexing.html#returning-a-view-versus-a-copy\n",
      "  plsw['cata_pts'] =  plsw['pol_log32_n']  + plsw['lifeexpect_log32_n'] + plsw['santitation_log32_n'] + plsw['water_log32_n']\n"
     ]
    }
   ],
   "source": [
    "plsw['cata_pts'] =  plsw['pol_log32_n']  + plsw['lifeexpect_log32_n'] + plsw['santitation_log32_n'] + plsw['water_log32_n']"
   ]
  },
  {
   "cell_type": "code",
   "execution_count": 27,
   "id": "d3f0052c-b832-4d7b-a04d-cb067a726845",
   "metadata": {},
   "outputs": [],
   "source": [
    "plsw.to_csv('Cat_A_0415_choosethisemily.csv', index=False, header=True)"
   ]
  },
  {
   "cell_type": "code",
   "execution_count": 121,
   "id": "f50d286f-d666-4afa-bb53-474896842d6b",
   "metadata": {
    "collapsed": true,
    "jupyter": {
     "outputs_hidden": true
    }
   },
   "outputs": [
    {
     "ename": "KeyError",
     "evalue": "'cata_pts'",
     "output_type": "error",
     "traceback": [
      "\u001b[1;31m---------------------------------------------------------------------------\u001b[0m",
      "\u001b[1;31mKeyError\u001b[0m                                  Traceback (most recent call last)",
      "\u001b[1;32m~\\AppData\\Local\\Temp\\ipykernel_4308\\1150290372.py\u001b[0m in \u001b[0;36m?\u001b[1;34m()\u001b[0m\n\u001b[1;32m----> 1\u001b[1;33m \u001b[0mplsw\u001b[0m \u001b[1;33m=\u001b[0m \u001b[0mplsw\u001b[0m\u001b[1;33m.\u001b[0m\u001b[0msort_values\u001b[0m\u001b[1;33m(\u001b[0m\u001b[1;34m'cata_pts'\u001b[0m\u001b[1;33m,\u001b[0m \u001b[0mascending\u001b[0m \u001b[1;33m=\u001b[0m \u001b[1;32mFalse\u001b[0m\u001b[1;33m)\u001b[0m\u001b[1;33m\u001b[0m\u001b[1;33m\u001b[0m\u001b[0m\n\u001b[0m",
      "\u001b[1;32m~\\anaconda3\\Lib\\site-packages\\pandas\\core\\frame.py\u001b[0m in \u001b[0;36m?\u001b[1;34m(self, by, axis, ascending, inplace, kind, na_position, ignore_index, key)\u001b[0m\n\u001b[0;32m   7185\u001b[0m             \u001b[1;33m)\u001b[0m\u001b[1;33m\u001b[0m\u001b[1;33m\u001b[0m\u001b[0m\n\u001b[0;32m   7186\u001b[0m         \u001b[1;32melif\u001b[0m \u001b[0mlen\u001b[0m\u001b[1;33m(\u001b[0m\u001b[0mby\u001b[0m\u001b[1;33m)\u001b[0m\u001b[1;33m:\u001b[0m\u001b[1;33m\u001b[0m\u001b[1;33m\u001b[0m\u001b[0m\n\u001b[0;32m   7187\u001b[0m             \u001b[1;31m# len(by) == 1\u001b[0m\u001b[1;33m\u001b[0m\u001b[1;33m\u001b[0m\u001b[0m\n\u001b[0;32m   7188\u001b[0m \u001b[1;33m\u001b[0m\u001b[0m\n\u001b[1;32m-> 7189\u001b[1;33m             \u001b[0mk\u001b[0m \u001b[1;33m=\u001b[0m \u001b[0mself\u001b[0m\u001b[1;33m.\u001b[0m\u001b[0m_get_label_or_level_values\u001b[0m\u001b[1;33m(\u001b[0m\u001b[0mby\u001b[0m\u001b[1;33m[\u001b[0m\u001b[1;36m0\u001b[0m\u001b[1;33m]\u001b[0m\u001b[1;33m,\u001b[0m \u001b[0maxis\u001b[0m\u001b[1;33m=\u001b[0m\u001b[0maxis\u001b[0m\u001b[1;33m)\u001b[0m\u001b[1;33m\u001b[0m\u001b[1;33m\u001b[0m\u001b[0m\n\u001b[0m\u001b[0;32m   7190\u001b[0m \u001b[1;33m\u001b[0m\u001b[0m\n\u001b[0;32m   7191\u001b[0m             \u001b[1;31m# need to rewrap column in Series to apply key function\u001b[0m\u001b[1;33m\u001b[0m\u001b[1;33m\u001b[0m\u001b[0m\n\u001b[0;32m   7192\u001b[0m             \u001b[1;32mif\u001b[0m \u001b[0mkey\u001b[0m \u001b[1;32mis\u001b[0m \u001b[1;32mnot\u001b[0m \u001b[1;32mNone\u001b[0m\u001b[1;33m:\u001b[0m\u001b[1;33m\u001b[0m\u001b[1;33m\u001b[0m\u001b[0m\n",
      "\u001b[1;32m~\\anaconda3\\Lib\\site-packages\\pandas\\core\\generic.py\u001b[0m in \u001b[0;36m?\u001b[1;34m(self, key, axis)\u001b[0m\n\u001b[0;32m   1907\u001b[0m             \u001b[0mvalues\u001b[0m \u001b[1;33m=\u001b[0m \u001b[0mself\u001b[0m\u001b[1;33m.\u001b[0m\u001b[0mxs\u001b[0m\u001b[1;33m(\u001b[0m\u001b[0mkey\u001b[0m\u001b[1;33m,\u001b[0m \u001b[0maxis\u001b[0m\u001b[1;33m=\u001b[0m\u001b[0mother_axes\u001b[0m\u001b[1;33m[\u001b[0m\u001b[1;36m0\u001b[0m\u001b[1;33m]\u001b[0m\u001b[1;33m)\u001b[0m\u001b[1;33m.\u001b[0m\u001b[0m_values\u001b[0m\u001b[1;33m\u001b[0m\u001b[1;33m\u001b[0m\u001b[0m\n\u001b[0;32m   1908\u001b[0m         \u001b[1;32melif\u001b[0m \u001b[0mself\u001b[0m\u001b[1;33m.\u001b[0m\u001b[0m_is_level_reference\u001b[0m\u001b[1;33m(\u001b[0m\u001b[0mkey\u001b[0m\u001b[1;33m,\u001b[0m \u001b[0maxis\u001b[0m\u001b[1;33m=\u001b[0m\u001b[0maxis\u001b[0m\u001b[1;33m)\u001b[0m\u001b[1;33m:\u001b[0m\u001b[1;33m\u001b[0m\u001b[1;33m\u001b[0m\u001b[0m\n\u001b[0;32m   1909\u001b[0m             \u001b[0mvalues\u001b[0m \u001b[1;33m=\u001b[0m \u001b[0mself\u001b[0m\u001b[1;33m.\u001b[0m\u001b[0maxes\u001b[0m\u001b[1;33m[\u001b[0m\u001b[0maxis\u001b[0m\u001b[1;33m]\u001b[0m\u001b[1;33m.\u001b[0m\u001b[0mget_level_values\u001b[0m\u001b[1;33m(\u001b[0m\u001b[0mkey\u001b[0m\u001b[1;33m)\u001b[0m\u001b[1;33m.\u001b[0m\u001b[0m_values\u001b[0m\u001b[1;33m\u001b[0m\u001b[1;33m\u001b[0m\u001b[0m\n\u001b[0;32m   1910\u001b[0m         \u001b[1;32melse\u001b[0m\u001b[1;33m:\u001b[0m\u001b[1;33m\u001b[0m\u001b[1;33m\u001b[0m\u001b[0m\n\u001b[1;32m-> 1911\u001b[1;33m             \u001b[1;32mraise\u001b[0m \u001b[0mKeyError\u001b[0m\u001b[1;33m(\u001b[0m\u001b[0mkey\u001b[0m\u001b[1;33m)\u001b[0m\u001b[1;33m\u001b[0m\u001b[1;33m\u001b[0m\u001b[0m\n\u001b[0m\u001b[0;32m   1912\u001b[0m \u001b[1;33m\u001b[0m\u001b[0m\n\u001b[0;32m   1913\u001b[0m         \u001b[1;31m# Check for duplicates\u001b[0m\u001b[1;33m\u001b[0m\u001b[1;33m\u001b[0m\u001b[0m\n\u001b[0;32m   1914\u001b[0m         \u001b[1;32mif\u001b[0m \u001b[0mvalues\u001b[0m\u001b[1;33m.\u001b[0m\u001b[0mndim\u001b[0m \u001b[1;33m>\u001b[0m \u001b[1;36m1\u001b[0m\u001b[1;33m:\u001b[0m\u001b[1;33m\u001b[0m\u001b[1;33m\u001b[0m\u001b[0m\n",
      "\u001b[1;31mKeyError\u001b[0m: 'cata_pts'"
     ]
    }
   ],
   "source": [
    "plsw = plsw.sort_values('cata_pts', ascending = False)"
   ]
  },
  {
   "cell_type": "code",
   "execution_count": null,
   "id": "f201015f-ab43-4b1e-9e07-a3347c641d0b",
   "metadata": {},
   "outputs": [],
   "source": [
    "df['A'].fillna(df['A'].mean(), inplace=True)\n"
   ]
  },
  {
   "cell_type": "code",
   "execution_count": 123,
   "id": "e4b092b8-26e6-4e3d-a263-77413be41f33",
   "metadata": {},
   "outputs": [],
   "source": [
    "plswc = pd.merge(plsw, calorie, on = 'country_c', how = 'outer')\n",
    "plswc = plswc[['country_c', 'pm25', 'pol_log32_n', 'avg_life', 'lifeexpect_log32_n',\n",
    "       'sanitation_value', 'santitation_log32_n', 'water_pct', 'water_log32_n',\n",
    "       'calorie', 'calorie_log32_n']]"
   ]
  },
  {
   "cell_type": "code",
   "execution_count": 125,
   "id": "346e169b-e40b-4a2c-901b-44d28e3e2a52",
   "metadata": {
    "scrolled": true
   },
   "outputs": [
    {
     "name": "stderr",
     "output_type": "stream",
     "text": [
      "C:\\Users\\eabro\\AppData\\Local\\Temp\\ipykernel_4308\\2640346923.py:2: FutureWarning: A value is trying to be set on a copy of a DataFrame or Series through chained assignment using an inplace method.\n",
      "The behavior will change in pandas 3.0. This inplace method will never work because the intermediate object on which we are setting values always behaves as a copy.\n",
      "\n",
      "For example, when doing 'df[col].method(value, inplace=True)', try using 'df.method({col: value}, inplace=True)' or df[col] = df[col].method(value) instead, to perform the operation inplace on the original object.\n",
      "\n",
      "\n",
      "  plswc2['pol_log32_n'].fillna(plswc2['pol_log32_n'].mean(), inplace=True)\n"
     ]
    }
   ],
   "source": [
    "plswc2 = plswc\n",
    "plswc2['pol_log32_n'].fillna(plswc2['pol_log32_n'].mean(), inplace=True)\n"
   ]
  },
  {
   "cell_type": "code",
   "execution_count": 127,
   "id": "1e4eb4e8-7592-4010-9f9a-8b7cc23519bc",
   "metadata": {},
   "outputs": [
    {
     "name": "stderr",
     "output_type": "stream",
     "text": [
      "C:\\Users\\eabro\\AppData\\Local\\Temp\\ipykernel_4308\\2048577609.py:1: FutureWarning: A value is trying to be set on a copy of a DataFrame or Series through chained assignment using an inplace method.\n",
      "The behavior will change in pandas 3.0. This inplace method will never work because the intermediate object on which we are setting values always behaves as a copy.\n",
      "\n",
      "For example, when doing 'df[col].method(value, inplace=True)', try using 'df.method({col: value}, inplace=True)' or df[col] = df[col].method(value) instead, to perform the operation inplace on the original object.\n",
      "\n",
      "\n",
      "  plswc2['water_log32_n'].fillna(plswc2['water_log32_n'].mean(), inplace=True)\n"
     ]
    }
   ],
   "source": [
    "plswc2['water_log32_n'].fillna(plswc2['water_log32_n'].mean(), inplace=True)"
   ]
  },
  {
   "cell_type": "code",
   "execution_count": 129,
   "id": "95d2fa29-3b2d-4581-ab1e-fd898ee961b1",
   "metadata": {},
   "outputs": [
    {
     "name": "stderr",
     "output_type": "stream",
     "text": [
      "C:\\Users\\eabro\\AppData\\Local\\Temp\\ipykernel_4308\\3596231566.py:1: FutureWarning: A value is trying to be set on a copy of a DataFrame or Series through chained assignment using an inplace method.\n",
      "The behavior will change in pandas 3.0. This inplace method will never work because the intermediate object on which we are setting values always behaves as a copy.\n",
      "\n",
      "For example, when doing 'df[col].method(value, inplace=True)', try using 'df.method({col: value}, inplace=True)' or df[col] = df[col].method(value) instead, to perform the operation inplace on the original object.\n",
      "\n",
      "\n",
      "  plswc2['lifeexpect_log32_n'].fillna(plswc2['lifeexpect_log32_n'].mean(), inplace=True)\n"
     ]
    }
   ],
   "source": [
    "plswc2['lifeexpect_log32_n'].fillna(plswc2['lifeexpect_log32_n'].mean(), inplace=True)\n"
   ]
  },
  {
   "cell_type": "code",
   "execution_count": 135,
   "id": "1d21356d-e140-4534-8c7c-c6eba963c43b",
   "metadata": {},
   "outputs": [
    {
     "name": "stderr",
     "output_type": "stream",
     "text": [
      "C:\\Users\\eabro\\AppData\\Local\\Temp\\ipykernel_4308\\2300235529.py:1: FutureWarning: A value is trying to be set on a copy of a DataFrame or Series through chained assignment using an inplace method.\n",
      "The behavior will change in pandas 3.0. This inplace method will never work because the intermediate object on which we are setting values always behaves as a copy.\n",
      "\n",
      "For example, when doing 'df[col].method(value, inplace=True)', try using 'df.method({col: value}, inplace=True)' or df[col] = df[col].method(value) instead, to perform the operation inplace on the original object.\n",
      "\n",
      "\n",
      "  plswc2['santitation_log32_n'].fillna(plswc2['santitation_log32_n'].mean(), inplace=True)\n"
     ]
    }
   ],
   "source": [
    "plswc2['santitation_log32_n'].fillna(plswc2['santitation_log32_n'].mean(), inplace=True)"
   ]
  },
  {
   "cell_type": "code",
   "execution_count": 137,
   "id": "2bff3c82-a3fa-4c70-a31d-4ec25a390dd1",
   "metadata": {},
   "outputs": [
    {
     "name": "stderr",
     "output_type": "stream",
     "text": [
      "C:\\Users\\eabro\\AppData\\Local\\Temp\\ipykernel_4308\\2850886738.py:1: FutureWarning: A value is trying to be set on a copy of a DataFrame or Series through chained assignment using an inplace method.\n",
      "The behavior will change in pandas 3.0. This inplace method will never work because the intermediate object on which we are setting values always behaves as a copy.\n",
      "\n",
      "For example, when doing 'df[col].method(value, inplace=True)', try using 'df.method({col: value}, inplace=True)' or df[col] = df[col].method(value) instead, to perform the operation inplace on the original object.\n",
      "\n",
      "\n",
      "  plswc2['calorie_log32_n'].fillna(plswc2['calorie_log32_n'].mean(), inplace=True)\n"
     ]
    }
   ],
   "source": [
    "plswc2['calorie_log32_n'].fillna(plswc2['calorie_log32_n'].mean(), inplace=True)"
   ]
  },
  {
   "cell_type": "code",
   "execution_count": 141,
   "id": "3dfe8485-c5e8-41a2-969b-e51fa85eb186",
   "metadata": {},
   "outputs": [
    {
     "data": {
      "text/plain": [
       "Index(['country_c', 'pm25', 'pol_log32_n', 'avg_life', 'lifeexpect_log32_n',\n",
       "       'sanitation_value', 'santitation_log32_n', 'water_pct', 'water_log32_n',\n",
       "       'calorie', 'calorie_log32_n'],\n",
       "      dtype='object')"
      ]
     },
     "execution_count": 141,
     "metadata": {},
     "output_type": "execute_result"
    }
   ],
   "source": [
    "plswc.columns"
   ]
  },
  {
   "cell_type": "code",
   "execution_count": 147,
   "id": "dc2e0dec-f17a-475b-98c5-1d356af4b344",
   "metadata": {},
   "outputs": [],
   "source": [
    "plswc2['plswc_pts'] = plswc['pol_log32_n'] + plswc['lifeexpect_log32_n'] + plswc['santitation_log32_n'] + plswc['water_log32_n'] + plswc['calorie_log32_n']"
   ]
  },
  {
   "cell_type": "code",
   "execution_count": 151,
   "id": "646a866f-a06a-4258-bc5b-793c2b44584a",
   "metadata": {},
   "outputs": [],
   "source": [
    "plswc2['sanitation_log32_n'] = plswc2['santitation_log32_n']"
   ]
  },
  {
   "cell_type": "code",
   "execution_count": 159,
   "id": "4c337fed-d255-4163-9ca0-a832c09138e5",
   "metadata": {},
   "outputs": [],
   "source": [
    "plswc2 = plswc2[['country_c', 'pm25', 'pol_log32_n', 'avg_life', 'lifeexpect_log32_n',\n",
    "       'sanitation_value', 'sanitation_log32_n', 'water_pct', 'water_log32_n',\n",
    "       'calorie', 'calorie_log32_n', 'plswc_pts']]"
   ]
  },
  {
   "cell_type": "code",
   "execution_count": 163,
   "id": "4a21fe02-ff0e-4812-8eb2-a15f359aa25f",
   "metadata": {},
   "outputs": [],
   "source": [
    "plswc2 = plswc2.sort_values('plswc_pts', ascending = False)"
   ]
  },
  {
   "cell_type": "code",
   "execution_count": 185,
   "id": "f1bd4c79-688a-4d6d-a769-cf66bab70bf7",
   "metadata": {},
   "outputs": [],
   "source": [
    "plswc2 = plswc2.reset_index()"
   ]
  },
  {
   "cell_type": "code",
   "execution_count": 171,
   "id": "3282cfd7-0093-4de5-af48-460c36db590c",
   "metadata": {},
   "outputs": [],
   "source": [
    "cata_pol_life = plswc2[['pm25', 'lifeexpect_log32_n']]"
   ]
  },
  {
   "cell_type": "code",
   "execution_count": 175,
   "id": "536c5685-a5b6-4c9f-9d04-4138569436b5",
   "metadata": {},
   "outputs": [
    {
     "data": {
      "text/html": [
       "<div>\n",
       "<style scoped>\n",
       "    .dataframe tbody tr th:only-of-type {\n",
       "        vertical-align: middle;\n",
       "    }\n",
       "\n",
       "    .dataframe tbody tr th {\n",
       "        vertical-align: top;\n",
       "    }\n",
       "\n",
       "    .dataframe thead th {\n",
       "        text-align: right;\n",
       "    }\n",
       "</style>\n",
       "<table border=\"1\" class=\"dataframe\">\n",
       "  <thead>\n",
       "    <tr style=\"text-align: right;\">\n",
       "      <th></th>\n",
       "      <th>pm25</th>\n",
       "      <th>lifeexpect_log32_n</th>\n",
       "    </tr>\n",
       "  </thead>\n",
       "  <tbody>\n",
       "    <tr>\n",
       "      <th>pm25</th>\n",
       "      <td>1.000000</td>\n",
       "      <td>-0.315935</td>\n",
       "    </tr>\n",
       "    <tr>\n",
       "      <th>lifeexpect_log32_n</th>\n",
       "      <td>-0.315935</td>\n",
       "      <td>1.000000</td>\n",
       "    </tr>\n",
       "  </tbody>\n",
       "</table>\n",
       "</div>"
      ],
      "text/plain": [
       "                        pm25  lifeexpect_log32_n\n",
       "pm25                1.000000           -0.315935\n",
       "lifeexpect_log32_n -0.315935            1.000000"
      ]
     },
     "execution_count": 175,
     "metadata": {},
     "output_type": "execute_result"
    }
   ],
   "source": [
    "# There is a negative correlation between life expectancy and pollution levels, which is what I expected.\n",
    "\n",
    "cata_pol_life.corr()"
   ]
  },
  {
   "cell_type": "code",
   "execution_count": 177,
   "id": "2d923d18-1730-4008-ba46-1468e07cdafb",
   "metadata": {},
   "outputs": [],
   "source": [
    "cata_san_life = plswc2[['sanitation_value', 'lifeexpect_log32_n']]"
   ]
  },
  {
   "cell_type": "code",
   "execution_count": 181,
   "id": "3f0f4324-4c68-4d18-9e22-d0d39d2145f7",
   "metadata": {},
   "outputs": [
    {
     "data": {
      "text/html": [
       "<div>\n",
       "<style scoped>\n",
       "    .dataframe tbody tr th:only-of-type {\n",
       "        vertical-align: middle;\n",
       "    }\n",
       "\n",
       "    .dataframe tbody tr th {\n",
       "        vertical-align: top;\n",
       "    }\n",
       "\n",
       "    .dataframe thead th {\n",
       "        text-align: right;\n",
       "    }\n",
       "</style>\n",
       "<table border=\"1\" class=\"dataframe\">\n",
       "  <thead>\n",
       "    <tr style=\"text-align: right;\">\n",
       "      <th></th>\n",
       "      <th>sanitation_value</th>\n",
       "      <th>lifeexpect_log32_n</th>\n",
       "    </tr>\n",
       "  </thead>\n",
       "  <tbody>\n",
       "    <tr>\n",
       "      <th>sanitation_value</th>\n",
       "      <td>1.000000</td>\n",
       "      <td>0.787688</td>\n",
       "    </tr>\n",
       "    <tr>\n",
       "      <th>lifeexpect_log32_n</th>\n",
       "      <td>0.787688</td>\n",
       "      <td>1.000000</td>\n",
       "    </tr>\n",
       "  </tbody>\n",
       "</table>\n",
       "</div>"
      ],
      "text/plain": [
       "                    sanitation_value  lifeexpect_log32_n\n",
       "sanitation_value            1.000000            0.787688\n",
       "lifeexpect_log32_n          0.787688            1.000000"
      ]
     },
     "execution_count": 181,
     "metadata": {},
     "output_type": "execute_result"
    }
   ],
   "source": [
    "# There is a massive correlation of 0.78 between having more citizens with access to adequate sanitation and a higher life expectancy.\n",
    "\n",
    "cata_san_life.corr()"
   ]
  },
  {
   "cell_type": "code",
   "execution_count": 193,
   "id": "5a995a25-c8e2-4889-96f9-e52f7db4edcc",
   "metadata": {},
   "outputs": [
    {
     "data": {
      "text/html": [
       "<div>\n",
       "<style scoped>\n",
       "    .dataframe tbody tr th:only-of-type {\n",
       "        vertical-align: middle;\n",
       "    }\n",
       "\n",
       "    .dataframe tbody tr th {\n",
       "        vertical-align: top;\n",
       "    }\n",
       "\n",
       "    .dataframe thead th {\n",
       "        text-align: right;\n",
       "    }\n",
       "</style>\n",
       "<table border=\"1\" class=\"dataframe\">\n",
       "  <thead>\n",
       "    <tr style=\"text-align: right;\">\n",
       "      <th></th>\n",
       "      <th>index</th>\n",
       "      <th>country_c</th>\n",
       "      <th>pm25</th>\n",
       "      <th>pol_log32_n</th>\n",
       "      <th>avg_life</th>\n",
       "      <th>lifeexpect_log32_n</th>\n",
       "      <th>sanitation_value</th>\n",
       "      <th>sanitation_log32_n</th>\n",
       "      <th>water_pct</th>\n",
       "      <th>water_log32_n</th>\n",
       "      <th>calorie</th>\n",
       "      <th>calorie_log32_n</th>\n",
       "      <th>plswc_pts</th>\n",
       "    </tr>\n",
       "  </thead>\n",
       "  <tbody>\n",
       "    <tr>\n",
       "      <th>20</th>\n",
       "      <td>230</td>\n",
       "      <td>United States</td>\n",
       "      <td>7.824882</td>\n",
       "      <td>30.754321</td>\n",
       "      <td>78.38</td>\n",
       "      <td>26.329212</td>\n",
       "      <td>99.70488</td>\n",
       "      <td>31.887756</td>\n",
       "      <td>98.255539</td>\n",
       "      <td>31.214454</td>\n",
       "      <td>2.2</td>\n",
       "      <td>31.106599</td>\n",
       "      <td>151.292342</td>\n",
       "    </tr>\n",
       "  </tbody>\n",
       "</table>\n",
       "</div>"
      ],
      "text/plain": [
       "    index      country_c      pm25  pol_log32_n  avg_life  lifeexpect_log32_n  \\\n",
       "20    230  United States  7.824882    30.754321     78.38           26.329212   \n",
       "\n",
       "    sanitation_value  sanitation_log32_n  water_pct  water_log32_n  calorie  \\\n",
       "20          99.70488           31.887756  98.255539      31.214454      2.2   \n",
       "\n",
       "    calorie_log32_n   plswc_pts  \n",
       "20        31.106599  151.292342  "
      ]
     },
     "execution_count": 193,
     "metadata": {},
     "output_type": "execute_result"
    }
   ],
   "source": [
    "plswc2.loc[plswc2['country_c'] == 'United States']"
   ]
  },
  {
   "cell_type": "code",
   "execution_count": 199,
   "id": "18d92d68-623c-4aba-bdc2-58e19f9b45f4",
   "metadata": {},
   "outputs": [],
   "source": [
    "plswc2.to_csv('Cat_A_0415_choosethisemily.csv', index=False, header=True)"
   ]
  },
  {
   "cell_type": "code",
   "execution_count": null,
   "id": "c48b2982-eab1-48fd-b790-ca0040f6672e",
   "metadata": {},
   "outputs": [],
   "source": []
  }
 ],
 "metadata": {
  "kernelspec": {
   "display_name": "Python [conda env:base] *",
   "language": "python",
   "name": "conda-base-py"
  },
  "language_info": {
   "codemirror_mode": {
    "name": "ipython",
    "version": 3
   },
   "file_extension": ".py",
   "mimetype": "text/x-python",
   "name": "python",
   "nbconvert_exporter": "python",
   "pygments_lexer": "ipython3",
   "version": "3.12.7"
  }
 },
 "nbformat": 4,
 "nbformat_minor": 5
}
