{
 "cells": [
  {
   "cell_type": "code",
   "execution_count": 77,
   "id": "16dff6cb-6632-4785-9a90-b957fe0456b8",
   "metadata": {},
   "outputs": [],
   "source": [
    "import pandas as pd\n",
    "import numpy as np\n",
    "import country_converter as coco"
   ]
  },
  {
   "cell_type": "code",
   "execution_count": 79,
   "id": "d01d4a29-8ee5-48b2-9f5c-18aca724bc0a",
   "metadata": {},
   "outputs": [],
   "source": [
    "hdi = pd.read_csv(r\"C:\\Users\\eabro\\Downloads\\augmented-human-development-index\\augmented-human-development-index.csv\")"
   ]
  },
  {
   "cell_type": "code",
   "execution_count": 81,
   "id": "3453dcef-fbab-4d83-b75e-6f0f7545bb2e",
   "metadata": {},
   "outputs": [],
   "source": [
    "hdi.columns = ['country', 'code', 'year', 'hdi', 'a']"
   ]
  },
  {
   "cell_type": "code",
   "execution_count": 83,
   "id": "44fe6e24-68fe-4016-83b3-c71d932e3c54",
   "metadata": {},
   "outputs": [],
   "source": [
    "hdi = hdi[['country', 'year', 'hdi']]"
   ]
  },
  {
   "cell_type": "code",
   "execution_count": 85,
   "id": "4275848b-acfe-44d9-86bc-a5e8ab576d0b",
   "metadata": {},
   "outputs": [
    {
     "data": {
      "text/plain": [
       "year\n",
       "2020    174\n",
       "2015    174\n",
       "2010    174\n",
       "2005    174\n",
       "2000    174\n",
       "1995    174\n",
       "1990    174\n",
       "1985    173\n",
       "1980    173\n",
       "1970    158\n",
       "1975    158\n",
       "1965    158\n",
       "1960    158\n",
       "1955    158\n",
       "1950    158\n",
       "1938    133\n",
       "1933    133\n",
       "1929    133\n",
       "1925    133\n",
       "1913    133\n",
       "1880    127\n",
       "1900    127\n",
       "1890    127\n",
       "1870    127\n",
       "Name: count, dtype: int64"
      ]
     },
     "execution_count": 85,
     "metadata": {},
     "output_type": "execute_result"
    }
   ],
   "source": [
    "hdi.value_counts('year')"
   ]
  },
  {
   "cell_type": "code",
   "execution_count": 87,
   "id": "fb373d64-dd6a-45fd-ad60-566fedef52db",
   "metadata": {},
   "outputs": [],
   "source": [
    "hdi = hdi.loc[hdi['year'] >= 2020]"
   ]
  },
  {
   "cell_type": "code",
   "execution_count": 89,
   "id": "b6facf0f-2bdd-4be2-8cda-da842d5f7d02",
   "metadata": {},
   "outputs": [],
   "source": [
    "hdi = hdi.sort_values('hdi', ascending = False)"
   ]
  },
  {
   "cell_type": "code",
   "execution_count": 91,
   "id": "69dfa4f6-f117-41df-a17c-9562c90fc136",
   "metadata": {},
   "outputs": [],
   "source": [
    "hdi.to_csv('hdi.csv', index=False, header=True)"
   ]
  },
  {
   "cell_type": "code",
   "execution_count": 93,
   "id": "43896d9a-39ba-481f-a853-f13442b3fa08",
   "metadata": {},
   "outputs": [],
   "source": [
    "hdi = pd.read_csv(r\"C:\\Users\\eabro\\Documents\\NSS\\Python\\Projects\\Utopia\\EmilyBroh_Capstone\\hdi.csv\")"
   ]
  },
  {
   "cell_type": "code",
   "execution_count": 95,
   "id": "a1de3737-cfeb-4666-ae17-e1f70a2fa518",
   "metadata": {
    "scrolled": true
   },
   "outputs": [
    {
     "data": {
      "text/html": [
       "<div>\n",
       "<style scoped>\n",
       "    .dataframe tbody tr th:only-of-type {\n",
       "        vertical-align: middle;\n",
       "    }\n",
       "\n",
       "    .dataframe tbody tr th {\n",
       "        vertical-align: top;\n",
       "    }\n",
       "\n",
       "    .dataframe thead th {\n",
       "        text-align: right;\n",
       "    }\n",
       "</style>\n",
       "<table border=\"1\" class=\"dataframe\">\n",
       "  <thead>\n",
       "    <tr style=\"text-align: right;\">\n",
       "      <th></th>\n",
       "      <th>country</th>\n",
       "      <th>year</th>\n",
       "      <th>hdi</th>\n",
       "    </tr>\n",
       "  </thead>\n",
       "  <tbody>\n",
       "    <tr>\n",
       "      <th>0</th>\n",
       "      <td>Switzerland</td>\n",
       "      <td>2020</td>\n",
       "      <td>0.885545</td>\n",
       "    </tr>\n",
       "    <tr>\n",
       "      <th>1</th>\n",
       "      <td>Japan</td>\n",
       "      <td>2020</td>\n",
       "      <td>0.856736</td>\n",
       "    </tr>\n",
       "    <tr>\n",
       "      <th>2</th>\n",
       "      <td>Australia</td>\n",
       "      <td>2020</td>\n",
       "      <td>0.847903</td>\n",
       "    </tr>\n",
       "    <tr>\n",
       "      <th>3</th>\n",
       "      <td>Iceland</td>\n",
       "      <td>2020</td>\n",
       "      <td>0.844972</td>\n",
       "    </tr>\n",
       "    <tr>\n",
       "      <th>4</th>\n",
       "      <td>Norway</td>\n",
       "      <td>2020</td>\n",
       "      <td>0.841248</td>\n",
       "    </tr>\n",
       "    <tr>\n",
       "      <th>...</th>\n",
       "      <td>...</td>\n",
       "      <td>...</td>\n",
       "      <td>...</td>\n",
       "    </tr>\n",
       "    <tr>\n",
       "      <th>157</th>\n",
       "      <td>Guinea</td>\n",
       "      <td>2020</td>\n",
       "      <td>0.153434</td>\n",
       "    </tr>\n",
       "    <tr>\n",
       "      <th>158</th>\n",
       "      <td>Chad</td>\n",
       "      <td>2020</td>\n",
       "      <td>0.142656</td>\n",
       "    </tr>\n",
       "    <tr>\n",
       "      <th>159</th>\n",
       "      <td>Yemen</td>\n",
       "      <td>2020</td>\n",
       "      <td>0.141605</td>\n",
       "    </tr>\n",
       "    <tr>\n",
       "      <th>160</th>\n",
       "      <td>Burundi</td>\n",
       "      <td>2020</td>\n",
       "      <td>0.125719</td>\n",
       "    </tr>\n",
       "    <tr>\n",
       "      <th>161</th>\n",
       "      <td>Eritrea</td>\n",
       "      <td>2020</td>\n",
       "      <td>0.117805</td>\n",
       "    </tr>\n",
       "  </tbody>\n",
       "</table>\n",
       "<p>162 rows × 3 columns</p>\n",
       "</div>"
      ],
      "text/plain": [
       "         country  year       hdi\n",
       "0    Switzerland  2020  0.885545\n",
       "1          Japan  2020  0.856736\n",
       "2      Australia  2020  0.847903\n",
       "3        Iceland  2020  0.844972\n",
       "4         Norway  2020  0.841248\n",
       "..           ...   ...       ...\n",
       "157       Guinea  2020  0.153434\n",
       "158         Chad  2020  0.142656\n",
       "159        Yemen  2020  0.141605\n",
       "160      Burundi  2020  0.125719\n",
       "161      Eritrea  2020  0.117805\n",
       "\n",
       "[162 rows x 3 columns]"
      ]
     },
     "execution_count": 95,
     "metadata": {},
     "output_type": "execute_result"
    }
   ],
   "source": [
    "hdi"
   ]
  },
  {
   "cell_type": "code",
   "execution_count": 97,
   "id": "bf82ac85-f31f-4a15-a386-6bdfb97e3cce",
   "metadata": {},
   "outputs": [],
   "source": [
    "hdi['country_c'] = coco.convert(names= hdi['country'], to='name_short', not_found=None)"
   ]
  },
  {
   "cell_type": "code",
   "execution_count": 41,
   "id": "78083604-6c22-4503-947c-884aa851f09f",
   "metadata": {},
   "outputs": [],
   "source": [
    "hdi = pd.read_csv(r\"C:\\Users\\eabro\\Documents\\NSS\\Python\\Projects\\Utopia\\EmilyBroh_Capstone\\hdi.csv\")"
   ]
  },
  {
   "cell_type": "code",
   "execution_count": 99,
   "id": "15fac368-8781-414f-ac02-b45b330476f6",
   "metadata": {},
   "outputs": [],
   "source": [
    "hdi = hdi.groupby('country').mean('hdi')"
   ]
  },
  {
   "cell_type": "code",
   "execution_count": 101,
   "id": "32dfa4ad-f2d4-4230-8a89-c4a6633ab5f8",
   "metadata": {},
   "outputs": [],
   "source": [
    "hdi = hdi.sort_values('hdi', ascending = False)"
   ]
  },
  {
   "cell_type": "code",
   "execution_count": 103,
   "id": "9b6303d8-3293-45dd-91d2-2d1dda23c7f9",
   "metadata": {},
   "outputs": [],
   "source": [
    "hdi['norm_hdi'] = (hdi['hdi'] - hdi['hdi'].min()) / (hdi['hdi'].max() - hdi['hdi'].min())"
   ]
  },
  {
   "cell_type": "code",
   "execution_count": 105,
   "id": "835eabf8-5faa-49fd-8238-8561861ff73e",
   "metadata": {},
   "outputs": [],
   "source": [
    "hdi['hdi_log4_n'] = hdi['norm_hdi'] * 4"
   ]
  },
  {
   "cell_type": "code",
   "execution_count": 109,
   "id": "1dcf6fc3-bf0b-442f-85c7-da19fab43f07",
   "metadata": {},
   "outputs": [],
   "source": [
    "hdi.to_csv('hdi_2020.csv', index=False, header=True)"
   ]
  },
  {
   "cell_type": "code",
   "execution_count": 107,
   "id": "d547b623-5b8e-403c-97d2-fc1850f667f0",
   "metadata": {},
   "outputs": [
    {
     "data": {
      "text/html": [
       "<div>\n",
       "<style scoped>\n",
       "    .dataframe tbody tr th:only-of-type {\n",
       "        vertical-align: middle;\n",
       "    }\n",
       "\n",
       "    .dataframe tbody tr th {\n",
       "        vertical-align: top;\n",
       "    }\n",
       "\n",
       "    .dataframe thead th {\n",
       "        text-align: right;\n",
       "    }\n",
       "</style>\n",
       "<table border=\"1\" class=\"dataframe\">\n",
       "  <thead>\n",
       "    <tr style=\"text-align: right;\">\n",
       "      <th></th>\n",
       "      <th>year</th>\n",
       "      <th>hdi</th>\n",
       "      <th>norm_hdi</th>\n",
       "      <th>hdi_log4_n</th>\n",
       "    </tr>\n",
       "    <tr>\n",
       "      <th>country</th>\n",
       "      <th></th>\n",
       "      <th></th>\n",
       "      <th></th>\n",
       "      <th></th>\n",
       "    </tr>\n",
       "  </thead>\n",
       "  <tbody>\n",
       "    <tr>\n",
       "      <th>Switzerland</th>\n",
       "      <td>2020.0</td>\n",
       "      <td>0.885545</td>\n",
       "      <td>1.000000</td>\n",
       "      <td>4.000000</td>\n",
       "    </tr>\n",
       "    <tr>\n",
       "      <th>Japan</th>\n",
       "      <td>2020.0</td>\n",
       "      <td>0.856736</td>\n",
       "      <td>0.962475</td>\n",
       "      <td>3.849902</td>\n",
       "    </tr>\n",
       "    <tr>\n",
       "      <th>Australia</th>\n",
       "      <td>2020.0</td>\n",
       "      <td>0.847903</td>\n",
       "      <td>0.950970</td>\n",
       "      <td>3.803880</td>\n",
       "    </tr>\n",
       "    <tr>\n",
       "      <th>Iceland</th>\n",
       "      <td>2020.0</td>\n",
       "      <td>0.844972</td>\n",
       "      <td>0.947153</td>\n",
       "      <td>3.788611</td>\n",
       "    </tr>\n",
       "    <tr>\n",
       "      <th>Norway</th>\n",
       "      <td>2020.0</td>\n",
       "      <td>0.841248</td>\n",
       "      <td>0.942302</td>\n",
       "      <td>3.769208</td>\n",
       "    </tr>\n",
       "    <tr>\n",
       "      <th>...</th>\n",
       "      <td>...</td>\n",
       "      <td>...</td>\n",
       "      <td>...</td>\n",
       "      <td>...</td>\n",
       "    </tr>\n",
       "    <tr>\n",
       "      <th>Guinea</th>\n",
       "      <td>2020.0</td>\n",
       "      <td>0.153434</td>\n",
       "      <td>0.046408</td>\n",
       "      <td>0.185631</td>\n",
       "    </tr>\n",
       "    <tr>\n",
       "      <th>Chad</th>\n",
       "      <td>2020.0</td>\n",
       "      <td>0.142656</td>\n",
       "      <td>0.032369</td>\n",
       "      <td>0.129476</td>\n",
       "    </tr>\n",
       "    <tr>\n",
       "      <th>Yemen</th>\n",
       "      <td>2020.0</td>\n",
       "      <td>0.141605</td>\n",
       "      <td>0.031000</td>\n",
       "      <td>0.123999</td>\n",
       "    </tr>\n",
       "    <tr>\n",
       "      <th>Burundi</th>\n",
       "      <td>2020.0</td>\n",
       "      <td>0.125719</td>\n",
       "      <td>0.010308</td>\n",
       "      <td>0.041232</td>\n",
       "    </tr>\n",
       "    <tr>\n",
       "      <th>Eritrea</th>\n",
       "      <td>2020.0</td>\n",
       "      <td>0.117805</td>\n",
       "      <td>0.000000</td>\n",
       "      <td>0.000000</td>\n",
       "    </tr>\n",
       "  </tbody>\n",
       "</table>\n",
       "<p>162 rows × 4 columns</p>\n",
       "</div>"
      ],
      "text/plain": [
       "               year       hdi  norm_hdi  hdi_log4_n\n",
       "country                                            \n",
       "Switzerland  2020.0  0.885545  1.000000    4.000000\n",
       "Japan        2020.0  0.856736  0.962475    3.849902\n",
       "Australia    2020.0  0.847903  0.950970    3.803880\n",
       "Iceland      2020.0  0.844972  0.947153    3.788611\n",
       "Norway       2020.0  0.841248  0.942302    3.769208\n",
       "...             ...       ...       ...         ...\n",
       "Guinea       2020.0  0.153434  0.046408    0.185631\n",
       "Chad         2020.0  0.142656  0.032369    0.129476\n",
       "Yemen        2020.0  0.141605  0.031000    0.123999\n",
       "Burundi      2020.0  0.125719  0.010308    0.041232\n",
       "Eritrea      2020.0  0.117805  0.000000    0.000000\n",
       "\n",
       "[162 rows x 4 columns]"
      ]
     },
     "execution_count": 107,
     "metadata": {},
     "output_type": "execute_result"
    }
   ],
   "source": [
    "hdi"
   ]
  },
  {
   "cell_type": "code",
   "execution_count": 113,
   "id": "b0791a9a-7f54-49d3-8cad-5f4b5fa494a3",
   "metadata": {},
   "outputs": [],
   "source": [
    "hap = pd.read_csv(r\"C:\\Users\\eabro\\Downloads\\gdp-per-capita-worldbank\\gdp-per-capita-worldbank.csv\")"
   ]
  },
  {
   "cell_type": "code",
   "execution_count": null,
   "id": "e32d9d5a-7762-4685-927e-28d954b3e5b0",
   "metadata": {},
   "outputs": [],
   "source": []
  }
 ],
 "metadata": {
  "kernelspec": {
   "display_name": "Python [conda env:base] *",
   "language": "python",
   "name": "conda-base-py"
  },
  "language_info": {
   "codemirror_mode": {
    "name": "ipython",
    "version": 3
   },
   "file_extension": ".py",
   "mimetype": "text/x-python",
   "name": "python",
   "nbconvert_exporter": "python",
   "pygments_lexer": "ipython3",
   "version": "3.12.7"
  }
 },
 "nbformat": 4,
 "nbformat_minor": 5
}
