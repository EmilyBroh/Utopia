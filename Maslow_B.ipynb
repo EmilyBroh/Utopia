{
 "cells": [
  {
   "cell_type": "code",
   "execution_count": 3,
   "id": "f239cfa2-f0db-4859-b1ed-56b7a021154e",
   "metadata": {},
   "outputs": [],
   "source": [
    "import pandas as pd\n",
    "import numpy as np"
   ]
  },
  {
   "cell_type": "code",
   "execution_count": 5,
   "id": "1bd8e6f6-3203-4e96-a85d-ee79d4820f54",
   "metadata": {},
   "outputs": [],
   "source": [
    "homicide = pd.read_csv(r\"C:\\Users\\eabro\\Documents\\NSS\\Python\\Projects\\Utopia\\EmilyBroh_Capstone\\emilybroh_capstone\\Category_B\\homicide-rate-unodc.csv\")"
   ]
  },
  {
   "cell_type": "code",
   "execution_count": 9,
   "id": "1bf36274-9551-4f62-b5a5-2263f9c7c8f7",
   "metadata": {},
   "outputs": [],
   "source": [
    "homicide.columns = ['country', 'code', 'year', 'homicide_rate']"
   ]
  },
  {
   "cell_type": "code",
   "execution_count": 13,
   "id": "291a4066-611a-454a-aaa1-10850b1c5495",
   "metadata": {},
   "outputs": [],
   "source": [
    "homicide = homicide.loc[homicide['year'] >= 2009]"
   ]
  },
  {
   "cell_type": "code",
   "execution_count": 15,
   "id": "e802ad6c-6487-4f45-aa34-be2d9d24e69c",
   "metadata": {},
   "outputs": [],
   "source": [
    "homicide = homicide[(homicide['year'] >= 2009) & (homicide['year'] <= 2019)]"
   ]
  },
  {
   "cell_type": "markdown",
   "id": "ec8b8c5e-a2f8-4c11-8445-27920adcff39",
   "metadata": {},
   "source": [
    "homicide['norm_homicide'] = 1 - (undernourish['undernourish'] - undernourish['undernourish'].min()) / (undernourish['undernourish'].max() - undernourish['undernourish'].min())"
   ]
  },
  {
   "cell_type": "code",
   "execution_count": 19,
   "id": "5b8cfa07-d10d-4118-a2cd-9a9353e73ce6",
   "metadata": {},
   "outputs": [],
   "source": [
    "homicide.to_csv('homicide.csv', index=False, header=True)"
   ]
  },
  {
   "cell_type": "code",
   "execution_count": 21,
   "id": "517370f1-1be8-420a-a256-9e53b99e6f72",
   "metadata": {},
   "outputs": [],
   "source": [
    "homicide = pd.read_csv(r\"C:\\Users\\eabro\\Documents\\NSS\\Python\\Projects\\Utopia\\EmilyBroh_Capstone\\homicide.csv\")"
   ]
  },
  {
   "cell_type": "code",
   "execution_count": 31,
   "id": "59dda077-6c6b-4465-8c34-50e38d1d0be3",
   "metadata": {},
   "outputs": [],
   "source": [
    "homicide['norm_homicide'] =  1 - (homicide['homicide_rate'] - homicide['homicide_rate'].min()) / (homicide['homicide_rate'].max() - homicide['homicide_rate'].min())"
   ]
  },
  {
   "cell_type": "code",
   "execution_count": 81,
   "id": "8f55e1ee-59ea-4819-b238-e93a504b0967",
   "metadata": {},
   "outputs": [],
   "source": [
    "homicide = homicide.sort_values('homicide_rate', ascending = True)"
   ]
  },
  {
   "cell_type": "code",
   "execution_count": 83,
   "id": "0f4e24e7-5d05-4d1d-8363-0d9a592d348e",
   "metadata": {},
   "outputs": [],
   "source": [
    "homicide['homicide_norm_withpts'] = homicide['norm_homicide'] * 5"
   ]
  },
  {
   "cell_type": "code",
   "execution_count": 248,
   "id": "391e2a94-4fb0-446f-890d-17d128412098",
   "metadata": {},
   "outputs": [],
   "source": [
    "homicide['homicide_norm_withpts_log16'] = homicide['norm_homicide'] * 16"
   ]
  },
  {
   "cell_type": "code",
   "execution_count": 268,
   "id": "5f2fe996-e886-4a52-995d-c22321220a3f",
   "metadata": {},
   "outputs": [],
   "source": [
    "homicide.to_csv('homicide_withallpts_onlycountries.csv', index=False, header=True)"
   ]
  },
  {
   "cell_type": "code",
   "execution_count": 254,
   "id": "54e2f549-929e-4e87-97e0-6d5f1fd5fd68",
   "metadata": {},
   "outputs": [],
   "source": [
    "homicide = homicide.drop('homicide_norm_withpts_log5', axis = 1)"
   ]
  },
  {
   "cell_type": "code",
   "execution_count": 260,
   "id": "59066e3c-d8e5-4864-922f-d8b5cbb82f2c",
   "metadata": {},
   "outputs": [],
   "source": [
    "homicide = homicide.drop('norm_withpts_log5', axis = 1)"
   ]
  },
  {
   "cell_type": "code",
   "execution_count": 266,
   "id": "d504ee66-89cf-4d0c-89d1-f3b4cfd6b0dd",
   "metadata": {},
   "outputs": [],
   "source": [
    "homicide['norm_homicide_withpts'] = homicide['norm_withpts'] "
   ]
  },
  {
   "cell_type": "code",
   "execution_count": 1005,
   "id": "c9e56c10-6707-4622-9251-58522c731cb1",
   "metadata": {},
   "outputs": [],
   "source": [
    "unemployment = pd.read_csv(r\"C:\\Users\\eabro\\Downloads\\unemployment-rate-of-males-vs-females\\unemployment-rate-of-males-vs-females.csv\")"
   ]
  },
  {
   "cell_type": "code",
   "execution_count": 1007,
   "id": "890e59d5-00d9-40d3-bfc2-f0de0a5c683a",
   "metadata": {},
   "outputs": [],
   "source": [
    "unemployment.to_csv('unemployment_20192023.csv', index=False, header=True)"
   ]
  },
  {
   "cell_type": "code",
   "execution_count": 1009,
   "id": "3fa7b0d8-9e0e-4a11-9d35-4f4005731e84",
   "metadata": {},
   "outputs": [],
   "source": [
    "unemployment.columns = ['country', 'code', 'year', 'male_unemploy', 'female_unemploy', 'region']"
   ]
  },
  {
   "cell_type": "code",
   "execution_count": 1011,
   "id": "1674eab3-63a7-4276-a4aa-47731264caf9",
   "metadata": {},
   "outputs": [],
   "source": [
    "unemployment = unemployment.drop('region', axis = 1)"
   ]
  },
  {
   "cell_type": "code",
   "execution_count": 1013,
   "id": "bd98c027-299f-406f-804d-34eb35fc3a2e",
   "metadata": {},
   "outputs": [],
   "source": [
    "unemployment = unemployment.drop('code', axis = 1)"
   ]
  },
  {
   "cell_type": "code",
   "execution_count": 1015,
   "id": "bc4c579c-9c72-40fb-9c36-39c2378e0773",
   "metadata": {},
   "outputs": [],
   "source": [
    "unemployment = unemployment.loc[unemployment['year'] >= 2019]"
   ]
  },
  {
   "cell_type": "code",
   "execution_count": 1017,
   "id": "7b61d56f-e3c9-41c3-840b-17fa30c70379",
   "metadata": {},
   "outputs": [],
   "source": [
    "unemployment = unemployment.groupby('country').mean('male_unemploy')"
   ]
  },
  {
   "cell_type": "code",
   "execution_count": 1019,
   "id": "815ae7d3-486b-4667-a385-052e1734d0b4",
   "metadata": {},
   "outputs": [],
   "source": [
    "unemployment['m_f_unemploy'] = unemployment['male_unemploy'] + unemployment['female_unemploy']"
   ]
  },
  {
   "cell_type": "code",
   "execution_count": 1021,
   "id": "c0e02b65-5610-4979-9347-323f7e2691d0",
   "metadata": {},
   "outputs": [],
   "source": [
    "unemployment = unemployment.sort_values('m_f_unemploy', ascending = True)"
   ]
  },
  {
   "cell_type": "code",
   "execution_count": 1023,
   "id": "86385ed7-b6de-49e1-a931-cbb76ac69a82",
   "metadata": {},
   "outputs": [],
   "source": [
    "unemployment = unemployment.dropna()"
   ]
  },
  {
   "cell_type": "code",
   "execution_count": 1025,
   "id": "5e469b98-27f5-44a8-ad24-64e373bdd71e",
   "metadata": {},
   "outputs": [],
   "source": [
    "unemployment['norm_unemploy'] = 1 - (unemployment['m_f_unemploy'] - unemployment['m_f_unemploy'].min()) / (unemployment['m_f_unemploy'].max() - unemployment['m_f_unemploy'].min())"
   ]
  },
  {
   "cell_type": "code",
   "execution_count": 1027,
   "id": "e61f5266-725e-477c-b25d-6ec7df93b854",
   "metadata": {},
   "outputs": [],
   "source": [
    "unemployment['unemploy_norm_withpts'] = unemployment['norm_unemploy'] * 5"
   ]
  },
  {
   "cell_type": "code",
   "execution_count": 1037,
   "id": "2bc65080-f312-482c-b35a-7443ad7147bb",
   "metadata": {
    "scrolled": true
   },
   "outputs": [
    {
     "data": {
      "text/html": [
       "<div>\n",
       "<style scoped>\n",
       "    .dataframe tbody tr th:only-of-type {\n",
       "        vertical-align: middle;\n",
       "    }\n",
       "\n",
       "    .dataframe tbody tr th {\n",
       "        vertical-align: top;\n",
       "    }\n",
       "\n",
       "    .dataframe thead th {\n",
       "        text-align: right;\n",
       "    }\n",
       "</style>\n",
       "<table border=\"1\" class=\"dataframe\">\n",
       "  <thead>\n",
       "    <tr style=\"text-align: right;\">\n",
       "      <th></th>\n",
       "      <th>year</th>\n",
       "      <th>male_unemploy</th>\n",
       "      <th>female_unemploy</th>\n",
       "      <th>m_f_unemploy</th>\n",
       "      <th>norm_unemploy</th>\n",
       "      <th>unemploy_norm_withpts</th>\n",
       "      <th>unemploy_norm_withpts_log5</th>\n",
       "      <th>unemploy_log16_n</th>\n",
       "    </tr>\n",
       "    <tr>\n",
       "      <th>country</th>\n",
       "      <th></th>\n",
       "      <th></th>\n",
       "      <th></th>\n",
       "      <th></th>\n",
       "      <th></th>\n",
       "      <th></th>\n",
       "      <th></th>\n",
       "      <th></th>\n",
       "    </tr>\n",
       "  </thead>\n",
       "  <tbody>\n",
       "    <tr>\n",
       "      <th>Cambodia</th>\n",
       "      <td>2021.0</td>\n",
       "      <td>0.20880</td>\n",
       "      <td>0.26400</td>\n",
       "      <td>0.4728</td>\n",
       "      <td>1.000000</td>\n",
       "      <td>5.000000</td>\n",
       "      <td>16.000000</td>\n",
       "      <td>16.000000</td>\n",
       "    </tr>\n",
       "    <tr>\n",
       "      <th>Qatar</th>\n",
       "      <td>2021.0</td>\n",
       "      <td>0.06960</td>\n",
       "      <td>0.42860</td>\n",
       "      <td>0.4982</td>\n",
       "      <td>0.999634</td>\n",
       "      <td>4.998172</td>\n",
       "      <td>15.994152</td>\n",
       "      <td>15.994152</td>\n",
       "    </tr>\n",
       "    <tr>\n",
       "      <th>Niger</th>\n",
       "      <td>2021.0</td>\n",
       "      <td>0.65860</td>\n",
       "      <td>0.55880</td>\n",
       "      <td>1.2174</td>\n",
       "      <td>0.989285</td>\n",
       "      <td>4.946424</td>\n",
       "      <td>15.828557</td>\n",
       "      <td>15.828557</td>\n",
       "    </tr>\n",
       "    <tr>\n",
       "      <th>Thailand</th>\n",
       "      <td>2021.0</td>\n",
       "      <td>0.93080</td>\n",
       "      <td>1.03040</td>\n",
       "      <td>1.9612</td>\n",
       "      <td>0.978581</td>\n",
       "      <td>4.892906</td>\n",
       "      <td>15.657298</td>\n",
       "      <td>15.657298</td>\n",
       "    </tr>\n",
       "    <tr>\n",
       "      <th>Burundi</th>\n",
       "      <td>2021.0</td>\n",
       "      <td>1.09880</td>\n",
       "      <td>0.92120</td>\n",
       "      <td>2.0200</td>\n",
       "      <td>0.977735</td>\n",
       "      <td>4.888675</td>\n",
       "      <td>15.643760</td>\n",
       "      <td>15.643760</td>\n",
       "    </tr>\n",
       "    <tr>\n",
       "      <th>...</th>\n",
       "      <td>...</td>\n",
       "      <td>...</td>\n",
       "      <td>...</td>\n",
       "      <td>...</td>\n",
       "      <td>...</td>\n",
       "      <td>...</td>\n",
       "      <td>...</td>\n",
       "      <td>...</td>\n",
       "    </tr>\n",
       "    <tr>\n",
       "      <th>Yemen</th>\n",
       "      <td>2021.0</td>\n",
       "      <td>16.63900</td>\n",
       "      <td>29.65100</td>\n",
       "      <td>46.2900</td>\n",
       "      <td>0.340667</td>\n",
       "      <td>1.703334</td>\n",
       "      <td>5.450668</td>\n",
       "      <td>5.450668</td>\n",
       "    </tr>\n",
       "    <tr>\n",
       "      <th>South Africa</th>\n",
       "      <td>2021.0</td>\n",
       "      <td>25.72360</td>\n",
       "      <td>28.65920</td>\n",
       "      <td>54.3828</td>\n",
       "      <td>0.224207</td>\n",
       "      <td>1.121036</td>\n",
       "      <td>3.587314</td>\n",
       "      <td>3.587314</td>\n",
       "    </tr>\n",
       "    <tr>\n",
       "      <th>Djibouti</th>\n",
       "      <td>2021.0</td>\n",
       "      <td>22.70780</td>\n",
       "      <td>36.78660</td>\n",
       "      <td>59.4944</td>\n",
       "      <td>0.150649</td>\n",
       "      <td>0.753243</td>\n",
       "      <td>2.410377</td>\n",
       "      <td>2.410377</td>\n",
       "    </tr>\n",
       "    <tr>\n",
       "      <th>Palestine</th>\n",
       "      <td>2021.0</td>\n",
       "      <td>21.48575</td>\n",
       "      <td>40.82725</td>\n",
       "      <td>62.3130</td>\n",
       "      <td>0.110087</td>\n",
       "      <td>0.550437</td>\n",
       "      <td>1.761399</td>\n",
       "      <td>1.761399</td>\n",
       "    </tr>\n",
       "    <tr>\n",
       "      <th>Eswatini</th>\n",
       "      <td>2021.0</td>\n",
       "      <td>33.46960</td>\n",
       "      <td>36.49340</td>\n",
       "      <td>69.9630</td>\n",
       "      <td>0.000000</td>\n",
       "      <td>0.000000</td>\n",
       "      <td>0.000000</td>\n",
       "      <td>0.000000</td>\n",
       "    </tr>\n",
       "  </tbody>\n",
       "</table>\n",
       "<p>187 rows × 8 columns</p>\n",
       "</div>"
      ],
      "text/plain": [
       "                year  male_unemploy  female_unemploy  m_f_unemploy  \\\n",
       "country                                                              \n",
       "Cambodia      2021.0        0.20880          0.26400        0.4728   \n",
       "Qatar         2021.0        0.06960          0.42860        0.4982   \n",
       "Niger         2021.0        0.65860          0.55880        1.2174   \n",
       "Thailand      2021.0        0.93080          1.03040        1.9612   \n",
       "Burundi       2021.0        1.09880          0.92120        2.0200   \n",
       "...              ...            ...              ...           ...   \n",
       "Yemen         2021.0       16.63900         29.65100       46.2900   \n",
       "South Africa  2021.0       25.72360         28.65920       54.3828   \n",
       "Djibouti      2021.0       22.70780         36.78660       59.4944   \n",
       "Palestine     2021.0       21.48575         40.82725       62.3130   \n",
       "Eswatini      2021.0       33.46960         36.49340       69.9630   \n",
       "\n",
       "              norm_unemploy  unemploy_norm_withpts  \\\n",
       "country                                              \n",
       "Cambodia           1.000000               5.000000   \n",
       "Qatar              0.999634               4.998172   \n",
       "Niger              0.989285               4.946424   \n",
       "Thailand           0.978581               4.892906   \n",
       "Burundi            0.977735               4.888675   \n",
       "...                     ...                    ...   \n",
       "Yemen              0.340667               1.703334   \n",
       "South Africa       0.224207               1.121036   \n",
       "Djibouti           0.150649               0.753243   \n",
       "Palestine          0.110087               0.550437   \n",
       "Eswatini           0.000000               0.000000   \n",
       "\n",
       "              unemploy_norm_withpts_log5  unemploy_log16_n  \n",
       "country                                                     \n",
       "Cambodia                       16.000000         16.000000  \n",
       "Qatar                          15.994152         15.994152  \n",
       "Niger                          15.828557         15.828557  \n",
       "Thailand                       15.657298         15.657298  \n",
       "Burundi                        15.643760         15.643760  \n",
       "...                                  ...               ...  \n",
       "Yemen                           5.450668          5.450668  \n",
       "South Africa                    3.587314          3.587314  \n",
       "Djibouti                        2.410377          2.410377  \n",
       "Palestine                       1.761399          1.761399  \n",
       "Eswatini                        0.000000          0.000000  \n",
       "\n",
       "[187 rows x 8 columns]"
      ]
     },
     "execution_count": 1037,
     "metadata": {},
     "output_type": "execute_result"
    }
   ],
   "source": [
    "unemployment['unemploy_log16_n'] = unemployment['norm_unemploy'] * 16\n",
    "unemployment"
   ]
  },
  {
   "cell_type": "code",
   "execution_count": 1043,
   "id": "6ffd6a19-36e4-4eb2-9a76-6c33e1da5c24",
   "metadata": {},
   "outputs": [
    {
     "data": {
      "text/html": [
       "<div>\n",
       "<style scoped>\n",
       "    .dataframe tbody tr th:only-of-type {\n",
       "        vertical-align: middle;\n",
       "    }\n",
       "\n",
       "    .dataframe tbody tr th {\n",
       "        vertical-align: top;\n",
       "    }\n",
       "\n",
       "    .dataframe thead th {\n",
       "        text-align: right;\n",
       "    }\n",
       "</style>\n",
       "<table border=\"1\" class=\"dataframe\">\n",
       "  <thead>\n",
       "    <tr style=\"text-align: right;\">\n",
       "      <th></th>\n",
       "      <th>year</th>\n",
       "      <th>male_unemploy</th>\n",
       "      <th>female_unemploy</th>\n",
       "      <th>m_f_unemploy</th>\n",
       "      <th>norm_unemploy</th>\n",
       "      <th>unemploy_norm_withpts</th>\n",
       "      <th>unemploy_norm_withpts_log5</th>\n",
       "      <th>unemploy_log16_n</th>\n",
       "    </tr>\n",
       "    <tr>\n",
       "      <th>country</th>\n",
       "      <th></th>\n",
       "      <th></th>\n",
       "      <th></th>\n",
       "      <th></th>\n",
       "      <th></th>\n",
       "      <th></th>\n",
       "      <th></th>\n",
       "      <th></th>\n",
       "    </tr>\n",
       "  </thead>\n",
       "  <tbody>\n",
       "    <tr>\n",
       "      <th>Cambodia</th>\n",
       "      <td>2021.0</td>\n",
       "      <td>0.20880</td>\n",
       "      <td>0.26400</td>\n",
       "      <td>0.4728</td>\n",
       "      <td>1.000000</td>\n",
       "      <td>5.000000</td>\n",
       "      <td>16.000000</td>\n",
       "      <td>16.000000</td>\n",
       "    </tr>\n",
       "    <tr>\n",
       "      <th>Qatar</th>\n",
       "      <td>2021.0</td>\n",
       "      <td>0.06960</td>\n",
       "      <td>0.42860</td>\n",
       "      <td>0.4982</td>\n",
       "      <td>0.999634</td>\n",
       "      <td>4.998172</td>\n",
       "      <td>15.994152</td>\n",
       "      <td>15.994152</td>\n",
       "    </tr>\n",
       "    <tr>\n",
       "      <th>Niger</th>\n",
       "      <td>2021.0</td>\n",
       "      <td>0.65860</td>\n",
       "      <td>0.55880</td>\n",
       "      <td>1.2174</td>\n",
       "      <td>0.989285</td>\n",
       "      <td>4.946424</td>\n",
       "      <td>15.828557</td>\n",
       "      <td>15.828557</td>\n",
       "    </tr>\n",
       "    <tr>\n",
       "      <th>Thailand</th>\n",
       "      <td>2021.0</td>\n",
       "      <td>0.93080</td>\n",
       "      <td>1.03040</td>\n",
       "      <td>1.9612</td>\n",
       "      <td>0.978581</td>\n",
       "      <td>4.892906</td>\n",
       "      <td>15.657298</td>\n",
       "      <td>15.657298</td>\n",
       "    </tr>\n",
       "    <tr>\n",
       "      <th>Burundi</th>\n",
       "      <td>2021.0</td>\n",
       "      <td>1.09880</td>\n",
       "      <td>0.92120</td>\n",
       "      <td>2.0200</td>\n",
       "      <td>0.977735</td>\n",
       "      <td>4.888675</td>\n",
       "      <td>15.643760</td>\n",
       "      <td>15.643760</td>\n",
       "    </tr>\n",
       "    <tr>\n",
       "      <th>...</th>\n",
       "      <td>...</td>\n",
       "      <td>...</td>\n",
       "      <td>...</td>\n",
       "      <td>...</td>\n",
       "      <td>...</td>\n",
       "      <td>...</td>\n",
       "      <td>...</td>\n",
       "      <td>...</td>\n",
       "    </tr>\n",
       "    <tr>\n",
       "      <th>Yemen</th>\n",
       "      <td>2021.0</td>\n",
       "      <td>16.63900</td>\n",
       "      <td>29.65100</td>\n",
       "      <td>46.2900</td>\n",
       "      <td>0.340667</td>\n",
       "      <td>1.703334</td>\n",
       "      <td>5.450668</td>\n",
       "      <td>5.450668</td>\n",
       "    </tr>\n",
       "    <tr>\n",
       "      <th>South Africa</th>\n",
       "      <td>2021.0</td>\n",
       "      <td>25.72360</td>\n",
       "      <td>28.65920</td>\n",
       "      <td>54.3828</td>\n",
       "      <td>0.224207</td>\n",
       "      <td>1.121036</td>\n",
       "      <td>3.587314</td>\n",
       "      <td>3.587314</td>\n",
       "    </tr>\n",
       "    <tr>\n",
       "      <th>Djibouti</th>\n",
       "      <td>2021.0</td>\n",
       "      <td>22.70780</td>\n",
       "      <td>36.78660</td>\n",
       "      <td>59.4944</td>\n",
       "      <td>0.150649</td>\n",
       "      <td>0.753243</td>\n",
       "      <td>2.410377</td>\n",
       "      <td>2.410377</td>\n",
       "    </tr>\n",
       "    <tr>\n",
       "      <th>Palestine</th>\n",
       "      <td>2021.0</td>\n",
       "      <td>21.48575</td>\n",
       "      <td>40.82725</td>\n",
       "      <td>62.3130</td>\n",
       "      <td>0.110087</td>\n",
       "      <td>0.550437</td>\n",
       "      <td>1.761399</td>\n",
       "      <td>1.761399</td>\n",
       "    </tr>\n",
       "    <tr>\n",
       "      <th>Eswatini</th>\n",
       "      <td>2021.0</td>\n",
       "      <td>33.46960</td>\n",
       "      <td>36.49340</td>\n",
       "      <td>69.9630</td>\n",
       "      <td>0.000000</td>\n",
       "      <td>0.000000</td>\n",
       "      <td>0.000000</td>\n",
       "      <td>0.000000</td>\n",
       "    </tr>\n",
       "  </tbody>\n",
       "</table>\n",
       "<p>187 rows × 8 columns</p>\n",
       "</div>"
      ],
      "text/plain": [
       "                year  male_unemploy  female_unemploy  m_f_unemploy  \\\n",
       "country                                                              \n",
       "Cambodia      2021.0        0.20880          0.26400        0.4728   \n",
       "Qatar         2021.0        0.06960          0.42860        0.4982   \n",
       "Niger         2021.0        0.65860          0.55880        1.2174   \n",
       "Thailand      2021.0        0.93080          1.03040        1.9612   \n",
       "Burundi       2021.0        1.09880          0.92120        2.0200   \n",
       "...              ...            ...              ...           ...   \n",
       "Yemen         2021.0       16.63900         29.65100       46.2900   \n",
       "South Africa  2021.0       25.72360         28.65920       54.3828   \n",
       "Djibouti      2021.0       22.70780         36.78660       59.4944   \n",
       "Palestine     2021.0       21.48575         40.82725       62.3130   \n",
       "Eswatini      2021.0       33.46960         36.49340       69.9630   \n",
       "\n",
       "              norm_unemploy  unemploy_norm_withpts  \\\n",
       "country                                              \n",
       "Cambodia           1.000000               5.000000   \n",
       "Qatar              0.999634               4.998172   \n",
       "Niger              0.989285               4.946424   \n",
       "Thailand           0.978581               4.892906   \n",
       "Burundi            0.977735               4.888675   \n",
       "...                     ...                    ...   \n",
       "Yemen              0.340667               1.703334   \n",
       "South Africa       0.224207               1.121036   \n",
       "Djibouti           0.150649               0.753243   \n",
       "Palestine          0.110087               0.550437   \n",
       "Eswatini           0.000000               0.000000   \n",
       "\n",
       "              unemploy_norm_withpts_log5  unemploy_log16_n  \n",
       "country                                                     \n",
       "Cambodia                       16.000000         16.000000  \n",
       "Qatar                          15.994152         15.994152  \n",
       "Niger                          15.828557         15.828557  \n",
       "Thailand                       15.657298         15.657298  \n",
       "Burundi                        15.643760         15.643760  \n",
       "...                                  ...               ...  \n",
       "Yemen                           5.450668          5.450668  \n",
       "South Africa                    3.587314          3.587314  \n",
       "Djibouti                        2.410377          2.410377  \n",
       "Palestine                       1.761399          1.761399  \n",
       "Eswatini                        0.000000          0.000000  \n",
       "\n",
       "[187 rows x 8 columns]"
      ]
     },
     "execution_count": 1043,
     "metadata": {},
     "output_type": "execute_result"
    }
   ],
   "source": [
    "unemployment"
   ]
  },
  {
   "cell_type": "code",
   "execution_count": 1041,
   "id": "17c2642d-7438-4629-82fa-6e7d9f13316f",
   "metadata": {},
   "outputs": [],
   "source": [
    "unemployment.to_csv('unemployment_20192023.csv', index=False, header=True)\n"
   ]
  },
  {
   "cell_type": "code",
   "execution_count": 137,
   "id": "090b113b-99a0-411b-800f-28240de8b07e",
   "metadata": {},
   "outputs": [],
   "source": [
    "personal_spending_health = pd.read_csv(r\"C:\\Users\\eabro\\Documents\\NSS\\Python\\Projects\\Utopia\\share-of-out-of-pocket-expenditure-on-healthcare (1)\\share-of-out-of-pocket-expenditure-on-healthcare.csv\")"
   ]
  },
  {
   "cell_type": "code",
   "execution_count": 139,
   "id": "510a1999-04f6-4306-8ad1-c202284d0011",
   "metadata": {},
   "outputs": [],
   "source": [
    "psh = personal_spending_health"
   ]
  },
  {
   "cell_type": "code",
   "execution_count": 145,
   "id": "19ed8d02-9748-4768-8cd9-0be673d75cc9",
   "metadata": {},
   "outputs": [],
   "source": [
    "psh.columns = ['country', 'code', 'year', 'out_of_pkt_healthpct']"
   ]
  },
  {
   "cell_type": "code",
   "execution_count": 149,
   "id": "319c24f9-4545-4370-8330-49e089a1cc43",
   "metadata": {},
   "outputs": [],
   "source": [
    "psh = psh.loc[psh['year'] >= 2009]"
   ]
  },
  {
   "cell_type": "code",
   "execution_count": 153,
   "id": "d1afd2af-c2d3-45f8-a36f-3083a5a4dee8",
   "metadata": {},
   "outputs": [],
   "source": [
    "psh = psh.groupby('country').mean('out_of_pkt_healthpct')"
   ]
  },
  {
   "cell_type": "code",
   "execution_count": 157,
   "id": "4df3fb09-ee6c-46bd-8ced-5225a3f2ac48",
   "metadata": {},
   "outputs": [],
   "source": [
    "psh = psh.sort_values('out_of_pkt_healthpct', ascending = True)"
   ]
  },
  {
   "cell_type": "code",
   "execution_count": 161,
   "id": "eae8f987-0eca-42c8-b827-63dbffa35af6",
   "metadata": {
    "collapsed": true,
    "jupyter": {
     "outputs_hidden": true
    }
   },
   "outputs": [
    {
     "data": {
      "text/html": [
       "<div>\n",
       "<style scoped>\n",
       "    .dataframe tbody tr th:only-of-type {\n",
       "        vertical-align: middle;\n",
       "    }\n",
       "\n",
       "    .dataframe tbody tr th {\n",
       "        vertical-align: top;\n",
       "    }\n",
       "\n",
       "    .dataframe thead th {\n",
       "        text-align: right;\n",
       "    }\n",
       "</style>\n",
       "<table border=\"1\" class=\"dataframe\">\n",
       "  <thead>\n",
       "    <tr style=\"text-align: right;\">\n",
       "      <th></th>\n",
       "      <th>year</th>\n",
       "      <th>out_of_pkt_healthpct</th>\n",
       "    </tr>\n",
       "    <tr>\n",
       "      <th>country</th>\n",
       "      <th></th>\n",
       "      <th></th>\n",
       "    </tr>\n",
       "  </thead>\n",
       "  <tbody>\n",
       "    <tr>\n",
       "      <th>Tuvalu</th>\n",
       "      <td>2015.0</td>\n",
       "      <td>0.543606</td>\n",
       "    </tr>\n",
       "    <tr>\n",
       "      <th>Kiribati</th>\n",
       "      <td>2015.0</td>\n",
       "      <td>0.660769</td>\n",
       "    </tr>\n",
       "    <tr>\n",
       "      <th>Marshall Islands</th>\n",
       "      <td>2015.0</td>\n",
       "      <td>1.237890</td>\n",
       "    </tr>\n",
       "    <tr>\n",
       "      <th>Nauru</th>\n",
       "      <td>2015.0</td>\n",
       "      <td>1.277213</td>\n",
       "    </tr>\n",
       "    <tr>\n",
       "      <th>Micronesia (country)</th>\n",
       "      <td>2015.0</td>\n",
       "      <td>2.777382</td>\n",
       "    </tr>\n",
       "    <tr>\n",
       "      <th>Solomon Islands</th>\n",
       "      <td>2015.0</td>\n",
       "      <td>3.307494</td>\n",
       "    </tr>\n",
       "    <tr>\n",
       "      <th>Botswana</th>\n",
       "      <td>2015.0</td>\n",
       "      <td>4.266683</td>\n",
       "    </tr>\n",
       "    <tr>\n",
       "      <th>Monaco</th>\n",
       "      <td>2015.0</td>\n",
       "      <td>6.022546</td>\n",
       "    </tr>\n",
       "    <tr>\n",
       "      <th>South Africa</th>\n",
       "      <td>2015.0</td>\n",
       "      <td>6.512857</td>\n",
       "    </tr>\n",
       "    <tr>\n",
       "      <th>Tonga</th>\n",
       "      <td>2015.0</td>\n",
       "      <td>6.814257</td>\n",
       "    </tr>\n",
       "    <tr>\n",
       "      <th>Brunei</th>\n",
       "      <td>2015.0</td>\n",
       "      <td>6.949473</td>\n",
       "    </tr>\n",
       "    <tr>\n",
       "      <th>Oman</th>\n",
       "      <td>2015.0</td>\n",
       "      <td>7.403044</td>\n",
       "    </tr>\n",
       "    <tr>\n",
       "      <th>East Timor</th>\n",
       "      <td>2015.0</td>\n",
       "      <td>8.578951</td>\n",
       "    </tr>\n",
       "    <tr>\n",
       "      <th>Namibia</th>\n",
       "      <td>2015.0</td>\n",
       "      <td>8.599952</td>\n",
       "    </tr>\n",
       "    <tr>\n",
       "      <th>Vanuatu</th>\n",
       "      <td>2015.0</td>\n",
       "      <td>8.655763</td>\n",
       "    </tr>\n",
       "    <tr>\n",
       "      <th>Mozambique</th>\n",
       "      <td>2015.0</td>\n",
       "      <td>8.887260</td>\n",
       "    </tr>\n",
       "    <tr>\n",
       "      <th>Qatar</th>\n",
       "      <td>2015.0</td>\n",
       "      <td>9.441883</td>\n",
       "    </tr>\n",
       "    <tr>\n",
       "      <th>France</th>\n",
       "      <td>2015.0</td>\n",
       "      <td>9.731661</td>\n",
       "    </tr>\n",
       "    <tr>\n",
       "      <th>Papua New Guinea</th>\n",
       "      <td>2015.0</td>\n",
       "      <td>9.852368</td>\n",
       "    </tr>\n",
       "    <tr>\n",
       "      <th>Luxembourg</th>\n",
       "      <td>2015.5</td>\n",
       "      <td>10.236429</td>\n",
       "    </tr>\n",
       "  </tbody>\n",
       "</table>\n",
       "</div>"
      ],
      "text/plain": [
       "                        year  out_of_pkt_healthpct\n",
       "country                                           \n",
       "Tuvalu                2015.0              0.543606\n",
       "Kiribati              2015.0              0.660769\n",
       "Marshall Islands      2015.0              1.237890\n",
       "Nauru                 2015.0              1.277213\n",
       "Micronesia (country)  2015.0              2.777382\n",
       "Solomon Islands       2015.0              3.307494\n",
       "Botswana              2015.0              4.266683\n",
       "Monaco                2015.0              6.022546\n",
       "South Africa          2015.0              6.512857\n",
       "Tonga                 2015.0              6.814257\n",
       "Brunei                2015.0              6.949473\n",
       "Oman                  2015.0              7.403044\n",
       "East Timor            2015.0              8.578951\n",
       "Namibia               2015.0              8.599952\n",
       "Vanuatu               2015.0              8.655763\n",
       "Mozambique            2015.0              8.887260\n",
       "Qatar                 2015.0              9.441883\n",
       "France                2015.0              9.731661\n",
       "Papua New Guinea      2015.0              9.852368\n",
       "Luxembourg            2015.5             10.236429"
      ]
     },
     "execution_count": 161,
     "metadata": {},
     "output_type": "execute_result"
    }
   ],
   "source": [
    "psh.head(20)"
   ]
  },
  {
   "cell_type": "code",
   "execution_count": null,
   "id": "906d1fe8-e053-4dbb-bc3a-d0b45f18647d",
   "metadata": {},
   "outputs": [],
   "source": []
  },
  {
   "cell_type": "markdown",
   "id": "2f0a61e8-7545-4691-8394-dde8397a0246",
   "metadata": {},
   "source": [
    "# I changed my mind here. I'll look at government spending on healthcare instead."
   ]
  },
  {
   "cell_type": "code",
   "execution_count": 176,
   "id": "ca2fc978-e08f-4cc1-84e4-875d24c63203",
   "metadata": {},
   "outputs": [],
   "source": [
    "gov_health_spend = pd.read_csv(r\"C:\\Users\\eabro\\Downloads\\total-healthcare-expenditure-gdp\\total-healthcare-expenditure-gdp.csv\")"
   ]
  },
  {
   "cell_type": "code",
   "execution_count": 178,
   "id": "26832fdc-e0b1-4322-a67f-5187824b8cee",
   "metadata": {},
   "outputs": [],
   "source": [
    "ghs = gov_health_spend"
   ]
  },
  {
   "cell_type": "code",
   "execution_count": 180,
   "id": "be0db9cf-70d7-42bf-864e-11702da0bef1",
   "metadata": {},
   "outputs": [],
   "source": [
    "ghs.columns = ['country', 'code', 'year', 'health_pct_gdp']"
   ]
  },
  {
   "cell_type": "code",
   "execution_count": 186,
   "id": "ff61b6bf-80d8-4d61-8871-05710b9cd41d",
   "metadata": {},
   "outputs": [],
   "source": [
    "ghs = ghs.loc[ghs['year'] >= 2011]"
   ]
  },
  {
   "cell_type": "code",
   "execution_count": 196,
   "id": "7b4b09fb-00b9-45d6-bc6f-eb7424f21132",
   "metadata": {},
   "outputs": [],
   "source": [
    "ghs = ghs.groupby('country').mean('health_pct_gdp').reset_index()"
   ]
  },
  {
   "cell_type": "code",
   "execution_count": 198,
   "id": "87ffa8d3-6a17-4050-a90d-c0436832f265",
   "metadata": {},
   "outputs": [],
   "source": [
    "ghs.to_csv('gov_spend_healthcare.csv', index=False, header=True)"
   ]
  },
  {
   "cell_type": "code",
   "execution_count": 200,
   "id": "7e9bb35d-3b6a-4712-b757-c6408e78c73b",
   "metadata": {},
   "outputs": [],
   "source": [
    "ghs = pd.read_csv(r\"C:\\Users\\eabro\\Documents\\NSS\\Python\\Projects\\Utopia\\EmilyBroh_Capstone\\gov_spend_healthcare.csv\")"
   ]
  },
  {
   "cell_type": "code",
   "execution_count": 204,
   "id": "eb157dda-5006-48e8-9ae2-92bb1eb2bb03",
   "metadata": {},
   "outputs": [],
   "source": [
    "ghs['norm_healthgdp'] =  (ghs['health_pct_gdp'] - ghs['health_pct_gdp'].min()) / (ghs['health_pct_gdp'].max() - ghs['health_pct_gdp'].min())"
   ]
  },
  {
   "cell_type": "code",
   "execution_count": 208,
   "id": "f3e171dc-70c3-4982-9954-ac72bca3e35d",
   "metadata": {},
   "outputs": [],
   "source": [
    "ghs = ghs.sort_values('health_pct_gdp')"
   ]
  },
  {
   "cell_type": "code",
   "execution_count": 212,
   "id": "8c7d3ac8-ab48-4571-a89b-34b85ea4f15b",
   "metadata": {},
   "outputs": [],
   "source": [
    "ghs['healthgdp_norm_withpts'] = ghs['norm_healthgdp'] * 5"
   ]
  },
  {
   "cell_type": "code",
   "execution_count": 272,
   "id": "52d79e39-6204-4bce-86c5-9bfcdae7358f",
   "metadata": {},
   "outputs": [],
   "source": [
    "ghs['healthgdp_norm_withpts_log5'] = ghs['norm_healthgdp'] * 16"
   ]
  },
  {
   "cell_type": "code",
   "execution_count": 274,
   "id": "f5df6892-966a-483e-81c1-4ea97761a51f",
   "metadata": {},
   "outputs": [],
   "source": [
    "ghs.to_csv('gov_spend_healthcare_withallpts_onlycountries.csv', index=False, header=True)"
   ]
  },
  {
   "cell_type": "code",
   "execution_count": 1003,
   "id": "396355be-9a15-4678-bd0d-4c13bfae438a",
   "metadata": {},
   "outputs": [],
   "source": [
    "crime = pd.read_csv(r\"C:\\Users\\eabro\\Downloads\\crime-rate-by-country-2025 (1).csv\")"
   ]
  },
  {
   "cell_type": "code",
   "execution_count": 1063,
   "id": "862c0a31-0746-4380-b0a7-ca74ddf01cfa",
   "metadata": {},
   "outputs": [],
   "source": [
    "crime.columns = ['code', 'country', 'crime_rate', 'safety_index']"
   ]
  },
  {
   "cell_type": "code",
   "execution_count": 1065,
   "id": "4d694e93-f577-4147-bf99-6047fd46f11e",
   "metadata": {},
   "outputs": [],
   "source": [
    "crime['norm_crime'] = (crime['safety_index'] - crime['safety_index'].min()) / (crime['safety_index'].max() - crime['safety_index'].min())"
   ]
  },
  {
   "cell_type": "code",
   "execution_count": 1067,
   "id": "7aa6b6ca-7ddb-4fce-81dc-3f4990a4d63d",
   "metadata": {},
   "outputs": [],
   "source": [
    "crime['norm_crime_withpts'] = crime['norm_crime'] * 5"
   ]
  },
  {
   "cell_type": "code",
   "execution_count": 1069,
   "id": "a992152c-1392-418b-8869-e15193924a6d",
   "metadata": {},
   "outputs": [],
   "source": [
    "crime['norm_crime_withpts_log16'] = crime['norm_crime'] * 16"
   ]
  },
  {
   "cell_type": "code",
   "execution_count": 1071,
   "id": "348de997-1b01-486f-b9a2-927a53a38604",
   "metadata": {},
   "outputs": [],
   "source": [
    "crime = crime.sort_values('safety_index', ascending = False)"
   ]
  },
  {
   "cell_type": "code",
   "execution_count": 1059,
   "id": "8a7b78eb-1bfd-4928-92ab-fa3c008fc2b3",
   "metadata": {},
   "outputs": [
    {
     "data": {
      "text/html": [
       "<div>\n",
       "<style scoped>\n",
       "    .dataframe tbody tr th:only-of-type {\n",
       "        vertical-align: middle;\n",
       "    }\n",
       "\n",
       "    .dataframe tbody tr th {\n",
       "        vertical-align: top;\n",
       "    }\n",
       "\n",
       "    .dataframe thead th {\n",
       "        text-align: right;\n",
       "    }\n",
       "</style>\n",
       "<table border=\"1\" class=\"dataframe\">\n",
       "  <thead>\n",
       "    <tr style=\"text-align: right;\">\n",
       "      <th></th>\n",
       "      <th>flagCode</th>\n",
       "      <th>country</th>\n",
       "      <th>CrimeRate_NumbeoCrimeIndex_score_2024</th>\n",
       "      <th>CrimeRate_NumbeoSafetyIndex_score_2024</th>\n",
       "    </tr>\n",
       "  </thead>\n",
       "  <tbody>\n",
       "    <tr>\n",
       "      <th>0</th>\n",
       "      <td>VE</td>\n",
       "      <td>Venezuela</td>\n",
       "      <td>81.2</td>\n",
       "      <td>18.8</td>\n",
       "    </tr>\n",
       "    <tr>\n",
       "      <th>1</th>\n",
       "      <td>PG</td>\n",
       "      <td>Papua New Guinea</td>\n",
       "      <td>79.7</td>\n",
       "      <td>20.3</td>\n",
       "    </tr>\n",
       "    <tr>\n",
       "      <th>2</th>\n",
       "      <td>AF</td>\n",
       "      <td>Afghanistan</td>\n",
       "      <td>78.3</td>\n",
       "      <td>21.7</td>\n",
       "    </tr>\n",
       "    <tr>\n",
       "      <th>3</th>\n",
       "      <td>HT</td>\n",
       "      <td>Haiti</td>\n",
       "      <td>77.9</td>\n",
       "      <td>22.1</td>\n",
       "    </tr>\n",
       "    <tr>\n",
       "      <th>4</th>\n",
       "      <td>ZA</td>\n",
       "      <td>South Africa</td>\n",
       "      <td>75.4</td>\n",
       "      <td>24.6</td>\n",
       "    </tr>\n",
       "    <tr>\n",
       "      <th>...</th>\n",
       "      <td>...</td>\n",
       "      <td>...</td>\n",
       "      <td>...</td>\n",
       "      <td>...</td>\n",
       "    </tr>\n",
       "    <tr>\n",
       "      <th>136</th>\n",
       "      <td>OM</td>\n",
       "      <td>Oman</td>\n",
       "      <td>19.0</td>\n",
       "      <td>81.0</td>\n",
       "    </tr>\n",
       "    <tr>\n",
       "      <th>137</th>\n",
       "      <td>TW</td>\n",
       "      <td>Taiwan</td>\n",
       "      <td>16.7</td>\n",
       "      <td>83.3</td>\n",
       "    </tr>\n",
       "    <tr>\n",
       "      <th>138</th>\n",
       "      <td>QA</td>\n",
       "      <td>Qatar</td>\n",
       "      <td>16.0</td>\n",
       "      <td>84.0</td>\n",
       "    </tr>\n",
       "    <tr>\n",
       "      <th>139</th>\n",
       "      <td>AE</td>\n",
       "      <td>United Arab Emirates</td>\n",
       "      <td>15.6</td>\n",
       "      <td>84.4</td>\n",
       "    </tr>\n",
       "    <tr>\n",
       "      <th>140</th>\n",
       "      <td>AD</td>\n",
       "      <td>Andorra</td>\n",
       "      <td>12.9</td>\n",
       "      <td>87.1</td>\n",
       "    </tr>\n",
       "  </tbody>\n",
       "</table>\n",
       "<p>141 rows × 4 columns</p>\n",
       "</div>"
      ],
      "text/plain": [
       "    flagCode               country  CrimeRate_NumbeoCrimeIndex_score_2024  \\\n",
       "0         VE             Venezuela                                   81.2   \n",
       "1         PG      Papua New Guinea                                   79.7   \n",
       "2         AF           Afghanistan                                   78.3   \n",
       "3         HT                 Haiti                                   77.9   \n",
       "4         ZA          South Africa                                   75.4   \n",
       "..       ...                   ...                                    ...   \n",
       "136       OM                  Oman                                   19.0   \n",
       "137       TW                Taiwan                                   16.7   \n",
       "138       QA                 Qatar                                   16.0   \n",
       "139       AE  United Arab Emirates                                   15.6   \n",
       "140       AD               Andorra                                   12.9   \n",
       "\n",
       "     CrimeRate_NumbeoSafetyIndex_score_2024  \n",
       "0                                      18.8  \n",
       "1                                      20.3  \n",
       "2                                      21.7  \n",
       "3                                      22.1  \n",
       "4                                      24.6  \n",
       "..                                      ...  \n",
       "136                                    81.0  \n",
       "137                                    83.3  \n",
       "138                                    84.0  \n",
       "139                                    84.4  \n",
       "140                                    87.1  \n",
       "\n",
       "[141 rows x 4 columns]"
      ]
     },
     "execution_count": 1059,
     "metadata": {},
     "output_type": "execute_result"
    }
   ],
   "source": [
    "crime"
   ]
  },
  {
   "cell_type": "code",
   "execution_count": 392,
   "id": "a60f4593-d0a1-42f9-8237-184d6428ee3c",
   "metadata": {},
   "outputs": [
    {
     "data": {
      "text/html": [
       "<div>\n",
       "<style scoped>\n",
       "    .dataframe tbody tr th:only-of-type {\n",
       "        vertical-align: middle;\n",
       "    }\n",
       "\n",
       "    .dataframe tbody tr th {\n",
       "        vertical-align: top;\n",
       "    }\n",
       "\n",
       "    .dataframe thead th {\n",
       "        text-align: right;\n",
       "    }\n",
       "</style>\n",
       "<table border=\"1\" class=\"dataframe\">\n",
       "  <thead>\n",
       "    <tr style=\"text-align: right;\">\n",
       "      <th></th>\n",
       "      <th>country</th>\n",
       "      <th>year</th>\n",
       "      <th>terror</th>\n",
       "      <th>norm_terror</th>\n",
       "    </tr>\n",
       "  </thead>\n",
       "  <tbody>\n",
       "    <tr>\n",
       "      <th>0</th>\n",
       "      <td>World</td>\n",
       "      <td>2016.0</td>\n",
       "      <td>10346.000000</td>\n",
       "      <td>0.000000</td>\n",
       "    </tr>\n",
       "    <tr>\n",
       "      <th>1</th>\n",
       "      <td>Asia</td>\n",
       "      <td>2016.0</td>\n",
       "      <td>7488.545455</td>\n",
       "      <td>0.276189</td>\n",
       "    </tr>\n",
       "    <tr>\n",
       "      <th>2</th>\n",
       "      <td>Middle East &amp; North Africa</td>\n",
       "      <td>2016.0</td>\n",
       "      <td>3686.181818</td>\n",
       "      <td>0.643709</td>\n",
       "    </tr>\n",
       "    <tr>\n",
       "      <th>3</th>\n",
       "      <td>South Asia</td>\n",
       "      <td>2016.0</td>\n",
       "      <td>3528.090909</td>\n",
       "      <td>0.658990</td>\n",
       "    </tr>\n",
       "    <tr>\n",
       "      <th>4</th>\n",
       "      <td>Africa</td>\n",
       "      <td>2016.0</td>\n",
       "      <td>2115.090909</td>\n",
       "      <td>0.795564</td>\n",
       "    </tr>\n",
       "    <tr>\n",
       "      <th>...</th>\n",
       "      <td>...</td>\n",
       "      <td>...</td>\n",
       "      <td>...</td>\n",
       "      <td>...</td>\n",
       "    </tr>\n",
       "    <tr>\n",
       "      <th>211</th>\n",
       "      <td>Fiji</td>\n",
       "      <td>2016.0</td>\n",
       "      <td>0.000000</td>\n",
       "      <td>1.000000</td>\n",
       "    </tr>\n",
       "    <tr>\n",
       "      <th>212</th>\n",
       "      <td>Togo</td>\n",
       "      <td>2016.0</td>\n",
       "      <td>0.000000</td>\n",
       "      <td>1.000000</td>\n",
       "    </tr>\n",
       "    <tr>\n",
       "      <th>213</th>\n",
       "      <td>French Guiana</td>\n",
       "      <td>2016.0</td>\n",
       "      <td>0.000000</td>\n",
       "      <td>1.000000</td>\n",
       "    </tr>\n",
       "    <tr>\n",
       "      <th>214</th>\n",
       "      <td>North Korea</td>\n",
       "      <td>2016.0</td>\n",
       "      <td>0.000000</td>\n",
       "      <td>1.000000</td>\n",
       "    </tr>\n",
       "    <tr>\n",
       "      <th>215</th>\n",
       "      <td>French Polynesia</td>\n",
       "      <td>2016.0</td>\n",
       "      <td>0.000000</td>\n",
       "      <td>1.000000</td>\n",
       "    </tr>\n",
       "  </tbody>\n",
       "</table>\n",
       "<p>216 rows × 4 columns</p>\n",
       "</div>"
      ],
      "text/plain": [
       "                        country    year        terror  norm_terror\n",
       "0                         World  2016.0  10346.000000     0.000000\n",
       "1                          Asia  2016.0   7488.545455     0.276189\n",
       "2    Middle East & North Africa  2016.0   3686.181818     0.643709\n",
       "3                    South Asia  2016.0   3528.090909     0.658990\n",
       "4                        Africa  2016.0   2115.090909     0.795564\n",
       "..                          ...     ...           ...          ...\n",
       "211                        Fiji  2016.0      0.000000     1.000000\n",
       "212                        Togo  2016.0      0.000000     1.000000\n",
       "213               French Guiana  2016.0      0.000000     1.000000\n",
       "214                 North Korea  2016.0      0.000000     1.000000\n",
       "215            French Polynesia  2016.0      0.000000     1.000000\n",
       "\n",
       "[216 rows x 4 columns]"
      ]
     },
     "execution_count": 392,
     "metadata": {},
     "output_type": "execute_result"
    }
   ],
   "source": [
    "\n",
    "terror"
   ]
  },
  {
   "cell_type": "code",
   "execution_count": 396,
   "id": "6f9ec092-994e-4b64-afe3-861a0f7dbba2",
   "metadata": {},
   "outputs": [
    {
     "data": {
      "text/html": [
       "<div>\n",
       "<style scoped>\n",
       "    .dataframe tbody tr th:only-of-type {\n",
       "        vertical-align: middle;\n",
       "    }\n",
       "\n",
       "    .dataframe tbody tr th {\n",
       "        vertical-align: top;\n",
       "    }\n",
       "\n",
       "    .dataframe thead th {\n",
       "        text-align: right;\n",
       "    }\n",
       "</style>\n",
       "<table border=\"1\" class=\"dataframe\">\n",
       "  <thead>\n",
       "    <tr style=\"text-align: right;\">\n",
       "      <th></th>\n",
       "      <th>country</th>\n",
       "      <th>code</th>\n",
       "      <th>year</th>\n",
       "      <th>terror</th>\n",
       "    </tr>\n",
       "  </thead>\n",
       "  <tbody>\n",
       "    <tr>\n",
       "      <th>0</th>\n",
       "      <td>World</td>\n",
       "      <td>2016.0</td>\n",
       "      <td>10346.000000</td>\n",
       "      <td>0.000000</td>\n",
       "    </tr>\n",
       "    <tr>\n",
       "      <th>1</th>\n",
       "      <td>Asia</td>\n",
       "      <td>2016.0</td>\n",
       "      <td>7488.545455</td>\n",
       "      <td>0.276189</td>\n",
       "    </tr>\n",
       "    <tr>\n",
       "      <th>2</th>\n",
       "      <td>Middle East &amp; North Africa</td>\n",
       "      <td>2016.0</td>\n",
       "      <td>3686.181818</td>\n",
       "      <td>0.643709</td>\n",
       "    </tr>\n",
       "    <tr>\n",
       "      <th>3</th>\n",
       "      <td>South Asia</td>\n",
       "      <td>2016.0</td>\n",
       "      <td>3528.090909</td>\n",
       "      <td>0.658990</td>\n",
       "    </tr>\n",
       "    <tr>\n",
       "      <th>4</th>\n",
       "      <td>Africa</td>\n",
       "      <td>2016.0</td>\n",
       "      <td>2115.090909</td>\n",
       "      <td>0.795564</td>\n",
       "    </tr>\n",
       "  </tbody>\n",
       "</table>\n",
       "</div>"
      ],
      "text/plain": [
       "                      country    code          year    terror\n",
       "0                       World  2016.0  10346.000000  0.000000\n",
       "1                        Asia  2016.0   7488.545455  0.276189\n",
       "2  Middle East & North Africa  2016.0   3686.181818  0.643709\n",
       "3                  South Asia  2016.0   3528.090909  0.658990\n",
       "4                      Africa  2016.0   2115.090909  0.795564"
      ]
     },
     "execution_count": 396,
     "metadata": {},
     "output_type": "execute_result"
    }
   ],
   "source": [
    "terror = terror.loc[terror['year'] >= 2011]\n",
    "terror"
   ]
  },
  {
   "cell_type": "code",
   "execution_count": 408,
   "id": "485b0107-486a-43ba-8a2d-fdd78379dd68",
   "metadata": {},
   "outputs": [
    {
     "data": {
      "text/html": [
       "<div>\n",
       "<style scoped>\n",
       "    .dataframe tbody tr th:only-of-type {\n",
       "        vertical-align: middle;\n",
       "    }\n",
       "\n",
       "    .dataframe tbody tr th {\n",
       "        vertical-align: top;\n",
       "    }\n",
       "\n",
       "    .dataframe thead th {\n",
       "        text-align: right;\n",
       "    }\n",
       "</style>\n",
       "<table border=\"1\" class=\"dataframe\">\n",
       "  <thead>\n",
       "    <tr style=\"text-align: right;\">\n",
       "      <th></th>\n",
       "      <th>country</th>\n",
       "      <th>code</th>\n",
       "      <th>year</th>\n",
       "      <th>terror</th>\n",
       "      <th>norm_terror</th>\n",
       "    </tr>\n",
       "  </thead>\n",
       "  <tbody>\n",
       "    <tr>\n",
       "      <th>0</th>\n",
       "      <td>Africa</td>\n",
       "      <td>2016.0</td>\n",
       "      <td>2115.090909</td>\n",
       "      <td>0.795564</td>\n",
       "      <td>0.000000</td>\n",
       "    </tr>\n",
       "    <tr>\n",
       "      <th>3</th>\n",
       "      <td>South Asia</td>\n",
       "      <td>2016.0</td>\n",
       "      <td>3528.090909</td>\n",
       "      <td>0.658990</td>\n",
       "      <td>0.171670</td>\n",
       "    </tr>\n",
       "    <tr>\n",
       "      <th>2</th>\n",
       "      <td>Middle East &amp; North Africa</td>\n",
       "      <td>2016.0</td>\n",
       "      <td>3686.181818</td>\n",
       "      <td>0.643709</td>\n",
       "      <td>0.190877</td>\n",
       "    </tr>\n",
       "    <tr>\n",
       "      <th>1</th>\n",
       "      <td>Asia</td>\n",
       "      <td>2016.0</td>\n",
       "      <td>7488.545455</td>\n",
       "      <td>0.276189</td>\n",
       "      <td>0.652839</td>\n",
       "    </tr>\n",
       "    <tr>\n",
       "      <th>4</th>\n",
       "      <td>World</td>\n",
       "      <td>2016.0</td>\n",
       "      <td>10346.000000</td>\n",
       "      <td>0.000000</td>\n",
       "      <td>1.000000</td>\n",
       "    </tr>\n",
       "  </tbody>\n",
       "</table>\n",
       "</div>"
      ],
      "text/plain": [
       "                      country    code          year    terror  norm_terror\n",
       "0                      Africa  2016.0   2115.090909  0.795564     0.000000\n",
       "3                  South Asia  2016.0   3528.090909  0.658990     0.171670\n",
       "2  Middle East & North Africa  2016.0   3686.181818  0.643709     0.190877\n",
       "1                        Asia  2016.0   7488.545455  0.276189     0.652839\n",
       "4                       World  2016.0  10346.000000  0.000000     1.000000"
      ]
     },
     "execution_count": 408,
     "metadata": {},
     "output_type": "execute_result"
    }
   ],
   "source": [
    "terror"
   ]
  },
  {
   "cell_type": "code",
   "execution_count": 949,
   "id": "279675ee-06b1-4471-9622-7c1446af0937",
   "metadata": {},
   "outputs": [],
   "source": [
    "terror = pd.read_csv(r\"C:\\Users\\eabro\\Downloads\\terrorist-attacks (1)\\terrorist-attacks.csv\")"
   ]
  },
  {
   "cell_type": "code",
   "execution_count": 951,
   "id": "bbf8ba68-7e0d-4c75-a80f-b51145ce80de",
   "metadata": {},
   "outputs": [],
   "source": [
    "terror.columns = ['country', 'code', 'year', 'terror']"
   ]
  },
  {
   "cell_type": "code",
   "execution_count": 953,
   "id": "d4fb0ddc-ac45-4e8f-9442-396e96571476",
   "metadata": {},
   "outputs": [],
   "source": [
    "#terror = terror.sort_values('norm_terror', ascending = True)"
   ]
  },
  {
   "cell_type": "code",
   "execution_count": 955,
   "id": "a3c54cb2-2c94-4082-b06a-9455b3fed40c",
   "metadata": {},
   "outputs": [
    {
     "data": {
      "text/html": [
       "<div>\n",
       "<style scoped>\n",
       "    .dataframe tbody tr th:only-of-type {\n",
       "        vertical-align: middle;\n",
       "    }\n",
       "\n",
       "    .dataframe tbody tr th {\n",
       "        vertical-align: top;\n",
       "    }\n",
       "\n",
       "    .dataframe thead th {\n",
       "        text-align: right;\n",
       "    }\n",
       "</style>\n",
       "<table border=\"1\" class=\"dataframe\">\n",
       "  <thead>\n",
       "    <tr style=\"text-align: right;\">\n",
       "      <th></th>\n",
       "      <th>country</th>\n",
       "      <th>code</th>\n",
       "      <th>year</th>\n",
       "      <th>terror</th>\n",
       "    </tr>\n",
       "  </thead>\n",
       "  <tbody>\n",
       "    <tr>\n",
       "      <th>46</th>\n",
       "      <td>Afghanistan</td>\n",
       "      <td>AFG</td>\n",
       "      <td>2017</td>\n",
       "      <td>1415</td>\n",
       "    </tr>\n",
       "    <tr>\n",
       "      <th>47</th>\n",
       "      <td>Afghanistan</td>\n",
       "      <td>AFG</td>\n",
       "      <td>2018</td>\n",
       "      <td>1777</td>\n",
       "    </tr>\n",
       "    <tr>\n",
       "      <th>48</th>\n",
       "      <td>Afghanistan</td>\n",
       "      <td>AFG</td>\n",
       "      <td>2019</td>\n",
       "      <td>1806</td>\n",
       "    </tr>\n",
       "    <tr>\n",
       "      <th>49</th>\n",
       "      <td>Afghanistan</td>\n",
       "      <td>AFG</td>\n",
       "      <td>2020</td>\n",
       "      <td>2604</td>\n",
       "    </tr>\n",
       "    <tr>\n",
       "      <th>50</th>\n",
       "      <td>Afghanistan</td>\n",
       "      <td>AFG</td>\n",
       "      <td>2021</td>\n",
       "      <td>1453</td>\n",
       "    </tr>\n",
       "    <tr>\n",
       "      <th>...</th>\n",
       "      <td>...</td>\n",
       "      <td>...</td>\n",
       "      <td>...</td>\n",
       "      <td>...</td>\n",
       "    </tr>\n",
       "    <tr>\n",
       "      <th>9696</th>\n",
       "      <td>Zimbabwe</td>\n",
       "      <td>ZWE</td>\n",
       "      <td>2017</td>\n",
       "      <td>3</td>\n",
       "    </tr>\n",
       "    <tr>\n",
       "      <th>9697</th>\n",
       "      <td>Zimbabwe</td>\n",
       "      <td>ZWE</td>\n",
       "      <td>2018</td>\n",
       "      <td>2</td>\n",
       "    </tr>\n",
       "    <tr>\n",
       "      <th>9698</th>\n",
       "      <td>Zimbabwe</td>\n",
       "      <td>ZWE</td>\n",
       "      <td>2019</td>\n",
       "      <td>2</td>\n",
       "    </tr>\n",
       "    <tr>\n",
       "      <th>9699</th>\n",
       "      <td>Zimbabwe</td>\n",
       "      <td>ZWE</td>\n",
       "      <td>2020</td>\n",
       "      <td>1</td>\n",
       "    </tr>\n",
       "    <tr>\n",
       "      <th>9700</th>\n",
       "      <td>Zimbabwe</td>\n",
       "      <td>ZWE</td>\n",
       "      <td>2021</td>\n",
       "      <td>0</td>\n",
       "    </tr>\n",
       "  </tbody>\n",
       "</table>\n",
       "<p>1000 rows × 4 columns</p>\n",
       "</div>"
      ],
      "text/plain": [
       "          country code  year  terror\n",
       "46    Afghanistan  AFG  2017    1415\n",
       "47    Afghanistan  AFG  2018    1777\n",
       "48    Afghanistan  AFG  2019    1806\n",
       "49    Afghanistan  AFG  2020    2604\n",
       "50    Afghanistan  AFG  2021    1453\n",
       "...           ...  ...   ...     ...\n",
       "9696     Zimbabwe  ZWE  2017       3\n",
       "9697     Zimbabwe  ZWE  2018       2\n",
       "9698     Zimbabwe  ZWE  2019       2\n",
       "9699     Zimbabwe  ZWE  2020       1\n",
       "9700     Zimbabwe  ZWE  2021       0\n",
       "\n",
       "[1000 rows x 4 columns]"
      ]
     },
     "execution_count": 955,
     "metadata": {},
     "output_type": "execute_result"
    }
   ],
   "source": [
    "terror = terror.loc[terror['year'] >= 2017]\n",
    "terror"
   ]
  },
  {
   "cell_type": "code",
   "execution_count": 957,
   "id": "92b41c53-13cd-4e72-ab57-a3e78591a79a",
   "metadata": {},
   "outputs": [],
   "source": [
    "terror = terror.groupby('country').mean('terror').reset_index()"
   ]
  },
  {
   "cell_type": "code",
   "execution_count": 989,
   "id": "3ffdc3ba-0a77-4804-a0e4-a945b63f707e",
   "metadata": {},
   "outputs": [],
   "source": [
    "terror['norm_terror'] = 1 - (terror['terror'] - terror['terror'].min()) / (terror['terror'].max() - terror['terror'].min())"
   ]
  },
  {
   "cell_type": "code",
   "execution_count": 991,
   "id": "bcefab39-f3bf-4990-be1e-d1876067b9a9",
   "metadata": {},
   "outputs": [],
   "source": [
    "terror = terror.sort_values('terror', ascending = True)"
   ]
  },
  {
   "cell_type": "code",
   "execution_count": 993,
   "id": "0e34badd-ca7d-416d-ad64-59cfde7e8114",
   "metadata": {},
   "outputs": [],
   "source": [
    "terror['norm_terror_withpts_log16'] = terror['norm_terror'] * 16"
   ]
  },
  {
   "cell_type": "code",
   "execution_count": 999,
   "id": "56e4a7e2-38b6-44e0-adb9-c56c0b96cefe",
   "metadata": {},
   "outputs": [
    {
     "data": {
      "text/html": [
       "<div>\n",
       "<style scoped>\n",
       "    .dataframe tbody tr th:only-of-type {\n",
       "        vertical-align: middle;\n",
       "    }\n",
       "\n",
       "    .dataframe tbody tr th {\n",
       "        vertical-align: top;\n",
       "    }\n",
       "\n",
       "    .dataframe thead th {\n",
       "        text-align: right;\n",
       "    }\n",
       "</style>\n",
       "<table border=\"1\" class=\"dataframe\">\n",
       "  <thead>\n",
       "    <tr style=\"text-align: right;\">\n",
       "      <th></th>\n",
       "      <th>country</th>\n",
       "      <th>year</th>\n",
       "      <th>terror</th>\n",
       "      <th>norm_terror</th>\n",
       "      <th>norm_terror_withpts_log16</th>\n",
       "    </tr>\n",
       "  </thead>\n",
       "  <tbody>\n",
       "    <tr>\n",
       "      <th>99</th>\n",
       "      <td>Lesotho</td>\n",
       "      <td>2019.0</td>\n",
       "      <td>0.0</td>\n",
       "      <td>1.000000</td>\n",
       "      <td>16.000000</td>\n",
       "    </tr>\n",
       "    <tr>\n",
       "      <th>143</th>\n",
       "      <td>Rhodesia</td>\n",
       "      <td>2019.0</td>\n",
       "      <td>0.0</td>\n",
       "      <td>1.000000</td>\n",
       "      <td>16.000000</td>\n",
       "    </tr>\n",
       "    <tr>\n",
       "      <th>80</th>\n",
       "      <td>Iceland</td>\n",
       "      <td>2019.0</td>\n",
       "      <td>0.0</td>\n",
       "      <td>1.000000</td>\n",
       "      <td>16.000000</td>\n",
       "    </tr>\n",
       "    <tr>\n",
       "      <th>158</th>\n",
       "      <td>Solomon Islands</td>\n",
       "      <td>2019.0</td>\n",
       "      <td>0.0</td>\n",
       "      <td>1.000000</td>\n",
       "      <td>16.000000</td>\n",
       "    </tr>\n",
       "    <tr>\n",
       "      <th>40</th>\n",
       "      <td>Cuba</td>\n",
       "      <td>2019.0</td>\n",
       "      <td>0.0</td>\n",
       "      <td>1.000000</td>\n",
       "      <td>16.000000</td>\n",
       "    </tr>\n",
       "    <tr>\n",
       "      <th>...</th>\n",
       "      <td>...</td>\n",
       "      <td>...</td>\n",
       "      <td>...</td>\n",
       "      <td>...</td>\n",
       "      <td>...</td>\n",
       "    </tr>\n",
       "    <tr>\n",
       "      <th>129</th>\n",
       "      <td>Nigeria</td>\n",
       "      <td>2019.0</td>\n",
       "      <td>514.2</td>\n",
       "      <td>0.716068</td>\n",
       "      <td>11.457096</td>\n",
       "    </tr>\n",
       "    <tr>\n",
       "      <th>195</th>\n",
       "      <td>Yemen</td>\n",
       "      <td>2019.0</td>\n",
       "      <td>517.6</td>\n",
       "      <td>0.714191</td>\n",
       "      <td>11.427057</td>\n",
       "    </tr>\n",
       "    <tr>\n",
       "      <th>81</th>\n",
       "      <td>India</td>\n",
       "      <td>2019.0</td>\n",
       "      <td>632.6</td>\n",
       "      <td>0.650690</td>\n",
       "      <td>10.411044</td>\n",
       "    </tr>\n",
       "    <tr>\n",
       "      <th>84</th>\n",
       "      <td>Iraq</td>\n",
       "      <td>2019.0</td>\n",
       "      <td>1173.4</td>\n",
       "      <td>0.352071</td>\n",
       "      <td>5.633131</td>\n",
       "    </tr>\n",
       "    <tr>\n",
       "      <th>0</th>\n",
       "      <td>Afghanistan</td>\n",
       "      <td>2019.0</td>\n",
       "      <td>1811.0</td>\n",
       "      <td>0.000000</td>\n",
       "      <td>0.000000</td>\n",
       "    </tr>\n",
       "  </tbody>\n",
       "</table>\n",
       "<p>200 rows × 5 columns</p>\n",
       "</div>"
      ],
      "text/plain": [
       "             country    year  terror  norm_terror  norm_terror_withpts_log16\n",
       "99           Lesotho  2019.0     0.0     1.000000                  16.000000\n",
       "143         Rhodesia  2019.0     0.0     1.000000                  16.000000\n",
       "80           Iceland  2019.0     0.0     1.000000                  16.000000\n",
       "158  Solomon Islands  2019.0     0.0     1.000000                  16.000000\n",
       "40              Cuba  2019.0     0.0     1.000000                  16.000000\n",
       "..               ...     ...     ...          ...                        ...\n",
       "129          Nigeria  2019.0   514.2     0.716068                  11.457096\n",
       "195            Yemen  2019.0   517.6     0.714191                  11.427057\n",
       "81             India  2019.0   632.6     0.650690                  10.411044\n",
       "84              Iraq  2019.0  1173.4     0.352071                   5.633131\n",
       "0        Afghanistan  2019.0  1811.0     0.000000                   0.000000\n",
       "\n",
       "[200 rows x 5 columns]"
      ]
     },
     "execution_count": 999,
     "metadata": {},
     "output_type": "execute_result"
    }
   ],
   "source": [
    "terror\n"
   ]
  },
  {
   "cell_type": "code",
   "execution_count": 893,
   "id": "6da3b6d3-dd85-4d9d-9b9d-81848f27d21a",
   "metadata": {
    "collapsed": true,
    "jupyter": {
     "outputs_hidden": true,
     "source_hidden": true
    }
   },
   "outputs": [
    {
     "data": {
      "text/html": [
       "<div>\n",
       "<style scoped>\n",
       "    .dataframe tbody tr th:only-of-type {\n",
       "        vertical-align: middle;\n",
       "    }\n",
       "\n",
       "    .dataframe tbody tr th {\n",
       "        vertical-align: top;\n",
       "    }\n",
       "\n",
       "    .dataframe thead th {\n",
       "        text-align: right;\n",
       "    }\n",
       "</style>\n",
       "<table border=\"1\" class=\"dataframe\">\n",
       "  <thead>\n",
       "    <tr style=\"text-align: right;\">\n",
       "      <th></th>\n",
       "      <th>index</th>\n",
       "      <th>country</th>\n",
       "      <th>year</th>\n",
       "      <th>terror</th>\n",
       "      <th>norm_terror</th>\n",
       "    </tr>\n",
       "  </thead>\n",
       "  <tbody>\n",
       "    <tr>\n",
       "      <th>0</th>\n",
       "      <td>0</td>\n",
       "      <td>Afghanistan</td>\n",
       "      <td>1995.54902</td>\n",
       "      <td>399.470588</td>\n",
       "      <td>0.898457</td>\n",
       "    </tr>\n",
       "    <tr>\n",
       "      <th>1</th>\n",
       "      <td>1</td>\n",
       "      <td>Albania</td>\n",
       "      <td>1995.54902</td>\n",
       "      <td>1.627451</td>\n",
       "      <td>0.999586</td>\n",
       "    </tr>\n",
       "    <tr>\n",
       "      <th>2</th>\n",
       "      <td>2</td>\n",
       "      <td>Algeria</td>\n",
       "      <td>1995.54902</td>\n",
       "      <td>54.000000</td>\n",
       "      <td>0.986274</td>\n",
       "    </tr>\n",
       "    <tr>\n",
       "      <th>3</th>\n",
       "      <td>3</td>\n",
       "      <td>Andorra</td>\n",
       "      <td>1995.54902</td>\n",
       "      <td>0.019608</td>\n",
       "      <td>0.999995</td>\n",
       "    </tr>\n",
       "    <tr>\n",
       "      <th>4</th>\n",
       "      <td>4</td>\n",
       "      <td>Angola</td>\n",
       "      <td>1995.54902</td>\n",
       "      <td>9.823529</td>\n",
       "      <td>0.997503</td>\n",
       "    </tr>\n",
       "    <tr>\n",
       "      <th>...</th>\n",
       "      <td>...</td>\n",
       "      <td>...</td>\n",
       "      <td>...</td>\n",
       "      <td>...</td>\n",
       "      <td>...</td>\n",
       "    </tr>\n",
       "    <tr>\n",
       "      <th>200</th>\n",
       "      <td>200</td>\n",
       "      <td>Yemen Arab Republic</td>\n",
       "      <td>1995.54902</td>\n",
       "      <td>0.117647</td>\n",
       "      <td>0.999970</td>\n",
       "    </tr>\n",
       "    <tr>\n",
       "      <th>201</th>\n",
       "      <td>201</td>\n",
       "      <td>Yugoslavia</td>\n",
       "      <td>1986.30303</td>\n",
       "      <td>6.151515</td>\n",
       "      <td>0.998436</td>\n",
       "    </tr>\n",
       "    <tr>\n",
       "      <th>202</th>\n",
       "      <td>202</td>\n",
       "      <td>Zaire</td>\n",
       "      <td>1995.54902</td>\n",
       "      <td>0.980392</td>\n",
       "      <td>0.999751</td>\n",
       "    </tr>\n",
       "    <tr>\n",
       "      <th>203</th>\n",
       "      <td>203</td>\n",
       "      <td>Zambia</td>\n",
       "      <td>1995.54902</td>\n",
       "      <td>1.235294</td>\n",
       "      <td>0.999686</td>\n",
       "    </tr>\n",
       "    <tr>\n",
       "      <th>204</th>\n",
       "      <td>204</td>\n",
       "      <td>Zimbabwe</td>\n",
       "      <td>1995.54902</td>\n",
       "      <td>2.078431</td>\n",
       "      <td>0.999472</td>\n",
       "    </tr>\n",
       "  </tbody>\n",
       "</table>\n",
       "<p>205 rows × 5 columns</p>\n",
       "</div>"
      ],
      "text/plain": [
       "     index              country        year      terror  norm_terror\n",
       "0        0          Afghanistan  1995.54902  399.470588     0.898457\n",
       "1        1              Albania  1995.54902    1.627451     0.999586\n",
       "2        2              Algeria  1995.54902   54.000000     0.986274\n",
       "3        3              Andorra  1995.54902    0.019608     0.999995\n",
       "4        4               Angola  1995.54902    9.823529     0.997503\n",
       "..     ...                  ...         ...         ...          ...\n",
       "200    200  Yemen Arab Republic  1995.54902    0.117647     0.999970\n",
       "201    201           Yugoslavia  1986.30303    6.151515     0.998436\n",
       "202    202                Zaire  1995.54902    0.980392     0.999751\n",
       "203    203               Zambia  1995.54902    1.235294     0.999686\n",
       "204    204             Zimbabwe  1995.54902    2.078431     0.999472\n",
       "\n",
       "[205 rows x 5 columns]"
      ]
     },
     "execution_count": 893,
     "metadata": {},
     "output_type": "execute_result"
    }
   ],
   "source": [
    "terror = terror.reset_index()\n",
    "terror"
   ]
  },
  {
   "cell_type": "code",
   "execution_count": 1001,
   "id": "ead08735-e53d-4c56-bd9b-e348eed4b1f4",
   "metadata": {},
   "outputs": [],
   "source": [
    "terror.to_csv('terror_20172021.csv', index=False, header=True)"
   ]
  },
  {
   "cell_type": "code",
   "execution_count": 432,
   "id": "2fc1060d-9a5c-44c4-8d30-ee76061d265a",
   "metadata": {},
   "outputs": [],
   "source": [
    "gni = pd.read_csv(r\"C:\\Users\\eabro\\Downloads\\gross-national-income-per-capita-worldbank\\gross-national-income-per-capita-worldbank.csv\")"
   ]
  },
  {
   "cell_type": "code",
   "execution_count": 436,
   "id": "4992bc3a-7df6-406b-9623-b3e3e2d81807",
   "metadata": {},
   "outputs": [],
   "source": [
    "gni.columns = ['country', 'code', 'year', 'gni']"
   ]
  },
  {
   "cell_type": "code",
   "execution_count": 442,
   "id": "9d5e2ac3-4ac7-495e-8ae1-013cc86fe929",
   "metadata": {},
   "outputs": [],
   "source": [
    "gni = gni.loc[gni['year'] >= 2018]"
   ]
  },
  {
   "cell_type": "code",
   "execution_count": 446,
   "id": "9f744958-f94b-463f-abb8-df96e5fc5b31",
   "metadata": {},
   "outputs": [],
   "source": [
    "gni.to_csv('gni_withallpts_onlycountries.csv', index=False, header=True)"
   ]
  },
  {
   "cell_type": "code",
   "execution_count": 448,
   "id": "a398496f-5907-4108-8160-0c3d0d8be974",
   "metadata": {},
   "outputs": [],
   "source": [
    "gni = pd.read_csv(r\"C:\\Users\\eabro\\Documents\\NSS\\Python\\Projects\\Utopia\\EmilyBroh_Capstone\\gni_withallpts_onlycountries.csv\")"
   ]
  },
  {
   "cell_type": "code",
   "execution_count": 452,
   "id": "f0404add-8ba5-41d5-9e5f-e08a06cabbfb",
   "metadata": {},
   "outputs": [],
   "source": [
    "gni = gni.groupby('country').mean('gni')"
   ]
  },
  {
   "cell_type": "code",
   "execution_count": 454,
   "id": "20fbcc02-da40-40a9-8d38-7573568b5870",
   "metadata": {},
   "outputs": [],
   "source": [
    "gni['norm_gni'] = (gni['gni'] - gni['gni'] .min()) / (gni['gni'] .max() - gni['gni'] .min())"
   ]
  },
  {
   "cell_type": "code",
   "execution_count": 458,
   "id": "f122c0e8-1a79-49cb-9c4b-f7d8dda278f2",
   "metadata": {},
   "outputs": [],
   "source": [
    "gni = gni.sort_values('gni', ascending = False)"
   ]
  },
  {
   "cell_type": "code",
   "execution_count": 462,
   "id": "d4151701-5e34-49d3-9fae-c37cc7d9b2ed",
   "metadata": {},
   "outputs": [],
   "source": [
    "gni['norm_log16'] = gni['norm_gni'] * 16"
   ]
  },
  {
   "cell_type": "code",
   "execution_count": 468,
   "id": "f3e3bfaa-c4fa-4891-88c5-da591b69dd40",
   "metadata": {},
   "outputs": [],
   "source": [
    "gni.to_csv('gni_withallpts_onlycountries.csv', index=False, header=True)"
   ]
  },
  {
   "cell_type": "code",
   "execution_count": 568,
   "id": "0322f4f1-1c6e-4fec-96c5-8f8929c5723e",
   "metadata": {},
   "outputs": [],
   "source": [
    "crime = pd.read_csv(r\"C:\\Users\\eabro\\Downloads\\crime-rate-by-country-2025 (2).csv\")"
   ]
  },
  {
   "cell_type": "code",
   "execution_count": 572,
   "id": "a2cd2c56-e569-4977-b51b-488c5f97453d",
   "metadata": {},
   "outputs": [],
   "source": [
    "crime.columns = ['code', 'country', 'crime_rate', 'safety']"
   ]
  },
  {
   "cell_type": "code",
   "execution_count": 600,
   "id": "c1168504-6f01-4f2e-9184-8cf45d779ff7",
   "metadata": {},
   "outputs": [],
   "source": [
    "crime['norm_crime_rate'] = 1 - (crime['crime_rate'] - crime['crime_rate'].min()) / (crime['crime_rate'].max() - crime['crime_rate'].min())"
   ]
  },
  {
   "cell_type": "code",
   "execution_count": 602,
   "id": "4f278c7e-33cd-4b64-ac98-9ed75504d6c1",
   "metadata": {},
   "outputs": [],
   "source": [
    "crime = crime.sort_values('norm_crime_safety', ascending = False)"
   ]
  },
  {
   "cell_type": "code",
   "execution_count": 606,
   "id": "bf67410b-697d-4821-bf52-f7cb0e6685a7",
   "metadata": {},
   "outputs": [],
   "source": [
    "crime = crime.drop('norm_crime_safety', axis = 1)"
   ]
  },
  {
   "cell_type": "code",
   "execution_count": 610,
   "id": "ac0eae9d-f8b7-4a13-939e-af65786170c2",
   "metadata": {},
   "outputs": [],
   "source": [
    "crime['norm_crime_rate_log16'] = crime['norm_crime_rate'] * 16"
   ]
  },
  {
   "cell_type": "code",
   "execution_count": 612,
   "id": "c5129ed3-cbcd-4357-924a-2cc5e919ac99",
   "metadata": {},
   "outputs": [
    {
     "data": {
      "text/html": [
       "<div>\n",
       "<style scoped>\n",
       "    .dataframe tbody tr th:only-of-type {\n",
       "        vertical-align: middle;\n",
       "    }\n",
       "\n",
       "    .dataframe tbody tr th {\n",
       "        vertical-align: top;\n",
       "    }\n",
       "\n",
       "    .dataframe thead th {\n",
       "        text-align: right;\n",
       "    }\n",
       "</style>\n",
       "<table border=\"1\" class=\"dataframe\">\n",
       "  <thead>\n",
       "    <tr style=\"text-align: right;\">\n",
       "      <th></th>\n",
       "      <th>code</th>\n",
       "      <th>country</th>\n",
       "      <th>crime_rate</th>\n",
       "      <th>safety</th>\n",
       "      <th>norm_crime_rate</th>\n",
       "      <th>norm_crime_rate_log16</th>\n",
       "    </tr>\n",
       "  </thead>\n",
       "  <tbody>\n",
       "    <tr>\n",
       "      <th>140</th>\n",
       "      <td>AD</td>\n",
       "      <td>Andorra</td>\n",
       "      <td>12.9</td>\n",
       "      <td>87.1</td>\n",
       "      <td>1.000000</td>\n",
       "      <td>16.000000</td>\n",
       "    </tr>\n",
       "    <tr>\n",
       "      <th>139</th>\n",
       "      <td>AE</td>\n",
       "      <td>United Arab Emirates</td>\n",
       "      <td>15.6</td>\n",
       "      <td>84.4</td>\n",
       "      <td>0.960469</td>\n",
       "      <td>15.367496</td>\n",
       "    </tr>\n",
       "    <tr>\n",
       "      <th>138</th>\n",
       "      <td>QA</td>\n",
       "      <td>Qatar</td>\n",
       "      <td>16.0</td>\n",
       "      <td>84.0</td>\n",
       "      <td>0.954612</td>\n",
       "      <td>15.273792</td>\n",
       "    </tr>\n",
       "    <tr>\n",
       "      <th>137</th>\n",
       "      <td>TW</td>\n",
       "      <td>Taiwan</td>\n",
       "      <td>16.7</td>\n",
       "      <td>83.3</td>\n",
       "      <td>0.944363</td>\n",
       "      <td>15.109810</td>\n",
       "    </tr>\n",
       "    <tr>\n",
       "      <th>136</th>\n",
       "      <td>OM</td>\n",
       "      <td>Oman</td>\n",
       "      <td>19.0</td>\n",
       "      <td>81.0</td>\n",
       "      <td>0.910688</td>\n",
       "      <td>14.571010</td>\n",
       "    </tr>\n",
       "    <tr>\n",
       "      <th>...</th>\n",
       "      <td>...</td>\n",
       "      <td>...</td>\n",
       "      <td>...</td>\n",
       "      <td>...</td>\n",
       "      <td>...</td>\n",
       "      <td>...</td>\n",
       "    </tr>\n",
       "    <tr>\n",
       "      <th>4</th>\n",
       "      <td>ZA</td>\n",
       "      <td>South Africa</td>\n",
       "      <td>75.4</td>\n",
       "      <td>24.6</td>\n",
       "      <td>0.084919</td>\n",
       "      <td>1.358712</td>\n",
       "    </tr>\n",
       "    <tr>\n",
       "      <th>3</th>\n",
       "      <td>HT</td>\n",
       "      <td>Haiti</td>\n",
       "      <td>77.9</td>\n",
       "      <td>22.1</td>\n",
       "      <td>0.048316</td>\n",
       "      <td>0.773060</td>\n",
       "    </tr>\n",
       "    <tr>\n",
       "      <th>2</th>\n",
       "      <td>AF</td>\n",
       "      <td>Afghanistan</td>\n",
       "      <td>78.3</td>\n",
       "      <td>21.7</td>\n",
       "      <td>0.042460</td>\n",
       "      <td>0.679356</td>\n",
       "    </tr>\n",
       "    <tr>\n",
       "      <th>1</th>\n",
       "      <td>PG</td>\n",
       "      <td>Papua New Guinea</td>\n",
       "      <td>79.7</td>\n",
       "      <td>20.3</td>\n",
       "      <td>0.021962</td>\n",
       "      <td>0.351391</td>\n",
       "    </tr>\n",
       "    <tr>\n",
       "      <th>0</th>\n",
       "      <td>VE</td>\n",
       "      <td>Venezuela</td>\n",
       "      <td>81.2</td>\n",
       "      <td>18.8</td>\n",
       "      <td>0.000000</td>\n",
       "      <td>0.000000</td>\n",
       "    </tr>\n",
       "  </tbody>\n",
       "</table>\n",
       "<p>141 rows × 6 columns</p>\n",
       "</div>"
      ],
      "text/plain": [
       "    code               country  crime_rate  safety  norm_crime_rate  \\\n",
       "140   AD               Andorra        12.9    87.1         1.000000   \n",
       "139   AE  United Arab Emirates        15.6    84.4         0.960469   \n",
       "138   QA                 Qatar        16.0    84.0         0.954612   \n",
       "137   TW                Taiwan        16.7    83.3         0.944363   \n",
       "136   OM                  Oman        19.0    81.0         0.910688   \n",
       "..   ...                   ...         ...     ...              ...   \n",
       "4     ZA          South Africa        75.4    24.6         0.084919   \n",
       "3     HT                 Haiti        77.9    22.1         0.048316   \n",
       "2     AF           Afghanistan        78.3    21.7         0.042460   \n",
       "1     PG      Papua New Guinea        79.7    20.3         0.021962   \n",
       "0     VE             Venezuela        81.2    18.8         0.000000   \n",
       "\n",
       "     norm_crime_rate_log16  \n",
       "140              16.000000  \n",
       "139              15.367496  \n",
       "138              15.273792  \n",
       "137              15.109810  \n",
       "136              14.571010  \n",
       "..                     ...  \n",
       "4                 1.358712  \n",
       "3                 0.773060  \n",
       "2                 0.679356  \n",
       "1                 0.351391  \n",
       "0                 0.000000  \n",
       "\n",
       "[141 rows x 6 columns]"
      ]
     },
     "execution_count": 612,
     "metadata": {},
     "output_type": "execute_result"
    }
   ],
   "source": [
    "crime"
   ]
  },
  {
   "cell_type": "code",
   "execution_count": 614,
   "id": "475b5bcb-a310-4777-bf46-e4b81ab4ae42",
   "metadata": {},
   "outputs": [],
   "source": [
    "import country_converter as coco"
   ]
  },
  {
   "cell_type": "code",
   "execution_count": 616,
   "id": "912cd66c-dac2-4892-9826-e406369c94a3",
   "metadata": {},
   "outputs": [],
   "source": [
    "crime['country_c'] = coco.convert(names=crime['country'], to='name_short', not_found=None)"
   ]
  },
  {
   "cell_type": "code",
   "execution_count": 624,
   "id": "980d637c-7f0c-4140-a270-9771ad7f77b5",
   "metadata": {},
   "outputs": [],
   "source": [
    "gni['country_c'] = coco.convert(names= gni['country'], to='name_short', not_found=None)"
   ]
  },
  {
   "cell_type": "code",
   "execution_count": 618,
   "id": "c7ff9c61-a8dd-490a-beb5-4265e5969d9a",
   "metadata": {},
   "outputs": [
    {
     "data": {
      "text/html": [
       "<div>\n",
       "<style scoped>\n",
       "    .dataframe tbody tr th:only-of-type {\n",
       "        vertical-align: middle;\n",
       "    }\n",
       "\n",
       "    .dataframe tbody tr th {\n",
       "        vertical-align: top;\n",
       "    }\n",
       "\n",
       "    .dataframe thead th {\n",
       "        text-align: right;\n",
       "    }\n",
       "</style>\n",
       "<table border=\"1\" class=\"dataframe\">\n",
       "  <thead>\n",
       "    <tr style=\"text-align: right;\">\n",
       "      <th></th>\n",
       "      <th>code</th>\n",
       "      <th>country</th>\n",
       "      <th>crime_rate</th>\n",
       "      <th>safety</th>\n",
       "      <th>norm_crime_rate</th>\n",
       "      <th>norm_crime_rate_log16</th>\n",
       "      <th>country_c</th>\n",
       "    </tr>\n",
       "  </thead>\n",
       "  <tbody>\n",
       "    <tr>\n",
       "      <th>140</th>\n",
       "      <td>AD</td>\n",
       "      <td>Andorra</td>\n",
       "      <td>12.9</td>\n",
       "      <td>87.1</td>\n",
       "      <td>1.000000</td>\n",
       "      <td>16.000000</td>\n",
       "      <td>Andorra</td>\n",
       "    </tr>\n",
       "    <tr>\n",
       "      <th>139</th>\n",
       "      <td>AE</td>\n",
       "      <td>United Arab Emirates</td>\n",
       "      <td>15.6</td>\n",
       "      <td>84.4</td>\n",
       "      <td>0.960469</td>\n",
       "      <td>15.367496</td>\n",
       "      <td>United Arab Emirates</td>\n",
       "    </tr>\n",
       "    <tr>\n",
       "      <th>138</th>\n",
       "      <td>QA</td>\n",
       "      <td>Qatar</td>\n",
       "      <td>16.0</td>\n",
       "      <td>84.0</td>\n",
       "      <td>0.954612</td>\n",
       "      <td>15.273792</td>\n",
       "      <td>Qatar</td>\n",
       "    </tr>\n",
       "    <tr>\n",
       "      <th>137</th>\n",
       "      <td>TW</td>\n",
       "      <td>Taiwan</td>\n",
       "      <td>16.7</td>\n",
       "      <td>83.3</td>\n",
       "      <td>0.944363</td>\n",
       "      <td>15.109810</td>\n",
       "      <td>Taiwan</td>\n",
       "    </tr>\n",
       "    <tr>\n",
       "      <th>136</th>\n",
       "      <td>OM</td>\n",
       "      <td>Oman</td>\n",
       "      <td>19.0</td>\n",
       "      <td>81.0</td>\n",
       "      <td>0.910688</td>\n",
       "      <td>14.571010</td>\n",
       "      <td>Oman</td>\n",
       "    </tr>\n",
       "    <tr>\n",
       "      <th>...</th>\n",
       "      <td>...</td>\n",
       "      <td>...</td>\n",
       "      <td>...</td>\n",
       "      <td>...</td>\n",
       "      <td>...</td>\n",
       "      <td>...</td>\n",
       "      <td>...</td>\n",
       "    </tr>\n",
       "    <tr>\n",
       "      <th>4</th>\n",
       "      <td>ZA</td>\n",
       "      <td>South Africa</td>\n",
       "      <td>75.4</td>\n",
       "      <td>24.6</td>\n",
       "      <td>0.084919</td>\n",
       "      <td>1.358712</td>\n",
       "      <td>South Africa</td>\n",
       "    </tr>\n",
       "    <tr>\n",
       "      <th>3</th>\n",
       "      <td>HT</td>\n",
       "      <td>Haiti</td>\n",
       "      <td>77.9</td>\n",
       "      <td>22.1</td>\n",
       "      <td>0.048316</td>\n",
       "      <td>0.773060</td>\n",
       "      <td>Haiti</td>\n",
       "    </tr>\n",
       "    <tr>\n",
       "      <th>2</th>\n",
       "      <td>AF</td>\n",
       "      <td>Afghanistan</td>\n",
       "      <td>78.3</td>\n",
       "      <td>21.7</td>\n",
       "      <td>0.042460</td>\n",
       "      <td>0.679356</td>\n",
       "      <td>Afghanistan</td>\n",
       "    </tr>\n",
       "    <tr>\n",
       "      <th>1</th>\n",
       "      <td>PG</td>\n",
       "      <td>Papua New Guinea</td>\n",
       "      <td>79.7</td>\n",
       "      <td>20.3</td>\n",
       "      <td>0.021962</td>\n",
       "      <td>0.351391</td>\n",
       "      <td>Papua New Guinea</td>\n",
       "    </tr>\n",
       "    <tr>\n",
       "      <th>0</th>\n",
       "      <td>VE</td>\n",
       "      <td>Venezuela</td>\n",
       "      <td>81.2</td>\n",
       "      <td>18.8</td>\n",
       "      <td>0.000000</td>\n",
       "      <td>0.000000</td>\n",
       "      <td>Venezuela</td>\n",
       "    </tr>\n",
       "  </tbody>\n",
       "</table>\n",
       "<p>141 rows × 7 columns</p>\n",
       "</div>"
      ],
      "text/plain": [
       "    code               country  crime_rate  safety  norm_crime_rate  \\\n",
       "140   AD               Andorra        12.9    87.1         1.000000   \n",
       "139   AE  United Arab Emirates        15.6    84.4         0.960469   \n",
       "138   QA                 Qatar        16.0    84.0         0.954612   \n",
       "137   TW                Taiwan        16.7    83.3         0.944363   \n",
       "136   OM                  Oman        19.0    81.0         0.910688   \n",
       "..   ...                   ...         ...     ...              ...   \n",
       "4     ZA          South Africa        75.4    24.6         0.084919   \n",
       "3     HT                 Haiti        77.9    22.1         0.048316   \n",
       "2     AF           Afghanistan        78.3    21.7         0.042460   \n",
       "1     PG      Papua New Guinea        79.7    20.3         0.021962   \n",
       "0     VE             Venezuela        81.2    18.8         0.000000   \n",
       "\n",
       "     norm_crime_rate_log16             country_c  \n",
       "140              16.000000               Andorra  \n",
       "139              15.367496  United Arab Emirates  \n",
       "138              15.273792                 Qatar  \n",
       "137              15.109810                Taiwan  \n",
       "136              14.571010                  Oman  \n",
       "..                     ...                   ...  \n",
       "4                 1.358712          South Africa  \n",
       "3                 0.773060                 Haiti  \n",
       "2                 0.679356           Afghanistan  \n",
       "1                 0.351391      Papua New Guinea  \n",
       "0                 0.000000             Venezuela  \n",
       "\n",
       "[141 rows x 7 columns]"
      ]
     },
     "execution_count": 618,
     "metadata": {},
     "output_type": "execute_result"
    }
   ],
   "source": [
    "crime"
   ]
  },
  {
   "cell_type": "code",
   "execution_count": 622,
   "id": "f221da06-7053-40e0-83ec-d9e727037c73",
   "metadata": {},
   "outputs": [],
   "source": [
    "crime.to_csv('crime_withpts_onlycountry.csv', index=False, header=True)"
   ]
  },
  {
   "cell_type": "code",
   "execution_count": 628,
   "id": "5df473d9-2e65-42f5-9b18-3166b5eeef13",
   "metadata": {},
   "outputs": [],
   "source": [
    "gni_crime = pd.merge(gni, crime, on = 'country', how = 'inner')"
   ]
  },
  {
   "cell_type": "code",
   "execution_count": 632,
   "id": "5a1f417c-9b38-4ca3-96f8-0218a3455aef",
   "metadata": {},
   "outputs": [],
   "source": [
    "one_pct = pd.read_csv(r\"C:\\Users\\eabro\\Downloads\\income-share-top-1-before-tax-wid\\income-share-top-1-before-tax-wid.csv\")"
   ]
  },
  {
   "cell_type": "code",
   "execution_count": 636,
   "id": "9f77e833-d865-46af-8962-0b4f53e3f726",
   "metadata": {},
   "outputs": [],
   "source": [
    "one_pct.columns = ['country', 'code', 'year', 'one_pct_value']"
   ]
  },
  {
   "cell_type": "code",
   "execution_count": 646,
   "id": "d1f49ba7-56e6-463a-a456-b74e9e9639ca",
   "metadata": {},
   "outputs": [],
   "source": [
    "one_pct = one_pct[one_pct['year'] >= 2022]"
   ]
  },
  {
   "cell_type": "code",
   "execution_count": 660,
   "id": "514b60ee-2073-45a8-8dff-dd7ec325c8df",
   "metadata": {},
   "outputs": [],
   "source": [
    "one_pct = one_pct.groupby('country').mean('one_pct_value').reset_index()"
   ]
  },
  {
   "cell_type": "code",
   "execution_count": 664,
   "id": "c3b7ed60-1d6d-4f32-8eae-61b24bbe080f",
   "metadata": {},
   "outputs": [],
   "source": [
    "one_pct.to_csv('one_pct.csv', index=False, header=True)"
   ]
  },
  {
   "cell_type": "code",
   "execution_count": 666,
   "id": "5798ca2c-87e4-4e8b-a885-59658c9bca7b",
   "metadata": {},
   "outputs": [],
   "source": [
    "one_perct = pd.read_csv(r\"C:\\Users\\eabro\\Documents\\NSS\\Python\\Projects\\Utopia\\EmilyBroh_Capstone\\one_pct.csv\")"
   ]
  },
  {
   "cell_type": "code",
   "execution_count": 670,
   "id": "c5ca6dfa-5eb4-4d50-bad0-c48e1e831840",
   "metadata": {},
   "outputs": [],
   "source": [
    "one_perct['country_c'] = coco.convert(names= one_perct['country'], to='name_short', not_found=None)"
   ]
  },
  {
   "cell_type": "code",
   "execution_count": 674,
   "id": "28e8ee2d-f54e-405d-a381-6f2c11646520",
   "metadata": {},
   "outputs": [
    {
     "data": {
      "text/html": [
       "<div>\n",
       "<style scoped>\n",
       "    .dataframe tbody tr th:only-of-type {\n",
       "        vertical-align: middle;\n",
       "    }\n",
       "\n",
       "    .dataframe tbody tr th {\n",
       "        vertical-align: top;\n",
       "    }\n",
       "\n",
       "    .dataframe thead th {\n",
       "        text-align: right;\n",
       "    }\n",
       "</style>\n",
       "<table border=\"1\" class=\"dataframe\">\n",
       "  <thead>\n",
       "    <tr style=\"text-align: right;\">\n",
       "      <th></th>\n",
       "      <th>country</th>\n",
       "      <th>year</th>\n",
       "      <th>one_pct_value</th>\n",
       "      <th>country_c</th>\n",
       "    </tr>\n",
       "  </thead>\n",
       "  <tbody>\n",
       "    <tr>\n",
       "      <th>0</th>\n",
       "      <td>Afghanistan</td>\n",
       "      <td>2022.5</td>\n",
       "      <td>15.349999</td>\n",
       "      <td>Afghanistan</td>\n",
       "    </tr>\n",
       "    <tr>\n",
       "      <th>1</th>\n",
       "      <td>Albania</td>\n",
       "      <td>2022.5</td>\n",
       "      <td>9.130000</td>\n",
       "      <td>Albania</td>\n",
       "    </tr>\n",
       "    <tr>\n",
       "      <th>2</th>\n",
       "      <td>Algeria</td>\n",
       "      <td>2022.5</td>\n",
       "      <td>23.190000</td>\n",
       "      <td>Algeria</td>\n",
       "    </tr>\n",
       "    <tr>\n",
       "      <th>3</th>\n",
       "      <td>Andorra</td>\n",
       "      <td>2022.5</td>\n",
       "      <td>11.500000</td>\n",
       "      <td>Andorra</td>\n",
       "    </tr>\n",
       "    <tr>\n",
       "      <th>4</th>\n",
       "      <td>Angola</td>\n",
       "      <td>2022.5</td>\n",
       "      <td>25.865000</td>\n",
       "      <td>Angola</td>\n",
       "    </tr>\n",
       "    <tr>\n",
       "      <th>...</th>\n",
       "      <td>...</td>\n",
       "      <td>...</td>\n",
       "      <td>...</td>\n",
       "      <td>...</td>\n",
       "    </tr>\n",
       "    <tr>\n",
       "      <th>211</th>\n",
       "      <td>Venezuela</td>\n",
       "      <td>2022.5</td>\n",
       "      <td>17.870000</td>\n",
       "      <td>Venezuela</td>\n",
       "    </tr>\n",
       "    <tr>\n",
       "      <th>212</th>\n",
       "      <td>Vietnam</td>\n",
       "      <td>2022.5</td>\n",
       "      <td>15.690000</td>\n",
       "      <td>Vietnam</td>\n",
       "    </tr>\n",
       "    <tr>\n",
       "      <th>213</th>\n",
       "      <td>Yemen</td>\n",
       "      <td>2022.5</td>\n",
       "      <td>25.035001</td>\n",
       "      <td>Yemen</td>\n",
       "    </tr>\n",
       "    <tr>\n",
       "      <th>214</th>\n",
       "      <td>Zambia</td>\n",
       "      <td>2022.5</td>\n",
       "      <td>17.880001</td>\n",
       "      <td>Zambia</td>\n",
       "    </tr>\n",
       "    <tr>\n",
       "      <th>215</th>\n",
       "      <td>Zimbabwe</td>\n",
       "      <td>2022.5</td>\n",
       "      <td>17.290000</td>\n",
       "      <td>Zimbabwe</td>\n",
       "    </tr>\n",
       "  </tbody>\n",
       "</table>\n",
       "<p>216 rows × 4 columns</p>\n",
       "</div>"
      ],
      "text/plain": [
       "         country    year  one_pct_value    country_c\n",
       "0    Afghanistan  2022.5      15.349999  Afghanistan\n",
       "1        Albania  2022.5       9.130000      Albania\n",
       "2        Algeria  2022.5      23.190000      Algeria\n",
       "3        Andorra  2022.5      11.500000      Andorra\n",
       "4         Angola  2022.5      25.865000       Angola\n",
       "..           ...     ...            ...          ...\n",
       "211    Venezuela  2022.5      17.870000    Venezuela\n",
       "212      Vietnam  2022.5      15.690000      Vietnam\n",
       "213        Yemen  2022.5      25.035001        Yemen\n",
       "214       Zambia  2022.5      17.880001       Zambia\n",
       "215     Zimbabwe  2022.5      17.290000     Zimbabwe\n",
       "\n",
       "[216 rows x 4 columns]"
      ]
     },
     "execution_count": 674,
     "metadata": {},
     "output_type": "execute_result"
    }
   ],
   "source": [
    "one_perct"
   ]
  },
  {
   "cell_type": "code",
   "execution_count": 684,
   "id": "d0c048f9-9ec5-4d4f-b2ee-995759016976",
   "metadata": {},
   "outputs": [],
   "source": [
    "one_perct['norm_one_pct'] = 1 - (one_perct['one_pct_value'] - one_perct['one_pct_value'].min()) / (one_perct['one_pct_value'].max() - one_perct['one_pct_value'].min())"
   ]
  },
  {
   "cell_type": "code",
   "execution_count": 692,
   "id": "0aef0394-9e4a-4a07-8217-a345dd55b085",
   "metadata": {},
   "outputs": [
    {
     "data": {
      "text/html": [
       "<div>\n",
       "<style scoped>\n",
       "    .dataframe tbody tr th:only-of-type {\n",
       "        vertical-align: middle;\n",
       "    }\n",
       "\n",
       "    .dataframe tbody tr th {\n",
       "        vertical-align: top;\n",
       "    }\n",
       "\n",
       "    .dataframe thead th {\n",
       "        text-align: right;\n",
       "    }\n",
       "</style>\n",
       "<table border=\"1\" class=\"dataframe\">\n",
       "  <thead>\n",
       "    <tr style=\"text-align: right;\">\n",
       "      <th></th>\n",
       "      <th>level_0</th>\n",
       "      <th>index</th>\n",
       "      <th>country</th>\n",
       "      <th>year</th>\n",
       "      <th>one_pct_value</th>\n",
       "      <th>country_c</th>\n",
       "      <th>norm_one_pct</th>\n",
       "    </tr>\n",
       "  </thead>\n",
       "  <tbody>\n",
       "    <tr>\n",
       "      <th>0</th>\n",
       "      <td>0</td>\n",
       "      <td>139</td>\n",
       "      <td>Netherlands</td>\n",
       "      <td>2022.5</td>\n",
       "      <td>6.690000</td>\n",
       "      <td>Netherlands</td>\n",
       "      <td>1.000000</td>\n",
       "    </tr>\n",
       "    <tr>\n",
       "      <th>1</th>\n",
       "      <td>1</td>\n",
       "      <td>146</td>\n",
       "      <td>North Macedonia</td>\n",
       "      <td>2022.5</td>\n",
       "      <td>6.995000</td>\n",
       "      <td>North Macedonia</td>\n",
       "      <td>0.984908</td>\n",
       "    </tr>\n",
       "    <tr>\n",
       "      <th>2</th>\n",
       "      <td>2</td>\n",
       "      <td>178</td>\n",
       "      <td>Slovenia</td>\n",
       "      <td>2022.5</td>\n",
       "      <td>7.845000</td>\n",
       "      <td>Slovenia</td>\n",
       "      <td>0.942850</td>\n",
       "    </tr>\n",
       "    <tr>\n",
       "      <th>3</th>\n",
       "      <td>3</td>\n",
       "      <td>88</td>\n",
       "      <td>Iceland</td>\n",
       "      <td>2022.5</td>\n",
       "      <td>7.920000</td>\n",
       "      <td>Iceland</td>\n",
       "      <td>0.939139</td>\n",
       "    </tr>\n",
       "    <tr>\n",
       "      <th>4</th>\n",
       "      <td>4</td>\n",
       "      <td>177</td>\n",
       "      <td>Slovakia</td>\n",
       "      <td>2022.5</td>\n",
       "      <td>8.215000</td>\n",
       "      <td>Slovakia</td>\n",
       "      <td>0.924542</td>\n",
       "    </tr>\n",
       "    <tr>\n",
       "      <th>...</th>\n",
       "      <td>...</td>\n",
       "      <td>...</td>\n",
       "      <td>...</td>\n",
       "      <td>...</td>\n",
       "      <td>...</td>\n",
       "      <td>...</td>\n",
       "      <td>...</td>\n",
       "    </tr>\n",
       "    <tr>\n",
       "      <th>211</th>\n",
       "      <td>211</td>\n",
       "      <td>213</td>\n",
       "      <td>Yemen</td>\n",
       "      <td>2022.5</td>\n",
       "      <td>25.035001</td>\n",
       "      <td>Yemen</td>\n",
       "      <td>0.092281</td>\n",
       "    </tr>\n",
       "    <tr>\n",
       "      <th>212</th>\n",
       "      <td>212</td>\n",
       "      <td>170</td>\n",
       "      <td>Saudi Arabia</td>\n",
       "      <td>2022.5</td>\n",
       "      <td>25.105000</td>\n",
       "      <td>Saudi Arabia</td>\n",
       "      <td>0.088817</td>\n",
       "    </tr>\n",
       "    <tr>\n",
       "      <th>213</th>\n",
       "      <td>213</td>\n",
       "      <td>14</td>\n",
       "      <td>Bahrain</td>\n",
       "      <td>2022.5</td>\n",
       "      <td>25.330000</td>\n",
       "      <td>Bahrain</td>\n",
       "      <td>0.077684</td>\n",
       "    </tr>\n",
       "    <tr>\n",
       "      <th>214</th>\n",
       "      <td>214</td>\n",
       "      <td>4</td>\n",
       "      <td>Angola</td>\n",
       "      <td>2022.5</td>\n",
       "      <td>25.865000</td>\n",
       "      <td>Angola</td>\n",
       "      <td>0.051212</td>\n",
       "    </tr>\n",
       "    <tr>\n",
       "      <th>215</th>\n",
       "      <td>215</td>\n",
       "      <td>155</td>\n",
       "      <td>Peru</td>\n",
       "      <td>2022.5</td>\n",
       "      <td>26.900000</td>\n",
       "      <td>Peru</td>\n",
       "      <td>0.000000</td>\n",
       "    </tr>\n",
       "  </tbody>\n",
       "</table>\n",
       "<p>216 rows × 7 columns</p>\n",
       "</div>"
      ],
      "text/plain": [
       "     level_0  index          country    year  one_pct_value        country_c  \\\n",
       "0          0    139      Netherlands  2022.5       6.690000      Netherlands   \n",
       "1          1    146  North Macedonia  2022.5       6.995000  North Macedonia   \n",
       "2          2    178         Slovenia  2022.5       7.845000         Slovenia   \n",
       "3          3     88          Iceland  2022.5       7.920000          Iceland   \n",
       "4          4    177         Slovakia  2022.5       8.215000         Slovakia   \n",
       "..       ...    ...              ...     ...            ...              ...   \n",
       "211      211    213            Yemen  2022.5      25.035001            Yemen   \n",
       "212      212    170     Saudi Arabia  2022.5      25.105000     Saudi Arabia   \n",
       "213      213     14          Bahrain  2022.5      25.330000          Bahrain   \n",
       "214      214      4           Angola  2022.5      25.865000           Angola   \n",
       "215      215    155             Peru  2022.5      26.900000             Peru   \n",
       "\n",
       "     norm_one_pct  \n",
       "0        1.000000  \n",
       "1        0.984908  \n",
       "2        0.942850  \n",
       "3        0.939139  \n",
       "4        0.924542  \n",
       "..            ...  \n",
       "211      0.092281  \n",
       "212      0.088817  \n",
       "213      0.077684  \n",
       "214      0.051212  \n",
       "215      0.000000  \n",
       "\n",
       "[216 rows x 7 columns]"
      ]
     },
     "execution_count": 692,
     "metadata": {},
     "output_type": "execute_result"
    }
   ],
   "source": [
    "one_perct = one_perct.sort_values('norm_one_pct', ascending = False).reset_index()\n",
    "one_perct"
   ]
  },
  {
   "cell_type": "code",
   "execution_count": 694,
   "id": "81adbefb-8835-4f6d-aa39-524d1276a36d",
   "metadata": {},
   "outputs": [
    {
     "data": {
      "text/plain": [
       "Index(['level_0', 'index', 'country', 'year', 'one_pct_value', 'country_c',\n",
       "       'norm_one_pct'],\n",
       "      dtype='object')"
      ]
     },
     "execution_count": 694,
     "metadata": {},
     "output_type": "execute_result"
    }
   ],
   "source": [
    "one_perct.columns"
   ]
  },
  {
   "cell_type": "code",
   "execution_count": 696,
   "id": "c2d1952c-6bf1-44bf-8ddd-a61634d0920e",
   "metadata": {},
   "outputs": [],
   "source": [
    "one_perct['one_pct_log16'] = one_perct['norm_one_pct'] * 16"
   ]
  },
  {
   "cell_type": "code",
   "execution_count": 700,
   "id": "4ea76b24-d485-4ade-b616-2a640b5ac317",
   "metadata": {},
   "outputs": [],
   "source": [
    "one_perct.to_csv('onepct_withpts_onlycountries.csv', index=False, header=True)"
   ]
  },
  {
   "cell_type": "code",
   "execution_count": 734,
   "id": "b3bab6cf-87e9-4608-b80e-cb51f5a1f154",
   "metadata": {},
   "outputs": [],
   "source": [
    "police = pd.read_csv(r\"C:\\Users\\eabro\\Downloads\\police-officers-per-1000-people\\police-officers-per-1000-people.csv\")"
   ]
  },
  {
   "cell_type": "code",
   "execution_count": 710,
   "id": "e127918f-1e09-414c-a02a-028d77e818ad",
   "metadata": {},
   "outputs": [],
   "source": [
    "police.columns = ['country', 'code', 'year', 'police_per_1k']"
   ]
  },
  {
   "cell_type": "code",
   "execution_count": 716,
   "id": "10661218-425d-4a84-a7c8-082637591e59",
   "metadata": {},
   "outputs": [],
   "source": [
    "police = police.loc[police['year'] >=2005]"
   ]
  },
  {
   "cell_type": "code",
   "execution_count": 724,
   "id": "430bfca2-f0ca-4564-98bd-747535fb70df",
   "metadata": {},
   "outputs": [],
   "source": [
    "police = police.groupby('country').mean('police_per_1k').reset_index()"
   ]
  },
  {
   "cell_type": "code",
   "execution_count": 726,
   "id": "ba9e51d2-5e79-4b04-ba22-1ee53f5536b1",
   "metadata": {},
   "outputs": [],
   "source": [
    "police.to_csv('police.csv', index=False, header=True)"
   ]
  },
  {
   "cell_type": "code",
   "execution_count": 732,
   "id": "a491002c-469c-487c-a524-95a6bd210de5",
   "metadata": {
    "scrolled": true
   },
   "outputs": [],
   "source": [
    "hospital = pd.read_csv(r\"C:\\Users\\eabro\\Downloads\\API_SH.MED.BEDS.ZS_DS2_en_csv_v2_18707\\hospital_bedsworldbank.csv\")"
   ]
  },
  {
   "cell_type": "code",
   "execution_count": 738,
   "id": "57efa791-ef48-4b2e-84a8-380399d87fcf",
   "metadata": {},
   "outputs": [],
   "source": [
    "police = pd.read_csv(r\"C:\\Users\\eabro\\Documents\\NSS\\Python\\Projects\\Utopia\\EmilyBroh_Capstone\\police.csv\")"
   ]
  },
  {
   "cell_type": "code",
   "execution_count": 841,
   "id": "c9d7b48c-89da-42ba-8350-6c38a556ff50",
   "metadata": {},
   "outputs": [],
   "source": [
    "func2 = pd.read_csv(r\"C:\\Users\\eabro\\Downloads\\functioning-government-index-eiu\\functioning-government-index-eiu.csv\")"
   ]
  },
  {
   "cell_type": "code",
   "execution_count": 847,
   "id": "dd70b64f-5c78-4d5f-b5d5-bee0d23c2876",
   "metadata": {},
   "outputs": [
    {
     "data": {
      "text/plain": [
       "year\n",
       "2006    167\n",
       "2017    167\n",
       "2023    167\n",
       "2022    167\n",
       "2021    167\n",
       "2020    167\n",
       "2019    167\n",
       "2018    167\n",
       "2016    167\n",
       "2008    167\n",
       "2015    167\n",
       "2014    167\n",
       "2013    167\n",
       "2012    167\n",
       "2011    167\n",
       "2010    167\n",
       "2024    167\n",
       "Name: count, dtype: int64"
      ]
     },
     "execution_count": 847,
     "metadata": {},
     "output_type": "execute_result"
    }
   ],
   "source": [
    "func2.value_counts('year')"
   ]
  },
  {
   "cell_type": "code",
   "execution_count": 843,
   "id": "18c95ebb-a694-4e78-8c02-57a9f230c4d1",
   "metadata": {},
   "outputs": [],
   "source": [
    "func2.columns = ['country', 'code', 'year', 'gov']"
   ]
  },
  {
   "cell_type": "code",
   "execution_count": 750,
   "id": "8c01b420-a3ab-4ea0-901f-5c10972b6462",
   "metadata": {},
   "outputs": [],
   "source": [
    "func = func.loc[func['year'] >= 2019]"
   ]
  },
  {
   "cell_type": "code",
   "execution_count": 758,
   "id": "70ee0738-9d20-4234-8476-e4b09fd9fced",
   "metadata": {},
   "outputs": [],
   "source": [
    "func = func.groupby('country').mean('gov').reset_index()"
   ]
  },
  {
   "cell_type": "code",
   "execution_count": 760,
   "id": "be707956-16ca-4564-9aa3-5812428f5c1a",
   "metadata": {},
   "outputs": [],
   "source": [
    "func['country_c'] = coco.convert(names= func['country'], to='name_short', not_found=None)"
   ]
  },
  {
   "cell_type": "code",
   "execution_count": 762,
   "id": "1288c696-4227-42dd-bbb6-26cbf0a670ea",
   "metadata": {},
   "outputs": [],
   "source": [
    "func.to_csv('func.csv', index=False, header=True)"
   ]
  },
  {
   "cell_type": "code",
   "execution_count": 768,
   "id": "3e3209ac-7515-4037-9e40-eb9f1b78c195",
   "metadata": {},
   "outputs": [],
   "source": [
    "func['norm_gov'] =  (func['gov'] - func['gov'].min()) / (func['gov'].max() - func['gov'].min())"
   ]
  },
  {
   "cell_type": "code",
   "execution_count": 764,
   "id": "ff9e5fa5-4d5f-4bd5-8e65-d9d1bd01e12a",
   "metadata": {},
   "outputs": [],
   "source": [
    "divorce = pd.read_csv(r\"C:\\Users\\eabro\\Downloads\\divorces-per-1000-people\\divorces-per-1000-people.csv\")"
   ]
  },
  {
   "cell_type": "code",
   "execution_count": 772,
   "id": "540c229e-a6dc-4f7d-9de8-ee6ca7899353",
   "metadata": {},
   "outputs": [],
   "source": [
    "func = func.sort_values('norm_gov', ascending = False)"
   ]
  },
  {
   "cell_type": "code",
   "execution_count": 776,
   "id": "de9b256d-cb03-4c77-a72e-01eaa6e2830e",
   "metadata": {},
   "outputs": [],
   "source": [
    "func['func_gov_pts'] = func['norm_gov'] * 16"
   ]
  },
  {
   "cell_type": "code",
   "execution_count": 780,
   "id": "41512020-7b3e-4207-be6d-9206c88e288f",
   "metadata": {},
   "outputs": [],
   "source": [
    "func.to_csv('func_gov_withpts_onlycountries.csv', index=False, header=True)"
   ]
  },
  {
   "cell_type": "code",
   "execution_count": 786,
   "id": "fa2b142e-c319-4fa8-bf7a-e30ee0ec4e4d",
   "metadata": {},
   "outputs": [
    {
     "data": {
      "text/html": [
       "<div>\n",
       "<style scoped>\n",
       "    .dataframe tbody tr th:only-of-type {\n",
       "        vertical-align: middle;\n",
       "    }\n",
       "\n",
       "    .dataframe tbody tr th {\n",
       "        vertical-align: top;\n",
       "    }\n",
       "\n",
       "    .dataframe thead th {\n",
       "        text-align: right;\n",
       "    }\n",
       "</style>\n",
       "<table border=\"1\" class=\"dataframe\">\n",
       "  <thead>\n",
       "    <tr style=\"text-align: right;\">\n",
       "      <th></th>\n",
       "      <th>Entity</th>\n",
       "      <th>Code</th>\n",
       "      <th>Year</th>\n",
       "      <th>Crude divorce rate (divorces per 1,000 people)</th>\n",
       "      <th>1009221-annotations</th>\n",
       "    </tr>\n",
       "  </thead>\n",
       "  <tbody>\n",
       "    <tr>\n",
       "      <th>0</th>\n",
       "      <td>Australia</td>\n",
       "      <td>AUS</td>\n",
       "      <td>1970</td>\n",
       "      <td>1.0</td>\n",
       "      <td>NaN</td>\n",
       "    </tr>\n",
       "    <tr>\n",
       "      <th>1</th>\n",
       "      <td>Australia</td>\n",
       "      <td>AUS</td>\n",
       "      <td>1980</td>\n",
       "      <td>2.7</td>\n",
       "      <td>NaN</td>\n",
       "    </tr>\n",
       "    <tr>\n",
       "      <th>2</th>\n",
       "      <td>Australia</td>\n",
       "      <td>AUS</td>\n",
       "      <td>1981</td>\n",
       "      <td>2.8</td>\n",
       "      <td>NaN</td>\n",
       "    </tr>\n",
       "    <tr>\n",
       "      <th>3</th>\n",
       "      <td>Australia</td>\n",
       "      <td>AUS</td>\n",
       "      <td>1982</td>\n",
       "      <td>2.9</td>\n",
       "      <td>NaN</td>\n",
       "    </tr>\n",
       "    <tr>\n",
       "      <th>4</th>\n",
       "      <td>Australia</td>\n",
       "      <td>AUS</td>\n",
       "      <td>1983</td>\n",
       "      <td>2.8</td>\n",
       "      <td>NaN</td>\n",
       "    </tr>\n",
       "    <tr>\n",
       "      <th>...</th>\n",
       "      <td>...</td>\n",
       "      <td>...</td>\n",
       "      <td>...</td>\n",
       "      <td>...</td>\n",
       "      <td>...</td>\n",
       "    </tr>\n",
       "    <tr>\n",
       "      <th>2051</th>\n",
       "      <td>United States</td>\n",
       "      <td>USA</td>\n",
       "      <td>2016</td>\n",
       "      <td>3.0</td>\n",
       "      <td>NaN</td>\n",
       "    </tr>\n",
       "    <tr>\n",
       "      <th>2052</th>\n",
       "      <td>United States</td>\n",
       "      <td>USA</td>\n",
       "      <td>2017</td>\n",
       "      <td>2.9</td>\n",
       "      <td>NaN</td>\n",
       "    </tr>\n",
       "    <tr>\n",
       "      <th>2053</th>\n",
       "      <td>United States</td>\n",
       "      <td>USA</td>\n",
       "      <td>2018</td>\n",
       "      <td>2.9</td>\n",
       "      <td>NaN</td>\n",
       "    </tr>\n",
       "    <tr>\n",
       "      <th>2054</th>\n",
       "      <td>United States</td>\n",
       "      <td>USA</td>\n",
       "      <td>2019</td>\n",
       "      <td>2.7</td>\n",
       "      <td>NaN</td>\n",
       "    </tr>\n",
       "    <tr>\n",
       "      <th>2055</th>\n",
       "      <td>United States</td>\n",
       "      <td>USA</td>\n",
       "      <td>2020</td>\n",
       "      <td>2.3</td>\n",
       "      <td>NaN</td>\n",
       "    </tr>\n",
       "  </tbody>\n",
       "</table>\n",
       "<p>2056 rows × 5 columns</p>\n",
       "</div>"
      ],
      "text/plain": [
       "             Entity Code  Year  \\\n",
       "0         Australia  AUS  1970   \n",
       "1         Australia  AUS  1980   \n",
       "2         Australia  AUS  1981   \n",
       "3         Australia  AUS  1982   \n",
       "4         Australia  AUS  1983   \n",
       "...             ...  ...   ...   \n",
       "2051  United States  USA  2016   \n",
       "2052  United States  USA  2017   \n",
       "2053  United States  USA  2018   \n",
       "2054  United States  USA  2019   \n",
       "2055  United States  USA  2020   \n",
       "\n",
       "      Crude divorce rate (divorces per 1,000 people) 1009221-annotations  \n",
       "0                                                1.0                 NaN  \n",
       "1                                                2.7                 NaN  \n",
       "2                                                2.8                 NaN  \n",
       "3                                                2.9                 NaN  \n",
       "4                                                2.8                 NaN  \n",
       "...                                              ...                 ...  \n",
       "2051                                             3.0                 NaN  \n",
       "2052                                             2.9                 NaN  \n",
       "2053                                             2.9                 NaN  \n",
       "2054                                             2.7                 NaN  \n",
       "2055                                             2.3                 NaN  \n",
       "\n",
       "[2056 rows x 5 columns]"
      ]
     },
     "execution_count": 786,
     "metadata": {},
     "output_type": "execute_result"
    }
   ],
   "source": [
    "divorce"
   ]
  },
  {
   "cell_type": "code",
   "execution_count": 794,
   "id": "6a91d55b-0b90-4943-8cad-f3c25d7c983b",
   "metadata": {},
   "outputs": [],
   "source": [
    "divorce.columns = ['country', 'code', 'year', 'divorce', 'a']\n"
   ]
  },
  {
   "cell_type": "code",
   "execution_count": 798,
   "id": "06e2bbea-19bd-4b45-983b-c027f7c2d66a",
   "metadata": {},
   "outputs": [],
   "source": [
    "divorce = divorce[['country', 'code', 'year', 'divorce']]"
   ]
  },
  {
   "cell_type": "code",
   "execution_count": 802,
   "id": "3e72a1d7-38fe-4fa9-ac04-cdc0d4cf7162",
   "metadata": {
    "scrolled": true
   },
   "outputs": [
    {
     "data": {
      "text/plain": [
       "year\n",
       "2010    41\n",
       "2013    41\n",
       "2012    41\n",
       "2011    41\n",
       "2016    40\n",
       "        ..\n",
       "1964    26\n",
       "1963    25\n",
       "1961    24\n",
       "1962    24\n",
       "1960    24\n",
       "Name: count, Length: 61, dtype: int64"
      ]
     },
     "execution_count": 802,
     "metadata": {},
     "output_type": "execute_result"
    }
   ],
   "source": [
    "divorce.value_counts('year')"
   ]
  },
  {
   "cell_type": "code",
   "execution_count": 849,
   "id": "2c2f1110-5e29-4e3d-b065-dc68553cd86b",
   "metadata": {},
   "outputs": [],
   "source": [
    "universal2 = pd.read_csv(r\"C:\\Users\\eabro\\Downloads\\universal-health-coverage-index\\universal-health-coverage-index.csv\")"
   ]
  },
  {
   "cell_type": "code",
   "execution_count": 851,
   "id": "1b09d394-abac-45ee-91ff-67ce4892f589",
   "metadata": {},
   "outputs": [],
   "source": [
    "universal2.columns = ['country', 'code', 'year', 'uhc']"
   ]
  },
  {
   "cell_type": "code",
   "execution_count": 812,
   "id": "e561d96f-a7f5-4b5b-bafb-96b01b2622a9",
   "metadata": {},
   "outputs": [],
   "source": [
    "universal = universal.loc[universal['year'] == 2021]"
   ]
  },
  {
   "cell_type": "code",
   "execution_count": 816,
   "id": "96f8d9fe-3202-48a3-94d8-30e2c6ecd84e",
   "metadata": {},
   "outputs": [],
   "source": [
    "universal.to_csv('universal.csv', index=False, header=True)"
   ]
  },
  {
   "cell_type": "code",
   "execution_count": 818,
   "id": "d99a06fa-4e3a-45a8-935d-a84be811eb22",
   "metadata": {},
   "outputs": [],
   "source": [
    "universal = pd.read_csv(r\"C:\\Users\\eabro\\Documents\\NSS\\Python\\Projects\\Utopia\\EmilyBroh_Capstone\\universal.csv\")"
   ]
  },
  {
   "cell_type": "code",
   "execution_count": 820,
   "id": "3f785090-a39a-4792-88bf-5aa5b346b2ea",
   "metadata": {},
   "outputs": [],
   "source": [
    "universal = universal.groupby('country').mean('uhc')"
   ]
  },
  {
   "cell_type": "code",
   "execution_count": 824,
   "id": "e5555155-c465-4f6e-85cc-0cac6a7f36df",
   "metadata": {},
   "outputs": [],
   "source": [
    "universal = universal.sort_values('uhc', ascending = False)"
   ]
  },
  {
   "cell_type": "code",
   "execution_count": 828,
   "id": "b170e322-876a-449e-afaa-0aa23e9d0ffa",
   "metadata": {},
   "outputs": [],
   "source": [
    "universal['norm_uhc'] =  (universal['uhc'] - universal['uhc'].min()) / (universal['uhc'].max() - universal['uhc'].min())"
   ]
  },
  {
   "cell_type": "code",
   "execution_count": 1051,
   "id": "e39c7516-7d8d-4fbd-9b90-9f58cf3dd53f",
   "metadata": {},
   "outputs": [],
   "source": [
    "universal['uhc_log16'] = universal['norm_uhc'] * 16\n",
    "universal = universal.reset_index()"
   ]
  },
  {
   "cell_type": "code",
   "execution_count": 1053,
   "id": "a8232c19-dd24-49d0-b673-ca8c3ddf069e",
   "metadata": {},
   "outputs": [],
   "source": [
    "universal['country_c'] = coco.convert(names=universal['country'], to='name_short', not_found=None)"
   ]
  },
  {
   "cell_type": "code",
   "execution_count": 1057,
   "id": "a5075cff-dcb1-4aa5-af39-1f4fc6c63e7e",
   "metadata": {},
   "outputs": [],
   "source": [
    "universal.to_csv('universalhealth_2021.csv', index=False, header=True)"
   ]
  },
  {
   "cell_type": "markdown",
   "id": "545835ed-2780-47a9-b2a0-40667123b015",
   "metadata": {},
   "source": [
    "\"C:\\Users\\eabro\\Documents\\NSS\\Python\\Projects\\Utopia\\EmilyBroh_Capstone\\emilybroh_capstone\\Category_B\\lgbt_withpts_onlycountries.csv\"\n",
    "\"C:\\Users\\eabro\\Documents\\NSS\\Python\\Projects\\Utopia\\EmilyBroh_Capstone\\emilybroh_capstone\\Category_B\\onepct_withpts_onlycountries.csv\"\n",
    "\"C:\\Users\\eabro\\Documents\\NSS\\Python\\Projects\\Utopia\\EmilyBroh_Capstone\\emilybroh_capstone\\Category_B\\terror_withallpts_onlycountries.csv\"\n",
    "\"C:\\Users\\eabro\\Documents\\NSS\\Python\\Projects\\Utopia\\EmilyBroh_Capstone\\emilybroh_capstone\\Category_B\\unemployment_withallpts_onlycountries.csv\"\n",
    "\"C:\\Users\\eabro\\Documents\\NSS\\Python\\Projects\\Utopia\\EmilyBroh_Capstone\\emilybroh_capstone\\Category_B\\universalhealth_withpts_onlycountries.csv\"\n",
    "\"C:\\Users\\eabro\\Documents\\NSS\\Python\\Projects\\Utopia\\EmilyBroh_Capstone\\emilybroh_capstone\\Category_B\\vaccination_withallpts_onlycountries.csv\"\n",
    "\"C:\\Users\\eabro\\Documents\\NSS\\Python\\Projects\\Utopia\\EmilyBroh_Capstone\\emilybroh_capstone\\Category_B\\crime_withpts_onlycountry.csv\"\n",
    "\"C:\\Users\\eabro\\Documents\\NSS\\Python\\Projects\\Utopia\\EmilyBroh_Capstone\\emilybroh_capstone\\Category_B\\func_gov_withpts_onlycountries.csv\"\n",
    "\"C:\\Users\\eabro\\Documents\\NSS\\Python\\Projects\\Utopia\\EmilyBroh_Capstone\\emilybroh_capstone\\Category_B\\ineq_withallpts_onlycountries.csv\""
   ]
  },
  {
   "cell_type": "code",
   "execution_count": 1075,
   "id": "d7695ee3-a616-440a-b18c-5bd89b7395b5",
   "metadata": {},
   "outputs": [],
   "source": [
    "eco_ineq = pd.read_csv(r\"C:\\Users\\eabro\\Downloads\\economic-inequality-gini-index\\economic-inequality-gini-index.csv\")"
   ]
  },
  {
   "cell_type": "code",
   "execution_count": 1077,
   "id": "bfcf446f-8e79-48a9-a120-22d847e80900",
   "metadata": {},
   "outputs": [],
   "source": [
    "eco = eco_ineq"
   ]
  },
  {
   "cell_type": "code",
   "execution_count": 1083,
   "id": "992957d6-dd66-4d8c-af72-2e58e3885fc8",
   "metadata": {},
   "outputs": [],
   "source": [
    "eco.columns = ['country', 'code', 'year', 'eco_ineq', 'a']"
   ]
  },
  {
   "cell_type": "code",
   "execution_count": 1087,
   "id": "b14957bd-d52d-47e1-b655-67ef00104259",
   "metadata": {},
   "outputs": [],
   "source": [
    "eco = eco[['country', 'year', 'eco_ineq']]"
   ]
  },
  {
   "cell_type": "code",
   "execution_count": 1097,
   "id": "d4ea607d-2b8b-4d8d-a300-5c24ed013565",
   "metadata": {},
   "outputs": [
    {
     "data": {
      "text/html": [
       "<div>\n",
       "<style scoped>\n",
       "    .dataframe tbody tr th:only-of-type {\n",
       "        vertical-align: middle;\n",
       "    }\n",
       "\n",
       "    .dataframe tbody tr th {\n",
       "        vertical-align: top;\n",
       "    }\n",
       "\n",
       "    .dataframe thead th {\n",
       "        text-align: right;\n",
       "    }\n",
       "</style>\n",
       "<table border=\"1\" class=\"dataframe\">\n",
       "  <thead>\n",
       "    <tr style=\"text-align: right;\">\n",
       "      <th></th>\n",
       "      <th>country</th>\n",
       "      <th>year</th>\n",
       "      <th>eco_ineq</th>\n",
       "      <th>country_c</th>\n",
       "    </tr>\n",
       "  </thead>\n",
       "  <tbody>\n",
       "    <tr>\n",
       "      <th>0</th>\n",
       "      <td>Albania</td>\n",
       "      <td>1996</td>\n",
       "      <td>0.270103</td>\n",
       "      <td>Albania</td>\n",
       "    </tr>\n",
       "    <tr>\n",
       "      <th>1</th>\n",
       "      <td>Albania</td>\n",
       "      <td>2002</td>\n",
       "      <td>0.317390</td>\n",
       "      <td>Albania</td>\n",
       "    </tr>\n",
       "    <tr>\n",
       "      <th>2</th>\n",
       "      <td>Albania</td>\n",
       "      <td>2005</td>\n",
       "      <td>0.305957</td>\n",
       "      <td>Albania</td>\n",
       "    </tr>\n",
       "    <tr>\n",
       "      <th>3</th>\n",
       "      <td>Albania</td>\n",
       "      <td>2008</td>\n",
       "      <td>0.299847</td>\n",
       "      <td>Albania</td>\n",
       "    </tr>\n",
       "    <tr>\n",
       "      <th>4</th>\n",
       "      <td>Albania</td>\n",
       "      <td>2012</td>\n",
       "      <td>0.289605</td>\n",
       "      <td>Albania</td>\n",
       "    </tr>\n",
       "    <tr>\n",
       "      <th>...</th>\n",
       "      <td>...</td>\n",
       "      <td>...</td>\n",
       "      <td>...</td>\n",
       "      <td>...</td>\n",
       "    </tr>\n",
       "    <tr>\n",
       "      <th>2280</th>\n",
       "      <td>Zambia</td>\n",
       "      <td>2015</td>\n",
       "      <td>0.558376</td>\n",
       "      <td>Zambia</td>\n",
       "    </tr>\n",
       "    <tr>\n",
       "      <th>2281</th>\n",
       "      <td>Zambia</td>\n",
       "      <td>2022</td>\n",
       "      <td>0.514831</td>\n",
       "      <td>Zambia</td>\n",
       "    </tr>\n",
       "    <tr>\n",
       "      <th>2282</th>\n",
       "      <td>Zimbabwe</td>\n",
       "      <td>2011</td>\n",
       "      <td>0.431536</td>\n",
       "      <td>Zimbabwe</td>\n",
       "    </tr>\n",
       "    <tr>\n",
       "      <th>2283</th>\n",
       "      <td>Zimbabwe</td>\n",
       "      <td>2017</td>\n",
       "      <td>0.443371</td>\n",
       "      <td>Zimbabwe</td>\n",
       "    </tr>\n",
       "    <tr>\n",
       "      <th>2284</th>\n",
       "      <td>Zimbabwe</td>\n",
       "      <td>2019</td>\n",
       "      <td>0.502564</td>\n",
       "      <td>Zimbabwe</td>\n",
       "    </tr>\n",
       "  </tbody>\n",
       "</table>\n",
       "<p>2285 rows × 4 columns</p>\n",
       "</div>"
      ],
      "text/plain": [
       "       country  year  eco_ineq country_c\n",
       "0      Albania  1996  0.270103   Albania\n",
       "1      Albania  2002  0.317390   Albania\n",
       "2      Albania  2005  0.305957   Albania\n",
       "3      Albania  2008  0.299847   Albania\n",
       "4      Albania  2012  0.289605   Albania\n",
       "...        ...   ...       ...       ...\n",
       "2280    Zambia  2015  0.558376    Zambia\n",
       "2281    Zambia  2022  0.514831    Zambia\n",
       "2282  Zimbabwe  2011  0.431536  Zimbabwe\n",
       "2283  Zimbabwe  2017  0.443371  Zimbabwe\n",
       "2284  Zimbabwe  2019  0.502564  Zimbabwe\n",
       "\n",
       "[2285 rows x 4 columns]"
      ]
     },
     "execution_count": 1097,
     "metadata": {},
     "output_type": "execute_result"
    }
   ],
   "source": [
    "eco"
   ]
  },
  {
   "cell_type": "code",
   "execution_count": 1089,
   "id": "f263b6c5-b8d7-431e-a537-8bb3ca4ea1c2",
   "metadata": {},
   "outputs": [
    {
     "name": "stderr",
     "output_type": "stream",
     "text": [
      "C:\\Users\\eabro\\AppData\\Local\\Temp\\ipykernel_36756\\2518027200.py:1: SettingWithCopyWarning: \n",
      "A value is trying to be set on a copy of a slice from a DataFrame.\n",
      "Try using .loc[row_indexer,col_indexer] = value instead\n",
      "\n",
      "See the caveats in the documentation: https://pandas.pydata.org/pandas-docs/stable/user_guide/indexing.html#returning-a-view-versus-a-copy\n",
      "  eco['country_c'] = coco.convert(names= eco['country'], to='name_short', not_found=None)\n"
     ]
    }
   ],
   "source": [
    "eco['country_c'] = coco.convert(names= eco['country'], to='name_short', not_found=None)"
   ]
  },
  {
   "cell_type": "code",
   "execution_count": 1095,
   "id": "e4b56a45-12f1-4742-87ce-c0306dd4de90",
   "metadata": {},
   "outputs": [
    {
     "data": {
      "text/plain": [
       "year\n",
       "2018    96\n",
       "2015    90\n",
       "2012    88\n",
       "2016    87\n",
       "2010    87\n",
       "2014    85\n",
       "2011    84\n",
       "2017    83\n",
       "2019    82\n",
       "2009    82\n",
       "2005    80\n",
       "2013    80\n",
       "2006    79\n",
       "2008    77\n",
       "2021    75\n",
       "Name: count, dtype: int64"
      ]
     },
     "execution_count": 1095,
     "metadata": {},
     "output_type": "execute_result"
    }
   ],
   "source": [
    "eco.value_counts('year').head(15)"
   ]
  },
  {
   "cell_type": "code",
   "execution_count": 1099,
   "id": "5d3b7b0b-855a-4488-a700-ed709bf460f3",
   "metadata": {},
   "outputs": [],
   "source": [
    "# It looks like there are very few countries reported here. I found a different measurement, called the Atkinson Index that has more country measurements."
   ]
  },
  {
   "cell_type": "code",
   "execution_count": 1123,
   "id": "0d7e4193-0d7b-47e5-99e5-09962f1c27d3",
   "metadata": {},
   "outputs": [],
   "source": [
    "atk = pd.read_csv(r\"C:\\Users\\eabro\\Downloads\\income-inequality-atkinson-index-undp\\income-inequality-atkinson-index-undp.csv\")"
   ]
  },
  {
   "cell_type": "code",
   "execution_count": 1125,
   "id": "4ec37e9f-ef1b-40c6-b88c-0a2396106de0",
   "metadata": {},
   "outputs": [],
   "source": [
    "atk.columns = ['country', 'code', 'year', 'ineq']"
   ]
  },
  {
   "cell_type": "code",
   "execution_count": 1157,
   "id": "9492fd96-77d1-4cfb-a4bd-80f040d87eb0",
   "metadata": {},
   "outputs": [],
   "source": [
    "atk = atk.loc[atk['year'] >= 2017]"
   ]
  },
  {
   "cell_type": "code",
   "execution_count": 1187,
   "id": "ccdbc312-0a08-454f-b590-153b16060334",
   "metadata": {},
   "outputs": [],
   "source": [
    "atk = atk.groupby('country').mean('ineq')"
   ]
  },
  {
   "cell_type": "code",
   "execution_count": 1189,
   "id": "e91562e0-4b1c-45ee-b1b8-1de346aa8532",
   "metadata": {},
   "outputs": [],
   "source": [
    "atk['norm_atk_ineq'] =  1 - (atk['ineq'] - atk['ineq'].min()) / (atk['ineq'].max() - atk['ineq'].min())"
   ]
  },
  {
   "cell_type": "code",
   "execution_count": 1209,
   "id": "b43c6f10-6380-4615-9807-ec4e216e6a8c",
   "metadata": {},
   "outputs": [],
   "source": [
    "atk = atk.sort_values('ineq', ascending = True)"
   ]
  },
  {
   "cell_type": "code",
   "execution_count": 1211,
   "id": "74e2c9c9-b26a-48da-b5dd-59da39d3b894",
   "metadata": {
    "scrolled": true
   },
   "outputs": [],
   "source": [
    "atk['country_c'] = coco.convert(names= atk['country'], to='name_short', not_found=None)"
   ]
  },
  {
   "cell_type": "code",
   "execution_count": 1215,
   "id": "866467dc-9f39-453f-ad45-df6787c245aa",
   "metadata": {},
   "outputs": [],
   "source": [
    "atk['atkineq_log16_n'] = atk['norm_atk_ineq'] * 16"
   ]
  },
  {
   "cell_type": "code",
   "execution_count": 1229,
   "id": "2be23583-5cba-4814-b656-e5de9801ca3d",
   "metadata": {},
   "outputs": [],
   "source": [
    "atk = atk[['country_c', 'ineq', 'norm_atk_ineq', 'atkineq_log16_n']]"
   ]
  },
  {
   "cell_type": "code",
   "execution_count": 1233,
   "id": "8791d483-aebd-450a-992e-0d467f22b0f5",
   "metadata": {},
   "outputs": [],
   "source": [
    "atk.to_csv('atk_20202021.csv', index=False, header=True)"
   ]
  },
  {
   "cell_type": "code",
   "execution_count": 1295,
   "id": "030f6db5-5c71-4ffb-b814-ecf7a9874893",
   "metadata": {},
   "outputs": [
    {
     "data": {
      "text/html": [
       "<div>\n",
       "<style scoped>\n",
       "    .dataframe tbody tr th:only-of-type {\n",
       "        vertical-align: middle;\n",
       "    }\n",
       "\n",
       "    .dataframe tbody tr th {\n",
       "        vertical-align: top;\n",
       "    }\n",
       "\n",
       "    .dataframe thead th {\n",
       "        text-align: right;\n",
       "    }\n",
       "</style>\n",
       "<table border=\"1\" class=\"dataframe\">\n",
       "  <thead>\n",
       "    <tr style=\"text-align: right;\">\n",
       "      <th></th>\n",
       "      <th>country_c</th>\n",
       "      <th>ineq</th>\n",
       "      <th>norm_atk_ineq</th>\n",
       "      <th>atkineq_log16_n</th>\n",
       "    </tr>\n",
       "  </thead>\n",
       "  <tbody>\n",
       "    <tr>\n",
       "      <th>0</th>\n",
       "      <td>Azerbaijan</td>\n",
       "      <td>0.057027</td>\n",
       "      <td>1.000000</td>\n",
       "      <td>16.000000</td>\n",
       "    </tr>\n",
       "    <tr>\n",
       "      <th>1</th>\n",
       "      <td>Slovakia</td>\n",
       "      <td>0.099969</td>\n",
       "      <td>0.925573</td>\n",
       "      <td>14.809169</td>\n",
       "    </tr>\n",
       "    <tr>\n",
       "      <th>2</th>\n",
       "      <td>Slovenia</td>\n",
       "      <td>0.100301</td>\n",
       "      <td>0.924996</td>\n",
       "      <td>14.799942</td>\n",
       "    </tr>\n",
       "    <tr>\n",
       "      <th>3</th>\n",
       "      <td>Czechia</td>\n",
       "      <td>0.104786</td>\n",
       "      <td>0.917223</td>\n",
       "      <td>14.675565</td>\n",
       "    </tr>\n",
       "    <tr>\n",
       "      <th>4</th>\n",
       "      <td>Iceland</td>\n",
       "      <td>0.106782</td>\n",
       "      <td>0.913764</td>\n",
       "      <td>14.620218</td>\n",
       "    </tr>\n",
       "    <tr>\n",
       "      <th>...</th>\n",
       "      <td>...</td>\n",
       "      <td>...</td>\n",
       "      <td>...</td>\n",
       "      <td>...</td>\n",
       "    </tr>\n",
       "    <tr>\n",
       "      <th>166</th>\n",
       "      <td>Central African Republic</td>\n",
       "      <td>0.554031</td>\n",
       "      <td>0.138579</td>\n",
       "      <td>2.217265</td>\n",
       "    </tr>\n",
       "    <tr>\n",
       "      <th>167</th>\n",
       "      <td>Angola</td>\n",
       "      <td>0.557336</td>\n",
       "      <td>0.132851</td>\n",
       "      <td>2.125617</td>\n",
       "    </tr>\n",
       "    <tr>\n",
       "      <th>168</th>\n",
       "      <td>South Africa</td>\n",
       "      <td>0.599325</td>\n",
       "      <td>0.060074</td>\n",
       "      <td>0.961184</td>\n",
       "    </tr>\n",
       "    <tr>\n",
       "      <th>169</th>\n",
       "      <td>Eswatini</td>\n",
       "      <td>0.604970</td>\n",
       "      <td>0.050289</td>\n",
       "      <td>0.804626</td>\n",
       "    </tr>\n",
       "    <tr>\n",
       "      <th>170</th>\n",
       "      <td>Zambia</td>\n",
       "      <td>0.633985</td>\n",
       "      <td>0.000000</td>\n",
       "      <td>0.000000</td>\n",
       "    </tr>\n",
       "  </tbody>\n",
       "</table>\n",
       "<p>171 rows × 4 columns</p>\n",
       "</div>"
      ],
      "text/plain": [
       "                    country_c      ineq  norm_atk_ineq  atkineq_log16_n\n",
       "0                  Azerbaijan  0.057027       1.000000        16.000000\n",
       "1                    Slovakia  0.099969       0.925573        14.809169\n",
       "2                    Slovenia  0.100301       0.924996        14.799942\n",
       "3                     Czechia  0.104786       0.917223        14.675565\n",
       "4                     Iceland  0.106782       0.913764        14.620218\n",
       "..                        ...       ...            ...              ...\n",
       "166  Central African Republic  0.554031       0.138579         2.217265\n",
       "167                    Angola  0.557336       0.132851         2.125617\n",
       "168              South Africa  0.599325       0.060074         0.961184\n",
       "169                  Eswatini  0.604970       0.050289         0.804626\n",
       "170                    Zambia  0.633985       0.000000         0.000000\n",
       "\n",
       "[171 rows x 4 columns]"
      ]
     },
     "execution_count": 1295,
     "metadata": {},
     "output_type": "execute_result"
    }
   ],
   "source": [
    "atk"
   ]
  },
  {
   "cell_type": "code",
   "execution_count": 1293,
   "id": "79120474-acbc-4676-80ae-395f8662ed11",
   "metadata": {},
   "outputs": [
    {
     "data": {
      "text/html": [
       "<div>\n",
       "<style scoped>\n",
       "    .dataframe tbody tr th:only-of-type {\n",
       "        vertical-align: middle;\n",
       "    }\n",
       "\n",
       "    .dataframe tbody tr th {\n",
       "        vertical-align: top;\n",
       "    }\n",
       "\n",
       "    .dataframe thead th {\n",
       "        text-align: right;\n",
       "    }\n",
       "</style>\n",
       "<table border=\"1\" class=\"dataframe\">\n",
       "  <thead>\n",
       "    <tr style=\"text-align: right;\">\n",
       "      <th></th>\n",
       "      <th>country_c</th>\n",
       "      <th>ineq</th>\n",
       "      <th>norm_atk_ineq</th>\n",
       "      <th>atkineq_log16_n</th>\n",
       "    </tr>\n",
       "  </thead>\n",
       "  <tbody>\n",
       "    <tr>\n",
       "      <th>89</th>\n",
       "      <td>United States</td>\n",
       "      <td>0.256936</td>\n",
       "      <td>0.653512</td>\n",
       "      <td>10.456194</td>\n",
       "    </tr>\n",
       "  </tbody>\n",
       "</table>\n",
       "</div>"
      ],
      "text/plain": [
       "        country_c      ineq  norm_atk_ineq  atkineq_log16_n\n",
       "89  United States  0.256936       0.653512        10.456194"
      ]
     },
     "execution_count": 1293,
     "metadata": {},
     "output_type": "execute_result"
    }
   ],
   "source": [
    "atk.loc[atk['country_c'] == 'United States']"
   ]
  },
  {
   "cell_type": "code",
   "execution_count": 1299,
   "id": "eda60131-adad-41c5-ac8d-a0867ae5874a",
   "metadata": {},
   "outputs": [],
   "source": [
    "edu = pd.read_csv(r\"C:\\Users\\eabro\\Downloads\\learning-adjusted-years-of-school-lays\\learning-adjusted-years-of-school-lays.csv\")"
   ]
  },
  {
   "cell_type": "code",
   "execution_count": 1301,
   "id": "d700c3f0-c327-4137-97f0-349e04d2dd35",
   "metadata": {},
   "outputs": [],
   "source": [
    "edu.columns = ['country', 'code', 'year', 'school']"
   ]
  },
  {
   "cell_type": "code",
   "execution_count": 1303,
   "id": "18abb3c9-17e6-4f4b-b6ed-e3ca3b18ac72",
   "metadata": {},
   "outputs": [],
   "source": [
    "edu['country_c'] = coco.convert(names= edu['country'], to='name_short', not_found=None)"
   ]
  },
  {
   "cell_type": "code",
   "execution_count": 1305,
   "id": "5de26808-94f6-48f2-8bac-73386186379e",
   "metadata": {},
   "outputs": [],
   "source": [
    "edu = edu.loc[edu['year'] >= 2017]"
   ]
  },
  {
   "cell_type": "code",
   "execution_count": 1307,
   "id": "b7b44f6b-a462-476b-a847-ee71c91c3816",
   "metadata": {},
   "outputs": [],
   "source": [
    "edu = edu.groupby('country').mean('school').reset_index()"
   ]
  },
  {
   "cell_type": "code",
   "execution_count": 1309,
   "id": "01efb8a4-3c47-47c5-8c14-8e4e44f64d96",
   "metadata": {},
   "outputs": [],
   "source": [
    "edu['norm_school'] =  (edu['school'] - edu['school'].min()) / (edu['school'].max() - edu['school'].min())"
   ]
  },
  {
   "cell_type": "code",
   "execution_count": 1311,
   "id": "b01d8717-6821-4d8d-8f36-51778a57b48c",
   "metadata": {},
   "outputs": [],
   "source": [
    "edu['school_log8_n'] = edu['norm_school'] * 8"
   ]
  },
  {
   "cell_type": "code",
   "execution_count": 1315,
   "id": "f0d9d02f-5f21-470f-a25c-374a057318a9",
   "metadata": {},
   "outputs": [],
   "source": [
    "edu = edu.sort_values('school_log8_n', ascending = False)"
   ]
  },
  {
   "cell_type": "code",
   "execution_count": 1317,
   "id": "69fa20d4-0886-4f1f-bef4-f1058e94c1f9",
   "metadata": {},
   "outputs": [
    {
     "data": {
      "text/html": [
       "<div>\n",
       "<style scoped>\n",
       "    .dataframe tbody tr th:only-of-type {\n",
       "        vertical-align: middle;\n",
       "    }\n",
       "\n",
       "    .dataframe tbody tr th {\n",
       "        vertical-align: top;\n",
       "    }\n",
       "\n",
       "    .dataframe thead th {\n",
       "        text-align: right;\n",
       "    }\n",
       "</style>\n",
       "<table border=\"1\" class=\"dataframe\">\n",
       "  <thead>\n",
       "    <tr style=\"text-align: right;\">\n",
       "      <th></th>\n",
       "      <th>country</th>\n",
       "      <th>year</th>\n",
       "      <th>school</th>\n",
       "      <th>norm_school</th>\n",
       "      <th>school_log8_n</th>\n",
       "    </tr>\n",
       "  </thead>\n",
       "  <tbody>\n",
       "    <tr>\n",
       "      <th>141</th>\n",
       "      <td>Singapore</td>\n",
       "      <td>2018.333333</td>\n",
       "      <td>12.883721</td>\n",
       "      <td>1.000000</td>\n",
       "      <td>8.000000</td>\n",
       "    </tr>\n",
       "    <tr>\n",
       "      <th>75</th>\n",
       "      <td>Japan</td>\n",
       "      <td>2018.333333</td>\n",
       "      <td>12.106581</td>\n",
       "      <td>0.926911</td>\n",
       "      <td>7.415284</td>\n",
       "    </tr>\n",
       "    <tr>\n",
       "      <th>146</th>\n",
       "      <td>South Korea</td>\n",
       "      <td>2018.333333</td>\n",
       "      <td>12.057239</td>\n",
       "      <td>0.922270</td>\n",
       "      <td>7.378159</td>\n",
       "    </tr>\n",
       "    <tr>\n",
       "      <th>64</th>\n",
       "      <td>Hong Kong</td>\n",
       "      <td>2018.333333</td>\n",
       "      <td>12.000000</td>\n",
       "      <td>0.916887</td>\n",
       "      <td>7.335093</td>\n",
       "    </tr>\n",
       "    <tr>\n",
       "      <th>50</th>\n",
       "      <td>Finland</td>\n",
       "      <td>2018.333333</td>\n",
       "      <td>11.945446</td>\n",
       "      <td>0.911756</td>\n",
       "      <td>7.294047</td>\n",
       "    </tr>\n",
       "    <tr>\n",
       "      <th>...</th>\n",
       "      <td>...</td>\n",
       "      <td>...</td>\n",
       "      <td>...</td>\n",
       "      <td>...</td>\n",
       "      <td>...</td>\n",
       "    </tr>\n",
       "    <tr>\n",
       "      <th>94</th>\n",
       "      <td>Mali</td>\n",
       "      <td>2018.333333</td>\n",
       "      <td>2.726247</td>\n",
       "      <td>0.044697</td>\n",
       "      <td>0.357572</td>\n",
       "    </tr>\n",
       "    <tr>\n",
       "      <th>26</th>\n",
       "      <td>Central African Republic</td>\n",
       "      <td>2020.000000</td>\n",
       "      <td>2.696155</td>\n",
       "      <td>0.041866</td>\n",
       "      <td>0.334931</td>\n",
       "    </tr>\n",
       "    <tr>\n",
       "      <th>113</th>\n",
       "      <td>Niger</td>\n",
       "      <td>2018.333333</td>\n",
       "      <td>2.661517</td>\n",
       "      <td>0.038609</td>\n",
       "      <td>0.308870</td>\n",
       "    </tr>\n",
       "    <tr>\n",
       "      <th>147</th>\n",
       "      <td>South Sudan</td>\n",
       "      <td>2018.333333</td>\n",
       "      <td>2.434231</td>\n",
       "      <td>0.017233</td>\n",
       "      <td>0.137861</td>\n",
       "    </tr>\n",
       "    <tr>\n",
       "      <th>87</th>\n",
       "      <td>Liberia</td>\n",
       "      <td>2018.333333</td>\n",
       "      <td>2.251002</td>\n",
       "      <td>0.000000</td>\n",
       "      <td>0.000000</td>\n",
       "    </tr>\n",
       "  </tbody>\n",
       "</table>\n",
       "<p>174 rows × 5 columns</p>\n",
       "</div>"
      ],
      "text/plain": [
       "                      country         year     school  norm_school  \\\n",
       "141                 Singapore  2018.333333  12.883721     1.000000   \n",
       "75                      Japan  2018.333333  12.106581     0.926911   \n",
       "146               South Korea  2018.333333  12.057239     0.922270   \n",
       "64                  Hong Kong  2018.333333  12.000000     0.916887   \n",
       "50                    Finland  2018.333333  11.945446     0.911756   \n",
       "..                        ...          ...        ...          ...   \n",
       "94                       Mali  2018.333333   2.726247     0.044697   \n",
       "26   Central African Republic  2020.000000   2.696155     0.041866   \n",
       "113                     Niger  2018.333333   2.661517     0.038609   \n",
       "147               South Sudan  2018.333333   2.434231     0.017233   \n",
       "87                    Liberia  2018.333333   2.251002     0.000000   \n",
       "\n",
       "     school_log8_n  \n",
       "141       8.000000  \n",
       "75        7.415284  \n",
       "146       7.378159  \n",
       "64        7.335093  \n",
       "50        7.294047  \n",
       "..             ...  \n",
       "94        0.357572  \n",
       "26        0.334931  \n",
       "113       0.308870  \n",
       "147       0.137861  \n",
       "87        0.000000  \n",
       "\n",
       "[174 rows x 5 columns]"
      ]
     },
     "execution_count": 1317,
     "metadata": {},
     "output_type": "execute_result"
    }
   ],
   "source": [
    "edu"
   ]
  },
  {
   "cell_type": "code",
   "execution_count": 1319,
   "id": "b28e709b-5a2e-46b7-a3b5-a477465c6036",
   "metadata": {},
   "outputs": [],
   "source": [
    "edu.to_csv('edu_201720182020.csv', index=False, header=True)"
   ]
  },
  {
   "cell_type": "code",
   "execution_count": 1321,
   "id": "44ad38db-e1c4-4145-a8ef-938ee676e378",
   "metadata": {},
   "outputs": [],
   "source": [
    "wom = pd.read_csv(r\"C:\\Users\\eabro\\Downloads\\womens-economic-opportunity-2012-index (1)\\womens_Economic.csv\")"
   ]
  },
  {
   "cell_type": "code",
   "execution_count": 1325,
   "id": "a3918f4a-df17-4795-9a8b-f5047b398666",
   "metadata": {},
   "outputs": [],
   "source": [
    "wom.columns = ['country', 'code', 'year', 'wom']"
   ]
  },
  {
   "cell_type": "code",
   "execution_count": 1327,
   "id": "2d4654bd-8770-4196-bf9f-50cc47de7f64",
   "metadata": {},
   "outputs": [
    {
     "data": {
      "text/plain": [
       "year\n",
       "2012    129\n",
       "Name: count, dtype: int64"
      ]
     },
     "execution_count": 1327,
     "metadata": {},
     "output_type": "execute_result"
    }
   ],
   "source": [
    "wom.value_counts('year')"
   ]
  },
  {
   "cell_type": "code",
   "execution_count": 1353,
   "id": "48cf54b7-dc50-4d83-bf15-f8d22ccd441c",
   "metadata": {},
   "outputs": [],
   "source": [
    "unem = pd.read_csv(r\"C:\\Users\\eabro\\Documents\\NSS\\Python\\Projects\\Utopia\\EmilyBroh_Capstone\\unem.csv\")"
   ]
  },
  {
   "cell_type": "code",
   "execution_count": 1357,
   "id": "4e5e4488-1f07-4c94-a6fd-a6bcd04ef73c",
   "metadata": {
    "collapsed": true,
    "jupyter": {
     "outputs_hidden": true,
     "source_hidden": true
    },
    "scrolled": true
   },
   "outputs": [
    {
     "data": {
      "text/html": [
       "<div>\n",
       "<style scoped>\n",
       "    .dataframe tbody tr th:only-of-type {\n",
       "        vertical-align: middle;\n",
       "    }\n",
       "\n",
       "    .dataframe tbody tr th {\n",
       "        vertical-align: top;\n",
       "    }\n",
       "\n",
       "    .dataframe thead th {\n",
       "        text-align: right;\n",
       "    }\n",
       "</style>\n",
       "<table border=\"1\" class=\"dataframe\">\n",
       "  <thead>\n",
       "    <tr style=\"text-align: right;\">\n",
       "      <th></th>\n",
       "      <th>country</th>\n",
       "      <th>code</th>\n",
       "      <th>year</th>\n",
       "      <th>unem</th>\n",
       "      <th>country_c</th>\n",
       "    </tr>\n",
       "  </thead>\n",
       "  <tbody>\n",
       "    <tr>\n",
       "      <th>0</th>\n",
       "      <td>Afghanistan</td>\n",
       "      <td>AFG</td>\n",
       "      <td>2019</td>\n",
       "      <td>11.224</td>\n",
       "      <td>Afghanistan</td>\n",
       "    </tr>\n",
       "    <tr>\n",
       "      <th>1</th>\n",
       "      <td>Afghanistan</td>\n",
       "      <td>AFG</td>\n",
       "      <td>2020</td>\n",
       "      <td>11.710</td>\n",
       "      <td>Afghanistan</td>\n",
       "    </tr>\n",
       "    <tr>\n",
       "      <th>2</th>\n",
       "      <td>Afghanistan</td>\n",
       "      <td>AFG</td>\n",
       "      <td>2021</td>\n",
       "      <td>11.934</td>\n",
       "      <td>Afghanistan</td>\n",
       "    </tr>\n",
       "    <tr>\n",
       "      <th>3</th>\n",
       "      <td>Afghanistan</td>\n",
       "      <td>AFG</td>\n",
       "      <td>2022</td>\n",
       "      <td>14.100</td>\n",
       "      <td>Afghanistan</td>\n",
       "    </tr>\n",
       "    <tr>\n",
       "      <th>4</th>\n",
       "      <td>Afghanistan</td>\n",
       "      <td>AFG</td>\n",
       "      <td>2023</td>\n",
       "      <td>14.386</td>\n",
       "      <td>Afghanistan</td>\n",
       "    </tr>\n",
       "    <tr>\n",
       "      <th>...</th>\n",
       "      <td>...</td>\n",
       "      <td>...</td>\n",
       "      <td>...</td>\n",
       "      <td>...</td>\n",
       "      <td>...</td>\n",
       "    </tr>\n",
       "    <tr>\n",
       "      <th>922</th>\n",
       "      <td>Zimbabwe</td>\n",
       "      <td>ZWE</td>\n",
       "      <td>2019</td>\n",
       "      <td>7.373</td>\n",
       "      <td>Zimbabwe</td>\n",
       "    </tr>\n",
       "    <tr>\n",
       "      <th>923</th>\n",
       "      <td>Zimbabwe</td>\n",
       "      <td>ZWE</td>\n",
       "      <td>2020</td>\n",
       "      <td>8.621</td>\n",
       "      <td>Zimbabwe</td>\n",
       "    </tr>\n",
       "    <tr>\n",
       "      <th>924</th>\n",
       "      <td>Zimbabwe</td>\n",
       "      <td>ZWE</td>\n",
       "      <td>2021</td>\n",
       "      <td>9.540</td>\n",
       "      <td>Zimbabwe</td>\n",
       "    </tr>\n",
       "    <tr>\n",
       "      <th>925</th>\n",
       "      <td>Zimbabwe</td>\n",
       "      <td>ZWE</td>\n",
       "      <td>2022</td>\n",
       "      <td>10.087</td>\n",
       "      <td>Zimbabwe</td>\n",
       "    </tr>\n",
       "    <tr>\n",
       "      <th>926</th>\n",
       "      <td>Zimbabwe</td>\n",
       "      <td>ZWE</td>\n",
       "      <td>2023</td>\n",
       "      <td>8.759</td>\n",
       "      <td>Zimbabwe</td>\n",
       "    </tr>\n",
       "  </tbody>\n",
       "</table>\n",
       "<p>927 rows × 5 columns</p>\n",
       "</div>"
      ],
      "text/plain": [
       "         country code  year    unem    country_c\n",
       "0    Afghanistan  AFG  2019  11.224  Afghanistan\n",
       "1    Afghanistan  AFG  2020  11.710  Afghanistan\n",
       "2    Afghanistan  AFG  2021  11.934  Afghanistan\n",
       "3    Afghanistan  AFG  2022  14.100  Afghanistan\n",
       "4    Afghanistan  AFG  2023  14.386  Afghanistan\n",
       "..           ...  ...   ...     ...          ...\n",
       "922     Zimbabwe  ZWE  2019   7.373     Zimbabwe\n",
       "923     Zimbabwe  ZWE  2020   8.621     Zimbabwe\n",
       "924     Zimbabwe  ZWE  2021   9.540     Zimbabwe\n",
       "925     Zimbabwe  ZWE  2022  10.087     Zimbabwe\n",
       "926     Zimbabwe  ZWE  2023   8.759     Zimbabwe\n",
       "\n",
       "[927 rows x 5 columns]"
      ]
     },
     "execution_count": 1357,
     "metadata": {},
     "output_type": "execute_result"
    }
   ],
   "source": [
    "unem"
   ]
  },
  {
   "cell_type": "code",
   "execution_count": 1361,
   "id": "c0f202f1-c67d-4b80-bf75-15868bef6df6",
   "metadata": {},
   "outputs": [],
   "source": [
    "unem.columns = ['country', 'code', 'year', 'unem', 'country_c']\n"
   ]
  },
  {
   "cell_type": "code",
   "execution_count": 1363,
   "id": "8f539cfa-4057-4f35-8e27-911eebba8e1b",
   "metadata": {},
   "outputs": [],
   "source": [
    "unem = unem.loc[unem['year'] >= 2019]"
   ]
  },
  {
   "cell_type": "code",
   "execution_count": 1403,
   "id": "a2d4cef3-bcfa-4e23-b15c-50bf90a459a3",
   "metadata": {},
   "outputs": [],
   "source": [
    "unem['country_c'] = coco.convert(names= unem['country'], to='name_short', not_found=None)"
   ]
  },
  {
   "cell_type": "code",
   "execution_count": 1379,
   "id": "c5ca365d-1d14-4ee7-8dc6-8b48e4e78085",
   "metadata": {},
   "outputs": [],
   "source": [
    "unem['unemploy_log16_n'] = unem['norm_unemploy'] * 16"
   ]
  },
  {
   "cell_type": "code",
   "execution_count": 1399,
   "id": "27afee03-4d4e-40f9-90b0-d6c2a8f41731",
   "metadata": {},
   "outputs": [],
   "source": [
    "unem = unem.sort_values('unemploy_log16_n', ascending = False).reset_index()"
   ]
  },
  {
   "cell_type": "code",
   "execution_count": 1389,
   "id": "49de3e59-6aac-41b0-9410-88bdab847f3c",
   "metadata": {
    "collapsed": true,
    "jupyter": {
     "outputs_hidden": true
    },
    "scrolled": true
   },
   "outputs": [
    {
     "data": {
      "text/html": [
       "<div>\n",
       "<style scoped>\n",
       "    .dataframe tbody tr th:only-of-type {\n",
       "        vertical-align: middle;\n",
       "    }\n",
       "\n",
       "    .dataframe tbody tr th {\n",
       "        vertical-align: top;\n",
       "    }\n",
       "\n",
       "    .dataframe thead th {\n",
       "        text-align: right;\n",
       "    }\n",
       "</style>\n",
       "<table border=\"1\" class=\"dataframe\">\n",
       "  <thead>\n",
       "    <tr style=\"text-align: right;\">\n",
       "      <th></th>\n",
       "      <th>year</th>\n",
       "      <th>unem</th>\n",
       "      <th>norm_unemploy</th>\n",
       "      <th>unemploy_log16_n</th>\n",
       "    </tr>\n",
       "    <tr>\n",
       "      <th>country</th>\n",
       "      <th></th>\n",
       "      <th></th>\n",
       "      <th></th>\n",
       "      <th></th>\n",
       "    </tr>\n",
       "  </thead>\n",
       "  <tbody>\n",
       "    <tr>\n",
       "      <th>Afghanistan</th>\n",
       "      <td>2021.0</td>\n",
       "      <td>12.6708</td>\n",
       "      <td>0.667016</td>\n",
       "      <td>10.672261</td>\n",
       "    </tr>\n",
       "    <tr>\n",
       "      <th>Albania</th>\n",
       "      <td>2021.0</td>\n",
       "      <td>11.9802</td>\n",
       "      <td>0.685309</td>\n",
       "      <td>10.964950</td>\n",
       "    </tr>\n",
       "    <tr>\n",
       "      <th>Algeria</th>\n",
       "      <td>2021.0</td>\n",
       "      <td>12.8366</td>\n",
       "      <td>0.662624</td>\n",
       "      <td>10.601992</td>\n",
       "    </tr>\n",
       "    <tr>\n",
       "      <th>Angola</th>\n",
       "      <td>2021.0</td>\n",
       "      <td>15.6570</td>\n",
       "      <td>0.587916</td>\n",
       "      <td>9.406654</td>\n",
       "    </tr>\n",
       "    <tr>\n",
       "      <th>Argentina</th>\n",
       "      <td>2021.0</td>\n",
       "      <td>8.6046</td>\n",
       "      <td>0.774725</td>\n",
       "      <td>12.395592</td>\n",
       "    </tr>\n",
       "    <tr>\n",
       "      <th>...</th>\n",
       "      <td>...</td>\n",
       "      <td>...</td>\n",
       "      <td>...</td>\n",
       "      <td>...</td>\n",
       "    </tr>\n",
       "    <tr>\n",
       "      <th>Venezuela</th>\n",
       "      <td>2021.0</td>\n",
       "      <td>6.3438</td>\n",
       "      <td>0.834610</td>\n",
       "      <td>13.353761</td>\n",
       "    </tr>\n",
       "    <tr>\n",
       "      <th>Vietnam</th>\n",
       "      <td>2021.0</td>\n",
       "      <td>1.8612</td>\n",
       "      <td>0.953348</td>\n",
       "      <td>15.253571</td>\n",
       "    </tr>\n",
       "    <tr>\n",
       "      <th>Yemen</th>\n",
       "      <td>2021.0</td>\n",
       "      <td>17.6506</td>\n",
       "      <td>0.535108</td>\n",
       "      <td>8.561729</td>\n",
       "    </tr>\n",
       "    <tr>\n",
       "      <th>Zambia</th>\n",
       "      <td>2021.0</td>\n",
       "      <td>5.7344</td>\n",
       "      <td>0.850752</td>\n",
       "      <td>13.612036</td>\n",
       "    </tr>\n",
       "    <tr>\n",
       "      <th>Zimbabwe</th>\n",
       "      <td>2021.0</td>\n",
       "      <td>8.8760</td>\n",
       "      <td>0.767535</td>\n",
       "      <td>12.280568</td>\n",
       "    </tr>\n",
       "  </tbody>\n",
       "</table>\n",
       "<p>186 rows × 4 columns</p>\n",
       "</div>"
      ],
      "text/plain": [
       "               year     unem  norm_unemploy  unemploy_log16_n\n",
       "country                                                      \n",
       "Afghanistan  2021.0  12.6708       0.667016         10.672261\n",
       "Albania      2021.0  11.9802       0.685309         10.964950\n",
       "Algeria      2021.0  12.8366       0.662624         10.601992\n",
       "Angola       2021.0  15.6570       0.587916          9.406654\n",
       "Argentina    2021.0   8.6046       0.774725         12.395592\n",
       "...             ...      ...            ...               ...\n",
       "Venezuela    2021.0   6.3438       0.834610         13.353761\n",
       "Vietnam      2021.0   1.8612       0.953348         15.253571\n",
       "Yemen        2021.0  17.6506       0.535108          8.561729\n",
       "Zambia       2021.0   5.7344       0.850752         13.612036\n",
       "Zimbabwe     2021.0   8.8760       0.767535         12.280568\n",
       "\n",
       "[186 rows x 4 columns]"
      ]
     },
     "execution_count": 1389,
     "metadata": {},
     "output_type": "execute_result"
    }
   ],
   "source": [
    "unem = unem.groupby('country').mean('unem')\n",
    "unem"
   ]
  },
  {
   "cell_type": "code",
   "execution_count": 1391,
   "id": "d725db52-b3e6-4635-97ae-2c8dd1b5e075",
   "metadata": {},
   "outputs": [],
   "source": [
    "unem['norm_unemploy'] =  1 - (unem['unem'] - unem['unem'] .min()) / (unem['unem'] .max() - unem['unem'] .min())"
   ]
  },
  {
   "cell_type": "code",
   "execution_count": 1407,
   "id": "cb38471a-4e87-4d5c-b341-d8e14a9d2bc9",
   "metadata": {},
   "outputs": [],
   "source": [
    "unem.to_csv('unemploy_20192023.csv', index=False, header=True)"
   ]
  },
  {
   "cell_type": "code",
   "execution_count": 1405,
   "id": "df4b5201-02be-4f3e-8023-d95f28aa8e61",
   "metadata": {},
   "outputs": [
    {
     "data": {
      "text/plain": [
       "Index(['country', 'year', 'unem', 'norm_unemploy', 'unemploy_log16_n',\n",
       "       'country_c'],\n",
       "      dtype='object')"
      ]
     },
     "execution_count": 1405,
     "metadata": {},
     "output_type": "execute_result"
    }
   ],
   "source": [
    "unem.columns"
   ]
  },
  {
   "cell_type": "code",
   "execution_count": 1409,
   "id": "b20c5ddc-f37a-4bd3-a92d-6c57edc69c59",
   "metadata": {},
   "outputs": [
    {
     "ename": "NameError",
     "evalue": "name 'acfthu_o2' is not defined",
     "output_type": "error",
     "traceback": [
      "\u001b[1;31m---------------------------------------------------------------------------\u001b[0m",
      "\u001b[1;31mNameError\u001b[0m                                 Traceback (most recent call last)",
      "Cell \u001b[1;32mIn[1409], line 1\u001b[0m\n\u001b[1;32m----> 1\u001b[0m rows_missing_one \u001b[38;5;241m=\u001b[39m acfthu_o2[acfthu_o2\u001b[38;5;241m.\u001b[39misna()\u001b[38;5;241m.\u001b[39msum(axis\u001b[38;5;241m=\u001b[39m\u001b[38;5;241m1\u001b[39m) \u001b[38;5;241m==\u001b[39m \u001b[38;5;241m1\u001b[39m]\n",
      "\u001b[1;31mNameError\u001b[0m: name 'acfthu_o2' is not defined"
     ]
    }
   ],
   "source": [
    "rows_missing_one = acfthu_o2[acfthu_o2.isna().sum(axis=1) == 1]\n"
   ]
  },
  {
   "cell_type": "code",
   "execution_count": null,
   "id": "a3cb0f31-6255-4c16-a9c5-76bdf0feec75",
   "metadata": {},
   "outputs": [],
   "source": []
  }
 ],
 "metadata": {
  "kernelspec": {
   "display_name": "Python [conda env:base] *",
   "language": "python",
   "name": "conda-base-py"
  },
  "language_info": {
   "codemirror_mode": {
    "name": "ipython",
    "version": 3
   },
   "file_extension": ".py",
   "mimetype": "text/x-python",
   "name": "python",
   "nbconvert_exporter": "python",
   "pygments_lexer": "ipython3",
   "version": "3.12.7"
  }
 },
 "nbformat": 4,
 "nbformat_minor": 5
}
